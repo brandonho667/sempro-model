{
 "cells": [
  {
   "cell_type": "code",
   "execution_count": 1,
   "id": "5623c66b",
   "metadata": {},
   "outputs": [],
   "source": [
    "import pandas as pd\n",
    "import numpy as np\n",
    "import seaborn as sns\n",
    "import matplotlib.pyplot as plt\n",
    "import glob\n",
    "import os\n",
    "import torch\n",
    "from torch.utils.data import Dataset, DataLoader\n",
    "from PIL import Image\n",
    "# from torchvision.transforms import ToTensor, ToPILImage\n",
    "import torchvision.transforms as transforms\n",
    "from collections import Counter\n",
    "from sklearn.model_selection import train_test_split\n",
    "from tqdm import tqdm\n",
    "from sklearn.metrics import mean_absolute_error, mean_squared_error\n",
    "import torchvision.models as models"
   ]
  },
  {
   "cell_type": "code",
   "execution_count": 2,
   "id": "b1e30452",
   "metadata": {},
   "outputs": [
    {
     "name": "stdout",
     "output_type": "stream",
     "text": [
      "(1603, 15)\n"
     ]
    },
    {
     "data": {
      "text/html": [
       "<div>\n",
       "<style scoped>\n",
       "    .dataframe tbody tr th:only-of-type {\n",
       "        vertical-align: middle;\n",
       "    }\n",
       "\n",
       "    .dataframe tbody tr th {\n",
       "        vertical-align: top;\n",
       "    }\n",
       "\n",
       "    .dataframe thead th {\n",
       "        text-align: right;\n",
       "    }\n",
       "</style>\n",
       "<table border=\"1\" class=\"dataframe\">\n",
       "  <thead>\n",
       "    <tr style=\"text-align: right;\">\n",
       "      <th></th>\n",
       "      <th>link</th>\n",
       "      <th>title</th>\n",
       "      <th>num</th>\n",
       "      <th>letter</th>\n",
       "      <th>hydrogel</th>\n",
       "      <th>sentence</th>\n",
       "      <th>figure</th>\n",
       "      <th>SEM</th>\n",
       "      <th>SEM_img</th>\n",
       "      <th>scale</th>\n",
       "      <th>modulus</th>\n",
       "      <th>measurement</th>\n",
       "      <th>modification</th>\n",
       "      <th>skip</th>\n",
       "      <th>Unnamed: 14</th>\n",
       "    </tr>\n",
       "  </thead>\n",
       "  <tbody>\n",
       "    <tr>\n",
       "      <th>0</th>\n",
       "      <td>https://pubs.acs.org/doi/10.1021/acsami.5b00184</td>\n",
       "      <td>Tough and Biocompatible Hydrogels Based on in ...</td>\n",
       "      <td>S3.</td>\n",
       "      <td>a</td>\n",
       "      <td>PVA</td>\n",
       "      <td>SEM images of the dehydrated PVA</td>\n",
       "      <td>sem/10.1021_acsami.5b00184\\supp_7.jpg</td>\n",
       "      <td>sem/10.1021_acsami.5b00184\\SEM</td>\n",
       "      <td>supp_7_SEM3.jpg</td>\n",
       "      <td>-5.0</td>\n",
       "      <td>compressive</td>\n",
       "      <td>42.3 kPa</td>\n",
       "      <td>NaN</td>\n",
       "      <td>NaN</td>\n",
       "      <td>NaN</td>\n",
       "    </tr>\n",
       "    <tr>\n",
       "      <th>1</th>\n",
       "      <td>https://pubs.acs.org/doi/10.1021/acsami.5b00185</td>\n",
       "      <td>Tough and Biocompatible Hydrogels Based on in ...</td>\n",
       "      <td>S3.</td>\n",
       "      <td>a</td>\n",
       "      <td>PVA</td>\n",
       "      <td>SEM images of the dehydrated PVA</td>\n",
       "      <td>sem/10.1021_acsami.5b00184\\supp_7.jpg</td>\n",
       "      <td>sem/10.1021_acsami.5b00184\\SEM</td>\n",
       "      <td>supp_7_SEM5.jpg</td>\n",
       "      <td>-6.0</td>\n",
       "      <td>compressive</td>\n",
       "      <td>42.3 kPa</td>\n",
       "      <td>NaN</td>\n",
       "      <td>NaN</td>\n",
       "      <td>NaN</td>\n",
       "    </tr>\n",
       "    <tr>\n",
       "      <th>2</th>\n",
       "      <td>https://pubs.acs.org/doi/10.1021/acsami.5b00186</td>\n",
       "      <td>Tough and Biocompatible Hydrogels Based on in ...</td>\n",
       "      <td>S3.</td>\n",
       "      <td>b</td>\n",
       "      <td>E-cGO0.5/PVA-2</td>\n",
       "      <td>and E-cGO/PVA-2IPN hydrogels with E-cGO   con...</td>\n",
       "      <td>sem/10.1021_acsami.5b00184\\supp_7.jpg</td>\n",
       "      <td>sem/10.1021_acsami.5b00184\\SEM</td>\n",
       "      <td>supp_7_SEM1.jpg</td>\n",
       "      <td>-5.0</td>\n",
       "      <td>compressive</td>\n",
       "      <td>60 kPa</td>\n",
       "      <td>NaN</td>\n",
       "      <td>NaN</td>\n",
       "      <td>NaN</td>\n",
       "    </tr>\n",
       "    <tr>\n",
       "      <th>3</th>\n",
       "      <td>https://pubs.acs.org/doi/10.1021/acsami.5b00187</td>\n",
       "      <td>Tough and Biocompatible Hydrogels Based on in ...</td>\n",
       "      <td>S3.</td>\n",
       "      <td>b</td>\n",
       "      <td>E-cGO0.5/PVA-2</td>\n",
       "      <td>and E-cGO/PVA-2IPN hydrogels with E-cGO   con...</td>\n",
       "      <td>sem/10.1021_acsami.5b00184\\supp_7.jpg</td>\n",
       "      <td>sem/10.1021_acsami.5b00184\\SEM</td>\n",
       "      <td>supp_7_SEM0.jpg</td>\n",
       "      <td>-6.0</td>\n",
       "      <td>compressive</td>\n",
       "      <td>60 kPa</td>\n",
       "      <td>NaN</td>\n",
       "      <td>NaN</td>\n",
       "      <td>NaN</td>\n",
       "    </tr>\n",
       "    <tr>\n",
       "      <th>4</th>\n",
       "      <td>https://pubs.acs.org/doi/10.1021/acsami.5b00188</td>\n",
       "      <td>Tough and Biocompatible Hydrogels Based on in ...</td>\n",
       "      <td>S3.</td>\n",
       "      <td>c</td>\n",
       "      <td>E-cGO1.0/PVA-2</td>\n",
       "      <td>and E-cGO/PVA-2IPN hydrogels with E-cGO   con...</td>\n",
       "      <td>sem/10.1021_acsami.5b00184\\supp_7.jpg</td>\n",
       "      <td>sem/10.1021_acsami.5b00184\\SEM</td>\n",
       "      <td>supp_7_SEM6.jpg</td>\n",
       "      <td>-5.0</td>\n",
       "      <td>compressive</td>\n",
       "      <td>60 kPa</td>\n",
       "      <td>NaN</td>\n",
       "      <td>NaN</td>\n",
       "      <td>NaN</td>\n",
       "    </tr>\n",
       "  </tbody>\n",
       "</table>\n",
       "</div>"
      ],
      "text/plain": [
       "                                              link  \\\n",
       "0  https://pubs.acs.org/doi/10.1021/acsami.5b00184   \n",
       "1  https://pubs.acs.org/doi/10.1021/acsami.5b00185   \n",
       "2  https://pubs.acs.org/doi/10.1021/acsami.5b00186   \n",
       "3  https://pubs.acs.org/doi/10.1021/acsami.5b00187   \n",
       "4  https://pubs.acs.org/doi/10.1021/acsami.5b00188   \n",
       "\n",
       "                                               title  num letter  \\\n",
       "0  Tough and Biocompatible Hydrogels Based on in ...  S3.      a   \n",
       "1  Tough and Biocompatible Hydrogels Based on in ...  S3.      a   \n",
       "2  Tough and Biocompatible Hydrogels Based on in ...  S3.      b   \n",
       "3  Tough and Biocompatible Hydrogels Based on in ...  S3.      b   \n",
       "4  Tough and Biocompatible Hydrogels Based on in ...  S3.      c   \n",
       "\n",
       "         hydrogel                                           sentence  \\\n",
       "0             PVA                   SEM images of the dehydrated PVA   \n",
       "1             PVA                   SEM images of the dehydrated PVA   \n",
       "2  E-cGO0.5/PVA-2   and E-cGO/PVA-2IPN hydrogels with E-cGO   con...   \n",
       "3  E-cGO0.5/PVA-2   and E-cGO/PVA-2IPN hydrogels with E-cGO   con...   \n",
       "4  E-cGO1.0/PVA-2   and E-cGO/PVA-2IPN hydrogels with E-cGO   con...   \n",
       "\n",
       "                                  figure                             SEM  \\\n",
       "0  sem/10.1021_acsami.5b00184\\supp_7.jpg  sem/10.1021_acsami.5b00184\\SEM   \n",
       "1  sem/10.1021_acsami.5b00184\\supp_7.jpg  sem/10.1021_acsami.5b00184\\SEM   \n",
       "2  sem/10.1021_acsami.5b00184\\supp_7.jpg  sem/10.1021_acsami.5b00184\\SEM   \n",
       "3  sem/10.1021_acsami.5b00184\\supp_7.jpg  sem/10.1021_acsami.5b00184\\SEM   \n",
       "4  sem/10.1021_acsami.5b00184\\supp_7.jpg  sem/10.1021_acsami.5b00184\\SEM   \n",
       "\n",
       "           SEM_img  scale      modulus measurement  modification skip  \\\n",
       "0  supp_7_SEM3.jpg   -5.0  compressive    42.3 kPa           NaN  NaN   \n",
       "1  supp_7_SEM5.jpg   -6.0  compressive    42.3 kPa           NaN  NaN   \n",
       "2  supp_7_SEM1.jpg   -5.0  compressive      60 kPa           NaN  NaN   \n",
       "3  supp_7_SEM0.jpg   -6.0  compressive      60 kPa           NaN  NaN   \n",
       "4  supp_7_SEM6.jpg   -5.0  compressive      60 kPa           NaN  NaN   \n",
       "\n",
       "  Unnamed: 14  \n",
       "0         NaN  \n",
       "1         NaN  \n",
       "2         NaN  \n",
       "3         NaN  \n",
       "4         NaN  "
      ]
     },
     "execution_count": 2,
     "metadata": {},
     "output_type": "execute_result"
    }
   ],
   "source": [
    "sem_df=pd.read_excel(\"SEM_Final.xlsx\")\n",
    "print(sem_df.shape)\n",
    "sem_df.head()"
   ]
  },
  {
   "cell_type": "code",
   "execution_count": 3,
   "id": "7f40302e",
   "metadata": {},
   "outputs": [
    {
     "data": {
      "text/plain": [
       "link               0\n",
       "title              0\n",
       "num                0\n",
       "letter             4\n",
       "hydrogel           0\n",
       "sentence          16\n",
       "figure             0\n",
       "SEM                0\n",
       "SEM_img          746\n",
       "scale            743\n",
       "modulus          766\n",
       "measurement      772\n",
       "modification    1603\n",
       "skip             796\n",
       "Unnamed: 14     1414\n",
       "dtype: int64"
      ]
     },
     "execution_count": 3,
     "metadata": {},
     "output_type": "execute_result"
    }
   ],
   "source": [
    "sem_df.isna().sum()"
   ]
  },
  {
   "cell_type": "code",
   "execution_count": 4,
   "id": "a0408d00",
   "metadata": {},
   "outputs": [
    {
     "name": "stdout",
     "output_type": "stream",
     "text": [
      "(0, 15)\n"
     ]
    },
    {
     "data": {
      "text/html": [
       "<div>\n",
       "<style scoped>\n",
       "    .dataframe tbody tr th:only-of-type {\n",
       "        vertical-align: middle;\n",
       "    }\n",
       "\n",
       "    .dataframe tbody tr th {\n",
       "        vertical-align: top;\n",
       "    }\n",
       "\n",
       "    .dataframe thead th {\n",
       "        text-align: right;\n",
       "    }\n",
       "</style>\n",
       "<table border=\"1\" class=\"dataframe\">\n",
       "  <thead>\n",
       "    <tr style=\"text-align: right;\">\n",
       "      <th></th>\n",
       "      <th>link</th>\n",
       "      <th>title</th>\n",
       "      <th>num</th>\n",
       "      <th>letter</th>\n",
       "      <th>hydrogel</th>\n",
       "      <th>sentence</th>\n",
       "      <th>figure</th>\n",
       "      <th>SEM</th>\n",
       "      <th>SEM_img</th>\n",
       "      <th>scale</th>\n",
       "      <th>modulus</th>\n",
       "      <th>measurement</th>\n",
       "      <th>modification</th>\n",
       "      <th>skip</th>\n",
       "      <th>Unnamed: 14</th>\n",
       "    </tr>\n",
       "  </thead>\n",
       "  <tbody>\n",
       "  </tbody>\n",
       "</table>\n",
       "</div>"
      ],
      "text/plain": [
       "Empty DataFrame\n",
       "Columns: [link, title, num, letter, hydrogel, sentence, figure, SEM, SEM_img, scale, modulus, measurement, modification, skip, Unnamed: 14]\n",
       "Index: []"
      ]
     },
     "execution_count": 4,
     "metadata": {},
     "output_type": "execute_result"
    }
   ],
   "source": [
    "measure_sem_df = sem_df[sem_df['skip'].isna()]\n",
    "measure_sem_df = measure_sem_df[measure_sem_df['measurement'].isna()]\n",
    "print(measure_sem_df.shape)\n",
    "measure_sem_df.to_csv(\"missing_measurement.csv\")\n",
    "measure_sem_df.head()"
   ]
  },
  {
   "cell_type": "code",
   "execution_count": 5,
   "id": "c4271d57",
   "metadata": {
    "scrolled": true
   },
   "outputs": [
    {
     "name": "stdout",
     "output_type": "stream",
     "text": [
      "793\n",
      "(793, 15)\n"
     ]
    },
    {
     "data": {
      "text/html": [
       "<div>\n",
       "<style scoped>\n",
       "    .dataframe tbody tr th:only-of-type {\n",
       "        vertical-align: middle;\n",
       "    }\n",
       "\n",
       "    .dataframe tbody tr th {\n",
       "        vertical-align: top;\n",
       "    }\n",
       "\n",
       "    .dataframe thead th {\n",
       "        text-align: right;\n",
       "    }\n",
       "</style>\n",
       "<table border=\"1\" class=\"dataframe\">\n",
       "  <thead>\n",
       "    <tr style=\"text-align: right;\">\n",
       "      <th></th>\n",
       "      <th>link</th>\n",
       "      <th>title</th>\n",
       "      <th>num</th>\n",
       "      <th>letter</th>\n",
       "      <th>hydrogel</th>\n",
       "      <th>sentence</th>\n",
       "      <th>figure</th>\n",
       "      <th>SEM</th>\n",
       "      <th>SEM_img</th>\n",
       "      <th>scale</th>\n",
       "      <th>modulus</th>\n",
       "      <th>measurement</th>\n",
       "      <th>modification</th>\n",
       "      <th>skip</th>\n",
       "      <th>Unnamed: 14</th>\n",
       "    </tr>\n",
       "  </thead>\n",
       "  <tbody>\n",
       "    <tr>\n",
       "      <th>0</th>\n",
       "      <td>https://pubs.acs.org/doi/10.1021/acsami.5b00184</td>\n",
       "      <td>Tough and Biocompatible Hydrogels Based on in ...</td>\n",
       "      <td>S3.</td>\n",
       "      <td>a</td>\n",
       "      <td>PVA</td>\n",
       "      <td>SEM images of the dehydrated PVA</td>\n",
       "      <td>sem/10.1021_acsami.5b00184\\supp_7.jpg</td>\n",
       "      <td>sem/10.1021_acsami.5b00184\\SEM</td>\n",
       "      <td>supp_7_SEM3.jpg</td>\n",
       "      <td>-5.0</td>\n",
       "      <td>compressive</td>\n",
       "      <td>42.3 kPa</td>\n",
       "      <td>NaN</td>\n",
       "      <td>NaN</td>\n",
       "      <td>NaN</td>\n",
       "    </tr>\n",
       "    <tr>\n",
       "      <th>1</th>\n",
       "      <td>https://pubs.acs.org/doi/10.1021/acsami.5b00185</td>\n",
       "      <td>Tough and Biocompatible Hydrogels Based on in ...</td>\n",
       "      <td>S3.</td>\n",
       "      <td>a</td>\n",
       "      <td>PVA</td>\n",
       "      <td>SEM images of the dehydrated PVA</td>\n",
       "      <td>sem/10.1021_acsami.5b00184\\supp_7.jpg</td>\n",
       "      <td>sem/10.1021_acsami.5b00184\\SEM</td>\n",
       "      <td>supp_7_SEM5.jpg</td>\n",
       "      <td>-6.0</td>\n",
       "      <td>compressive</td>\n",
       "      <td>42.3 kPa</td>\n",
       "      <td>NaN</td>\n",
       "      <td>NaN</td>\n",
       "      <td>NaN</td>\n",
       "    </tr>\n",
       "    <tr>\n",
       "      <th>2</th>\n",
       "      <td>https://pubs.acs.org/doi/10.1021/acsami.5b00186</td>\n",
       "      <td>Tough and Biocompatible Hydrogels Based on in ...</td>\n",
       "      <td>S3.</td>\n",
       "      <td>b</td>\n",
       "      <td>E-cGO0.5/PVA-2</td>\n",
       "      <td>and E-cGO/PVA-2IPN hydrogels with E-cGO   con...</td>\n",
       "      <td>sem/10.1021_acsami.5b00184\\supp_7.jpg</td>\n",
       "      <td>sem/10.1021_acsami.5b00184\\SEM</td>\n",
       "      <td>supp_7_SEM1.jpg</td>\n",
       "      <td>-5.0</td>\n",
       "      <td>compressive</td>\n",
       "      <td>60 kPa</td>\n",
       "      <td>NaN</td>\n",
       "      <td>NaN</td>\n",
       "      <td>NaN</td>\n",
       "    </tr>\n",
       "    <tr>\n",
       "      <th>3</th>\n",
       "      <td>https://pubs.acs.org/doi/10.1021/acsami.5b00187</td>\n",
       "      <td>Tough and Biocompatible Hydrogels Based on in ...</td>\n",
       "      <td>S3.</td>\n",
       "      <td>b</td>\n",
       "      <td>E-cGO0.5/PVA-2</td>\n",
       "      <td>and E-cGO/PVA-2IPN hydrogels with E-cGO   con...</td>\n",
       "      <td>sem/10.1021_acsami.5b00184\\supp_7.jpg</td>\n",
       "      <td>sem/10.1021_acsami.5b00184\\SEM</td>\n",
       "      <td>supp_7_SEM0.jpg</td>\n",
       "      <td>-6.0</td>\n",
       "      <td>compressive</td>\n",
       "      <td>60 kPa</td>\n",
       "      <td>NaN</td>\n",
       "      <td>NaN</td>\n",
       "      <td>NaN</td>\n",
       "    </tr>\n",
       "    <tr>\n",
       "      <th>4</th>\n",
       "      <td>https://pubs.acs.org/doi/10.1021/acsami.5b00188</td>\n",
       "      <td>Tough and Biocompatible Hydrogels Based on in ...</td>\n",
       "      <td>S3.</td>\n",
       "      <td>c</td>\n",
       "      <td>E-cGO1.0/PVA-2</td>\n",
       "      <td>and E-cGO/PVA-2IPN hydrogels with E-cGO   con...</td>\n",
       "      <td>sem/10.1021_acsami.5b00184\\supp_7.jpg</td>\n",
       "      <td>sem/10.1021_acsami.5b00184\\SEM</td>\n",
       "      <td>supp_7_SEM6.jpg</td>\n",
       "      <td>-5.0</td>\n",
       "      <td>compressive</td>\n",
       "      <td>60 kPa</td>\n",
       "      <td>NaN</td>\n",
       "      <td>NaN</td>\n",
       "      <td>NaN</td>\n",
       "    </tr>\n",
       "  </tbody>\n",
       "</table>\n",
       "</div>"
      ],
      "text/plain": [
       "                                              link  \\\n",
       "0  https://pubs.acs.org/doi/10.1021/acsami.5b00184   \n",
       "1  https://pubs.acs.org/doi/10.1021/acsami.5b00185   \n",
       "2  https://pubs.acs.org/doi/10.1021/acsami.5b00186   \n",
       "3  https://pubs.acs.org/doi/10.1021/acsami.5b00187   \n",
       "4  https://pubs.acs.org/doi/10.1021/acsami.5b00188   \n",
       "\n",
       "                                               title  num letter  \\\n",
       "0  Tough and Biocompatible Hydrogels Based on in ...  S3.      a   \n",
       "1  Tough and Biocompatible Hydrogels Based on in ...  S3.      a   \n",
       "2  Tough and Biocompatible Hydrogels Based on in ...  S3.      b   \n",
       "3  Tough and Biocompatible Hydrogels Based on in ...  S3.      b   \n",
       "4  Tough and Biocompatible Hydrogels Based on in ...  S3.      c   \n",
       "\n",
       "         hydrogel                                           sentence  \\\n",
       "0             PVA                   SEM images of the dehydrated PVA   \n",
       "1             PVA                   SEM images of the dehydrated PVA   \n",
       "2  E-cGO0.5/PVA-2   and E-cGO/PVA-2IPN hydrogels with E-cGO   con...   \n",
       "3  E-cGO0.5/PVA-2   and E-cGO/PVA-2IPN hydrogels with E-cGO   con...   \n",
       "4  E-cGO1.0/PVA-2   and E-cGO/PVA-2IPN hydrogels with E-cGO   con...   \n",
       "\n",
       "                                  figure                             SEM  \\\n",
       "0  sem/10.1021_acsami.5b00184\\supp_7.jpg  sem/10.1021_acsami.5b00184\\SEM   \n",
       "1  sem/10.1021_acsami.5b00184\\supp_7.jpg  sem/10.1021_acsami.5b00184\\SEM   \n",
       "2  sem/10.1021_acsami.5b00184\\supp_7.jpg  sem/10.1021_acsami.5b00184\\SEM   \n",
       "3  sem/10.1021_acsami.5b00184\\supp_7.jpg  sem/10.1021_acsami.5b00184\\SEM   \n",
       "4  sem/10.1021_acsami.5b00184\\supp_7.jpg  sem/10.1021_acsami.5b00184\\SEM   \n",
       "\n",
       "           SEM_img  scale      modulus measurement  modification skip  \\\n",
       "0  supp_7_SEM3.jpg   -5.0  compressive    42.3 kPa           NaN  NaN   \n",
       "1  supp_7_SEM5.jpg   -6.0  compressive    42.3 kPa           NaN  NaN   \n",
       "2  supp_7_SEM1.jpg   -5.0  compressive      60 kPa           NaN  NaN   \n",
       "3  supp_7_SEM0.jpg   -6.0  compressive      60 kPa           NaN  NaN   \n",
       "4  supp_7_SEM6.jpg   -5.0  compressive      60 kPa           NaN  NaN   \n",
       "\n",
       "  Unnamed: 14  \n",
       "0         NaN  \n",
       "1         NaN  \n",
       "2         NaN  \n",
       "3         NaN  \n",
       "4         NaN  "
      ]
     },
     "execution_count": 5,
     "metadata": {},
     "output_type": "execute_result"
    }
   ],
   "source": [
    "parsed_sem_df = sem_df[sem_df['measurement'].notna()]\n",
    "parsed_sem_df = parsed_sem_df[parsed_sem_df['SEM_img'].notna()]\n",
    "print(parsed_sem_df['skip'].isna().sum())\n",
    "parsed_sem_df = parsed_sem_df[parsed_sem_df['skip'].isna()]\n",
    "print(parsed_sem_df.shape)\n",
    "parsed_sem_df.head()"
   ]
  },
  {
   "cell_type": "code",
   "execution_count": 6,
   "id": "8c85bbf0",
   "metadata": {},
   "outputs": [
    {
     "data": {
      "text/plain": [
       "Series([], Name: skip, dtype: int64)"
      ]
     },
     "execution_count": 6,
     "metadata": {},
     "output_type": "execute_result"
    }
   ],
   "source": [
    "parsed_sem_df['skip'].value_counts()"
   ]
  },
  {
   "cell_type": "code",
   "execution_count": 7,
   "id": "8191f552",
   "metadata": {},
   "outputs": [
    {
     "data": {
      "text/plain": [
       "link              0\n",
       "title             0\n",
       "num               0\n",
       "letter            4\n",
       "hydrogel          0\n",
       "sentence          8\n",
       "figure            0\n",
       "SEM               0\n",
       "SEM_img           0\n",
       "scale             4\n",
       "modulus           0\n",
       "measurement       0\n",
       "modification    793\n",
       "skip            793\n",
       "Unnamed: 14     712\n",
       "dtype: int64"
      ]
     },
     "execution_count": 7,
     "metadata": {},
     "output_type": "execute_result"
    }
   ],
   "source": [
    "parsed_sem_df.isna().sum()"
   ]
  },
  {
   "cell_type": "code",
   "execution_count": 8,
   "id": "1836e327",
   "metadata": {},
   "outputs": [
    {
     "data": {
      "text/html": [
       "<div>\n",
       "<style scoped>\n",
       "    .dataframe tbody tr th:only-of-type {\n",
       "        vertical-align: middle;\n",
       "    }\n",
       "\n",
       "    .dataframe tbody tr th {\n",
       "        vertical-align: top;\n",
       "    }\n",
       "\n",
       "    .dataframe thead th {\n",
       "        text-align: right;\n",
       "    }\n",
       "</style>\n",
       "<table border=\"1\" class=\"dataframe\">\n",
       "  <thead>\n",
       "    <tr style=\"text-align: right;\">\n",
       "      <th></th>\n",
       "      <th>link</th>\n",
       "      <th>title</th>\n",
       "      <th>num</th>\n",
       "      <th>letter</th>\n",
       "      <th>hydrogel</th>\n",
       "      <th>sentence</th>\n",
       "      <th>figure</th>\n",
       "      <th>SEM</th>\n",
       "      <th>SEM_img</th>\n",
       "      <th>scale</th>\n",
       "      <th>modulus</th>\n",
       "      <th>measurement</th>\n",
       "      <th>modification</th>\n",
       "      <th>skip</th>\n",
       "      <th>Unnamed: 14</th>\n",
       "    </tr>\n",
       "  </thead>\n",
       "  <tbody>\n",
       "  </tbody>\n",
       "</table>\n",
       "</div>"
      ],
      "text/plain": [
       "Empty DataFrame\n",
       "Columns: [link, title, num, letter, hydrogel, sentence, figure, SEM, SEM_img, scale, modulus, measurement, modification, skip, Unnamed: 14]\n",
       "Index: []"
      ]
     },
     "execution_count": 8,
     "metadata": {},
     "output_type": "execute_result"
    }
   ],
   "source": [
    "missing_sem_df = parsed_sem_df[parsed_sem_df['SEM_img'].isna()]\n",
    "# missing_sem_df.to_csv(\"missing_sem_rows.csv\")\n",
    "missing_sem_df.head(40) "
   ]
  },
  {
   "cell_type": "code",
   "execution_count": 9,
   "id": "0a178b03",
   "metadata": {},
   "outputs": [
    {
     "data": {
      "text/plain": [
       "Series([], Name: skip, dtype: int64)"
      ]
     },
     "execution_count": 9,
     "metadata": {},
     "output_type": "execute_result"
    }
   ],
   "source": [
    "missing_sem_df['skip'].value_counts()"
   ]
  },
  {
   "cell_type": "code",
   "execution_count": 10,
   "id": "52aec5fc",
   "metadata": {},
   "outputs": [],
   "source": [
    "parsed_sem_df['img_path'] = parsed_sem_df.apply(lambda x: os.path.join(x['SEM'],x['SEM_img']),axis=1)"
   ]
  },
  {
   "cell_type": "code",
   "execution_count": 11,
   "id": "e9137983",
   "metadata": {},
   "outputs": [
    {
     "data": {
      "text/plain": [
       "0          sem/10.1021_acsami.5b00184\\SEM\\supp_7_SEM3.jpg\n",
       "1          sem/10.1021_acsami.5b00184\\SEM\\supp_7_SEM5.jpg\n",
       "2          sem/10.1021_acsami.5b00184\\SEM\\supp_7_SEM1.jpg\n",
       "3          sem/10.1021_acsami.5b00184\\SEM\\supp_7_SEM0.jpg\n",
       "4          sem/10.1021_acsami.5b00184\\SEM\\supp_7_SEM6.jpg\n",
       "                              ...                        \n",
       "1598    sem/10.1021_acs.langmuir.8b02918\\SEM\\la-2018-0...\n",
       "1599    sem/10.1021_acs.langmuir.8b02918\\SEM\\la-2018-0...\n",
       "1600    sem/10.1021_acsbiomaterials.0c00143\\SEM\\ab0c00...\n",
       "1601    sem/10.1021_acsbiomaterials.0c00143\\SEM\\ab0c00...\n",
       "1602    sem/10.1021_acsbiomaterials.0c00143\\SEM\\ab0c00...\n",
       "Name: img_path, Length: 793, dtype: object"
      ]
     },
     "execution_count": 11,
     "metadata": {},
     "output_type": "execute_result"
    }
   ],
   "source": [
    "parsed_sem_df['img_path']"
   ]
  },
  {
   "cell_type": "code",
   "execution_count": 12,
   "id": "1f99fbd6",
   "metadata": {},
   "outputs": [
    {
     "data": {
      "text/plain": [
       "0        42300.0\n",
       "1        42300.0\n",
       "2        60000.0\n",
       "3        60000.0\n",
       "4        60000.0\n",
       "          ...   \n",
       "1598    157000.0\n",
       "1599    162000.0\n",
       "1600      8000.0\n",
       "1601     50000.0\n",
       "1602    120000.0\n",
       "Name: measurement, Length: 793, dtype: float64"
      ]
     },
     "execution_count": 12,
     "metadata": {},
     "output_type": "execute_result"
    }
   ],
   "source": [
    "# clean dataset to get correct labels\n",
    "parsed_sem_df['measurement']\n",
    "\n",
    "def convert_measurement(string):\n",
    "    string.replace(\" \",\"\")\n",
    "    kpa = [\"KPa\",\"kPa\", \"Kpa\", \"kpa\",\"KpA\"]\n",
    "    mpa = [\"Mpa\",\"MPa\"]\n",
    "    gpa = [\"GPa\",\"Gpa\"]\n",
    "    \n",
    "    if any(KPA in string for KPA in kpa):\n",
    "        for KPA in kpa:\n",
    "            string = string.replace(KPA,\"\")\n",
    "        string = string.strip()\n",
    "        value = float(string)\n",
    "        value *= 1000 \n",
    "    elif any(MPA in string for MPA in mpa):\n",
    "        for MPA in mpa:\n",
    "            string = string.replace(MPA,\"\")\n",
    "        string = string.strip()\n",
    "        value = float(string)\n",
    "        value *= 1000000\n",
    "    elif any(GPA in string for GPA in gpa):\n",
    "        for GPA in gpa:\n",
    "            string = string.replace(GPA,\"\")\n",
    "        string = string.strip()\n",
    "        value = float(string)\n",
    "        value *= 1000000000\n",
    "    elif \"Pa\" in string:\n",
    "        string = string.replace(\"Pa\",\"\")\n",
    "        string = string.strip()\n",
    "        value = float(string)\n",
    "    else:\n",
    "        print(string)\n",
    "        return\n",
    "    return value\n",
    "parsed_sem_df['measurement'].apply(convert_measurement)"
   ]
  },
  {
   "cell_type": "code",
   "execution_count": 13,
   "id": "4e21e56f",
   "metadata": {},
   "outputs": [],
   "source": [
    "transform = transforms.Compose(\n",
    "    [transforms.Resize(256),\n",
    "#     transforms.Grayscale(3),\n",
    "    transforms.CenterCrop(224),\n",
    "    transforms.RandomHorizontalFlip(),\n",
    "    transforms.RandomVerticalFlip(),\n",
    "    transforms.ToTensor(),\n",
    "    transforms.Normalize(0,1)\n",
    "    ]\n",
    ")\n",
    "eval_transform = transform = transforms.Compose(\n",
    "    [transforms.Resize(256),\n",
    "#     transforms.Grayscale(3),\n",
    "    transforms.CenterCrop(224),\n",
    "    transforms.ToTensor(),\n",
    "    transforms.Normalize(0,1)\n",
    "    ]\n",
    ")"
   ]
  },
  {
   "cell_type": "code",
   "execution_count": 14,
   "id": "256839a6",
   "metadata": {},
   "outputs": [
    {
     "name": "stdout",
     "output_type": "stream",
     "text": [
      "793\n",
      "(793, 16)\n",
      "Length: 793\n"
     ]
    },
    {
     "data": {
      "text/plain": [
       "<matplotlib.image.AxesImage at 0x1947aa14550>"
      ]
     },
     "execution_count": 14,
     "metadata": {},
     "output_type": "execute_result"
    },
    {
     "data": {
      "image/png": "[encoded data removed]",
      "text/plain": [
       "<Figure size 432x288 with 1 Axes>"
      ]
     },
     "metadata": {
      "needs_background": "light"
     },
     "output_type": "display_data"
    }
   ],
   "source": [
    "class semDataset(Dataset):\n",
    "    def __init__(self,filepath=\"SEM_Final.xlsx\", transform = None):\n",
    "        sem_df=pd.read_excel(\"SEM_Final.xlsx\")\n",
    "        parsed_sem_df = sem_df[sem_df['measurement'].notna()]\n",
    "        parsed_sem_df = parsed_sem_df[parsed_sem_df['SEM_img'].notna()]\n",
    "        print(parsed_sem_df['skip'].isna().sum())\n",
    "        parsed_sem_df = parsed_sem_df[parsed_sem_df['skip'].isna()]\n",
    "        parsed_sem_df['img_path'] = parsed_sem_df.apply(lambda x: os.path.join(x['SEM'],x['SEM_img']),axis=1)\n",
    "        print(parsed_sem_df.shape)\n",
    "        parsed_sem_df['measurement']= parsed_sem_df['measurement'].apply(self.convert_measurement)\n",
    "        self.sem_df = parsed_sem_df\n",
    "        self.transform = transform\n",
    "    \n",
    "    def __len__(self):\n",
    "        return parsed_sem_df.shape[0]\n",
    "    \n",
    "    def convert_measurement(self,string):\n",
    "        string.replace(\" \",\"\")\n",
    "        kpa = [\"KPa\",\"kPa\", \"Kpa\", \"kpa\",\"KpA\"]\n",
    "        mpa = [\"Mpa\",\"MPa\"]\n",
    "        gpa = [\"GPa\",\"Gpa\"]\n",
    "\n",
    "        if any(KPA in string for KPA in kpa):\n",
    "            for KPA in kpa:\n",
    "                string = string.replace(KPA,\"\")\n",
    "            string = string.strip()\n",
    "            value = float(string)\n",
    "            value *= 1000 \n",
    "        elif any(MPA in string for MPA in mpa):\n",
    "            for MPA in mpa:\n",
    "                string = string.replace(MPA,\"\")\n",
    "            string = string.strip()\n",
    "            value = float(string)\n",
    "            value *= 1000000\n",
    "        elif any(GPA in string for GPA in gpa):\n",
    "            for GPA in gpa:\n",
    "                string = string.replace(GPA,\"\")\n",
    "            string = string.strip()\n",
    "            value = float(string)\n",
    "            value *= 1000000000\n",
    "        elif \"Pa\" in string:\n",
    "            string = string.replace(\"Pa\",\"\")\n",
    "            string = string.strip()\n",
    "            value = float(string)\n",
    "        else:\n",
    "            print(string)\n",
    "            return\n",
    "        return np.log10(value)\n",
    "    def __getitem__(self,index):\n",
    "        image = Image.open(self.sem_df.iloc[index][\"img_path\"])\n",
    "        label = self.sem_df.iloc[index][\"measurement\"]\n",
    "        if self.transform is not None:\n",
    "            image = self.transform(image)\n",
    "        label = torch.tensor(label)\n",
    "        return image, label\n",
    "semdata = semDataset(transform=transform)\n",
    "print(f\"Length: {len(semdata)}\")\n",
    "image, label=semdata.__getitem__(0)\n",
    "plt.imshow(image.permute(1,2,0))"
   ]
  },
  {
   "cell_type": "code",
   "execution_count": 15,
   "id": "debd4b5b",
   "metadata": {},
   "outputs": [
    {
     "name": "stdout",
     "output_type": "stream",
     "text": [
      "793\n",
      "(793, 16)\n",
      "793\n",
      "(793, 16)\n",
      "793\n",
      "(793, 16)\n",
      "Train dataset length: 475\n",
      "Validation dataset length: 159\n",
      "Test dataset length: 159\n"
     ]
    }
   ],
   "source": [
    "# Create train test split, as 60/20/20 split\n",
    "train_idx, test_idx = train_test_split(list(range(len(semdata))),test_size = 0.2, random_state=42)\n",
    "train_idx, val_idx =  train_test_split(train_idx, test_size = 0.25, random_state=42)\n",
    "train_data = torch.utils.data.Subset(semDataset(transform=transform),train_idx)\n",
    "val_data = torch.utils.data.Subset(semDataset(transform=eval_transform),val_idx)\n",
    "test_data = torch.utils.data.Subset(semDataset(transform=eval_transform),test_idx)\n",
    "print(f\"Train dataset length: {len(train_data)}\")\n",
    "print(f\"Validation dataset length: {len(val_data)}\")\n",
    "print(f\"Test dataset length: {len(test_data)}\")"
   ]
  },
  {
   "cell_type": "code",
   "execution_count": 16,
   "id": "242a8007",
   "metadata": {},
   "outputs": [],
   "source": [
    "batch_size = 10\n",
    "train_loader = DataLoader(train_data, batch_size=batch_size, \n",
    "                          shuffle=True, num_workers=0, persistent_workers=False)\n",
    "val_loader = DataLoader(val_data, batch_size=batch_size*4, \n",
    "                          shuffle=False, num_workers=0, persistent_workers=False)\n",
    "test_loader = DataLoader(test_data, batch_size=batch_size*4, \n",
    "                          shuffle=False, num_workers=0, persistent_workers=False)"
   ]
  },
  {
   "cell_type": "code",
   "execution_count": 17,
   "id": "478cac28",
   "metadata": {},
   "outputs": [
    {
     "name": "stdout",
     "output_type": "stream",
     "text": [
      "We cannot open 0 files\n",
      "Smallest resolution is (224, 224)\n",
      "Largest resolution is (224, 224)\n"
     ]
    }
   ],
   "source": [
    "resolution = []\n",
    "cannot_open = []\n",
    "low_res = []\n",
    "to_pil = transforms.ToPILImage()\n",
    "for i in range(len(semdata)):\n",
    "    try:\n",
    "        image, label=semdata.__getitem__(i)\n",
    "#         image = image.permute(1,2,0)\n",
    "        image = to_pil(image)\n",
    "        if image.size[0]<128 or image.size[1]<128:\n",
    "            low_res.append(i)\n",
    "        resolution.append(image.size)\n",
    "    except:\n",
    "        print(parsed_sem_df.iloc[i,:][\"img_path\"])\n",
    "        cannot_open.append(i)\n",
    "        print(f\"Cannot open {i}\")\n",
    "parsed_sem_df.iloc[cannot_open,:].to_csv(\"cannot_open.csv\")\n",
    "print(f\"We cannot open {len(cannot_open)} files\")\n",
    "print(f\"Smallest resolution is {min(resolution)}\")\n",
    "print(f\"Largest resolution is {max(resolution)}\")"
   ]
  },
  {
   "cell_type": "code",
   "execution_count": 18,
   "id": "a17cc1e1",
   "metadata": {},
   "outputs": [
    {
     "data": {
      "text/plain": [
       "[]"
      ]
     },
     "execution_count": 18,
     "metadata": {},
     "output_type": "execute_result"
    }
   ],
   "source": [
    "low_res"
   ]
  },
  {
   "cell_type": "code",
   "execution_count": 19,
   "id": "abd24ace",
   "metadata": {},
   "outputs": [
    {
     "data": {
      "text/plain": [
       "<matplotlib.image.AxesImage at 0x1947af0b1c0>"
      ]
     },
     "execution_count": 19,
     "metadata": {},
     "output_type": "execute_result"
    },
    {
     "data": {
      "image/png": "[encoded data removed]",
      "text/plain": [
       "<Figure size 432x288 with 1 Axes>"
      ]
     },
     "metadata": {
      "needs_background": "light"
     },
     "output_type": "display_data"
    }
   ],
   "source": [
    "plt.imshow(semdata.__getitem__(615)[0].permute(1,2,0))"
   ]
  },
  {
   "cell_type": "code",
   "execution_count": 20,
   "id": "79cb0189",
   "metadata": {},
   "outputs": [
    {
     "data": {
      "text/plain": [
       "torch.Tensor"
      ]
     },
     "execution_count": 20,
     "metadata": {},
     "output_type": "execute_result"
    }
   ],
   "source": [
    "type(semdata.__getitem__(615)[0])"
   ]
  },
  {
   "cell_type": "code",
   "execution_count": 21,
   "id": "b8123866",
   "metadata": {},
   "outputs": [],
   "source": [
    "# Define a model\n",
    "\n",
    "class SEMPro(torch.nn.Module):\n",
    "    def __init__(self):\n",
    "        super(SEMPro,self).__init__()\n",
    "        self.cnn_block = torch.nn.Sequential(\n",
    "            torch.nn.Conv2d(1,16,kernel_size=3,stride=2),\n",
    "            torch.nn.ELU(inplace=True),\n",
    "            torch.nn.MaxPool2d(2),\n",
    "            torch.nn.BatchNorm2d(16),\n",
    "            torch.nn.Conv2d(16,8,kernel_size=3,stride=2),\n",
    "            torch.nn.ELU(inplace=True),\n",
    "            torch.nn.MaxPool2d(2),\n",
    "            torch.nn.BatchNorm2d(8)         \n",
    "        )\n",
    "        \n",
    "        self.linear_layer = torch.nn.Sequential(\n",
    "            torch.nn.LazyLinear(64),\n",
    "            torch.nn.ELU(inplace=True),\n",
    "            torch.nn.BatchNorm1d(64),\n",
    "            torch.nn.Linear(64,32),\n",
    "            torch.nn.BatchNorm1d(32),\n",
    "            torch.nn.ELU(inplace=True),\n",
    "            torch.nn.Linear(32,1)\n",
    "        )\n",
    "    \n",
    "    def forward(self, x):\n",
    "        x = self.cnn_block(x)\n",
    "#         print(x.shape)\n",
    "        x = x.view(x.size(0),-1)\n",
    "#         print(x.shape)\n",
    "        x = self.linear_layer(x)\n",
    "        return x"
   ]
  },
  {
   "cell_type": "code",
   "execution_count": 22,
   "id": "da0c0a40",
   "metadata": {},
   "outputs": [],
   "source": [
    "class SEMPro_resNext(torch.nn.Module):\n",
    "    def __init__(self,large = False, pretrained = False):\n",
    "        super(SEMPro_resNext,self).__init__()\n",
    "        if large:\n",
    "            self.model = models.resnext101_32x8d(pretrained=pretrained)\n",
    "        else:\n",
    "            self.model = models.resnext50_32x4d(pretrained=pretrained)\n",
    "        self.model.fc = torch.nn.Linear(2048,1)\n",
    "        # Change relu to elu\n",
    "        self.replace_layers(self.model, torch.nn.ReLU, torch.nn.ELU())\n",
    "    def forward(self,x):\n",
    "        x = self.model(x)\n",
    "        return x\n",
    "    ## From https://stackoverflow.com/questions/58297197/how-to-change-activation-layer-in-pytorch-pretrained-module\n",
    "    def replace_layers(self, model, old, new):\n",
    "        for n, module in model.named_children():\n",
    "            if len(list(module.children())) > 0:\n",
    "                ## compound module, go inside it\n",
    "                self.replace_layers(module, old, new)\n",
    "            if isinstance(module, old):\n",
    "                ## simple module\n",
    "                setattr(model, n, new)"
   ]
  },
  {
   "cell_type": "code",
   "execution_count": 23,
   "id": "5a224b00",
   "metadata": {},
   "outputs": [
    {
     "name": "stdout",
     "output_type": "stream",
     "text": [
      "Running on cuda\n",
      "SEMPro_resNext(\n",
      "  (model): ResNet(\n",
      "    (conv1): Conv2d(3, 64, kernel_size=(7, 7), stride=(2, 2), padding=(3, 3), bias=False)\n",
      "    (bn1): BatchNorm2d(64, eps=1e-05, momentum=0.1, affine=True, track_running_stats=True)\n",
      "    (relu): ELU(alpha=1.0)\n",
      "    (maxpool): MaxPool2d(kernel_size=3, stride=2, padding=1, dilation=1, ceil_mode=False)\n",
      "    (layer1): Sequential(\n",
      "      (0): Bottleneck(\n",
      "        (conv1): Conv2d(64, 128, kernel_size=(1, 1), stride=(1, 1), bias=False)\n",
      "        (bn1): BatchNorm2d(128, eps=1e-05, momentum=0.1, affine=True, track_running_stats=True)\n",
      "        (conv2): Conv2d(128, 128, kernel_size=(3, 3), stride=(1, 1), padding=(1, 1), groups=32, bias=False)\n",
      "        (bn2): BatchNorm2d(128, eps=1e-05, momentum=0.1, affine=True, track_running_stats=True)\n",
      "        (conv3): Conv2d(128, 256, kernel_size=(1, 1), stride=(1, 1), bias=False)\n",
      "        (bn3): BatchNorm2d(256, eps=1e-05, momentum=0.1, affine=True, track_running_stats=True)\n",
      "        (relu): ELU(alpha=1.0)\n",
      "        (downsample): Sequential(\n",
      "          (0): Conv2d(64, 256, kernel_size=(1, 1), stride=(1, 1), bias=False)\n",
      "          (1): BatchNorm2d(256, eps=1e-05, momentum=0.1, affine=True, track_running_stats=True)\n",
      "        )\n",
      "      )\n",
      "      (1): Bottleneck(\n",
      "        (conv1): Conv2d(256, 128, kernel_size=(1, 1), stride=(1, 1), bias=False)\n",
      "        (bn1): BatchNorm2d(128, eps=1e-05, momentum=0.1, affine=True, track_running_stats=True)\n",
      "        (conv2): Conv2d(128, 128, kernel_size=(3, 3), stride=(1, 1), padding=(1, 1), groups=32, bias=False)\n",
      "        (bn2): BatchNorm2d(128, eps=1e-05, momentum=0.1, affine=True, track_running_stats=True)\n",
      "        (conv3): Conv2d(128, 256, kernel_size=(1, 1), stride=(1, 1), bias=False)\n",
      "        (bn3): BatchNorm2d(256, eps=1e-05, momentum=0.1, affine=True, track_running_stats=True)\n",
      "        (relu): ELU(alpha=1.0)\n",
      "      )\n",
      "      (2): Bottleneck(\n",
      "        (conv1): Conv2d(256, 128, kernel_size=(1, 1), stride=(1, 1), bias=False)\n",
      "        (bn1): BatchNorm2d(128, eps=1e-05, momentum=0.1, affine=True, track_running_stats=True)\n",
      "        (conv2): Conv2d(128, 128, kernel_size=(3, 3), stride=(1, 1), padding=(1, 1), groups=32, bias=False)\n",
      "        (bn2): BatchNorm2d(128, eps=1e-05, momentum=0.1, affine=True, track_running_stats=True)\n",
      "        (conv3): Conv2d(128, 256, kernel_size=(1, 1), stride=(1, 1), bias=False)\n",
      "        (bn3): BatchNorm2d(256, eps=1e-05, momentum=0.1, affine=True, track_running_stats=True)\n",
      "        (relu): ELU(alpha=1.0)\n",
      "      )\n",
      "    )\n",
      "    (layer2): Sequential(\n",
      "      (0): Bottleneck(\n",
      "        (conv1): Conv2d(256, 256, kernel_size=(1, 1), stride=(1, 1), bias=False)\n",
      "        (bn1): BatchNorm2d(256, eps=1e-05, momentum=0.1, affine=True, track_running_stats=True)\n",
      "        (conv2): Conv2d(256, 256, kernel_size=(3, 3), stride=(2, 2), padding=(1, 1), groups=32, bias=False)\n",
      "        (bn2): BatchNorm2d(256, eps=1e-05, momentum=0.1, affine=True, track_running_stats=True)\n",
      "        (conv3): Conv2d(256, 512, kernel_size=(1, 1), stride=(1, 1), bias=False)\n",
      "        (bn3): BatchNorm2d(512, eps=1e-05, momentum=0.1, affine=True, track_running_stats=True)\n",
      "        (relu): ELU(alpha=1.0)\n",
      "        (downsample): Sequential(\n",
      "          (0): Conv2d(256, 512, kernel_size=(1, 1), stride=(2, 2), bias=False)\n",
      "          (1): BatchNorm2d(512, eps=1e-05, momentum=0.1, affine=True, track_running_stats=True)\n",
      "        )\n",
      "      )\n",
      "      (1): Bottleneck(\n",
      "        (conv1): Conv2d(512, 256, kernel_size=(1, 1), stride=(1, 1), bias=False)\n",
      "        (bn1): BatchNorm2d(256, eps=1e-05, momentum=0.1, affine=True, track_running_stats=True)\n",
      "        (conv2): Conv2d(256, 256, kernel_size=(3, 3), stride=(1, 1), padding=(1, 1), groups=32, bias=False)\n",
      "        (bn2): BatchNorm2d(256, eps=1e-05, momentum=0.1, affine=True, track_running_stats=True)\n",
      "        (conv3): Conv2d(256, 512, kernel_size=(1, 1), stride=(1, 1), bias=False)\n",
      "        (bn3): BatchNorm2d(512, eps=1e-05, momentum=0.1, affine=True, track_running_stats=True)\n",
      "        (relu): ELU(alpha=1.0)\n",
      "      )\n",
      "      (2): Bottleneck(\n",
      "        (conv1): Conv2d(512, 256, kernel_size=(1, 1), stride=(1, 1), bias=False)\n",
      "        (bn1): BatchNorm2d(256, eps=1e-05, momentum=0.1, affine=True, track_running_stats=True)\n",
      "        (conv2): Conv2d(256, 256, kernel_size=(3, 3), stride=(1, 1), padding=(1, 1), groups=32, bias=False)\n",
      "        (bn2): BatchNorm2d(256, eps=1e-05, momentum=0.1, affine=True, track_running_stats=True)\n",
      "        (conv3): Conv2d(256, 512, kernel_size=(1, 1), stride=(1, 1), bias=False)\n",
      "        (bn3): BatchNorm2d(512, eps=1e-05, momentum=0.1, affine=True, track_running_stats=True)\n",
      "        (relu): ELU(alpha=1.0)\n",
      "      )\n",
      "      (3): Bottleneck(\n",
      "        (conv1): Conv2d(512, 256, kernel_size=(1, 1), stride=(1, 1), bias=False)\n",
      "        (bn1): BatchNorm2d(256, eps=1e-05, momentum=0.1, affine=True, track_running_stats=True)\n",
      "        (conv2): Conv2d(256, 256, kernel_size=(3, 3), stride=(1, 1), padding=(1, 1), groups=32, bias=False)\n",
      "        (bn2): BatchNorm2d(256, eps=1e-05, momentum=0.1, affine=True, track_running_stats=True)\n",
      "        (conv3): Conv2d(256, 512, kernel_size=(1, 1), stride=(1, 1), bias=False)\n",
      "        (bn3): BatchNorm2d(512, eps=1e-05, momentum=0.1, affine=True, track_running_stats=True)\n",
      "        (relu): ELU(alpha=1.0)\n",
      "      )\n",
      "    )\n",
      "    (layer3): Sequential(\n",
      "      (0): Bottleneck(\n",
      "        (conv1): Conv2d(512, 512, kernel_size=(1, 1), stride=(1, 1), bias=False)\n",
      "        (bn1): BatchNorm2d(512, eps=1e-05, momentum=0.1, affine=True, track_running_stats=True)\n",
      "        (conv2): Conv2d(512, 512, kernel_size=(3, 3), stride=(2, 2), padding=(1, 1), groups=32, bias=False)\n",
      "        (bn2): BatchNorm2d(512, eps=1e-05, momentum=0.1, affine=True, track_running_stats=True)\n",
      "        (conv3): Conv2d(512, 1024, kernel_size=(1, 1), stride=(1, 1), bias=False)\n",
      "        (bn3): BatchNorm2d(1024, eps=1e-05, momentum=0.1, affine=True, track_running_stats=True)\n",
      "        (relu): ELU(alpha=1.0)\n",
      "        (downsample): Sequential(\n",
      "          (0): Conv2d(512, 1024, kernel_size=(1, 1), stride=(2, 2), bias=False)\n",
      "          (1): BatchNorm2d(1024, eps=1e-05, momentum=0.1, affine=True, track_running_stats=True)\n",
      "        )\n",
      "      )\n",
      "      (1): Bottleneck(\n",
      "        (conv1): Conv2d(1024, 512, kernel_size=(1, 1), stride=(1, 1), bias=False)\n",
      "        (bn1): BatchNorm2d(512, eps=1e-05, momentum=0.1, affine=True, track_running_stats=True)\n",
      "        (conv2): Conv2d(512, 512, kernel_size=(3, 3), stride=(1, 1), padding=(1, 1), groups=32, bias=False)\n",
      "        (bn2): BatchNorm2d(512, eps=1e-05, momentum=0.1, affine=True, track_running_stats=True)\n",
      "        (conv3): Conv2d(512, 1024, kernel_size=(1, 1), stride=(1, 1), bias=False)\n",
      "        (bn3): BatchNorm2d(1024, eps=1e-05, momentum=0.1, affine=True, track_running_stats=True)\n",
      "        (relu): ELU(alpha=1.0)\n",
      "      )\n",
      "      (2): Bottleneck(\n",
      "        (conv1): Conv2d(1024, 512, kernel_size=(1, 1), stride=(1, 1), bias=False)\n",
      "        (bn1): BatchNorm2d(512, eps=1e-05, momentum=0.1, affine=True, track_running_stats=True)\n",
      "        (conv2): Conv2d(512, 512, kernel_size=(3, 3), stride=(1, 1), padding=(1, 1), groups=32, bias=False)\n",
      "        (bn2): BatchNorm2d(512, eps=1e-05, momentum=0.1, affine=True, track_running_stats=True)\n",
      "        (conv3): Conv2d(512, 1024, kernel_size=(1, 1), stride=(1, 1), bias=False)\n",
      "        (bn3): BatchNorm2d(1024, eps=1e-05, momentum=0.1, affine=True, track_running_stats=True)\n",
      "        (relu): ELU(alpha=1.0)\n",
      "      )\n",
      "      (3): Bottleneck(\n",
      "        (conv1): Conv2d(1024, 512, kernel_size=(1, 1), stride=(1, 1), bias=False)\n",
      "        (bn1): BatchNorm2d(512, eps=1e-05, momentum=0.1, affine=True, track_running_stats=True)\n",
      "        (conv2): Conv2d(512, 512, kernel_size=(3, 3), stride=(1, 1), padding=(1, 1), groups=32, bias=False)\n",
      "        (bn2): BatchNorm2d(512, eps=1e-05, momentum=0.1, affine=True, track_running_stats=True)\n",
      "        (conv3): Conv2d(512, 1024, kernel_size=(1, 1), stride=(1, 1), bias=False)\n",
      "        (bn3): BatchNorm2d(1024, eps=1e-05, momentum=0.1, affine=True, track_running_stats=True)\n",
      "        (relu): ELU(alpha=1.0)\n",
      "      )\n",
      "      (4): Bottleneck(\n",
      "        (conv1): Conv2d(1024, 512, kernel_size=(1, 1), stride=(1, 1), bias=False)\n",
      "        (bn1): BatchNorm2d(512, eps=1e-05, momentum=0.1, affine=True, track_running_stats=True)\n",
      "        (conv2): Conv2d(512, 512, kernel_size=(3, 3), stride=(1, 1), padding=(1, 1), groups=32, bias=False)\n",
      "        (bn2): BatchNorm2d(512, eps=1e-05, momentum=0.1, affine=True, track_running_stats=True)\n",
      "        (conv3): Conv2d(512, 1024, kernel_size=(1, 1), stride=(1, 1), bias=False)\n",
      "        (bn3): BatchNorm2d(1024, eps=1e-05, momentum=0.1, affine=True, track_running_stats=True)\n",
      "        (relu): ELU(alpha=1.0)\n",
      "      )\n",
      "      (5): Bottleneck(\n",
      "        (conv1): Conv2d(1024, 512, kernel_size=(1, 1), stride=(1, 1), bias=False)\n",
      "        (bn1): BatchNorm2d(512, eps=1e-05, momentum=0.1, affine=True, track_running_stats=True)\n",
      "        (conv2): Conv2d(512, 512, kernel_size=(3, 3), stride=(1, 1), padding=(1, 1), groups=32, bias=False)\n",
      "        (bn2): BatchNorm2d(512, eps=1e-05, momentum=0.1, affine=True, track_running_stats=True)\n",
      "        (conv3): Conv2d(512, 1024, kernel_size=(1, 1), stride=(1, 1), bias=False)\n",
      "        (bn3): BatchNorm2d(1024, eps=1e-05, momentum=0.1, affine=True, track_running_stats=True)\n",
      "        (relu): ELU(alpha=1.0)\n",
      "      )\n",
      "    )\n",
      "    (layer4): Sequential(\n",
      "      (0): Bottleneck(\n",
      "        (conv1): Conv2d(1024, 1024, kernel_size=(1, 1), stride=(1, 1), bias=False)\n",
      "        (bn1): BatchNorm2d(1024, eps=1e-05, momentum=0.1, affine=True, track_running_stats=True)\n",
      "        (conv2): Conv2d(1024, 1024, kernel_size=(3, 3), stride=(2, 2), padding=(1, 1), groups=32, bias=False)\n",
      "        (bn2): BatchNorm2d(1024, eps=1e-05, momentum=0.1, affine=True, track_running_stats=True)\n",
      "        (conv3): Conv2d(1024, 2048, kernel_size=(1, 1), stride=(1, 1), bias=False)\n",
      "        (bn3): BatchNorm2d(2048, eps=1e-05, momentum=0.1, affine=True, track_running_stats=True)\n",
      "        (relu): ELU(alpha=1.0)\n",
      "        (downsample): Sequential(\n",
      "          (0): Conv2d(1024, 2048, kernel_size=(1, 1), stride=(2, 2), bias=False)\n",
      "          (1): BatchNorm2d(2048, eps=1e-05, momentum=0.1, affine=True, track_running_stats=True)\n",
      "        )\n",
      "      )\n",
      "      (1): Bottleneck(\n",
      "        (conv1): Conv2d(2048, 1024, kernel_size=(1, 1), stride=(1, 1), bias=False)\n",
      "        (bn1): BatchNorm2d(1024, eps=1e-05, momentum=0.1, affine=True, track_running_stats=True)\n",
      "        (conv2): Conv2d(1024, 1024, kernel_size=(3, 3), stride=(1, 1), padding=(1, 1), groups=32, bias=False)\n",
      "        (bn2): BatchNorm2d(1024, eps=1e-05, momentum=0.1, affine=True, track_running_stats=True)\n",
      "        (conv3): Conv2d(1024, 2048, kernel_size=(1, 1), stride=(1, 1), bias=False)\n",
      "        (bn3): BatchNorm2d(2048, eps=1e-05, momentum=0.1, affine=True, track_running_stats=True)\n",
      "        (relu): ELU(alpha=1.0)\n",
      "      )\n",
      "      (2): Bottleneck(\n",
      "        (conv1): Conv2d(2048, 1024, kernel_size=(1, 1), stride=(1, 1), bias=False)\n",
      "        (bn1): BatchNorm2d(1024, eps=1e-05, momentum=0.1, affine=True, track_running_stats=True)\n",
      "        (conv2): Conv2d(1024, 1024, kernel_size=(3, 3), stride=(1, 1), padding=(1, 1), groups=32, bias=False)\n",
      "        (bn2): BatchNorm2d(1024, eps=1e-05, momentum=0.1, affine=True, track_running_stats=True)\n",
      "        (conv3): Conv2d(1024, 2048, kernel_size=(1, 1), stride=(1, 1), bias=False)\n",
      "        (bn3): BatchNorm2d(2048, eps=1e-05, momentum=0.1, affine=True, track_running_stats=True)\n",
      "        (relu): ELU(alpha=1.0)\n",
      "      )\n",
      "    )\n",
      "    (avgpool): AdaptiveAvgPool2d(output_size=(1, 1))\n",
      "    (fc): Linear(in_features=2048, out_features=1, bias=True)\n",
      "  )\n",
      ")\n"
     ]
    }
   ],
   "source": [
    "model = SEMPro_resNext()\n",
    "optimizer = torch.optim.AdamW(model.parameters(), lr=5e-6, weight_decay = 0.02)\n",
    "criterion = torch.nn.L1Loss()\n",
    "scheduler = torch.optim.lr_scheduler.StepLR(optimizer, 20,gamma=0.5)\n",
    "device = torch.device(\"cuda\" if torch.cuda.is_available() else \"cpu\")\n",
    "print(f\"Running on {device}\")\n",
    "model.to(device)\n",
    "criterion.to(device)\n",
    "print(model)\n",
    "# 1/0\n",
    "# print(semdata.__getitem__(615))\n",
    "# model.eval()\n",
    "# print(model.forward(semdata.__getitem__(615)[0].unsqueeze(0).to(device)))\n",
    "# model.train()"
   ]
  },
  {
   "cell_type": "code",
   "execution_count": 24,
   "id": "23789ac3",
   "metadata": {
    "scrolled": true
   },
   "outputs": [
    {
     "name": "stdout",
     "output_type": "stream",
     "text": [
      "Training for 100 epochs\n",
      "Now running epoch 0\n"
     ]
    },
    {
     "name": "stderr",
     "output_type": "stream",
     "text": [
      "Training data: 100%|███████████████████████████████████████████████████████████████████| 48/48 [00:10<00:00,  4.49it/s]\n",
      "Validation data: 100%|███████████████████████████████████████████████████████████████████| 4/4 [00:01<00:00,  2.10it/s]\n"
     ]
    },
    {
     "name": "stdout",
     "output_type": "stream",
     "text": [
      "Training losses: MAE = 4.803429041258567, MSE = 24.8684763822256\n",
      "Validation losses: MAE = 3.432525830832302, MSE = 13.826074423460538\n",
      "Now running epoch 1\n"
     ]
    },
    {
     "name": "stderr",
     "output_type": "stream",
     "text": [
      "Training data: 100%|███████████████████████████████████████████████████████████████████| 48/48 [00:06<00:00,  7.01it/s]\n",
      "Validation data: 100%|███████████████████████████████████████████████████████████████████| 4/4 [00:01<00:00,  2.45it/s]\n"
     ]
    },
    {
     "name": "stdout",
     "output_type": "stream",
     "text": [
      "Training losses: MAE = 4.015896532438272, MSE = 18.019724072071156\n",
      "Validation losses: MAE = 3.0627390497835427, MSE = 11.7905453229323\n",
      "Now running epoch 2\n"
     ]
    },
    {
     "name": "stderr",
     "output_type": "stream",
     "text": [
      "Training data: 100%|███████████████████████████████████████████████████████████████████| 48/48 [00:06<00:00,  7.35it/s]\n",
      "Validation data: 100%|███████████████████████████████████████████████████████████████████| 4/4 [00:01<00:00,  2.62it/s]\n"
     ]
    },
    {
     "name": "stdout",
     "output_type": "stream",
     "text": [
      "Training losses: MAE = 2.562510863593246, MSE = 8.883768130209884\n",
      "Validation losses: MAE = 1.6945183726814506, MSE = 4.360144826565252\n",
      "Now running epoch 3\n"
     ]
    },
    {
     "name": "stderr",
     "output_type": "stream",
     "text": [
      "Training data: 100%|███████████████████████████████████████████████████████████████████| 48/48 [00:06<00:00,  7.34it/s]\n",
      "Validation data: 100%|███████████████████████████████████████████████████████████████████| 4/4 [00:01<00:00,  2.43it/s]\n"
     ]
    },
    {
     "name": "stdout",
     "output_type": "stream",
     "text": [
      "Training losses: MAE = 1.335427905559153, MSE = 3.049964046760255\n",
      "Validation losses: MAE = 1.1737158900644522, MSE = 2.395143640826868\n",
      "Now running epoch 4\n"
     ]
    },
    {
     "name": "stderr",
     "output_type": "stream",
     "text": [
      "Training data: 100%|███████████████████████████████████████████████████████████████████| 48/48 [00:06<00:00,  7.11it/s]\n",
      "Validation data: 100%|███████████████████████████████████████████████████████████████████| 4/4 [00:01<00:00,  2.68it/s]\n"
     ]
    },
    {
     "name": "stdout",
     "output_type": "stream",
     "text": [
      "Training losses: MAE = 1.0338131396708081, MSE = 1.8086364013339837\n",
      "Validation losses: MAE = 1.1865632766294203, MSE = 2.120032649925325\n",
      "Now running epoch 5\n"
     ]
    },
    {
     "name": "stderr",
     "output_type": "stream",
     "text": [
      "Training data: 100%|███████████████████████████████████████████████████████████████████| 48/48 [00:07<00:00,  6.68it/s]\n",
      "Validation data: 100%|███████████████████████████████████████████████████████████████████| 4/4 [00:01<00:00,  2.18it/s]\n"
     ]
    },
    {
     "name": "stdout",
     "output_type": "stream",
     "text": [
      "Training losses: MAE = 0.9642141133202762, MSE = 1.6662049441659168\n",
      "Validation losses: MAE = 1.1123679472493617, MSE = 2.0557852175372733\n",
      "Now running epoch 6\n"
     ]
    },
    {
     "name": "stderr",
     "output_type": "stream",
     "text": [
      "Training data: 100%|███████████████████████████████████████████████████████████████████| 48/48 [00:06<00:00,  7.03it/s]\n",
      "Validation data: 100%|███████████████████████████████████████████████████████████████████| 4/4 [00:01<00:00,  2.29it/s]\n"
     ]
    },
    {
     "name": "stdout",
     "output_type": "stream",
     "text": [
      "Training losses: MAE = 0.9643705189859605, MSE = 1.6851115807441852\n",
      "Validation losses: MAE = 1.1142159699639147, MSE = 1.9449865553293415\n",
      "Now running epoch 7\n"
     ]
    },
    {
     "name": "stderr",
     "output_type": "stream",
     "text": [
      "Training data: 100%|███████████████████████████████████████████████████████████████████| 48/48 [00:06<00:00,  7.26it/s]\n",
      "Validation data: 100%|███████████████████████████████████████████████████████████████████| 4/4 [00:01<00:00,  2.34it/s]\n"
     ]
    },
    {
     "name": "stdout",
     "output_type": "stream",
     "text": [
      "Training losses: MAE = 0.944840880673451, MSE = 1.5595038618077315\n",
      "Validation losses: MAE = 1.119549253383308, MSE = 1.959124696736448\n",
      "Now running epoch 8\n"
     ]
    },
    {
     "name": "stderr",
     "output_type": "stream",
     "text": [
      "Training data: 100%|███████████████████████████████████████████████████████████████████| 48/48 [00:06<00:00,  7.50it/s]\n",
      "Validation data: 100%|███████████████████████████████████████████████████████████████████| 4/4 [00:01<00:00,  2.53it/s]\n"
     ]
    },
    {
     "name": "stdout",
     "output_type": "stream",
     "text": [
      "Training losses: MAE = 0.8891399150894242, MSE = 1.412400104264674\n",
      "Validation losses: MAE = 1.0882627208692155, MSE = 1.87475117488652\n",
      "Now running epoch 9\n"
     ]
    },
    {
     "name": "stderr",
     "output_type": "stream",
     "text": [
      "Training data: 100%|███████████████████████████████████████████████████████████████████| 48/48 [00:06<00:00,  7.40it/s]\n",
      "Validation data: 100%|███████████████████████████████████████████████████████████████████| 4/4 [00:01<00:00,  2.42it/s]\n"
     ]
    },
    {
     "name": "stdout",
     "output_type": "stream",
     "text": [
      "Training losses: MAE = 0.8852190994494183, MSE = 1.3801114839143196\n",
      "Validation losses: MAE = 1.070191113729389, MSE = 1.856684915913923\n",
      "Now running epoch 10\n"
     ]
    },
    {
     "name": "stderr",
     "output_type": "stream",
     "text": [
      "Training data: 100%|███████████████████████████████████████████████████████████████████| 48/48 [00:06<00:00,  7.50it/s]\n",
      "Validation data: 100%|███████████████████████████████████████████████████████████████████| 4/4 [00:01<00:00,  2.47it/s]\n"
     ]
    },
    {
     "name": "stdout",
     "output_type": "stream",
     "text": [
      "Training losses: MAE = 0.8447766964429341, MSE = 1.2706731670444569\n",
      "Validation losses: MAE = 1.0524070217861057, MSE = 1.769279195034292\n",
      "Now running epoch 11\n"
     ]
    },
    {
     "name": "stderr",
     "output_type": "stream",
     "text": [
      "Training data: 100%|███████████████████████████████████████████████████████████████████| 48/48 [00:06<00:00,  7.46it/s]\n",
      "Validation data: 100%|███████████████████████████████████████████████████████████████████| 4/4 [00:01<00:00,  2.40it/s]\n"
     ]
    },
    {
     "name": "stdout",
     "output_type": "stream",
     "text": [
      "Training losses: MAE = 0.8398925793803204, MSE = 1.3275599909016544\n",
      "Validation losses: MAE = 1.0794805494968953, MSE = 1.8368903952188735\n",
      "Now running epoch 12\n"
     ]
    },
    {
     "name": "stderr",
     "output_type": "stream",
     "text": [
      "Training data: 100%|███████████████████████████████████████████████████████████████████| 48/48 [00:06<00:00,  7.23it/s]\n",
      "Validation data: 100%|███████████████████████████████████████████████████████████████████| 4/4 [00:01<00:00,  2.57it/s]\n"
     ]
    },
    {
     "name": "stdout",
     "output_type": "stream",
     "text": [
      "Training losses: MAE = 0.7771602698267015, MSE = 1.159978972419629\n",
      "Validation losses: MAE = 1.0713679205673774, MSE = 1.7647050002285163\n",
      "Now running epoch 13\n"
     ]
    },
    {
     "name": "stderr",
     "output_type": "stream",
     "text": [
      "Training data: 100%|███████████████████████████████████████████████████████████████████| 48/48 [00:07<00:00,  6.76it/s]\n",
      "Validation data: 100%|███████████████████████████████████████████████████████████████████| 4/4 [00:01<00:00,  2.20it/s]\n"
     ]
    },
    {
     "name": "stdout",
     "output_type": "stream",
     "text": [
      "Training losses: MAE = 0.7650148351158698, MSE = 1.1603804292900797\n",
      "Validation losses: MAE = 1.045221505847949, MSE = 1.7379880768341\n",
      "Now running epoch 14\n"
     ]
    },
    {
     "name": "stderr",
     "output_type": "stream",
     "text": [
      "Training data: 100%|███████████████████████████████████████████████████████████████████| 48/48 [00:07<00:00,  6.38it/s]\n",
      "Validation data: 100%|███████████████████████████████████████████████████████████████████| 4/4 [00:01<00:00,  2.12it/s]\n"
     ]
    },
    {
     "name": "stdout",
     "output_type": "stream",
     "text": [
      "Training losses: MAE = 0.7123614389962399, MSE = 0.9936393696589008\n",
      "Validation losses: MAE = 1.064569176054679, MSE = 1.8378403805965593\n",
      "Now running epoch 15\n"
     ]
    },
    {
     "name": "stderr",
     "output_type": "stream",
     "text": [
      "Training data: 100%|███████████████████████████████████████████████████████████████████| 48/48 [00:06<00:00,  7.37it/s]\n",
      "Validation data: 100%|███████████████████████████████████████████████████████████████████| 4/4 [00:01<00:00,  2.48it/s]\n"
     ]
    },
    {
     "name": "stdout",
     "output_type": "stream",
     "text": [
      "Training losses: MAE = 0.6937284609895799, MSE = 0.9574087620556195\n",
      "Validation losses: MAE = 1.1029981750776048, MSE = 1.935051110428226\n",
      "Now running epoch 16\n"
     ]
    },
    {
     "name": "stderr",
     "output_type": "stream",
     "text": [
      "Training data: 100%|███████████████████████████████████████████████████████████████████| 48/48 [00:07<00:00,  6.59it/s]\n",
      "Validation data: 100%|███████████████████████████████████████████████████████████████████| 4/4 [00:01<00:00,  2.21it/s]\n"
     ]
    },
    {
     "name": "stdout",
     "output_type": "stream",
     "text": [
      "Training losses: MAE = 0.665518390367883, MSE = 0.9408465135823051\n",
      "Validation losses: MAE = 1.05198523252762, MSE = 1.7648257059200247\n",
      "Now running epoch 17\n"
     ]
    },
    {
     "name": "stderr",
     "output_type": "stream",
     "text": [
      "Training data: 100%|███████████████████████████████████████████████████████████████████| 48/48 [00:06<00:00,  7.28it/s]\n",
      "Validation data: 100%|███████████████████████████████████████████████████████████████████| 4/4 [00:01<00:00,  2.31it/s]\n"
     ]
    },
    {
     "name": "stdout",
     "output_type": "stream",
     "text": [
      "Training losses: MAE = 0.6187012754837666, MSE = 0.791504788136908\n",
      "Validation losses: MAE = 1.1003996734955102, MSE = 2.1628529792585547\n",
      "Now running epoch 18\n"
     ]
    },
    {
     "name": "stderr",
     "output_type": "stream",
     "text": [
      "Training data: 100%|███████████████████████████████████████████████████████████████████| 48/48 [00:06<00:00,  7.40it/s]\n",
      "Validation data: 100%|███████████████████████████████████████████████████████████████████| 4/4 [00:01<00:00,  2.61it/s]\n"
     ]
    },
    {
     "name": "stdout",
     "output_type": "stream",
     "text": [
      "Training losses: MAE = 0.5883933040491537, MSE = 0.7248775133649061\n",
      "Validation losses: MAE = 1.0648840157414503, MSE = 1.9319863008776463\n",
      "Now running epoch 19\n"
     ]
    },
    {
     "name": "stderr",
     "output_type": "stream",
     "text": [
      "Training data: 100%|███████████████████████████████████████████████████████████████████| 48/48 [00:06<00:00,  7.35it/s]\n",
      "Validation data: 100%|███████████████████████████████████████████████████████████████████| 4/4 [00:01<00:00,  2.42it/s]\n"
     ]
    },
    {
     "name": "stdout",
     "output_type": "stream",
     "text": [
      "Training losses: MAE = 0.6137315398510972, MSE = 0.7878621598215353\n",
      "Validation losses: MAE = 1.0611616437049831, MSE = 1.8924486977961559\n",
      "Now running epoch 20\n"
     ]
    },
    {
     "name": "stderr",
     "output_type": "stream",
     "text": [
      "Training data: 100%|███████████████████████████████████████████████████████████████████| 48/48 [00:06<00:00,  7.29it/s]\n",
      "Validation data: 100%|███████████████████████████████████████████████████████████████████| 4/4 [00:01<00:00,  2.37it/s]\n"
     ]
    },
    {
     "name": "stdout",
     "output_type": "stream",
     "text": [
      "Training losses: MAE = 0.5198638074227984, MSE = 0.6217958735010466\n",
      "Validation losses: MAE = 1.0851889269733666, MSE = 1.8788833860522045\n",
      "Now running epoch 21\n"
     ]
    },
    {
     "name": "stderr",
     "output_type": "stream",
     "text": [
      "Training data: 100%|███████████████████████████████████████████████████████████████████| 48/48 [00:06<00:00,  7.04it/s]\n",
      "Validation data: 100%|███████████████████████████████████████████████████████████████████| 4/4 [00:01<00:00,  2.52it/s]\n"
     ]
    },
    {
     "name": "stdout",
     "output_type": "stream",
     "text": [
      "Training losses: MAE = 0.5129106724026739, MSE = 0.6046807290542913\n",
      "Validation losses: MAE = 1.066387412394801, MSE = 1.7644151044717067\n",
      "Now running epoch 22\n"
     ]
    },
    {
     "name": "stderr",
     "output_type": "stream",
     "text": [
      "Training data: 100%|███████████████████████████████████████████████████████████████████| 48/48 [00:06<00:00,  7.23it/s]\n",
      "Validation data: 100%|███████████████████████████████████████████████████████████████████| 4/4 [00:01<00:00,  2.25it/s]\n"
     ]
    },
    {
     "name": "stdout",
     "output_type": "stream",
     "text": [
      "Training losses: MAE = 0.5397722853371798, MSE = 0.6299501031582966\n",
      "Validation losses: MAE = 1.0580626313767472, MSE = 1.7309610353382043\n",
      "Now running epoch 23\n"
     ]
    },
    {
     "name": "stderr",
     "output_type": "stream",
     "text": [
      "Training data: 100%|███████████████████████████████████████████████████████████████████| 48/48 [00:06<00:00,  7.04it/s]\n",
      "Validation data: 100%|███████████████████████████████████████████████████████████████████| 4/4 [00:01<00:00,  2.31it/s]\n"
     ]
    },
    {
     "name": "stdout",
     "output_type": "stream",
     "text": [
      "Training losses: MAE = 0.5097340682897489, MSE = 0.568425275379495\n",
      "Validation losses: MAE = 1.071624095237438, MSE = 1.7985124254873355\n",
      "Now running epoch 24\n"
     ]
    },
    {
     "name": "stderr",
     "output_type": "stream",
     "text": [
      "Training data: 100%|███████████████████████████████████████████████████████████████████| 48/48 [00:06<00:00,  6.94it/s]\n",
      "Validation data: 100%|███████████████████████████████████████████████████████████████████| 4/4 [00:01<00:00,  2.15it/s]\n"
     ]
    },
    {
     "name": "stdout",
     "output_type": "stream",
     "text": [
      "Training losses: MAE = 0.507345633085745, MSE = 0.5588244159521039\n",
      "Validation losses: MAE = 1.131868070120287, MSE = 1.9715234135933462\n",
      "Now running epoch 25\n"
     ]
    },
    {
     "name": "stderr",
     "output_type": "stream",
     "text": [
      "Training data: 100%|███████████████████████████████████████████████████████████████████| 48/48 [00:06<00:00,  6.89it/s]\n",
      "Validation data: 100%|███████████████████████████████████████████████████████████████████| 4/4 [00:01<00:00,  2.24it/s]\n"
     ]
    },
    {
     "name": "stdout",
     "output_type": "stream",
     "text": [
      "Training losses: MAE = 0.510543970153791, MSE = 0.544859894465986\n",
      "Validation losses: MAE = 1.0592946641362875, MSE = 1.7249801019876745\n",
      "Now running epoch 26\n"
     ]
    },
    {
     "name": "stderr",
     "output_type": "stream",
     "text": [
      "Training data: 100%|███████████████████████████████████████████████████████████████████| 48/48 [00:07<00:00,  6.76it/s]\n",
      "Validation data: 100%|███████████████████████████████████████████████████████████████████| 4/4 [00:01<00:00,  2.29it/s]\n"
     ]
    },
    {
     "name": "stdout",
     "output_type": "stream",
     "text": [
      "Training losses: MAE = 0.5257140009774023, MSE = 0.598792460576083\n",
      "Validation losses: MAE = 1.0621575335908389, MSE = 1.7719855294148712\n",
      "Now running epoch 27\n"
     ]
    },
    {
     "name": "stderr",
     "output_type": "stream",
     "text": [
      "Training data: 100%|███████████████████████████████████████████████████████████████████| 48/48 [00:07<00:00,  6.51it/s]\n",
      "Validation data: 100%|███████████████████████████████████████████████████████████████████| 4/4 [00:02<00:00,  1.99it/s]\n"
     ]
    },
    {
     "name": "stdout",
     "output_type": "stream",
     "text": [
      "Training losses: MAE = 0.5414300152565424, MSE = 0.5881581499552727\n",
      "Validation losses: MAE = 1.0780520593255625, MSE = 1.8204090738207785\n",
      "Now running epoch 28\n"
     ]
    },
    {
     "name": "stderr",
     "output_type": "stream",
     "text": [
      "Training data: 100%|███████████████████████████████████████████████████████████████████| 48/48 [00:07<00:00,  6.06it/s]\n",
      "Validation data: 100%|███████████████████████████████████████████████████████████████████| 4/4 [00:01<00:00,  2.15it/s]\n"
     ]
    },
    {
     "name": "stdout",
     "output_type": "stream",
     "text": [
      "Training losses: MAE = 0.5063234311527871, MSE = 0.5700399934138618\n",
      "Validation losses: MAE = 1.1010298130078404, MSE = 1.9477898790642547\n",
      "Now running epoch 29\n"
     ]
    },
    {
     "name": "stderr",
     "output_type": "stream",
     "text": [
      "Training data: 100%|███████████████████████████████████████████████████████████████████| 48/48 [00:07<00:00,  6.55it/s]\n",
      "Validation data: 100%|███████████████████████████████████████████████████████████████████| 4/4 [00:01<00:00,  2.13it/s]\n"
     ]
    },
    {
     "name": "stdout",
     "output_type": "stream",
     "text": [
      "Training losses: MAE = 0.47449034581928173, MSE = 0.4999324906641988\n",
      "Validation losses: MAE = 1.0911331250229936, MSE = 1.855312341427415\n",
      "Now running epoch 30\n"
     ]
    },
    {
     "name": "stderr",
     "output_type": "stream",
     "text": [
      "Training data: 100%|███████████████████████████████████████████████████████████████████| 48/48 [00:07<00:00,  6.55it/s]\n",
      "Validation data: 100%|███████████████████████████████████████████████████████████████████| 4/4 [00:01<00:00,  2.34it/s]\n"
     ]
    },
    {
     "name": "stdout",
     "output_type": "stream",
     "text": [
      "Training losses: MAE = 0.4628403638981964, MSE = 0.5055902270548474\n",
      "Validation losses: MAE = 1.0577907267754296, MSE = 1.7730350506038903\n",
      "Now running epoch 31\n"
     ]
    },
    {
     "name": "stderr",
     "output_type": "stream",
     "text": [
      "Training data: 100%|███████████████████████████████████████████████████████████████████| 48/48 [00:06<00:00,  6.95it/s]\n",
      "Validation data: 100%|███████████████████████████████████████████████████████████████████| 4/4 [00:01<00:00,  2.41it/s]\n"
     ]
    },
    {
     "name": "stdout",
     "output_type": "stream",
     "text": [
      "Training losses: MAE = 0.47904253770517824, MSE = 0.49328215134216263\n",
      "Validation losses: MAE = 1.0743648858060566, MSE = 1.8162701332590276\n",
      "Now running epoch 32\n"
     ]
    },
    {
     "name": "stderr",
     "output_type": "stream",
     "text": [
      "Training data: 100%|███████████████████████████████████████████████████████████████████| 48/48 [00:06<00:00,  6.91it/s]\n",
      "Validation data: 100%|███████████████████████████████████████████████████████████████████| 4/4 [00:01<00:00,  2.30it/s]\n"
     ]
    },
    {
     "name": "stdout",
     "output_type": "stream",
     "text": [
      "Training losses: MAE = 0.49569214546476176, MSE = 0.537461213147973\n",
      "Validation losses: MAE = 1.0689215487137032, MSE = 1.8444006916945432\n",
      "Now running epoch 33\n"
     ]
    },
    {
     "name": "stderr",
     "output_type": "stream",
     "text": [
      "Training data: 100%|███████████████████████████████████████████████████████████████████| 48/48 [00:06<00:00,  7.03it/s]\n",
      "Validation data: 100%|███████████████████████████████████████████████████████████████████| 4/4 [00:01<00:00,  2.32it/s]\n"
     ]
    },
    {
     "name": "stdout",
     "output_type": "stream",
     "text": [
      "Training losses: MAE = 0.48130781617114543, MSE = 0.4863345445087725\n",
      "Validation losses: MAE = 1.0861596920415246, MSE = 1.8972065292707476\n",
      "Now running epoch 34\n"
     ]
    },
    {
     "name": "stderr",
     "output_type": "stream",
     "text": [
      "Training data: 100%|███████████████████████████████████████████████████████████████████| 48/48 [00:07<00:00,  6.71it/s]\n",
      "Validation data: 100%|███████████████████████████████████████████████████████████████████| 4/4 [00:01<00:00,  2.08it/s]\n"
     ]
    },
    {
     "name": "stdout",
     "output_type": "stream",
     "text": [
      "Training losses: MAE = 0.4917137989193897, MSE = 0.5053937374107663\n",
      "Validation losses: MAE = 1.0904571768733096, MSE = 1.883075944779521\n",
      "Now running epoch 35\n"
     ]
    },
    {
     "name": "stderr",
     "output_type": "stream",
     "text": [
      "Training data: 100%|███████████████████████████████████████████████████████████████████| 48/48 [00:07<00:00,  6.38it/s]\n",
      "Validation data: 100%|███████████████████████████████████████████████████████████████████| 4/4 [00:01<00:00,  2.27it/s]\n"
     ]
    },
    {
     "name": "stdout",
     "output_type": "stream",
     "text": [
      "Training losses: MAE = 0.45199652772163657, MSE = 0.47086264309016135\n",
      "Validation losses: MAE = 1.102222815491158, MSE = 1.9129443433857498\n",
      "Now running epoch 36\n"
     ]
    },
    {
     "name": "stderr",
     "output_type": "stream",
     "text": [
      "Training data: 100%|███████████████████████████████████████████████████████████████████| 48/48 [00:07<00:00,  6.74it/s]\n",
      "Validation data: 100%|███████████████████████████████████████████████████████████████████| 4/4 [00:01<00:00,  2.46it/s]\n"
     ]
    },
    {
     "name": "stdout",
     "output_type": "stream",
     "text": [
      "Training losses: MAE = 0.4671976315096066, MSE = 0.4899653388128766\n",
      "Validation losses: MAE = 1.0908352911408783, MSE = 1.8347402316077421\n",
      "Now running epoch 37\n"
     ]
    },
    {
     "name": "stderr",
     "output_type": "stream",
     "text": [
      "Training data: 100%|███████████████████████████████████████████████████████████████████| 48/48 [00:06<00:00,  7.12it/s]\n",
      "Validation data: 100%|███████████████████████████████████████████████████████████████████| 4/4 [00:01<00:00,  2.50it/s]\n"
     ]
    },
    {
     "name": "stdout",
     "output_type": "stream",
     "text": [
      "Training losses: MAE = 0.41324768348406604, MSE = 0.3561823024040499\n",
      "Validation losses: MAE = 1.09106161987126, MSE = 1.8660601996657125\n",
      "Now running epoch 38\n"
     ]
    },
    {
     "name": "stderr",
     "output_type": "stream",
     "text": [
      "Training data: 100%|███████████████████████████████████████████████████████████████████| 48/48 [00:06<00:00,  7.10it/s]\n",
      "Validation data: 100%|███████████████████████████████████████████████████████████████████| 4/4 [00:01<00:00,  2.40it/s]\n"
     ]
    },
    {
     "name": "stdout",
     "output_type": "stream",
     "text": [
      "Training losses: MAE = 0.43609202525816704, MSE = 0.42020312575630875\n",
      "Validation losses: MAE = 1.1456291245409045, MSE = 1.9826044695333251\n",
      "Now running epoch 39\n"
     ]
    },
    {
     "name": "stderr",
     "output_type": "stream",
     "text": [
      "Training data: 100%|███████████████████████████████████████████████████████████████████| 48/48 [00:07<00:00,  6.64it/s]\n",
      "Validation data: 100%|███████████████████████████████████████████████████████████████████| 4/4 [00:01<00:00,  2.36it/s]\n"
     ]
    },
    {
     "name": "stdout",
     "output_type": "stream",
     "text": [
      "Training losses: MAE = 0.4394875569710969, MSE = 0.4055114637594447\n",
      "Validation losses: MAE = 1.0875662537901465, MSE = 1.849514663979452\n",
      "Now running epoch 40\n"
     ]
    },
    {
     "name": "stderr",
     "output_type": "stream",
     "text": [
      "Training data: 100%|███████████████████████████████████████████████████████████████████| 48/48 [00:06<00:00,  7.25it/s]\n",
      "Validation data: 100%|███████████████████████████████████████████████████████████████████| 4/4 [00:01<00:00,  2.49it/s]\n"
     ]
    },
    {
     "name": "stdout",
     "output_type": "stream",
     "text": [
      "Training losses: MAE = 0.4301651817159388, MSE = 0.41091204353302596\n",
      "Validation losses: MAE = 1.0923810088489725, MSE = 1.8360357250872081\n",
      "Now running epoch 41\n"
     ]
    },
    {
     "name": "stderr",
     "output_type": "stream",
     "text": [
      "Training data: 100%|███████████████████████████████████████████████████████████████████| 48/48 [00:06<00:00,  7.07it/s]\n",
      "Validation data: 100%|███████████████████████████████████████████████████████████████████| 4/4 [00:01<00:00,  2.44it/s]\n"
     ]
    },
    {
     "name": "stdout",
     "output_type": "stream",
     "text": [
      "Training losses: MAE = 0.43225490773053954, MSE = 0.41466226941160417\n",
      "Validation losses: MAE = 1.1118488839770453, MSE = 1.8754378705835844\n",
      "Now running epoch 42\n"
     ]
    },
    {
     "name": "stderr",
     "output_type": "stream",
     "text": [
      "Training data: 100%|███████████████████████████████████████████████████████████████████| 48/48 [00:06<00:00,  7.14it/s]\n",
      "Validation data: 100%|███████████████████████████████████████████████████████████████████| 4/4 [00:01<00:00,  2.48it/s]\n"
     ]
    },
    {
     "name": "stdout",
     "output_type": "stream",
     "text": [
      "Training losses: MAE = 0.41537976051883946, MSE = 0.40119070041058463\n",
      "Validation losses: MAE = 1.0920202464253164, MSE = 1.826383285408544\n",
      "Now running epoch 43\n"
     ]
    },
    {
     "name": "stderr",
     "output_type": "stream",
     "text": [
      "Training data: 100%|███████████████████████████████████████████████████████████████████| 48/48 [00:06<00:00,  7.32it/s]\n",
      "Validation data: 100%|███████████████████████████████████████████████████████████████████| 4/4 [00:01<00:00,  2.36it/s]\n"
     ]
    },
    {
     "name": "stdout",
     "output_type": "stream",
     "text": [
      "Training losses: MAE = 0.42338173786758265, MSE = 0.37428348839277764\n",
      "Validation losses: MAE = 1.089146436515052, MSE = 1.8498289229903033\n",
      "Now running epoch 44\n"
     ]
    },
    {
     "name": "stderr",
     "output_type": "stream",
     "text": [
      "Training data: 100%|███████████████████████████████████████████████████████████████████| 48/48 [00:06<00:00,  7.06it/s]\n",
      "Validation data: 100%|███████████████████████████████████████████████████████████████████| 4/4 [00:01<00:00,  2.28it/s]\n"
     ]
    },
    {
     "name": "stdout",
     "output_type": "stream",
     "text": [
      "Training losses: MAE = 0.4209721253087637, MSE = 0.3761801690023147\n",
      "Validation losses: MAE = 1.098492633550662, MSE = 1.8525605045830669\n",
      "Now running epoch 45\n"
     ]
    },
    {
     "name": "stderr",
     "output_type": "stream",
     "text": [
      "Training data: 100%|███████████████████████████████████████████████████████████████████| 48/48 [00:06<00:00,  6.87it/s]\n",
      "Validation data: 100%|███████████████████████████████████████████████████████████████████| 4/4 [00:01<00:00,  2.19it/s]\n"
     ]
    },
    {
     "name": "stdout",
     "output_type": "stream",
     "text": [
      "Training losses: MAE = 0.4252213204450586, MSE = 0.39002307985730905\n",
      "Validation losses: MAE = 1.1039276415823012, MSE = 1.8679221240526027\n",
      "Now running epoch 46\n"
     ]
    },
    {
     "name": "stderr",
     "output_type": "stream",
     "text": [
      "Training data: 100%|███████████████████████████████████████████████████████████████████| 48/48 [00:06<00:00,  6.95it/s]\n",
      "Validation data: 100%|███████████████████████████████████████████████████████████████████| 4/4 [00:01<00:00,  2.34it/s]\n"
     ]
    },
    {
     "name": "stdout",
     "output_type": "stream",
     "text": [
      "Training losses: MAE = 0.45400771168036075, MSE = 0.4534739808323611\n",
      "Validation losses: MAE = 1.0985093027602773, MSE = 1.8548557131865633\n",
      "Now running epoch 47\n"
     ]
    },
    {
     "name": "stderr",
     "output_type": "stream",
     "text": [
      "Training data: 100%|███████████████████████████████████████████████████████████████████| 48/48 [00:06<00:00,  7.31it/s]\n",
      "Validation data: 100%|███████████████████████████████████████████████████████████████████| 4/4 [00:01<00:00,  2.47it/s]\n"
     ]
    },
    {
     "name": "stdout",
     "output_type": "stream",
     "text": [
      "Training losses: MAE = 0.4224087269817129, MSE = 0.4030229898165536\n",
      "Validation losses: MAE = 1.0760031653840163, MSE = 1.780007274621102\n",
      "Now running epoch 48\n"
     ]
    },
    {
     "name": "stderr",
     "output_type": "stream",
     "text": [
      "Training data: 100%|███████████████████████████████████████████████████████████████████| 48/48 [00:06<00:00,  7.80it/s]\n",
      "Validation data: 100%|███████████████████████████████████████████████████████████████████| 4/4 [00:01<00:00,  2.54it/s]\n"
     ]
    },
    {
     "name": "stdout",
     "output_type": "stream",
     "text": [
      "Training losses: MAE = 0.42318103517720707, MSE = 0.37566550674240545\n",
      "Validation losses: MAE = 1.0817164584408845, MSE = 1.8383682978811555\n",
      "Now running epoch 49\n"
     ]
    },
    {
     "name": "stderr",
     "output_type": "stream",
     "text": [
      "Training data: 100%|███████████████████████████████████████████████████████████████████| 48/48 [00:06<00:00,  7.54it/s]\n",
      "Validation data: 100%|███████████████████████████████████████████████████████████████████| 4/4 [00:01<00:00,  2.56it/s]\n"
     ]
    },
    {
     "name": "stdout",
     "output_type": "stream",
     "text": [
      "Training losses: MAE = 0.49467089801610586, MSE = 0.4814388800408768\n",
      "Validation losses: MAE = 1.0917558331200246, MSE = 1.834164983282775\n",
      "Now running epoch 50\n"
     ]
    },
    {
     "name": "stderr",
     "output_type": "stream",
     "text": [
      "Training data: 100%|███████████████████████████████████████████████████████████████████| 48/48 [00:06<00:00,  7.56it/s]\n",
      "Validation data: 100%|███████████████████████████████████████████████████████████████████| 4/4 [00:01<00:00,  2.49it/s]\n"
     ]
    },
    {
     "name": "stdout",
     "output_type": "stream",
     "text": [
      "Training losses: MAE = 0.40436179758033963, MSE = 0.3687268150433571\n",
      "Validation losses: MAE = 1.0962799652538102, MSE = 1.8691315056165632\n",
      "Now running epoch 51\n"
     ]
    },
    {
     "name": "stderr",
     "output_type": "stream",
     "text": [
      "Training data: 100%|███████████████████████████████████████████████████████████████████| 48/48 [00:06<00:00,  7.69it/s]\n",
      "Validation data: 100%|███████████████████████████████████████████████████████████████████| 4/4 [00:01<00:00,  2.61it/s]\n"
     ]
    },
    {
     "name": "stdout",
     "output_type": "stream",
     "text": [
      "Training losses: MAE = 0.4088454021128965, MSE = 0.38429243928353785\n",
      "Validation losses: MAE = 1.0794770163553495, MSE = 1.8163286540869497\n",
      "Now running epoch 52\n"
     ]
    },
    {
     "name": "stderr",
     "output_type": "stream",
     "text": [
      "Training data: 100%|███████████████████████████████████████████████████████████████████| 48/48 [00:06<00:00,  7.65it/s]\n",
      "Validation data: 100%|███████████████████████████████████████████████████████████████████| 4/4 [00:01<00:00,  2.59it/s]\n"
     ]
    },
    {
     "name": "stdout",
     "output_type": "stream",
     "text": [
      "Training losses: MAE = 0.4165643264088407, MSE = 0.37862627071265886\n",
      "Validation losses: MAE = 1.0756999124848452, MSE = 1.8019511949400595\n",
      "Now running epoch 53\n"
     ]
    },
    {
     "name": "stderr",
     "output_type": "stream",
     "text": [
      "Training data: 100%|███████████████████████████████████████████████████████████████████| 48/48 [00:06<00:00,  7.54it/s]\n",
      "Validation data: 100%|███████████████████████████████████████████████████████████████████| 4/4 [00:01<00:00,  2.48it/s]\n"
     ]
    },
    {
     "name": "stdout",
     "output_type": "stream",
     "text": [
      "Training losses: MAE = 0.42621955673011225, MSE = 0.40695135606728505\n",
      "Validation losses: MAE = 1.0735330054643792, MSE = 1.7986026400994792\n",
      "Now running epoch 54\n"
     ]
    },
    {
     "name": "stderr",
     "output_type": "stream",
     "text": [
      "Training data: 100%|███████████████████████████████████████████████████████████████████| 48/48 [00:06<00:00,  7.60it/s]\n",
      "Validation data: 100%|███████████████████████████████████████████████████████████████████| 4/4 [00:01<00:00,  2.54it/s]\n"
     ]
    },
    {
     "name": "stdout",
     "output_type": "stream",
     "text": [
      "Training losses: MAE = 0.4095679422368425, MSE = 0.35679271610026353\n",
      "Validation losses: MAE = 1.0988344711773512, MSE = 1.8539616283462963\n",
      "Now running epoch 55\n"
     ]
    },
    {
     "name": "stderr",
     "output_type": "stream",
     "text": [
      "Training data: 100%|███████████████████████████████████████████████████████████████████| 48/48 [00:07<00:00,  6.83it/s]\n",
      "Validation data: 100%|███████████████████████████████████████████████████████████████████| 4/4 [00:01<00:00,  2.57it/s]\n"
     ]
    },
    {
     "name": "stdout",
     "output_type": "stream",
     "text": [
      "Training losses: MAE = 0.4363123339763826, MSE = 0.40728809493912904\n",
      "Validation losses: MAE = 1.1081545428978548, MSE = 1.9213578374986537\n",
      "Now running epoch 56\n"
     ]
    },
    {
     "name": "stderr",
     "output_type": "stream",
     "text": [
      "Training data: 100%|███████████████████████████████████████████████████████████████████| 48/48 [00:06<00:00,  7.71it/s]\n",
      "Validation data: 100%|███████████████████████████████████████████████████████████████████| 4/4 [00:01<00:00,  2.53it/s]\n"
     ]
    },
    {
     "name": "stdout",
     "output_type": "stream",
     "text": [
      "Training losses: MAE = 0.4263318290702898, MSE = 0.3904561562698854\n",
      "Validation losses: MAE = 1.0864137913701082, MSE = 1.828439530522969\n",
      "Now running epoch 57\n"
     ]
    },
    {
     "name": "stderr",
     "output_type": "stream",
     "text": [
      "Training data: 100%|███████████████████████████████████████████████████████████████████| 48/48 [00:06<00:00,  7.56it/s]\n",
      "Validation data: 100%|███████████████████████████████████████████████████████████████████| 4/4 [00:01<00:00,  2.56it/s]\n"
     ]
    },
    {
     "name": "stdout",
     "output_type": "stream",
     "text": [
      "Training losses: MAE = 0.3734727547640254, MSE = 0.3299804031900658\n",
      "Validation losses: MAE = 1.0816118492503817, MSE = 1.825544854182846\n",
      "Now running epoch 58\n"
     ]
    },
    {
     "name": "stderr",
     "output_type": "stream",
     "text": [
      "Training data: 100%|███████████████████████████████████████████████████████████████████| 48/48 [00:06<00:00,  7.31it/s]\n",
      "Validation data: 100%|███████████████████████████████████████████████████████████████████| 4/4 [00:01<00:00,  2.32it/s]\n"
     ]
    },
    {
     "name": "stdout",
     "output_type": "stream",
     "text": [
      "Training losses: MAE = 0.4401898232364157, MSE = 0.4582729092075462\n",
      "Validation losses: MAE = 1.0798183769703862, MSE = 1.796182809461799\n",
      "Now running epoch 59\n"
     ]
    },
    {
     "name": "stderr",
     "output_type": "stream",
     "text": [
      "Training data: 100%|███████████████████████████████████████████████████████████████████| 48/48 [00:06<00:00,  7.08it/s]\n",
      "Validation data: 100%|███████████████████████████████████████████████████████████████████| 4/4 [00:01<00:00,  2.48it/s]\n"
     ]
    },
    {
     "name": "stdout",
     "output_type": "stream",
     "text": [
      "Training losses: MAE = 0.4182148558736496, MSE = 0.37313150468676687\n",
      "Validation losses: MAE = 1.102840878400079, MSE = 1.873133859058854\n",
      "Now running epoch 60\n"
     ]
    },
    {
     "name": "stderr",
     "output_type": "stream",
     "text": [
      "Training data: 100%|███████████████████████████████████████████████████████████████████| 48/48 [00:06<00:00,  7.46it/s]\n",
      "Validation data: 100%|███████████████████████████████████████████████████████████████████| 4/4 [00:01<00:00,  2.35it/s]\n"
     ]
    },
    {
     "name": "stdout",
     "output_type": "stream",
     "text": [
      "Training losses: MAE = 0.38701091378418445, MSE = 0.3298166495223499\n",
      "Validation losses: MAE = 1.1063939656377606, MSE = 1.8607800774892387\n",
      "Now running epoch 61\n"
     ]
    },
    {
     "name": "stderr",
     "output_type": "stream",
     "text": [
      "Training data: 100%|███████████████████████████████████████████████████████████████████| 48/48 [00:06<00:00,  7.43it/s]\n",
      "Validation data: 100%|███████████████████████████████████████████████████████████████████| 4/4 [00:01<00:00,  2.46it/s]\n"
     ]
    },
    {
     "name": "stdout",
     "output_type": "stream",
     "text": [
      "Training losses: MAE = 0.4017010644748198, MSE = 0.33882993478340745\n",
      "Validation losses: MAE = 1.1029436373049917, MSE = 1.8947170256291066\n",
      "Now running epoch 62\n"
     ]
    },
    {
     "name": "stderr",
     "output_type": "stream",
     "text": [
      "Training data: 100%|███████████████████████████████████████████████████████████████████| 48/48 [00:06<00:00,  7.48it/s]\n",
      "Validation data: 100%|███████████████████████████████████████████████████████████████████| 4/4 [00:01<00:00,  2.51it/s]\n"
     ]
    },
    {
     "name": "stdout",
     "output_type": "stream",
     "text": [
      "Training losses: MAE = 0.4250832703029655, MSE = 0.38033194604285847\n",
      "Validation losses: MAE = 1.114157239210002, MSE = 1.9130361302256529\n",
      "Now running epoch 63\n"
     ]
    },
    {
     "name": "stderr",
     "output_type": "stream",
     "text": [
      "Training data: 100%|███████████████████████████████████████████████████████████████████| 48/48 [00:06<00:00,  7.36it/s]\n",
      "Validation data: 100%|███████████████████████████████████████████████████████████████████| 4/4 [00:02<00:00,  1.94it/s]\n"
     ]
    },
    {
     "name": "stdout",
     "output_type": "stream",
     "text": [
      "Training losses: MAE = 0.3966403726731164, MSE = 0.3429393665247051\n",
      "Validation losses: MAE = 1.0830599617354237, MSE = 1.8133214112640053\n",
      "Now running epoch 64\n"
     ]
    },
    {
     "name": "stderr",
     "output_type": "stream",
     "text": [
      "Training data: 100%|███████████████████████████████████████████████████████████████████| 48/48 [00:06<00:00,  7.18it/s]\n",
      "Validation data: 100%|███████████████████████████████████████████████████████████████████| 4/4 [00:01<00:00,  2.48it/s]\n"
     ]
    },
    {
     "name": "stdout",
     "output_type": "stream",
     "text": [
      "Training losses: MAE = 0.4373071917670045, MSE = 0.39173670786723686\n",
      "Validation losses: MAE = 1.0876137858501613, MSE = 1.8519299899311943\n",
      "Now running epoch 65\n"
     ]
    },
    {
     "name": "stderr",
     "output_type": "stream",
     "text": [
      "Training data: 100%|███████████████████████████████████████████████████████████████████| 48/48 [00:06<00:00,  7.62it/s]\n",
      "Validation data: 100%|███████████████████████████████████████████████████████████████████| 4/4 [00:01<00:00,  2.52it/s]\n"
     ]
    },
    {
     "name": "stdout",
     "output_type": "stream",
     "text": [
      "Training losses: MAE = 0.421601938256407, MSE = 0.36164469835977864\n",
      "Validation losses: MAE = 1.1070165865145731, MSE = 1.878255154294619\n",
      "Now running epoch 66\n"
     ]
    },
    {
     "name": "stderr",
     "output_type": "stream",
     "text": [
      "Training data: 100%|███████████████████████████████████████████████████████████████████| 48/48 [00:06<00:00,  7.32it/s]\n",
      "Validation data: 100%|███████████████████████████████████████████████████████████████████| 4/4 [00:01<00:00,  2.50it/s]\n"
     ]
    },
    {
     "name": "stdout",
     "output_type": "stream",
     "text": [
      "Training losses: MAE = 0.40897592583470277, MSE = 0.34909209536270086\n",
      "Validation losses: MAE = 1.1035034008667226, MSE = 1.858617296860178\n",
      "Now running epoch 67\n"
     ]
    },
    {
     "name": "stderr",
     "output_type": "stream",
     "text": [
      "Training data: 100%|███████████████████████████████████████████████████████████████████| 48/48 [00:06<00:00,  7.25it/s]\n",
      "Validation data: 100%|███████████████████████████████████████████████████████████████████| 4/4 [00:01<00:00,  2.12it/s]\n"
     ]
    },
    {
     "name": "stdout",
     "output_type": "stream",
     "text": [
      "Training losses: MAE = 0.40792065803165495, MSE = 0.3428448400693134\n",
      "Validation losses: MAE = 1.083627657806843, MSE = 1.8528781468790223\n",
      "Now running epoch 68\n"
     ]
    },
    {
     "name": "stderr",
     "output_type": "stream",
     "text": [
      "Training data: 100%|███████████████████████████████████████████████████████████████████| 48/48 [00:07<00:00,  6.14it/s]\n",
      "Validation data: 100%|███████████████████████████████████████████████████████████████████| 4/4 [00:01<00:00,  2.14it/s]\n"
     ]
    },
    {
     "name": "stdout",
     "output_type": "stream",
     "text": [
      "Training losses: MAE = 0.3911279529231161, MSE = 0.3571973202627542\n",
      "Validation losses: MAE = 1.1454656388179576, MSE = 1.9614444525545105\n",
      "Now running epoch 69\n"
     ]
    },
    {
     "name": "stderr",
     "output_type": "stream",
     "text": [
      "Training data: 100%|███████████████████████████████████████████████████████████████████| 48/48 [00:07<00:00,  6.43it/s]\n",
      "Validation data: 100%|███████████████████████████████████████████████████████████████████| 4/4 [00:01<00:00,  2.35it/s]\n"
     ]
    },
    {
     "name": "stdout",
     "output_type": "stream",
     "text": [
      "Training losses: MAE = 0.42651805494527023, MSE = 0.3984906223456419\n",
      "Validation losses: MAE = 1.1108334023787505, MSE = 1.8693360564394967\n",
      "Now running epoch 70\n"
     ]
    },
    {
     "name": "stderr",
     "output_type": "stream",
     "text": [
      "Training data: 100%|███████████████████████████████████████████████████████████████████| 48/48 [00:06<00:00,  7.01it/s]\n",
      "Validation data: 100%|███████████████████████████████████████████████████████████████████| 4/4 [00:01<00:00,  2.41it/s]\n"
     ]
    },
    {
     "name": "stdout",
     "output_type": "stream",
     "text": [
      "Training losses: MAE = 0.4371802795736487, MSE = 0.4149938587464824\n",
      "Validation losses: MAE = 1.1029064570428455, MSE = 1.8570542256452949\n",
      "Now running epoch 71\n"
     ]
    },
    {
     "name": "stderr",
     "output_type": "stream",
     "text": [
      "Training data: 100%|███████████████████████████████████████████████████████████████████| 48/48 [00:06<00:00,  7.19it/s]\n",
      "Validation data: 100%|███████████████████████████████████████████████████████████████████| 4/4 [00:01<00:00,  2.42it/s]\n"
     ]
    },
    {
     "name": "stdout",
     "output_type": "stream",
     "text": [
      "Training losses: MAE = 0.4093097283522168, MSE = 0.34488336539568565\n",
      "Validation losses: MAE = 1.0842615575487362, MSE = 1.8366952835016996\n",
      "Now running epoch 72\n"
     ]
    },
    {
     "name": "stderr",
     "output_type": "stream",
     "text": [
      "Training data: 100%|███████████████████████████████████████████████████████████████████| 48/48 [00:06<00:00,  7.30it/s]\n",
      "Validation data: 100%|███████████████████████████████████████████████████████████████████| 4/4 [00:01<00:00,  2.47it/s]\n"
     ]
    },
    {
     "name": "stdout",
     "output_type": "stream",
     "text": [
      "Training losses: MAE = 0.4284759793369773, MSE = 0.36537157514485036\n",
      "Validation losses: MAE = 1.1204632821816054, MSE = 1.8998756196863924\n",
      "Now running epoch 73\n"
     ]
    },
    {
     "name": "stderr",
     "output_type": "stream",
     "text": [
      "Training data: 100%|███████████████████████████████████████████████████████████████████| 48/48 [00:06<00:00,  7.00it/s]\n",
      "Validation data: 100%|███████████████████████████████████████████████████████████████████| 4/4 [00:01<00:00,  2.36it/s]\n"
     ]
    },
    {
     "name": "stdout",
     "output_type": "stream",
     "text": [
      "Training losses: MAE = 0.40739138269639447, MSE = 0.34639549050333246\n",
      "Validation losses: MAE = 1.0991057074428963, MSE = 1.8540071128370177\n",
      "Now running epoch 74\n"
     ]
    },
    {
     "name": "stderr",
     "output_type": "stream",
     "text": [
      "Training data: 100%|███████████████████████████████████████████████████████████████████| 48/48 [00:06<00:00,  6.88it/s]\n",
      "Validation data: 100%|███████████████████████████████████████████████████████████████████| 4/4 [00:01<00:00,  2.26it/s]\n"
     ]
    },
    {
     "name": "stdout",
     "output_type": "stream",
     "text": [
      "Training losses: MAE = 0.42175950313795796, MSE = 0.35632450491453116\n",
      "Validation losses: MAE = 1.1066824369505424, MSE = 1.871281956480302\n",
      "Now running epoch 75\n"
     ]
    },
    {
     "name": "stderr",
     "output_type": "stream",
     "text": [
      "Training data: 100%|███████████████████████████████████████████████████████████████████| 48/48 [00:06<00:00,  7.08it/s]\n",
      "Validation data: 100%|███████████████████████████████████████████████████████████████████| 4/4 [00:01<00:00,  2.30it/s]\n"
     ]
    },
    {
     "name": "stdout",
     "output_type": "stream",
     "text": [
      "Training losses: MAE = 0.41744298536876223, MSE = 0.37564072058145354\n",
      "Validation losses: MAE = 1.1401967027265543, MSE = 1.9504520382096324\n",
      "Now running epoch 76\n"
     ]
    },
    {
     "name": "stderr",
     "output_type": "stream",
     "text": [
      "Training data: 100%|███████████████████████████████████████████████████████████████████| 48/48 [00:06<00:00,  7.08it/s]\n",
      "Validation data: 100%|███████████████████████████████████████████████████████████████████| 4/4 [00:01<00:00,  2.30it/s]\n"
     ]
    },
    {
     "name": "stdout",
     "output_type": "stream",
     "text": [
      "Training losses: MAE = 0.4196606592718394, MSE = 0.34189025657400435\n",
      "Validation losses: MAE = 1.1043443634061405, MSE = 1.8715484899071149\n",
      "Now running epoch 77\n"
     ]
    },
    {
     "name": "stderr",
     "output_type": "stream",
     "text": [
      "Training data: 100%|███████████████████████████████████████████████████████████████████| 48/48 [00:06<00:00,  7.00it/s]\n",
      "Validation data: 100%|███████████████████████████████████████████████████████████████████| 4/4 [00:01<00:00,  2.46it/s]\n"
     ]
    },
    {
     "name": "stdout",
     "output_type": "stream",
     "text": [
      "Training losses: MAE = 0.3688738364371301, MSE = 0.31422666075095035\n",
      "Validation losses: MAE = 1.106523038314807, MSE = 1.870141189481453\n",
      "Now running epoch 78\n"
     ]
    },
    {
     "name": "stderr",
     "output_type": "stream",
     "text": [
      "Training data: 100%|███████████████████████████████████████████████████████████████████| 48/48 [00:06<00:00,  7.37it/s]\n",
      "Validation data: 100%|███████████████████████████████████████████████████████████████████| 4/4 [00:01<00:00,  2.32it/s]\n"
     ]
    },
    {
     "name": "stdout",
     "output_type": "stream",
     "text": [
      "Training losses: MAE = 0.40321453362879317, MSE = 0.3602612070087348\n",
      "Validation losses: MAE = 1.0700059161441053, MSE = 1.800496895495627\n",
      "Now running epoch 79\n"
     ]
    },
    {
     "name": "stderr",
     "output_type": "stream",
     "text": [
      "Training data: 100%|███████████████████████████████████████████████████████████████████| 48/48 [00:06<00:00,  7.18it/s]\n",
      "Validation data: 100%|███████████████████████████████████████████████████████████████████| 4/4 [00:01<00:00,  2.52it/s]\n"
     ]
    },
    {
     "name": "stdout",
     "output_type": "stream",
     "text": [
      "Training losses: MAE = 0.3734378025630784, MSE = 0.30990030355306875\n",
      "Validation losses: MAE = 1.093254319956636, MSE = 1.8526917010872836\n",
      "Now running epoch 80\n"
     ]
    },
    {
     "name": "stderr",
     "output_type": "stream",
     "text": [
      "Training data: 100%|███████████████████████████████████████████████████████████████████| 48/48 [00:06<00:00,  7.00it/s]\n",
      "Validation data: 100%|███████████████████████████████████████████████████████████████████| 4/4 [00:01<00:00,  2.20it/s]\n"
     ]
    },
    {
     "name": "stdout",
     "output_type": "stream",
     "text": [
      "Training losses: MAE = 0.385713995294648, MSE = 0.30365783546216957\n",
      "Validation losses: MAE = 1.0924225582450586, MSE = 1.8420883741572989\n",
      "Now running epoch 81\n"
     ]
    },
    {
     "name": "stderr",
     "output_type": "stream",
     "text": [
      "Training data: 100%|███████████████████████████████████████████████████████████████████| 48/48 [00:06<00:00,  6.97it/s]\n",
      "Validation data: 100%|███████████████████████████████████████████████████████████████████| 4/4 [00:01<00:00,  2.45it/s]\n"
     ]
    },
    {
     "name": "stdout",
     "output_type": "stream",
     "text": [
      "Training losses: MAE = 0.3771825363016726, MSE = 0.2968986522392681\n",
      "Validation losses: MAE = 1.099545225787858, MSE = 1.8702114510440868\n",
      "Now running epoch 82\n"
     ]
    },
    {
     "name": "stderr",
     "output_type": "stream",
     "text": [
      "Training data: 100%|███████████████████████████████████████████████████████████████████| 48/48 [00:06<00:00,  6.87it/s]\n",
      "Validation data: 100%|███████████████████████████████████████████████████████████████████| 4/4 [00:01<00:00,  2.14it/s]\n"
     ]
    },
    {
     "name": "stdout",
     "output_type": "stream",
     "text": [
      "Training losses: MAE = 0.35438136134714115, MSE = 0.2524273647122656\n",
      "Validation losses: MAE = 1.1195425358175926, MSE = 1.9156791128387336\n",
      "Now running epoch 83\n"
     ]
    },
    {
     "name": "stderr",
     "output_type": "stream",
     "text": [
      "Training data: 100%|███████████████████████████████████████████████████████████████████| 48/48 [00:06<00:00,  6.95it/s]\n",
      "Validation data: 100%|███████████████████████████████████████████████████████████████████| 4/4 [00:01<00:00,  2.53it/s]\n"
     ]
    },
    {
     "name": "stdout",
     "output_type": "stream",
     "text": [
      "Training losses: MAE = 0.3684250846264271, MSE = 0.28617287710512057\n",
      "Validation losses: MAE = 1.102440491123864, MSE = 1.8722893709497803\n",
      "Now running epoch 84\n"
     ]
    },
    {
     "name": "stderr",
     "output_type": "stream",
     "text": [
      "Training data: 100%|███████████████████████████████████████████████████████████████████| 48/48 [00:06<00:00,  7.66it/s]\n",
      "Validation data: 100%|███████████████████████████████████████████████████████████████████| 4/4 [00:01<00:00,  2.39it/s]\n"
     ]
    },
    {
     "name": "stdout",
     "output_type": "stream",
     "text": [
      "Training losses: MAE = 0.38030910813374835, MSE = 0.3089622954867781\n",
      "Validation losses: MAE = 1.0797765917068423, MSE = 1.812195102815057\n",
      "Now running epoch 85\n"
     ]
    },
    {
     "name": "stderr",
     "output_type": "stream",
     "text": [
      "Training data: 100%|███████████████████████████████████████████████████████████████████| 48/48 [00:06<00:00,  7.49it/s]\n",
      "Validation data: 100%|███████████████████████████████████████████████████████████████████| 4/4 [00:01<00:00,  2.44it/s]\n"
     ]
    },
    {
     "name": "stdout",
     "output_type": "stream",
     "text": [
      "Training losses: MAE = 0.4142207610225418, MSE = 0.37839907566806125\n",
      "Validation losses: MAE = 1.0727805913758806, MSE = 1.8181078383667006\n",
      "Now running epoch 86\n"
     ]
    },
    {
     "name": "stderr",
     "output_type": "stream",
     "text": [
      "Training data: 100%|███████████████████████████████████████████████████████████████████| 48/48 [00:06<00:00,  7.36it/s]\n",
      "Validation data: 100%|███████████████████████████████████████████████████████████████████| 4/4 [00:01<00:00,  2.23it/s]\n"
     ]
    },
    {
     "name": "stdout",
     "output_type": "stream",
     "text": [
      "Training losses: MAE = 0.3515348741558464, MSE = 0.2706586440033798\n",
      "Validation losses: MAE = 1.0730865471062199, MSE = 1.8290591677368726\n",
      "Now running epoch 87\n"
     ]
    },
    {
     "name": "stderr",
     "output_type": "stream",
     "text": [
      "Training data: 100%|███████████████████████████████████████████████████████████████████| 48/48 [00:07<00:00,  6.83it/s]\n",
      "Validation data: 100%|███████████████████████████████████████████████████████████████████| 4/4 [00:01<00:00,  2.12it/s]\n"
     ]
    },
    {
     "name": "stdout",
     "output_type": "stream",
     "text": [
      "Training losses: MAE = 0.41403928911108745, MSE = 0.3671110667867242\n",
      "Validation losses: MAE = 1.0972244327201186, MSE = 1.8661532519205102\n",
      "Now running epoch 88\n"
     ]
    },
    {
     "name": "stderr",
     "output_type": "stream",
     "text": [
      "Training data: 100%|███████████████████████████████████████████████████████████████████| 48/48 [00:07<00:00,  6.37it/s]\n",
      "Validation data: 100%|███████████████████████████████████████████████████████████████████| 4/4 [00:01<00:00,  2.27it/s]\n"
     ]
    },
    {
     "name": "stdout",
     "output_type": "stream",
     "text": [
      "Training losses: MAE = 0.3865194128197231, MSE = 0.34505573932051364\n",
      "Validation losses: MAE = 1.1006882845549437, MSE = 1.8761989982075116\n",
      "Now running epoch 89\n"
     ]
    },
    {
     "name": "stderr",
     "output_type": "stream",
     "text": [
      "Training data: 100%|███████████████████████████████████████████████████████████████████| 48/48 [00:07<00:00,  6.58it/s]\n",
      "Validation data: 100%|███████████████████████████████████████████████████████████████████| 4/4 [00:01<00:00,  2.19it/s]\n"
     ]
    },
    {
     "name": "stdout",
     "output_type": "stream",
     "text": [
      "Training losses: MAE = 0.3801025823785835, MSE = 0.3081613139956922\n",
      "Validation losses: MAE = 1.0862706396750794, MSE = 1.8455461105952549\n",
      "Now running epoch 90\n"
     ]
    },
    {
     "name": "stderr",
     "output_type": "stream",
     "text": [
      "Training data: 100%|███████████████████████████████████████████████████████████████████| 48/48 [00:07<00:00,  6.83it/s]\n",
      "Validation data: 100%|███████████████████████████████████████████████████████████████████| 4/4 [00:02<00:00,  1.81it/s]\n"
     ]
    },
    {
     "name": "stdout",
     "output_type": "stream",
     "text": [
      "Training losses: MAE = 0.40881790291413433, MSE = 0.36194421349028283\n",
      "Validation losses: MAE = 1.096099821279424, MSE = 1.859023732737109\n",
      "Now running epoch 91\n"
     ]
    },
    {
     "name": "stderr",
     "output_type": "stream",
     "text": [
      "Training data: 100%|███████████████████████████████████████████████████████████████████| 48/48 [00:07<00:00,  6.63it/s]\n",
      "Validation data: 100%|███████████████████████████████████████████████████████████████████| 4/4 [00:01<00:00,  2.44it/s]\n"
     ]
    },
    {
     "name": "stdout",
     "output_type": "stream",
     "text": [
      "Training losses: MAE = 0.41271800787779683, MSE = 0.33524830942867484\n",
      "Validation losses: MAE = 1.0784687955633696, MSE = 1.8177613821108551\n",
      "Now running epoch 92\n"
     ]
    },
    {
     "name": "stderr",
     "output_type": "stream",
     "text": [
      "Training data: 100%|███████████████████████████████████████████████████████████████████| 48/48 [00:06<00:00,  7.48it/s]\n",
      "Validation data: 100%|███████████████████████████████████████████████████████████████████| 4/4 [00:01<00:00,  2.38it/s]\n"
     ]
    },
    {
     "name": "stdout",
     "output_type": "stream",
     "text": [
      "Training losses: MAE = 0.3852489222634078, MSE = 0.3064764287863215\n",
      "Validation losses: MAE = 1.0936346456945418, MSE = 1.8688765633196633\n",
      "Now running epoch 93\n"
     ]
    },
    {
     "name": "stderr",
     "output_type": "stream",
     "text": [
      "Training data: 100%|███████████████████████████████████████████████████████████████████| 48/48 [00:06<00:00,  7.18it/s]\n",
      "Validation data: 100%|███████████████████████████████████████████████████████████████████| 4/4 [00:01<00:00,  2.37it/s]\n"
     ]
    },
    {
     "name": "stdout",
     "output_type": "stream",
     "text": [
      "Training losses: MAE = 0.37222343070343694, MSE = 0.3011055403006492\n",
      "Validation losses: MAE = 1.113681141524923, MSE = 1.9097661854403603\n",
      "Now running epoch 94\n"
     ]
    },
    {
     "name": "stderr",
     "output_type": "stream",
     "text": [
      "Training data: 100%|███████████████████████████████████████████████████████████████████| 48/48 [00:07<00:00,  6.74it/s]\n",
      "Validation data: 100%|███████████████████████████████████████████████████████████████████| 4/4 [00:01<00:00,  2.33it/s]\n"
     ]
    },
    {
     "name": "stdout",
     "output_type": "stream",
     "text": [
      "Training losses: MAE = 0.39846236688834497, MSE = 0.32301040317041907\n",
      "Validation losses: MAE = 1.0910008369126547, MSE = 1.868539533762158\n",
      "Now running epoch 95\n"
     ]
    },
    {
     "name": "stderr",
     "output_type": "stream",
     "text": [
      "Training data: 100%|███████████████████████████████████████████████████████████████████| 48/48 [00:06<00:00,  7.11it/s]\n",
      "Validation data: 100%|███████████████████████████████████████████████████████████████████| 4/4 [00:01<00:00,  2.14it/s]\n"
     ]
    },
    {
     "name": "stdout",
     "output_type": "stream",
     "text": [
      "Training losses: MAE = 0.3875630510729418, MSE = 0.30712344487534865\n",
      "Validation losses: MAE = 1.0893552789394778, MSE = 1.8496369735074458\n",
      "Now running epoch 96\n"
     ]
    },
    {
     "name": "stderr",
     "output_type": "stream",
     "text": [
      "Training data: 100%|███████████████████████████████████████████████████████████████████| 48/48 [00:06<00:00,  6.90it/s]\n",
      "Validation data: 100%|███████████████████████████████████████████████████████████████████| 4/4 [00:01<00:00,  2.35it/s]\n"
     ]
    },
    {
     "name": "stdout",
     "output_type": "stream",
     "text": [
      "Training losses: MAE = 0.46368876501277556, MSE = 0.3928584314272567\n",
      "Validation losses: MAE = 1.1303143422930035, MSE = 1.9460449773833322\n",
      "Now running epoch 97\n"
     ]
    },
    {
     "name": "stderr",
     "output_type": "stream",
     "text": [
      "Training data: 100%|███████████████████████████████████████████████████████████████████| 48/48 [00:06<00:00,  7.23it/s]\n",
      "Validation data: 100%|███████████████████████████████████████████████████████████████████| 4/4 [00:01<00:00,  2.39it/s]\n"
     ]
    },
    {
     "name": "stdout",
     "output_type": "stream",
     "text": [
      "Training losses: MAE = 0.41847369497150017, MSE = 0.36864584822300417\n",
      "Validation losses: MAE = 1.0957735686435144, MSE = 1.8504257996138178\n",
      "Now running epoch 98\n"
     ]
    },
    {
     "name": "stderr",
     "output_type": "stream",
     "text": [
      "Training data: 100%|███████████████████████████████████████████████████████████████████| 48/48 [00:06<00:00,  7.20it/s]\n",
      "Validation data: 100%|███████████████████████████████████████████████████████████████████| 4/4 [00:01<00:00,  2.37it/s]\n"
     ]
    },
    {
     "name": "stdout",
     "output_type": "stream",
     "text": [
      "Training losses: MAE = 0.39866381633765713, MSE = 0.3213931285758893\n",
      "Validation losses: MAE = 1.1341670833009458, MSE = 1.955728064893244\n",
      "Now running epoch 99\n"
     ]
    },
    {
     "name": "stderr",
     "output_type": "stream",
     "text": [
      "Training data: 100%|███████████████████████████████████████████████████████████████████| 48/48 [00:06<00:00,  6.98it/s]\n",
      "Validation data: 100%|███████████████████████████████████████████████████████████████████| 4/4 [00:01<00:00,  2.34it/s]"
     ]
    },
    {
     "name": "stdout",
     "output_type": "stream",
     "text": [
      "Training losses: MAE = 0.44427958472024964, MSE = 0.39575452316132537\n",
      "Validation losses: MAE = 1.115569856291331, MSE = 1.9151008653654604\n"
     ]
    },
    {
     "name": "stderr",
     "output_type": "stream",
     "text": [
      "\n"
     ]
    }
   ],
   "source": [
    "epochs = 100\n",
    "print(f\"Training for {epochs} epochs\")\n",
    "\n",
    "# training loop\n",
    "train_mae_loss_list = []\n",
    "train_mse_loss_list = []\n",
    "val_mae_loss_list = []\n",
    "val_mse_loss_list = []\n",
    "best_mae = 1000000\n",
    "for epoch in range(epochs):\n",
    "    print(f\"Now running epoch {epoch}\")\n",
    "    #Iterate through training dataset\n",
    "    train_mae_loss = 0\n",
    "    train_mse_loss = 0\n",
    "    val_mae_loss = 0\n",
    "    val_mse_loss = 0\n",
    "    model.train()\n",
    "    for image, label in tqdm(train_loader,desc=\"Training data: \"):\n",
    "        # Send variables to device\n",
    "        image = image.to(device)\n",
    "        label = label.to(device)\n",
    "        # Zero gradients\n",
    "        optimizer.zero_grad()\n",
    "        # Predict values\n",
    "        pred = model(image)\n",
    "        # Compute loss\n",
    "        loss = criterion(pred.squeeze(),label)\n",
    "        # Backpropagate\n",
    "        loss.backward()\n",
    "        # Update parameters\n",
    "        optimizer.step()\n",
    "        # Move variables to cpu\n",
    "        pred = pred.cpu().detach()\n",
    "        label = label.cpu().detach()\n",
    "        # Compute losses\n",
    "        train_mae_loss += mean_absolute_error(pred,label)*image.shape[0]\n",
    "        train_mse_loss += mean_squared_error(pred,label)*image.shape[0]\n",
    "    train_mae_loss /= len(train_data)\n",
    "    train_mse_loss /= len(train_data)\n",
    "    model.eval()\n",
    "    # Run validation dataset\n",
    "    for image, label in tqdm(val_loader,desc=\"Validation data: \"):\n",
    "        # Send variables to device\n",
    "        image = image.to(device)\n",
    "        label = label.to(device)\n",
    "        # Run model\n",
    "        pred = model(image)\n",
    "        # Move variables to cpu\n",
    "        pred = pred.cpu().detach()\n",
    "        label = label.cpu().detach()\n",
    "        # Compute loss\n",
    "        val_mae_loss += mean_absolute_error(pred,label)*image.shape[0]\n",
    "        val_mse_loss += mean_squared_error(pred,label)*image.shape[0]\n",
    "    val_mae_loss /= len(val_data)\n",
    "    val_mse_loss /= len(val_data)\n",
    "    print(f\"Training losses: MAE = {train_mae_loss}, MSE = {train_mse_loss}\")\n",
    "    print(f\"Validation losses: MAE = {val_mae_loss}, MSE = {val_mse_loss}\")\n",
    "    train_mae_loss_list.append(train_mae_loss)\n",
    "    train_mse_loss_list.append(train_mse_loss)\n",
    "    val_mae_loss_list.append(val_mae_loss)\n",
    "    val_mse_loss_list.append(val_mse_loss)\n",
    "    scheduler.step()\n",
    "    # Checkpoint best model\n",
    "    if val_mae_loss < best_mae:\n",
    "        best_mae = val_mae_loss\n",
    "        torch.save(model, f\"best_resnext_model.pt\")"
   ]
  },
  {
   "cell_type": "code",
   "execution_count": 25,
   "id": "0757ba20",
   "metadata": {},
   "outputs": [],
   "source": [
    "# Load best performing model\n",
    "model = torch.load(\"best_resnext_model.pt\")"
   ]
  },
  {
   "cell_type": "code",
   "execution_count": 26,
   "id": "7dc7bad6",
   "metadata": {},
   "outputs": [
    {
     "name": "stderr",
     "output_type": "stream",
     "text": [
      "test data: 100%|█████████████████████████████████████████████████████████████████████████| 4/4 [00:01<00:00,  2.19it/s]"
     ]
    },
    {
     "name": "stdout",
     "output_type": "stream",
     "text": [
      "Test loss: MAE = 0.9456314391860562, MSE = 1.6957350191619285\n"
     ]
    },
    {
     "name": "stderr",
     "output_type": "stream",
     "text": [
      "\n"
     ]
    }
   ],
   "source": [
    "model.eval()\n",
    "# Run testing loop\n",
    "test_mae_loss = 0\n",
    "test_mse_loss = 0\n",
    "for image, label in tqdm(test_loader,desc=\"test data: \"):\n",
    "    # Send variables to device\n",
    "    image = image.to(device)\n",
    "    label = label.to(device)\n",
    "    # Run model\n",
    "    pred = model(image)\n",
    "    # Move variables to cpu\n",
    "    pred = pred.cpu().detach()\n",
    "    label = label.cpu().detach()\n",
    "    # Compute loss\n",
    "    test_mae_loss += mean_absolute_error(pred,label)*image.shape[0]\n",
    "    test_mse_loss += mean_squared_error(pred,label)*image.shape[0]\n",
    "test_mae_loss /= len(test_data)\n",
    "test_mse_loss /= len(test_data)\n",
    "print(f\"Test loss: MAE = {test_mae_loss}, MSE = {test_mse_loss}\")"
   ]
  },
  {
   "cell_type": "code",
   "execution_count": 27,
   "id": "e22538e5",
   "metadata": {},
   "outputs": [
    {
     "data": {
      "text/plain": [
       "<matplotlib.legend.Legend at 0x1947aa9a250>"
      ]
     },
     "execution_count": 27,
     "metadata": {},
     "output_type": "execute_result"
    },
    {
     "data": {
      "image/png": "[encoded data removed]",
      "text/plain": [
       "<Figure size 432x288 with 1 Axes>"
      ]
     },
     "metadata": {
      "needs_background": "light"
     },
     "output_type": "display_data"
    }
   ],
   "source": [
    "plt.figure()\n",
    "plt.plot(range(1,101),train_mae_loss_list,'-r',label=\"Training data\")\n",
    "plt.plot(range(1,101),val_mae_loss_list,'-g',label=\"Validation data\")\n",
    "plt.gca().set_xlabel(\"Epochs\")\n",
    "plt.gca().set_ylabel(\"log10 Mean Absolute Error\")\n",
    "plt.gca().set_title(\"log10 MAE Loss\")\n",
    "plt.legend()"
   ]
  },
  {
   "cell_type": "code",
   "execution_count": 28,
   "id": "b93a998d",
   "metadata": {},
   "outputs": [
    {
     "data": {
      "text/plain": [
       "<matplotlib.legend.Legend at 0x1947b031f10>"
      ]
     },
     "execution_count": 28,
     "metadata": {},
     "output_type": "execute_result"
    },
    {
     "data": {
      "image/png": "[encoded data removed]",
      "text/plain": [
       "<Figure size 432x288 with 1 Axes>"
      ]
     },
     "metadata": {
      "needs_background": "light"
     },
     "output_type": "display_data"
    }
   ],
   "source": [
    "plt.figure()\n",
    "plt.plot(range(1,101),train_mse_loss_list,'-r',label=\"Training data\")\n",
    "plt.plot(range(1,101),val_mse_loss_list,'-g',label=\"Validation data\")\n",
    "plt.gca().set_xlabel(\"Epochs\")\n",
    "plt.gca().set_ylabel(\"log10 Mean Squared Error\")\n",
    "plt.gca().set_title(\"log10 MSE Loss\")\n",
    "plt.legend()"
   ]
  },
  {
   "cell_type": "code",
   "execution_count": 29,
   "id": "bc12b752",
   "metadata": {},
   "outputs": [],
   "source": [
    "def abs_err(x,y):\n",
    "    return np.abs(x-y)\n",
    "def reg_err(x,y):\n",
    "    return x-y"
   ]
  },
  {
   "cell_type": "code",
   "execution_count": 43,
   "id": "201db4fb",
   "metadata": {},
   "outputs": [
    {
     "name": "stderr",
     "output_type": "stream",
     "text": [
      "Train data: 100%|██████████████████████████████████████████████████████████████████████| 48/48 [00:05<00:00,  9.33it/s]\n"
     ]
    }
   ],
   "source": [
    "# Evaluate training distribution\n",
    "model.eval()\n",
    "train_mae_loss = []\n",
    "train_reg_loss = []\n",
    "train_pred = []\n",
    "train_label = []\n",
    "for image, label in tqdm(train_loader,desc=\"Train data: \"):\n",
    "    # Send variables to device\n",
    "    image = image.to(device)\n",
    "    label = label.to(device)\n",
    "    # Run model\n",
    "    pred = model(image)\n",
    "    # Move variables to cpu\n",
    "    pred = pred.cpu().squeeze().detach()\n",
    "    label = label.cpu().squeeze().detach()\n",
    "#     print(pred.shape)\n",
    "#     print(abs_err(pred,label))\n",
    "    # Compute loss\n",
    "    train_mae_loss = np.concatenate((train_mae_loss, abs_err(pred,label)))\n",
    "    train_reg_loss = np.concatenate((train_reg_loss, reg_err(pred,label)))\n",
    "    train_pred = np.concatenate((train_pred,pred))\n",
    "    train_label = np.concatenate((train_label,label))"
   ]
  },
  {
   "cell_type": "code",
   "execution_count": 44,
   "id": "44b94cbe",
   "metadata": {},
   "outputs": [
    {
     "data": {
      "text/plain": [
       "Text(0.5, 0, 'log10 absolute error')"
      ]
     },
     "execution_count": 44,
     "metadata": {},
     "output_type": "execute_result"
    },
    {
     "data": {
      "image/png": "[encoded data removed]",
      "text/plain": [
       "<Figure size 432x288 with 1 Axes>"
      ]
     },
     "metadata": {
      "needs_background": "light"
     },
     "output_type": "display_data"
    }
   ],
   "source": [
    "# Plot absolute error (log) distribution for model\n",
    "sns.histplot(train_mae_loss)#, kde=True)\n",
    "plt.gca().set_title(\"Training data log10 absolute error distribution\")\n",
    "plt.gca().set_xlabel(\"log10 absolute error\")"
   ]
  },
  {
   "cell_type": "code",
   "execution_count": 45,
   "id": "b1688a24",
   "metadata": {},
   "outputs": [
    {
     "data": {
      "text/plain": [
       "Text(0.5, 0, 'log10 error')"
      ]
     },
     "execution_count": 45,
     "metadata": {},
     "output_type": "execute_result"
    },
    {
     "data": {
      "image/png": "[encoded data removed]",
      "text/plain": [
       "<Figure size 432x288 with 1 Axes>"
      ]
     },
     "metadata": {
      "needs_background": "light"
     },
     "output_type": "display_data"
    }
   ],
   "source": [
    "sns.histplot(train_reg_loss)#, kde=True)\n",
    "plt.gca().set_title(\"Training data log10 error distribution\")\n",
    "plt.gca().set_xlabel(\"log10 error\")"
   ]
  },
  {
   "cell_type": "code",
   "execution_count": 70,
   "id": "b1d83d57",
   "metadata": {},
   "outputs": [
    {
     "data": {
      "text/plain": [
       "[<matplotlib.lines.Line2D at 0x1942d827220>]"
      ]
     },
     "execution_count": 70,
     "metadata": {},
     "output_type": "execute_result"
    },
    {
     "data": {
      "image/png": "[encoded data removed]",
      "text/plain": [
       "<Figure size 600x400 with 1 Axes>"
      ]
     },
     "metadata": {
      "needs_background": "light"
     },
     "output_type": "display_data"
    }
   ],
   "source": [
    "plt.figure(dpi=100)\n",
    "plt.scatter(train_label,train_pred, s=2)\n",
    "plt.gca().set_box_aspect(1)\n",
    "plt.gca().set_xlim(0,10)\n",
    "plt.gca().set_ylim(0,10)\n",
    "plt.gca().set_xlabel(\"Actual\")\n",
    "plt.gca().set_ylabel(\"Predicted\")\n",
    "plt.gca().set_title(\"Training data\")\n",
    "xpoints = ypoints = plt.gca().get_xlim()\n",
    "plt.gca().plot(xpoints, ypoints, linestyle='-', color='k', lw=1, scalex=False, scaley=False)"
   ]
  },
  {
   "cell_type": "code",
   "execution_count": 54,
   "id": "1fbae089",
   "metadata": {},
   "outputs": [
    {
     "name": "stderr",
     "output_type": "stream",
     "text": [
      "Validation data: 100%|███████████████████████████████████████████████████████████████████| 4/4 [00:02<00:00,  1.99it/s]\n"
     ]
    }
   ],
   "source": [
    "# Evaluate validation distribution\n",
    "model.eval()\n",
    "val_mae_loss = []\n",
    "val_reg_loss = []\n",
    "val_pred = []\n",
    "val_label = []\n",
    "for image, label in tqdm(val_loader,desc=\"Validation data: \"):\n",
    "    # Send variables to device\n",
    "    image = image.to(device)\n",
    "    label = label.to(device)\n",
    "    # Run model\n",
    "    pred = model(image)\n",
    "    # Move variables to cpu\n",
    "    pred = pred.cpu().squeeze().detach()\n",
    "    label = label.cpu().squeeze().detach()\n",
    "#     print(pred.shape)\n",
    "#     print(abs_err(pred,label))\n",
    "    # Compute loss\n",
    "    val_mae_loss = np.concatenate((val_mae_loss, abs_err(pred,label)))\n",
    "    val_reg_loss = np.concatenate((val_reg_loss, reg_err(pred,label)))\n",
    "    val_pred = np.concatenate((val_pred,pred))\n",
    "    val_label = np.concatenate((val_label,label))"
   ]
  },
  {
   "cell_type": "code",
   "execution_count": 55,
   "id": "0d8a0cc2",
   "metadata": {},
   "outputs": [
    {
     "data": {
      "text/plain": [
       "Text(0.5, 0, 'log10 absolute error')"
      ]
     },
     "execution_count": 55,
     "metadata": {},
     "output_type": "execute_result"
    },
    {
     "data": {
      "image/png": "[encoded data removed]",
      "text/plain": [
       "<Figure size 432x288 with 1 Axes>"
      ]
     },
     "metadata": {
      "needs_background": "light"
     },
     "output_type": "display_data"
    }
   ],
   "source": [
    "sns.histplot(val_mae_loss)\n",
    "plt.gca().set_title(\"Validation data log10 absolute error distribution\")\n",
    "plt.gca().set_xlabel(\"log10 absolute error\")"
   ]
  },
  {
   "cell_type": "code",
   "execution_count": 56,
   "id": "2cdaef47",
   "metadata": {},
   "outputs": [
    {
     "data": {
      "text/plain": [
       "Text(0.5, 0, 'log10 error')"
      ]
     },
     "execution_count": 56,
     "metadata": {},
     "output_type": "execute_result"
    },
    {
     "data": {
      "image/png": "[encoded data removed]",
      "text/plain": [
       "<Figure size 432x288 with 1 Axes>"
      ]
     },
     "metadata": {
      "needs_background": "light"
     },
     "output_type": "display_data"
    }
   ],
   "source": [
    "sns.histplot(val_reg_loss)\n",
    "plt.gca().set_title(\"Validation data log10 error distribution\")\n",
    "plt.gca().set_xlabel(\"log10 error\")"
   ]
  },
  {
   "cell_type": "code",
   "execution_count": 71,
   "id": "e5ecb3ef",
   "metadata": {},
   "outputs": [
    {
     "data": {
      "text/plain": [
       "[<matplotlib.lines.Line2D at 0x19430265370>]"
      ]
     },
     "execution_count": 71,
     "metadata": {},
     "output_type": "execute_result"
    },
    {
     "data": {
      "image/png": "[encoded data removed]",
      "text/plain": [
       "<Figure size 600x400 with 1 Axes>"
      ]
     },
     "metadata": {
      "needs_background": "light"
     },
     "output_type": "display_data"
    }
   ],
   "source": [
    "plt.figure(dpi=100)\n",
    "plt.scatter(val_label, val_pred, s=2)\n",
    "plt.gca().set_box_aspect(1)\n",
    "plt.gca().set_xlim(0,10)\n",
    "plt.gca().set_ylim(0,10)\n",
    "plt.gca().set_xlabel(\"Actual\")\n",
    "plt.gca().set_ylabel(\"Predicted\")\n",
    "plt.gca().set_title(\"Validation data\")\n",
    "xpoints = ypoints = plt.gca().get_xlim()\n",
    "plt.gca().plot(xpoints, ypoints, linestyle='-', color='k', lw=1, scalex=False, scaley=False)"
   ]
  },
  {
   "cell_type": "code",
   "execution_count": 66,
   "id": "af80778c",
   "metadata": {},
   "outputs": [
    {
     "name": "stderr",
     "output_type": "stream",
     "text": [
      "Test data: 100%|█████████████████████████████████████████████████████████████████████████| 4/4 [00:01<00:00,  2.09it/s]\n"
     ]
    }
   ],
   "source": [
    "# Evaluate test distribution\n",
    "model.eval()\n",
    "test_mae_loss = []\n",
    "test_reg_loss = []\n",
    "test_pred = []\n",
    "test_label = []\n",
    "for image, label in tqdm(test_loader,desc=\"Test data: \"):\n",
    "    # Send variables to device\n",
    "    image = image.to(device)\n",
    "    label = label.to(device)\n",
    "    # Run model\n",
    "    pred = model(image)\n",
    "    # Move variables to cpu\n",
    "    pred = pred.cpu().squeeze().detach()\n",
    "    label = label.cpu().squeeze().detach()\n",
    "#     print(pred.shape)\n",
    "#     print(abs_err(pred,label))\n",
    "    # Compute loss\n",
    "    test_mae_loss = np.concatenate((test_mae_loss, abs_err(pred,label)))\n",
    "    test_reg_loss = np.concatenate((test_reg_loss, reg_err(pred,label)))\n",
    "    test_pred = np.concatenate((test_pred,pred))\n",
    "    test_label = np.concatenate((test_label,label))"
   ]
  },
  {
   "cell_type": "code",
   "execution_count": 67,
   "id": "63261a57",
   "metadata": {},
   "outputs": [
    {
     "data": {
      "text/plain": [
       "Text(0.5, 0, 'log10 absolute error')"
      ]
     },
     "execution_count": 67,
     "metadata": {},
     "output_type": "execute_result"
    },
    {
     "data": {
      "image/png": "[encoded data removed]",
      "text/plain": [
       "<Figure size 432x288 with 1 Axes>"
      ]
     },
     "metadata": {
      "needs_background": "light"
     },
     "output_type": "display_data"
    }
   ],
   "source": [
    "sns.histplot(test_mae_loss)\n",
    "plt.gca().set_title(\"Test data log10 absolute error distribution\")\n",
    "plt.gca().set_xlabel(\"log10 absolute error\")"
   ]
  },
  {
   "cell_type": "code",
   "execution_count": 68,
   "id": "b4893e06",
   "metadata": {},
   "outputs": [
    {
     "data": {
      "text/plain": [
       "Text(0.5, 0, 'log10 error')"
      ]
     },
     "execution_count": 68,
     "metadata": {},
     "output_type": "execute_result"
    },
    {
     "data": {
      "image/png": "[encoded data removed]",
      "text/plain": [
       "<Figure size 432x288 with 1 Axes>"
      ]
     },
     "metadata": {
      "needs_background": "light"
     },
     "output_type": "display_data"
    }
   ],
   "source": [
    "sns.histplot(test_reg_loss)\n",
    "plt.gca().set_title(\"Test data log10 error distribution\")\n",
    "plt.gca().set_xlabel(\"log10 error\")"
   ]
  },
  {
   "cell_type": "code",
   "execution_count": 72,
   "id": "6a06127a",
   "metadata": {},
   "outputs": [
    {
     "data": {
      "text/plain": [
       "[<matplotlib.lines.Line2D at 0x194302bf970>]"
      ]
     },
     "execution_count": 72,
     "metadata": {},
     "output_type": "execute_result"
    },
    {
     "data": {
      "image/png": "[encoded data removed]",
      "text/plain": [
       "<Figure size 600x400 with 1 Axes>"
      ]
     },
     "metadata": {
      "needs_background": "light"
     },
     "output_type": "display_data"
    }
   ],
   "source": [
    "plt.figure(dpi=100)\n",
    "plt.scatter(test_label, test_pred, s=2)\n",
    "plt.gca().set_box_aspect(1)\n",
    "plt.gca().set_xlim(0,10)\n",
    "plt.gca().set_ylim(0,10)\n",
    "plt.gca().set_xlabel(\"Actual\")\n",
    "plt.gca().set_ylabel(\"Predicted\")\n",
    "plt.gca().set_title(\"Test data\")\n",
    "xpoints = ypoints = plt.gca().get_xlim()\n",
    "plt.gca().plot(xpoints, ypoints, linestyle='-', color='k', lw=1, scalex=False, scaley=False)"
   ]
  },
  {
   "cell_type": "code",
   "execution_count": null,
   "id": "93379b1d",
   "metadata": {},
   "outputs": [],
   "source": []
  }
 ],
 "metadata": {
  "kernelspec": {
   "display_name": "Python 3 (ipykernel)",
   "language": "python",
   "name": "python3"
  },
  "language_info": {
   "codemirror_mode": {
    "name": "ipython",
    "version": 3
   },
   "file_extension": ".py",
   "mimetype": "text/x-python",
   "name": "python",
   "nbconvert_exporter": "python",
   "pygments_lexer": "ipython3",
   "version": "3.9.7"
  }
 },
 "nbformat": 4,
 "nbformat_minor": 5
}
