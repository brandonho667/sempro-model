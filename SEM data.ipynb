{
 "cells": [
  {
   "cell_type": "code",
   "execution_count": 1,
   "id": "5623c66b",
   "metadata": {},
   "outputs": [],
   "source": [
    "import pandas as pd\n",
    "import numpy as np\n",
    "import seaborn as sns\n",
    "import matplotlib.pyplot as plt\n",
    "import glob\n",
    "import os\n",
    "import torch\n",
    "from torch.utils.data import Dataset, DataLoader\n",
    "from PIL import Image\n",
    "# from torchvision.transforms import ToTensor, ToPILImage\n",
    "import torchvision.transforms as transforms\n",
    "from collections import Counter\n",
    "from sklearn.model_selection import train_test_split\n",
    "from tqdm import tqdm\n",
    "from sklearn.metrics import mean_absolute_error, mean_squared_error\n",
    "import torchvision.models as models"
   ]
  },
  {
   "cell_type": "code",
   "execution_count": 2,
   "id": "b1e30452",
   "metadata": {},
   "outputs": [
    {
     "name": "stdout",
     "output_type": "stream",
     "text": [
      "(1603, 15)\n"
     ]
    },
    {
     "data": {
      "text/html": [
       "<div>\n",
       "<style scoped>\n",
       "    .dataframe tbody tr th:only-of-type {\n",
       "        vertical-align: middle;\n",
       "    }\n",
       "\n",
       "    .dataframe tbody tr th {\n",
       "        vertical-align: top;\n",
       "    }\n",
       "\n",
       "    .dataframe thead th {\n",
       "        text-align: right;\n",
       "    }\n",
       "</style>\n",
       "<table border=\"1\" class=\"dataframe\">\n",
       "  <thead>\n",
       "    <tr style=\"text-align: right;\">\n",
       "      <th></th>\n",
       "      <th>link</th>\n",
       "      <th>title</th>\n",
       "      <th>num</th>\n",
       "      <th>letter</th>\n",
       "      <th>hydrogel</th>\n",
       "      <th>sentence</th>\n",
       "      <th>figure</th>\n",
       "      <th>SEM</th>\n",
       "      <th>SEM_img</th>\n",
       "      <th>scale</th>\n",
       "      <th>modulus</th>\n",
       "      <th>measurement</th>\n",
       "      <th>modification</th>\n",
       "      <th>skip</th>\n",
       "      <th>Unnamed: 14</th>\n",
       "    </tr>\n",
       "  </thead>\n",
       "  <tbody>\n",
       "    <tr>\n",
       "      <th>0</th>\n",
       "      <td>https://pubs.acs.org/doi/10.1021/acsami.5b00184</td>\n",
       "      <td>Tough and Biocompatible Hydrogels Based on in ...</td>\n",
       "      <td>S3.</td>\n",
       "      <td>a</td>\n",
       "      <td>PVA</td>\n",
       "      <td>SEM images of the dehydrated PVA</td>\n",
       "      <td>sem/10.1021_acsami.5b00184\\supp_7.jpg</td>\n",
       "      <td>sem/10.1021_acsami.5b00184\\SEM</td>\n",
       "      <td>supp_7_SEM3.jpg</td>\n",
       "      <td>-5.0</td>\n",
       "      <td>compressive</td>\n",
       "      <td>42.3 kPa</td>\n",
       "      <td>NaN</td>\n",
       "      <td>NaN</td>\n",
       "      <td>NaN</td>\n",
       "    </tr>\n",
       "    <tr>\n",
       "      <th>1</th>\n",
       "      <td>https://pubs.acs.org/doi/10.1021/acsami.5b00185</td>\n",
       "      <td>Tough and Biocompatible Hydrogels Based on in ...</td>\n",
       "      <td>S3.</td>\n",
       "      <td>a</td>\n",
       "      <td>PVA</td>\n",
       "      <td>SEM images of the dehydrated PVA</td>\n",
       "      <td>sem/10.1021_acsami.5b00184\\supp_7.jpg</td>\n",
       "      <td>sem/10.1021_acsami.5b00184\\SEM</td>\n",
       "      <td>supp_7_SEM5.jpg</td>\n",
       "      <td>-6.0</td>\n",
       "      <td>compressive</td>\n",
       "      <td>42.3 kPa</td>\n",
       "      <td>NaN</td>\n",
       "      <td>NaN</td>\n",
       "      <td>NaN</td>\n",
       "    </tr>\n",
       "    <tr>\n",
       "      <th>2</th>\n",
       "      <td>https://pubs.acs.org/doi/10.1021/acsami.5b00186</td>\n",
       "      <td>Tough and Biocompatible Hydrogels Based on in ...</td>\n",
       "      <td>S3.</td>\n",
       "      <td>b</td>\n",
       "      <td>E-cGO0.5/PVA-2</td>\n",
       "      <td>and E-cGO/PVA-2IPN hydrogels with E-cGO   con...</td>\n",
       "      <td>sem/10.1021_acsami.5b00184\\supp_7.jpg</td>\n",
       "      <td>sem/10.1021_acsami.5b00184\\SEM</td>\n",
       "      <td>supp_7_SEM1.jpg</td>\n",
       "      <td>-5.0</td>\n",
       "      <td>compressive</td>\n",
       "      <td>60 kPa</td>\n",
       "      <td>NaN</td>\n",
       "      <td>NaN</td>\n",
       "      <td>NaN</td>\n",
       "    </tr>\n",
       "    <tr>\n",
       "      <th>3</th>\n",
       "      <td>https://pubs.acs.org/doi/10.1021/acsami.5b00187</td>\n",
       "      <td>Tough and Biocompatible Hydrogels Based on in ...</td>\n",
       "      <td>S3.</td>\n",
       "      <td>b</td>\n",
       "      <td>E-cGO0.5/PVA-2</td>\n",
       "      <td>and E-cGO/PVA-2IPN hydrogels with E-cGO   con...</td>\n",
       "      <td>sem/10.1021_acsami.5b00184\\supp_7.jpg</td>\n",
       "      <td>sem/10.1021_acsami.5b00184\\SEM</td>\n",
       "      <td>supp_7_SEM0.jpg</td>\n",
       "      <td>-6.0</td>\n",
       "      <td>compressive</td>\n",
       "      <td>60 kPa</td>\n",
       "      <td>NaN</td>\n",
       "      <td>NaN</td>\n",
       "      <td>NaN</td>\n",
       "    </tr>\n",
       "    <tr>\n",
       "      <th>4</th>\n",
       "      <td>https://pubs.acs.org/doi/10.1021/acsami.5b00188</td>\n",
       "      <td>Tough and Biocompatible Hydrogels Based on in ...</td>\n",
       "      <td>S3.</td>\n",
       "      <td>c</td>\n",
       "      <td>E-cGO1.0/PVA-2</td>\n",
       "      <td>and E-cGO/PVA-2IPN hydrogels with E-cGO   con...</td>\n",
       "      <td>sem/10.1021_acsami.5b00184\\supp_7.jpg</td>\n",
       "      <td>sem/10.1021_acsami.5b00184\\SEM</td>\n",
       "      <td>supp_7_SEM6.jpg</td>\n",
       "      <td>-5.0</td>\n",
       "      <td>compressive</td>\n",
       "      <td>60 kPa</td>\n",
       "      <td>NaN</td>\n",
       "      <td>NaN</td>\n",
       "      <td>NaN</td>\n",
       "    </tr>\n",
       "  </tbody>\n",
       "</table>\n",
       "</div>"
      ],
      "text/plain": [
       "                                              link  \\\n",
       "0  https://pubs.acs.org/doi/10.1021/acsami.5b00184   \n",
       "1  https://pubs.acs.org/doi/10.1021/acsami.5b00185   \n",
       "2  https://pubs.acs.org/doi/10.1021/acsami.5b00186   \n",
       "3  https://pubs.acs.org/doi/10.1021/acsami.5b00187   \n",
       "4  https://pubs.acs.org/doi/10.1021/acsami.5b00188   \n",
       "\n",
       "                                               title  num letter  \\\n",
       "0  Tough and Biocompatible Hydrogels Based on in ...  S3.      a   \n",
       "1  Tough and Biocompatible Hydrogels Based on in ...  S3.      a   \n",
       "2  Tough and Biocompatible Hydrogels Based on in ...  S3.      b   \n",
       "3  Tough and Biocompatible Hydrogels Based on in ...  S3.      b   \n",
       "4  Tough and Biocompatible Hydrogels Based on in ...  S3.      c   \n",
       "\n",
       "         hydrogel                                           sentence  \\\n",
       "0             PVA                   SEM images of the dehydrated PVA   \n",
       "1             PVA                   SEM images of the dehydrated PVA   \n",
       "2  E-cGO0.5/PVA-2   and E-cGO/PVA-2IPN hydrogels with E-cGO   con...   \n",
       "3  E-cGO0.5/PVA-2   and E-cGO/PVA-2IPN hydrogels with E-cGO   con...   \n",
       "4  E-cGO1.0/PVA-2   and E-cGO/PVA-2IPN hydrogels with E-cGO   con...   \n",
       "\n",
       "                                  figure                             SEM  \\\n",
       "0  sem/10.1021_acsami.5b00184\\supp_7.jpg  sem/10.1021_acsami.5b00184\\SEM   \n",
       "1  sem/10.1021_acsami.5b00184\\supp_7.jpg  sem/10.1021_acsami.5b00184\\SEM   \n",
       "2  sem/10.1021_acsami.5b00184\\supp_7.jpg  sem/10.1021_acsami.5b00184\\SEM   \n",
       "3  sem/10.1021_acsami.5b00184\\supp_7.jpg  sem/10.1021_acsami.5b00184\\SEM   \n",
       "4  sem/10.1021_acsami.5b00184\\supp_7.jpg  sem/10.1021_acsami.5b00184\\SEM   \n",
       "\n",
       "           SEM_img  scale      modulus measurement  modification skip  \\\n",
       "0  supp_7_SEM3.jpg   -5.0  compressive    42.3 kPa           NaN  NaN   \n",
       "1  supp_7_SEM5.jpg   -6.0  compressive    42.3 kPa           NaN  NaN   \n",
       "2  supp_7_SEM1.jpg   -5.0  compressive      60 kPa           NaN  NaN   \n",
       "3  supp_7_SEM0.jpg   -6.0  compressive      60 kPa           NaN  NaN   \n",
       "4  supp_7_SEM6.jpg   -5.0  compressive      60 kPa           NaN  NaN   \n",
       "\n",
       "  Unnamed: 14  \n",
       "0         NaN  \n",
       "1         NaN  \n",
       "2         NaN  \n",
       "3         NaN  \n",
       "4         NaN  "
      ]
     },
     "execution_count": 2,
     "metadata": {},
     "output_type": "execute_result"
    }
   ],
   "source": [
    "sem_df=pd.read_excel(\"SEM_Final.xlsx\")\n",
    "print(sem_df.shape)\n",
    "sem_df.head()"
   ]
  },
  {
   "cell_type": "code",
   "execution_count": 3,
   "id": "7f40302e",
   "metadata": {},
   "outputs": [
    {
     "data": {
      "text/plain": [
       "link               0\n",
       "title              0\n",
       "num                0\n",
       "letter             4\n",
       "hydrogel           0\n",
       "sentence          16\n",
       "figure             0\n",
       "SEM                0\n",
       "SEM_img          746\n",
       "scale            743\n",
       "modulus          766\n",
       "measurement      772\n",
       "modification    1603\n",
       "skip             796\n",
       "Unnamed: 14     1414\n",
       "dtype: int64"
      ]
     },
     "execution_count": 3,
     "metadata": {},
     "output_type": "execute_result"
    }
   ],
   "source": [
    "sem_df.isna().sum()"
   ]
  },
  {
   "cell_type": "code",
   "execution_count": 4,
   "id": "a0408d00",
   "metadata": {},
   "outputs": [
    {
     "name": "stdout",
     "output_type": "stream",
     "text": [
      "(0, 15)\n"
     ]
    },
    {
     "data": {
      "text/html": [
       "<div>\n",
       "<style scoped>\n",
       "    .dataframe tbody tr th:only-of-type {\n",
       "        vertical-align: middle;\n",
       "    }\n",
       "\n",
       "    .dataframe tbody tr th {\n",
       "        vertical-align: top;\n",
       "    }\n",
       "\n",
       "    .dataframe thead th {\n",
       "        text-align: right;\n",
       "    }\n",
       "</style>\n",
       "<table border=\"1\" class=\"dataframe\">\n",
       "  <thead>\n",
       "    <tr style=\"text-align: right;\">\n",
       "      <th></th>\n",
       "      <th>link</th>\n",
       "      <th>title</th>\n",
       "      <th>num</th>\n",
       "      <th>letter</th>\n",
       "      <th>hydrogel</th>\n",
       "      <th>sentence</th>\n",
       "      <th>figure</th>\n",
       "      <th>SEM</th>\n",
       "      <th>SEM_img</th>\n",
       "      <th>scale</th>\n",
       "      <th>modulus</th>\n",
       "      <th>measurement</th>\n",
       "      <th>modification</th>\n",
       "      <th>skip</th>\n",
       "      <th>Unnamed: 14</th>\n",
       "    </tr>\n",
       "  </thead>\n",
       "  <tbody>\n",
       "  </tbody>\n",
       "</table>\n",
       "</div>"
      ],
      "text/plain": [
       "Empty DataFrame\n",
       "Columns: [link, title, num, letter, hydrogel, sentence, figure, SEM, SEM_img, scale, modulus, measurement, modification, skip, Unnamed: 14]\n",
       "Index: []"
      ]
     },
     "execution_count": 4,
     "metadata": {},
     "output_type": "execute_result"
    }
   ],
   "source": [
    "measure_sem_df = sem_df[sem_df['skip'].isna()]\n",
    "measure_sem_df = measure_sem_df[measure_sem_df['measurement'].isna()]\n",
    "print(measure_sem_df.shape)\n",
    "measure_sem_df.to_csv(\"missing_measurement.csv\")\n",
    "measure_sem_df.head()"
   ]
  },
  {
   "cell_type": "code",
   "execution_count": 5,
   "id": "c4271d57",
   "metadata": {
    "scrolled": true
   },
   "outputs": [
    {
     "name": "stdout",
     "output_type": "stream",
     "text": [
      "793\n",
      "(793, 15)\n"
     ]
    },
    {
     "data": {
      "text/html": [
       "<div>\n",
       "<style scoped>\n",
       "    .dataframe tbody tr th:only-of-type {\n",
       "        vertical-align: middle;\n",
       "    }\n",
       "\n",
       "    .dataframe tbody tr th {\n",
       "        vertical-align: top;\n",
       "    }\n",
       "\n",
       "    .dataframe thead th {\n",
       "        text-align: right;\n",
       "    }\n",
       "</style>\n",
       "<table border=\"1\" class=\"dataframe\">\n",
       "  <thead>\n",
       "    <tr style=\"text-align: right;\">\n",
       "      <th></th>\n",
       "      <th>link</th>\n",
       "      <th>title</th>\n",
       "      <th>num</th>\n",
       "      <th>letter</th>\n",
       "      <th>hydrogel</th>\n",
       "      <th>sentence</th>\n",
       "      <th>figure</th>\n",
       "      <th>SEM</th>\n",
       "      <th>SEM_img</th>\n",
       "      <th>scale</th>\n",
       "      <th>modulus</th>\n",
       "      <th>measurement</th>\n",
       "      <th>modification</th>\n",
       "      <th>skip</th>\n",
       "      <th>Unnamed: 14</th>\n",
       "    </tr>\n",
       "  </thead>\n",
       "  <tbody>\n",
       "    <tr>\n",
       "      <th>0</th>\n",
       "      <td>https://pubs.acs.org/doi/10.1021/acsami.5b00184</td>\n",
       "      <td>Tough and Biocompatible Hydrogels Based on in ...</td>\n",
       "      <td>S3.</td>\n",
       "      <td>a</td>\n",
       "      <td>PVA</td>\n",
       "      <td>SEM images of the dehydrated PVA</td>\n",
       "      <td>sem/10.1021_acsami.5b00184\\supp_7.jpg</td>\n",
       "      <td>sem/10.1021_acsami.5b00184\\SEM</td>\n",
       "      <td>supp_7_SEM3.jpg</td>\n",
       "      <td>-5.0</td>\n",
       "      <td>compressive</td>\n",
       "      <td>42.3 kPa</td>\n",
       "      <td>NaN</td>\n",
       "      <td>NaN</td>\n",
       "      <td>NaN</td>\n",
       "    </tr>\n",
       "    <tr>\n",
       "      <th>1</th>\n",
       "      <td>https://pubs.acs.org/doi/10.1021/acsami.5b00185</td>\n",
       "      <td>Tough and Biocompatible Hydrogels Based on in ...</td>\n",
       "      <td>S3.</td>\n",
       "      <td>a</td>\n",
       "      <td>PVA</td>\n",
       "      <td>SEM images of the dehydrated PVA</td>\n",
       "      <td>sem/10.1021_acsami.5b00184\\supp_7.jpg</td>\n",
       "      <td>sem/10.1021_acsami.5b00184\\SEM</td>\n",
       "      <td>supp_7_SEM5.jpg</td>\n",
       "      <td>-6.0</td>\n",
       "      <td>compressive</td>\n",
       "      <td>42.3 kPa</td>\n",
       "      <td>NaN</td>\n",
       "      <td>NaN</td>\n",
       "      <td>NaN</td>\n",
       "    </tr>\n",
       "    <tr>\n",
       "      <th>2</th>\n",
       "      <td>https://pubs.acs.org/doi/10.1021/acsami.5b00186</td>\n",
       "      <td>Tough and Biocompatible Hydrogels Based on in ...</td>\n",
       "      <td>S3.</td>\n",
       "      <td>b</td>\n",
       "      <td>E-cGO0.5/PVA-2</td>\n",
       "      <td>and E-cGO/PVA-2IPN hydrogels with E-cGO   con...</td>\n",
       "      <td>sem/10.1021_acsami.5b00184\\supp_7.jpg</td>\n",
       "      <td>sem/10.1021_acsami.5b00184\\SEM</td>\n",
       "      <td>supp_7_SEM1.jpg</td>\n",
       "      <td>-5.0</td>\n",
       "      <td>compressive</td>\n",
       "      <td>60 kPa</td>\n",
       "      <td>NaN</td>\n",
       "      <td>NaN</td>\n",
       "      <td>NaN</td>\n",
       "    </tr>\n",
       "    <tr>\n",
       "      <th>3</th>\n",
       "      <td>https://pubs.acs.org/doi/10.1021/acsami.5b00187</td>\n",
       "      <td>Tough and Biocompatible Hydrogels Based on in ...</td>\n",
       "      <td>S3.</td>\n",
       "      <td>b</td>\n",
       "      <td>E-cGO0.5/PVA-2</td>\n",
       "      <td>and E-cGO/PVA-2IPN hydrogels with E-cGO   con...</td>\n",
       "      <td>sem/10.1021_acsami.5b00184\\supp_7.jpg</td>\n",
       "      <td>sem/10.1021_acsami.5b00184\\SEM</td>\n",
       "      <td>supp_7_SEM0.jpg</td>\n",
       "      <td>-6.0</td>\n",
       "      <td>compressive</td>\n",
       "      <td>60 kPa</td>\n",
       "      <td>NaN</td>\n",
       "      <td>NaN</td>\n",
       "      <td>NaN</td>\n",
       "    </tr>\n",
       "    <tr>\n",
       "      <th>4</th>\n",
       "      <td>https://pubs.acs.org/doi/10.1021/acsami.5b00188</td>\n",
       "      <td>Tough and Biocompatible Hydrogels Based on in ...</td>\n",
       "      <td>S3.</td>\n",
       "      <td>c</td>\n",
       "      <td>E-cGO1.0/PVA-2</td>\n",
       "      <td>and E-cGO/PVA-2IPN hydrogels with E-cGO   con...</td>\n",
       "      <td>sem/10.1021_acsami.5b00184\\supp_7.jpg</td>\n",
       "      <td>sem/10.1021_acsami.5b00184\\SEM</td>\n",
       "      <td>supp_7_SEM6.jpg</td>\n",
       "      <td>-5.0</td>\n",
       "      <td>compressive</td>\n",
       "      <td>60 kPa</td>\n",
       "      <td>NaN</td>\n",
       "      <td>NaN</td>\n",
       "      <td>NaN</td>\n",
       "    </tr>\n",
       "  </tbody>\n",
       "</table>\n",
       "</div>"
      ],
      "text/plain": [
       "                                              link  \\\n",
       "0  https://pubs.acs.org/doi/10.1021/acsami.5b00184   \n",
       "1  https://pubs.acs.org/doi/10.1021/acsami.5b00185   \n",
       "2  https://pubs.acs.org/doi/10.1021/acsami.5b00186   \n",
       "3  https://pubs.acs.org/doi/10.1021/acsami.5b00187   \n",
       "4  https://pubs.acs.org/doi/10.1021/acsami.5b00188   \n",
       "\n",
       "                                               title  num letter  \\\n",
       "0  Tough and Biocompatible Hydrogels Based on in ...  S3.      a   \n",
       "1  Tough and Biocompatible Hydrogels Based on in ...  S3.      a   \n",
       "2  Tough and Biocompatible Hydrogels Based on in ...  S3.      b   \n",
       "3  Tough and Biocompatible Hydrogels Based on in ...  S3.      b   \n",
       "4  Tough and Biocompatible Hydrogels Based on in ...  S3.      c   \n",
       "\n",
       "         hydrogel                                           sentence  \\\n",
       "0             PVA                   SEM images of the dehydrated PVA   \n",
       "1             PVA                   SEM images of the dehydrated PVA   \n",
       "2  E-cGO0.5/PVA-2   and E-cGO/PVA-2IPN hydrogels with E-cGO   con...   \n",
       "3  E-cGO0.5/PVA-2   and E-cGO/PVA-2IPN hydrogels with E-cGO   con...   \n",
       "4  E-cGO1.0/PVA-2   and E-cGO/PVA-2IPN hydrogels with E-cGO   con...   \n",
       "\n",
       "                                  figure                             SEM  \\\n",
       "0  sem/10.1021_acsami.5b00184\\supp_7.jpg  sem/10.1021_acsami.5b00184\\SEM   \n",
       "1  sem/10.1021_acsami.5b00184\\supp_7.jpg  sem/10.1021_acsami.5b00184\\SEM   \n",
       "2  sem/10.1021_acsami.5b00184\\supp_7.jpg  sem/10.1021_acsami.5b00184\\SEM   \n",
       "3  sem/10.1021_acsami.5b00184\\supp_7.jpg  sem/10.1021_acsami.5b00184\\SEM   \n",
       "4  sem/10.1021_acsami.5b00184\\supp_7.jpg  sem/10.1021_acsami.5b00184\\SEM   \n",
       "\n",
       "           SEM_img  scale      modulus measurement  modification skip  \\\n",
       "0  supp_7_SEM3.jpg   -5.0  compressive    42.3 kPa           NaN  NaN   \n",
       "1  supp_7_SEM5.jpg   -6.0  compressive    42.3 kPa           NaN  NaN   \n",
       "2  supp_7_SEM1.jpg   -5.0  compressive      60 kPa           NaN  NaN   \n",
       "3  supp_7_SEM0.jpg   -6.0  compressive      60 kPa           NaN  NaN   \n",
       "4  supp_7_SEM6.jpg   -5.0  compressive      60 kPa           NaN  NaN   \n",
       "\n",
       "  Unnamed: 14  \n",
       "0         NaN  \n",
       "1         NaN  \n",
       "2         NaN  \n",
       "3         NaN  \n",
       "4         NaN  "
      ]
     },
     "execution_count": 5,
     "metadata": {},
     "output_type": "execute_result"
    }
   ],
   "source": [
    "parsed_sem_df = sem_df[sem_df['measurement'].notna()]\n",
    "parsed_sem_df = parsed_sem_df[parsed_sem_df['SEM_img'].notna()]\n",
    "print(parsed_sem_df['skip'].isna().sum())\n",
    "parsed_sem_df = parsed_sem_df[parsed_sem_df['skip'].isna()]\n",
    "print(parsed_sem_df.shape)\n",
    "parsed_sem_df.head()"
   ]
  },
  {
   "cell_type": "code",
   "execution_count": 6,
   "id": "8c85bbf0",
   "metadata": {},
   "outputs": [
    {
     "data": {
      "text/plain": [
       "Series([], Name: skip, dtype: int64)"
      ]
     },
     "execution_count": 6,
     "metadata": {},
     "output_type": "execute_result"
    }
   ],
   "source": [
    "parsed_sem_df['skip'].value_counts()"
   ]
  },
  {
   "cell_type": "code",
   "execution_count": 7,
   "id": "8191f552",
   "metadata": {},
   "outputs": [
    {
     "data": {
      "text/plain": [
       "link              0\n",
       "title             0\n",
       "num               0\n",
       "letter            4\n",
       "hydrogel          0\n",
       "sentence          8\n",
       "figure            0\n",
       "SEM               0\n",
       "SEM_img           0\n",
       "scale             4\n",
       "modulus           0\n",
       "measurement       0\n",
       "modification    793\n",
       "skip            793\n",
       "Unnamed: 14     712\n",
       "dtype: int64"
      ]
     },
     "execution_count": 7,
     "metadata": {},
     "output_type": "execute_result"
    }
   ],
   "source": [
    "parsed_sem_df.isna().sum()"
   ]
  },
  {
   "cell_type": "code",
   "execution_count": 8,
   "id": "1836e327",
   "metadata": {},
   "outputs": [
    {
     "data": {
      "text/html": [
       "<div>\n",
       "<style scoped>\n",
       "    .dataframe tbody tr th:only-of-type {\n",
       "        vertical-align: middle;\n",
       "    }\n",
       "\n",
       "    .dataframe tbody tr th {\n",
       "        vertical-align: top;\n",
       "    }\n",
       "\n",
       "    .dataframe thead th {\n",
       "        text-align: right;\n",
       "    }\n",
       "</style>\n",
       "<table border=\"1\" class=\"dataframe\">\n",
       "  <thead>\n",
       "    <tr style=\"text-align: right;\">\n",
       "      <th></th>\n",
       "      <th>link</th>\n",
       "      <th>title</th>\n",
       "      <th>num</th>\n",
       "      <th>letter</th>\n",
       "      <th>hydrogel</th>\n",
       "      <th>sentence</th>\n",
       "      <th>figure</th>\n",
       "      <th>SEM</th>\n",
       "      <th>SEM_img</th>\n",
       "      <th>scale</th>\n",
       "      <th>modulus</th>\n",
       "      <th>measurement</th>\n",
       "      <th>modification</th>\n",
       "      <th>skip</th>\n",
       "      <th>Unnamed: 14</th>\n",
       "    </tr>\n",
       "  </thead>\n",
       "  <tbody>\n",
       "  </tbody>\n",
       "</table>\n",
       "</div>"
      ],
      "text/plain": [
       "Empty DataFrame\n",
       "Columns: [link, title, num, letter, hydrogel, sentence, figure, SEM, SEM_img, scale, modulus, measurement, modification, skip, Unnamed: 14]\n",
       "Index: []"
      ]
     },
     "execution_count": 8,
     "metadata": {},
     "output_type": "execute_result"
    }
   ],
   "source": [
    "missing_sem_df = parsed_sem_df[parsed_sem_df['SEM_img'].isna()]\n",
    "# missing_sem_df.to_csv(\"missing_sem_rows.csv\")\n",
    "missing_sem_df.head(40) "
   ]
  },
  {
   "cell_type": "code",
   "execution_count": 9,
   "id": "0a178b03",
   "metadata": {},
   "outputs": [
    {
     "data": {
      "text/plain": [
       "Series([], Name: skip, dtype: int64)"
      ]
     },
     "execution_count": 9,
     "metadata": {},
     "output_type": "execute_result"
    }
   ],
   "source": [
    "missing_sem_df['skip'].value_counts()"
   ]
  },
  {
   "cell_type": "code",
   "execution_count": 10,
   "id": "52aec5fc",
   "metadata": {},
   "outputs": [],
   "source": [
    "parsed_sem_df['img_path'] = parsed_sem_df.apply(lambda x: os.path.join(x['SEM'],x['SEM_img']),axis=1)"
   ]
  },
  {
   "cell_type": "code",
   "execution_count": 11,
   "id": "e9137983",
   "metadata": {},
   "outputs": [
    {
     "data": {
      "text/plain": [
       "0          sem/10.1021_acsami.5b00184\\SEM\\supp_7_SEM3.jpg\n",
       "1          sem/10.1021_acsami.5b00184\\SEM\\supp_7_SEM5.jpg\n",
       "2          sem/10.1021_acsami.5b00184\\SEM\\supp_7_SEM1.jpg\n",
       "3          sem/10.1021_acsami.5b00184\\SEM\\supp_7_SEM0.jpg\n",
       "4          sem/10.1021_acsami.5b00184\\SEM\\supp_7_SEM6.jpg\n",
       "                              ...                        \n",
       "1598    sem/10.1021_acs.langmuir.8b02918\\SEM\\la-2018-0...\n",
       "1599    sem/10.1021_acs.langmuir.8b02918\\SEM\\la-2018-0...\n",
       "1600    sem/10.1021_acsbiomaterials.0c00143\\SEM\\ab0c00...\n",
       "1601    sem/10.1021_acsbiomaterials.0c00143\\SEM\\ab0c00...\n",
       "1602    sem/10.1021_acsbiomaterials.0c00143\\SEM\\ab0c00...\n",
       "Name: img_path, Length: 793, dtype: object"
      ]
     },
     "execution_count": 11,
     "metadata": {},
     "output_type": "execute_result"
    }
   ],
   "source": [
    "parsed_sem_df['img_path']"
   ]
  },
  {
   "cell_type": "code",
   "execution_count": 12,
   "id": "1f99fbd6",
   "metadata": {},
   "outputs": [
    {
     "data": {
      "text/plain": [
       "0        42300.0\n",
       "1        42300.0\n",
       "2        60000.0\n",
       "3        60000.0\n",
       "4        60000.0\n",
       "          ...   \n",
       "1598    157000.0\n",
       "1599    162000.0\n",
       "1600      8000.0\n",
       "1601     50000.0\n",
       "1602    120000.0\n",
       "Name: measurement, Length: 793, dtype: float64"
      ]
     },
     "execution_count": 12,
     "metadata": {},
     "output_type": "execute_result"
    }
   ],
   "source": [
    "# clean dataset to get correct labels\n",
    "parsed_sem_df['measurement']\n",
    "\n",
    "def convert_measurement(string):\n",
    "    string.replace(\" \",\"\")\n",
    "    kpa = [\"KPa\",\"kPa\", \"Kpa\", \"kpa\",\"KpA\"]\n",
    "    mpa = [\"Mpa\",\"MPa\"]\n",
    "    gpa = [\"GPa\",\"Gpa\"]\n",
    "    \n",
    "    if any(KPA in string for KPA in kpa):\n",
    "        for KPA in kpa:\n",
    "            string = string.replace(KPA,\"\")\n",
    "        string = string.strip()\n",
    "        value = float(string)\n",
    "        value *= 1000 \n",
    "    elif any(MPA in string for MPA in mpa):\n",
    "        for MPA in mpa:\n",
    "            string = string.replace(MPA,\"\")\n",
    "        string = string.strip()\n",
    "        value = float(string)\n",
    "        value *= 1000000\n",
    "    elif any(GPA in string for GPA in gpa):\n",
    "        for GPA in gpa:\n",
    "            string = string.replace(GPA,\"\")\n",
    "        string = string.strip()\n",
    "        value = float(string)\n",
    "        value *= 1000000000\n",
    "    elif \"Pa\" in string:\n",
    "        string = string.replace(\"Pa\",\"\")\n",
    "        string = string.strip()\n",
    "        value = float(string)\n",
    "    else:\n",
    "        print(string)\n",
    "        return\n",
    "    return value\n",
    "parsed_sem_df['measurement'].apply(convert_measurement)"
   ]
  },
  {
   "cell_type": "code",
   "execution_count": 13,
   "id": "4e21e56f",
   "metadata": {},
   "outputs": [],
   "source": [
    "transform = transforms.Compose(\n",
    "    [transforms.Resize(256),\n",
    "#     transforms.Grayscale(3),\n",
    "    transforms.CenterCrop(224),\n",
    "    transforms.RandomHorizontalFlip(),\n",
    "    transforms.RandomVerticalFlip(),\n",
    "    transforms.ToTensor(),\n",
    "    transforms.Normalize(0,1)\n",
    "    ]\n",
    ")\n",
    "eval_transform = transform = transforms.Compose(\n",
    "    [transforms.Resize(256),\n",
    "#     transforms.Grayscale(3),\n",
    "    transforms.CenterCrop(224),\n",
    "    transforms.ToTensor(),\n",
    "    transforms.Normalize(0,1)\n",
    "    ]\n",
    ")"
   ]
  },
  {
   "cell_type": "code",
   "execution_count": 14,
   "id": "256839a6",
   "metadata": {},
   "outputs": [
    {
     "name": "stdout",
     "output_type": "stream",
     "text": [
      "793\n",
      "(793, 16)\n",
      "Length: 793\n"
     ]
    },
    {
     "data": {
      "text/plain": [
       "<matplotlib.image.AxesImage at 0x218f1307550>"
      ]
     },
     "execution_count": 14,
     "metadata": {},
     "output_type": "execute_result"
    },
    {
     "data": {
      "image/png": "[encoded data removed]",
      "text/plain": [
       "<Figure size 432x288 with 1 Axes>"
      ]
     },
     "metadata": {
      "needs_background": "light"
     },
     "output_type": "display_data"
    }
   ],
   "source": [
    "class semDataset(Dataset):\n",
    "    def __init__(self,filepath=\"SEM_Final.xlsx\", transform = None):\n",
    "        sem_df=pd.read_excel(\"SEM_Final.xlsx\")\n",
    "        parsed_sem_df = sem_df[sem_df['measurement'].notna()]\n",
    "        parsed_sem_df = parsed_sem_df[parsed_sem_df['SEM_img'].notna()]\n",
    "        print(parsed_sem_df['skip'].isna().sum())\n",
    "        parsed_sem_df = parsed_sem_df[parsed_sem_df['skip'].isna()]\n",
    "        parsed_sem_df['img_path'] = parsed_sem_df.apply(lambda x: os.path.join(x['SEM'],x['SEM_img']),axis=1)\n",
    "        print(parsed_sem_df.shape)\n",
    "        parsed_sem_df['measurement']= parsed_sem_df['measurement'].apply(self.convert_measurement)\n",
    "        self.sem_df = parsed_sem_df\n",
    "        self.transform = transform\n",
    "    \n",
    "    def __len__(self):\n",
    "        return parsed_sem_df.shape[0]\n",
    "    \n",
    "    def convert_measurement(self,string):\n",
    "        string.replace(\" \",\"\")\n",
    "        kpa = [\"KPa\",\"kPa\", \"Kpa\", \"kpa\",\"KpA\"]\n",
    "        mpa = [\"Mpa\",\"MPa\"]\n",
    "        gpa = [\"GPa\",\"Gpa\"]\n",
    "\n",
    "        if any(KPA in string for KPA in kpa):\n",
    "            for KPA in kpa:\n",
    "                string = string.replace(KPA,\"\")\n",
    "            string = string.strip()\n",
    "            value = float(string)\n",
    "            value *= 1000 \n",
    "        elif any(MPA in string for MPA in mpa):\n",
    "            for MPA in mpa:\n",
    "                string = string.replace(MPA,\"\")\n",
    "            string = string.strip()\n",
    "            value = float(string)\n",
    "            value *= 1000000\n",
    "        elif any(GPA in string for GPA in gpa):\n",
    "            for GPA in gpa:\n",
    "                string = string.replace(GPA,\"\")\n",
    "            string = string.strip()\n",
    "            value = float(string)\n",
    "            value *= 1000000000\n",
    "        elif \"Pa\" in string:\n",
    "            string = string.replace(\"Pa\",\"\")\n",
    "            string = string.strip()\n",
    "            value = float(string)\n",
    "        else:\n",
    "            print(string)\n",
    "            return\n",
    "        return np.log10(value)\n",
    "    def __getitem__(self,index):\n",
    "        image = Image.open(self.sem_df.iloc[index][\"img_path\"])\n",
    "        label = self.sem_df.iloc[index][\"measurement\"]\n",
    "        if self.transform is not None:\n",
    "            image = self.transform(image)\n",
    "        label = torch.tensor(label)\n",
    "        return image, label\n",
    "semdata = semDataset(transform=transform)\n",
    "print(f\"Length: {len(semdata)}\")\n",
    "image, label=semdata.__getitem__(0)\n",
    "plt.imshow(image.permute(1,2,0))"
   ]
  },
  {
   "cell_type": "code",
   "execution_count": 15,
   "id": "debd4b5b",
   "metadata": {},
   "outputs": [
    {
     "name": "stdout",
     "output_type": "stream",
     "text": [
      "793\n",
      "(793, 16)\n",
      "793\n",
      "(793, 16)\n",
      "793\n",
      "(793, 16)\n",
      "Train dataset length: 475\n",
      "Validation dataset length: 159\n",
      "Test dataset length: 159\n"
     ]
    }
   ],
   "source": [
    "# Create train test split, as 60/20/20 split\n",
    "train_idx, test_idx = train_test_split(list(range(len(semdata))),test_size = 0.2, random_state=42)\n",
    "train_idx, val_idx =  train_test_split(train_idx, test_size = 0.25, random_state=42)\n",
    "train_data = torch.utils.data.Subset(semDataset(transform=transform),train_idx)\n",
    "val_data = torch.utils.data.Subset(semDataset(transform=eval_transform),val_idx)\n",
    "test_data = torch.utils.data.Subset(semDataset(transform=eval_transform),test_idx)\n",
    "print(f\"Train dataset length: {len(train_data)}\")\n",
    "print(f\"Validation dataset length: {len(val_data)}\")\n",
    "print(f\"Test dataset length: {len(test_data)}\")"
   ]
  },
  {
   "cell_type": "code",
   "execution_count": 16,
   "id": "242a8007",
   "metadata": {},
   "outputs": [],
   "source": [
    "batch_size = 10\n",
    "train_loader = DataLoader(train_data, batch_size=batch_size, \n",
    "                          shuffle=True, num_workers=0, persistent_workers=False)\n",
    "val_loader = DataLoader(val_data, batch_size=batch_size*4, \n",
    "                          shuffle=False, num_workers=0, persistent_workers=False)\n",
    "test_loader = DataLoader(test_data, batch_size=batch_size*4, \n",
    "                          shuffle=False, num_workers=0, persistent_workers=False)"
   ]
  },
  {
   "cell_type": "code",
   "execution_count": 17,
   "id": "478cac28",
   "metadata": {},
   "outputs": [
    {
     "name": "stdout",
     "output_type": "stream",
     "text": [
      "We cannot open 0 files\n",
      "Smallest resolution is (224, 224)\n",
      "Largest resolution is (224, 224)\n"
     ]
    }
   ],
   "source": [
    "resolution = []\n",
    "cannot_open = []\n",
    "low_res = []\n",
    "to_pil = transforms.ToPILImage()\n",
    "for i in range(len(semdata)):\n",
    "    try:\n",
    "        image, label=semdata.__getitem__(i)\n",
    "#         image = image.permute(1,2,0)\n",
    "        image = to_pil(image)\n",
    "        if image.size[0]<128 or image.size[1]<128:\n",
    "            low_res.append(i)\n",
    "        resolution.append(image.size)\n",
    "    except:\n",
    "        print(parsed_sem_df.iloc[i,:][\"img_path\"])\n",
    "        cannot_open.append(i)\n",
    "        print(f\"Cannot open {i}\")\n",
    "parsed_sem_df.iloc[cannot_open,:].to_csv(\"cannot_open.csv\")\n",
    "print(f\"We cannot open {len(cannot_open)} files\")\n",
    "print(f\"Smallest resolution is {min(resolution)}\")\n",
    "print(f\"Largest resolution is {max(resolution)}\")"
   ]
  },
  {
   "cell_type": "code",
   "execution_count": 18,
   "id": "a17cc1e1",
   "metadata": {},
   "outputs": [
    {
     "data": {
      "text/plain": [
       "[]"
      ]
     },
     "execution_count": 18,
     "metadata": {},
     "output_type": "execute_result"
    }
   ],
   "source": [
    "low_res"
   ]
  },
  {
   "cell_type": "code",
   "execution_count": 19,
   "id": "abd24ace",
   "metadata": {},
   "outputs": [
    {
     "data": {
      "text/plain": [
       "<matplotlib.image.AxesImage at 0x218f1877160>"
      ]
     },
     "execution_count": 19,
     "metadata": {},
     "output_type": "execute_result"
    },
    {
     "data": {
      "image/png": "[encoded data removed]",
      "text/plain": [
       "<Figure size 432x288 with 1 Axes>"
      ]
     },
     "metadata": {
      "needs_background": "light"
     },
     "output_type": "display_data"
    }
   ],
   "source": [
    "plt.imshow(semdata.__getitem__(615)[0].permute(1,2,0))"
   ]
  },
  {
   "cell_type": "code",
   "execution_count": 20,
   "id": "79cb0189",
   "metadata": {},
   "outputs": [
    {
     "data": {
      "text/plain": [
       "torch.Tensor"
      ]
     },
     "execution_count": 20,
     "metadata": {},
     "output_type": "execute_result"
    }
   ],
   "source": [
    "type(semdata.__getitem__(615)[0])"
   ]
  },
  {
   "cell_type": "code",
   "execution_count": 21,
   "id": "b8123866",
   "metadata": {},
   "outputs": [],
   "source": [
    "# Define a model\n",
    "\n",
    "class SEMPro(torch.nn.Module):\n",
    "    def __init__(self):\n",
    "        super(SEMPro,self).__init__()\n",
    "        self.cnn_block = torch.nn.Sequential(\n",
    "            torch.nn.Conv2d(1,16,kernel_size=3,stride=2),\n",
    "            torch.nn.ELU(inplace=True),\n",
    "            torch.nn.MaxPool2d(2),\n",
    "            torch.nn.BatchNorm2d(16),\n",
    "            torch.nn.Conv2d(16,8,kernel_size=3,stride=2),\n",
    "            torch.nn.ELU(inplace=True),\n",
    "            torch.nn.MaxPool2d(2),\n",
    "            torch.nn.BatchNorm2d(8)         \n",
    "        )\n",
    "        \n",
    "        self.linear_layer = torch.nn.Sequential(\n",
    "            torch.nn.LazyLinear(64),\n",
    "            torch.nn.ELU(inplace=True),\n",
    "            torch.nn.BatchNorm1d(64),\n",
    "            torch.nn.Linear(64,32),\n",
    "            torch.nn.BatchNorm1d(32),\n",
    "            torch.nn.ELU(inplace=True),\n",
    "            torch.nn.Linear(32,1)\n",
    "        )\n",
    "    \n",
    "    def forward(self, x):\n",
    "        x = self.cnn_block(x)\n",
    "#         print(x.shape)\n",
    "        x = x.view(x.size(0),-1)\n",
    "#         print(x.shape)\n",
    "        x = self.linear_layer(x)\n",
    "        return x"
   ]
  },
  {
   "cell_type": "code",
   "execution_count": 22,
   "id": "da0c0a40",
   "metadata": {},
   "outputs": [],
   "source": [
    "class SEMPro_resNext(torch.nn.Module):\n",
    "    def __init__(self,large = False, pretrained = False):\n",
    "        super(SEMPro_resNext,self).__init__()\n",
    "        if large:\n",
    "            self.model = models.resnext101_32x8d(pretrained=pretrained)\n",
    "        else:\n",
    "            self.model = models.resnext50_32x4d(pretrained=pretrained)\n",
    "        self.model.fc = torch.nn.Linear(2048,1)\n",
    "        # Change relu to elu\n",
    "        self.replace_layers(self.model, torch.nn.ReLU, torch.nn.ELU())\n",
    "    def forward(self,x):\n",
    "        x = self.model(x)\n",
    "        return x\n",
    "    ## From https://stackoverflow.com/questions/58297197/how-to-change-activation-layer-in-pytorch-pretrained-module\n",
    "    def replace_layers(self, model, old, new):\n",
    "        for n, module in model.named_children():\n",
    "            if len(list(module.children())) > 0:\n",
    "                ## compound module, go inside it\n",
    "                self.replace_layers(module, old, new)\n",
    "            if isinstance(module, old):\n",
    "                ## simple module\n",
    "                setattr(model, n, new)"
   ]
  },
  {
   "cell_type": "code",
   "execution_count": 23,
   "id": "5a224b00",
   "metadata": {},
   "outputs": [
    {
     "name": "stdout",
     "output_type": "stream",
     "text": [
      "Running on cuda\n",
      "SEMPro_resNext(\n",
      "  (model): ResNet(\n",
      "    (conv1): Conv2d(3, 64, kernel_size=(7, 7), stride=(2, 2), padding=(3, 3), bias=False)\n",
      "    (bn1): BatchNorm2d(64, eps=1e-05, momentum=0.1, affine=True, track_running_stats=True)\n",
      "    (relu): ELU(alpha=1.0)\n",
      "    (maxpool): MaxPool2d(kernel_size=3, stride=2, padding=1, dilation=1, ceil_mode=False)\n",
      "    (layer1): Sequential(\n",
      "      (0): Bottleneck(\n",
      "        (conv1): Conv2d(64, 128, kernel_size=(1, 1), stride=(1, 1), bias=False)\n",
      "        (bn1): BatchNorm2d(128, eps=1e-05, momentum=0.1, affine=True, track_running_stats=True)\n",
      "        (conv2): Conv2d(128, 128, kernel_size=(3, 3), stride=(1, 1), padding=(1, 1), groups=32, bias=False)\n",
      "        (bn2): BatchNorm2d(128, eps=1e-05, momentum=0.1, affine=True, track_running_stats=True)\n",
      "        (conv3): Conv2d(128, 256, kernel_size=(1, 1), stride=(1, 1), bias=False)\n",
      "        (bn3): BatchNorm2d(256, eps=1e-05, momentum=0.1, affine=True, track_running_stats=True)\n",
      "        (relu): ELU(alpha=1.0)\n",
      "        (downsample): Sequential(\n",
      "          (0): Conv2d(64, 256, kernel_size=(1, 1), stride=(1, 1), bias=False)\n",
      "          (1): BatchNorm2d(256, eps=1e-05, momentum=0.1, affine=True, track_running_stats=True)\n",
      "        )\n",
      "      )\n",
      "      (1): Bottleneck(\n",
      "        (conv1): Conv2d(256, 128, kernel_size=(1, 1), stride=(1, 1), bias=False)\n",
      "        (bn1): BatchNorm2d(128, eps=1e-05, momentum=0.1, affine=True, track_running_stats=True)\n",
      "        (conv2): Conv2d(128, 128, kernel_size=(3, 3), stride=(1, 1), padding=(1, 1), groups=32, bias=False)\n",
      "        (bn2): BatchNorm2d(128, eps=1e-05, momentum=0.1, affine=True, track_running_stats=True)\n",
      "        (conv3): Conv2d(128, 256, kernel_size=(1, 1), stride=(1, 1), bias=False)\n",
      "        (bn3): BatchNorm2d(256, eps=1e-05, momentum=0.1, affine=True, track_running_stats=True)\n",
      "        (relu): ELU(alpha=1.0)\n",
      "      )\n",
      "      (2): Bottleneck(\n",
      "        (conv1): Conv2d(256, 128, kernel_size=(1, 1), stride=(1, 1), bias=False)\n",
      "        (bn1): BatchNorm2d(128, eps=1e-05, momentum=0.1, affine=True, track_running_stats=True)\n",
      "        (conv2): Conv2d(128, 128, kernel_size=(3, 3), stride=(1, 1), padding=(1, 1), groups=32, bias=False)\n",
      "        (bn2): BatchNorm2d(128, eps=1e-05, momentum=0.1, affine=True, track_running_stats=True)\n",
      "        (conv3): Conv2d(128, 256, kernel_size=(1, 1), stride=(1, 1), bias=False)\n",
      "        (bn3): BatchNorm2d(256, eps=1e-05, momentum=0.1, affine=True, track_running_stats=True)\n",
      "        (relu): ELU(alpha=1.0)\n",
      "      )\n",
      "    )\n",
      "    (layer2): Sequential(\n",
      "      (0): Bottleneck(\n",
      "        (conv1): Conv2d(256, 256, kernel_size=(1, 1), stride=(1, 1), bias=False)\n",
      "        (bn1): BatchNorm2d(256, eps=1e-05, momentum=0.1, affine=True, track_running_stats=True)\n",
      "        (conv2): Conv2d(256, 256, kernel_size=(3, 3), stride=(2, 2), padding=(1, 1), groups=32, bias=False)\n",
      "        (bn2): BatchNorm2d(256, eps=1e-05, momentum=0.1, affine=True, track_running_stats=True)\n",
      "        (conv3): Conv2d(256, 512, kernel_size=(1, 1), stride=(1, 1), bias=False)\n",
      "        (bn3): BatchNorm2d(512, eps=1e-05, momentum=0.1, affine=True, track_running_stats=True)\n",
      "        (relu): ELU(alpha=1.0)\n",
      "        (downsample): Sequential(\n",
      "          (0): Conv2d(256, 512, kernel_size=(1, 1), stride=(2, 2), bias=False)\n",
      "          (1): BatchNorm2d(512, eps=1e-05, momentum=0.1, affine=True, track_running_stats=True)\n",
      "        )\n",
      "      )\n",
      "      (1): Bottleneck(\n",
      "        (conv1): Conv2d(512, 256, kernel_size=(1, 1), stride=(1, 1), bias=False)\n",
      "        (bn1): BatchNorm2d(256, eps=1e-05, momentum=0.1, affine=True, track_running_stats=True)\n",
      "        (conv2): Conv2d(256, 256, kernel_size=(3, 3), stride=(1, 1), padding=(1, 1), groups=32, bias=False)\n",
      "        (bn2): BatchNorm2d(256, eps=1e-05, momentum=0.1, affine=True, track_running_stats=True)\n",
      "        (conv3): Conv2d(256, 512, kernel_size=(1, 1), stride=(1, 1), bias=False)\n",
      "        (bn3): BatchNorm2d(512, eps=1e-05, momentum=0.1, affine=True, track_running_stats=True)\n",
      "        (relu): ELU(alpha=1.0)\n",
      "      )\n",
      "      (2): Bottleneck(\n",
      "        (conv1): Conv2d(512, 256, kernel_size=(1, 1), stride=(1, 1), bias=False)\n",
      "        (bn1): BatchNorm2d(256, eps=1e-05, momentum=0.1, affine=True, track_running_stats=True)\n",
      "        (conv2): Conv2d(256, 256, kernel_size=(3, 3), stride=(1, 1), padding=(1, 1), groups=32, bias=False)\n",
      "        (bn2): BatchNorm2d(256, eps=1e-05, momentum=0.1, affine=True, track_running_stats=True)\n",
      "        (conv3): Conv2d(256, 512, kernel_size=(1, 1), stride=(1, 1), bias=False)\n",
      "        (bn3): BatchNorm2d(512, eps=1e-05, momentum=0.1, affine=True, track_running_stats=True)\n",
      "        (relu): ELU(alpha=1.0)\n",
      "      )\n",
      "      (3): Bottleneck(\n",
      "        (conv1): Conv2d(512, 256, kernel_size=(1, 1), stride=(1, 1), bias=False)\n",
      "        (bn1): BatchNorm2d(256, eps=1e-05, momentum=0.1, affine=True, track_running_stats=True)\n",
      "        (conv2): Conv2d(256, 256, kernel_size=(3, 3), stride=(1, 1), padding=(1, 1), groups=32, bias=False)\n",
      "        (bn2): BatchNorm2d(256, eps=1e-05, momentum=0.1, affine=True, track_running_stats=True)\n",
      "        (conv3): Conv2d(256, 512, kernel_size=(1, 1), stride=(1, 1), bias=False)\n",
      "        (bn3): BatchNorm2d(512, eps=1e-05, momentum=0.1, affine=True, track_running_stats=True)\n",
      "        (relu): ELU(alpha=1.0)\n",
      "      )\n",
      "    )\n",
      "    (layer3): Sequential(\n",
      "      (0): Bottleneck(\n",
      "        (conv1): Conv2d(512, 512, kernel_size=(1, 1), stride=(1, 1), bias=False)\n",
      "        (bn1): BatchNorm2d(512, eps=1e-05, momentum=0.1, affine=True, track_running_stats=True)\n",
      "        (conv2): Conv2d(512, 512, kernel_size=(3, 3), stride=(2, 2), padding=(1, 1), groups=32, bias=False)\n",
      "        (bn2): BatchNorm2d(512, eps=1e-05, momentum=0.1, affine=True, track_running_stats=True)\n",
      "        (conv3): Conv2d(512, 1024, kernel_size=(1, 1), stride=(1, 1), bias=False)\n",
      "        (bn3): BatchNorm2d(1024, eps=1e-05, momentum=0.1, affine=True, track_running_stats=True)\n",
      "        (relu): ELU(alpha=1.0)\n",
      "        (downsample): Sequential(\n",
      "          (0): Conv2d(512, 1024, kernel_size=(1, 1), stride=(2, 2), bias=False)\n",
      "          (1): BatchNorm2d(1024, eps=1e-05, momentum=0.1, affine=True, track_running_stats=True)\n",
      "        )\n",
      "      )\n",
      "      (1): Bottleneck(\n",
      "        (conv1): Conv2d(1024, 512, kernel_size=(1, 1), stride=(1, 1), bias=False)\n",
      "        (bn1): BatchNorm2d(512, eps=1e-05, momentum=0.1, affine=True, track_running_stats=True)\n",
      "        (conv2): Conv2d(512, 512, kernel_size=(3, 3), stride=(1, 1), padding=(1, 1), groups=32, bias=False)\n",
      "        (bn2): BatchNorm2d(512, eps=1e-05, momentum=0.1, affine=True, track_running_stats=True)\n",
      "        (conv3): Conv2d(512, 1024, kernel_size=(1, 1), stride=(1, 1), bias=False)\n",
      "        (bn3): BatchNorm2d(1024, eps=1e-05, momentum=0.1, affine=True, track_running_stats=True)\n",
      "        (relu): ELU(alpha=1.0)\n",
      "      )\n",
      "      (2): Bottleneck(\n",
      "        (conv1): Conv2d(1024, 512, kernel_size=(1, 1), stride=(1, 1), bias=False)\n",
      "        (bn1): BatchNorm2d(512, eps=1e-05, momentum=0.1, affine=True, track_running_stats=True)\n",
      "        (conv2): Conv2d(512, 512, kernel_size=(3, 3), stride=(1, 1), padding=(1, 1), groups=32, bias=False)\n",
      "        (bn2): BatchNorm2d(512, eps=1e-05, momentum=0.1, affine=True, track_running_stats=True)\n",
      "        (conv3): Conv2d(512, 1024, kernel_size=(1, 1), stride=(1, 1), bias=False)\n",
      "        (bn3): BatchNorm2d(1024, eps=1e-05, momentum=0.1, affine=True, track_running_stats=True)\n",
      "        (relu): ELU(alpha=1.0)\n",
      "      )\n",
      "      (3): Bottleneck(\n",
      "        (conv1): Conv2d(1024, 512, kernel_size=(1, 1), stride=(1, 1), bias=False)\n",
      "        (bn1): BatchNorm2d(512, eps=1e-05, momentum=0.1, affine=True, track_running_stats=True)\n",
      "        (conv2): Conv2d(512, 512, kernel_size=(3, 3), stride=(1, 1), padding=(1, 1), groups=32, bias=False)\n",
      "        (bn2): BatchNorm2d(512, eps=1e-05, momentum=0.1, affine=True, track_running_stats=True)\n",
      "        (conv3): Conv2d(512, 1024, kernel_size=(1, 1), stride=(1, 1), bias=False)\n",
      "        (bn3): BatchNorm2d(1024, eps=1e-05, momentum=0.1, affine=True, track_running_stats=True)\n",
      "        (relu): ELU(alpha=1.0)\n",
      "      )\n",
      "      (4): Bottleneck(\n",
      "        (conv1): Conv2d(1024, 512, kernel_size=(1, 1), stride=(1, 1), bias=False)\n",
      "        (bn1): BatchNorm2d(512, eps=1e-05, momentum=0.1, affine=True, track_running_stats=True)\n",
      "        (conv2): Conv2d(512, 512, kernel_size=(3, 3), stride=(1, 1), padding=(1, 1), groups=32, bias=False)\n",
      "        (bn2): BatchNorm2d(512, eps=1e-05, momentum=0.1, affine=True, track_running_stats=True)\n",
      "        (conv3): Conv2d(512, 1024, kernel_size=(1, 1), stride=(1, 1), bias=False)\n",
      "        (bn3): BatchNorm2d(1024, eps=1e-05, momentum=0.1, affine=True, track_running_stats=True)\n",
      "        (relu): ELU(alpha=1.0)\n",
      "      )\n",
      "      (5): Bottleneck(\n",
      "        (conv1): Conv2d(1024, 512, kernel_size=(1, 1), stride=(1, 1), bias=False)\n",
      "        (bn1): BatchNorm2d(512, eps=1e-05, momentum=0.1, affine=True, track_running_stats=True)\n",
      "        (conv2): Conv2d(512, 512, kernel_size=(3, 3), stride=(1, 1), padding=(1, 1), groups=32, bias=False)\n",
      "        (bn2): BatchNorm2d(512, eps=1e-05, momentum=0.1, affine=True, track_running_stats=True)\n",
      "        (conv3): Conv2d(512, 1024, kernel_size=(1, 1), stride=(1, 1), bias=False)\n",
      "        (bn3): BatchNorm2d(1024, eps=1e-05, momentum=0.1, affine=True, track_running_stats=True)\n",
      "        (relu): ELU(alpha=1.0)\n",
      "      )\n",
      "    )\n",
      "    (layer4): Sequential(\n",
      "      (0): Bottleneck(\n",
      "        (conv1): Conv2d(1024, 1024, kernel_size=(1, 1), stride=(1, 1), bias=False)\n",
      "        (bn1): BatchNorm2d(1024, eps=1e-05, momentum=0.1, affine=True, track_running_stats=True)\n",
      "        (conv2): Conv2d(1024, 1024, kernel_size=(3, 3), stride=(2, 2), padding=(1, 1), groups=32, bias=False)\n",
      "        (bn2): BatchNorm2d(1024, eps=1e-05, momentum=0.1, affine=True, track_running_stats=True)\n",
      "        (conv3): Conv2d(1024, 2048, kernel_size=(1, 1), stride=(1, 1), bias=False)\n",
      "        (bn3): BatchNorm2d(2048, eps=1e-05, momentum=0.1, affine=True, track_running_stats=True)\n",
      "        (relu): ELU(alpha=1.0)\n",
      "        (downsample): Sequential(\n",
      "          (0): Conv2d(1024, 2048, kernel_size=(1, 1), stride=(2, 2), bias=False)\n",
      "          (1): BatchNorm2d(2048, eps=1e-05, momentum=0.1, affine=True, track_running_stats=True)\n",
      "        )\n",
      "      )\n",
      "      (1): Bottleneck(\n",
      "        (conv1): Conv2d(2048, 1024, kernel_size=(1, 1), stride=(1, 1), bias=False)\n",
      "        (bn1): BatchNorm2d(1024, eps=1e-05, momentum=0.1, affine=True, track_running_stats=True)\n",
      "        (conv2): Conv2d(1024, 1024, kernel_size=(3, 3), stride=(1, 1), padding=(1, 1), groups=32, bias=False)\n",
      "        (bn2): BatchNorm2d(1024, eps=1e-05, momentum=0.1, affine=True, track_running_stats=True)\n",
      "        (conv3): Conv2d(1024, 2048, kernel_size=(1, 1), stride=(1, 1), bias=False)\n",
      "        (bn3): BatchNorm2d(2048, eps=1e-05, momentum=0.1, affine=True, track_running_stats=True)\n",
      "        (relu): ELU(alpha=1.0)\n",
      "      )\n",
      "      (2): Bottleneck(\n",
      "        (conv1): Conv2d(2048, 1024, kernel_size=(1, 1), stride=(1, 1), bias=False)\n",
      "        (bn1): BatchNorm2d(1024, eps=1e-05, momentum=0.1, affine=True, track_running_stats=True)\n",
      "        (conv2): Conv2d(1024, 1024, kernel_size=(3, 3), stride=(1, 1), padding=(1, 1), groups=32, bias=False)\n",
      "        (bn2): BatchNorm2d(1024, eps=1e-05, momentum=0.1, affine=True, track_running_stats=True)\n",
      "        (conv3): Conv2d(1024, 2048, kernel_size=(1, 1), stride=(1, 1), bias=False)\n",
      "        (bn3): BatchNorm2d(2048, eps=1e-05, momentum=0.1, affine=True, track_running_stats=True)\n",
      "        (relu): ELU(alpha=1.0)\n",
      "      )\n",
      "    )\n",
      "    (avgpool): AdaptiveAvgPool2d(output_size=(1, 1))\n",
      "    (fc): Linear(in_features=2048, out_features=1, bias=True)\n",
      "  )\n",
      ")\n"
     ]
    }
   ],
   "source": [
    "model = SEMPro_resNext()\n",
    "optimizer = torch.optim.AdamW(model.parameters(), lr=5e-6, weight_decay = 0.02)\n",
    "criterion = torch.nn.L1Loss()\n",
    "scheduler = torch.optim.lr_scheduler.StepLR(optimizer, 20,gamma=0.5)\n",
    "device = torch.device(\"cuda\" if torch.cuda.is_available() else \"cpu\")\n",
    "print(f\"Running on {device}\")\n",
    "model.to(device)\n",
    "criterion.to(device)\n",
    "print(model)\n",
    "# 1/0\n",
    "# print(semdata.__getitem__(615))\n",
    "# model.eval()\n",
    "# print(model.forward(semdata.__getitem__(615)[0].unsqueeze(0).to(device)))\n",
    "# model.train()"
   ]
  },
  {
   "cell_type": "code",
   "execution_count": 24,
   "id": "23789ac3",
   "metadata": {
    "scrolled": true
   },
   "outputs": [
    {
     "name": "stdout",
     "output_type": "stream",
     "text": [
      "Training for 100 epochs\n",
      "Now running epoch 0\n"
     ]
    },
    {
     "name": "stderr",
     "output_type": "stream",
     "text": [
      "Training data: 100%|███████████████████████████████████████████████████████████████████| 48/48 [00:09<00:00,  4.85it/s]\n",
      "Validation data: 100%|███████████████████████████████████████████████████████████████████| 4/4 [00:01<00:00,  2.52it/s]\n"
     ]
    },
    {
     "name": "stdout",
     "output_type": "stream",
     "text": [
      "Training losses: MAE = 4.321938962101903, MSE = 20.46072743617723\n",
      "Validation losses: MAE = 3.605066951162045, MSE = 14.978422093959795\n",
      "Now running epoch 1\n"
     ]
    },
    {
     "name": "stderr",
     "output_type": "stream",
     "text": [
      "Training data: 100%|███████████████████████████████████████████████████████████████████| 48/48 [00:05<00:00,  8.27it/s]\n",
      "Validation data: 100%|███████████████████████████████████████████████████████████████████| 4/4 [00:01<00:00,  2.69it/s]\n"
     ]
    },
    {
     "name": "stdout",
     "output_type": "stream",
     "text": [
      "Training losses: MAE = 3.5561589899874937, MSE = 14.551875144016659\n",
      "Validation losses: MAE = 2.630416596607658, MSE = 8.956977498187522\n",
      "Now running epoch 2\n"
     ]
    },
    {
     "name": "stderr",
     "output_type": "stream",
     "text": [
      "Training data: 100%|███████████████████████████████████████████████████████████████████| 48/48 [00:05<00:00,  8.28it/s]\n",
      "Validation data: 100%|███████████████████████████████████████████████████████████████████| 4/4 [00:01<00:00,  2.70it/s]\n"
     ]
    },
    {
     "name": "stdout",
     "output_type": "stream",
     "text": [
      "Training losses: MAE = 2.2346860746870996, MSE = 6.91486441678453\n",
      "Validation losses: MAE = 1.4575993562015046, MSE = 3.4179296149265177\n",
      "Now running epoch 3\n"
     ]
    },
    {
     "name": "stderr",
     "output_type": "stream",
     "text": [
      "Training data: 100%|███████████████████████████████████████████████████████████████████| 48/48 [00:05<00:00,  8.12it/s]\n",
      "Validation data: 100%|███████████████████████████████████████████████████████████████████| 4/4 [00:01<00:00,  2.59it/s]\n"
     ]
    },
    {
     "name": "stdout",
     "output_type": "stream",
     "text": [
      "Training losses: MAE = 1.2752742612573107, MSE = 2.6505050311756837\n",
      "Validation losses: MAE = 1.149586265780497, MSE = 2.3733648974237047\n",
      "Now running epoch 4\n"
     ]
    },
    {
     "name": "stderr",
     "output_type": "stream",
     "text": [
      "Training data: 100%|███████████████████████████████████████████████████████████████████| 48/48 [00:06<00:00,  7.77it/s]\n",
      "Validation data: 100%|███████████████████████████████████████████████████████████████████| 4/4 [00:01<00:00,  2.71it/s]\n"
     ]
    },
    {
     "name": "stdout",
     "output_type": "stream",
     "text": [
      "Training losses: MAE = 1.0607006014916023, MSE = 1.8887415761233148\n",
      "Validation losses: MAE = 1.1217612827366223, MSE = 2.1529340369132144\n",
      "Now running epoch 5\n"
     ]
    },
    {
     "name": "stderr",
     "output_type": "stream",
     "text": [
      "Training data: 100%|███████████████████████████████████████████████████████████████████| 48/48 [00:05<00:00,  8.02it/s]\n",
      "Validation data: 100%|███████████████████████████████████████████████████████████████████| 4/4 [00:01<00:00,  2.73it/s]\n"
     ]
    },
    {
     "name": "stdout",
     "output_type": "stream",
     "text": [
      "Training losses: MAE = 1.0052253784672611, MSE = 1.6875224743492943\n",
      "Validation losses: MAE = 1.1277089152656863, MSE = 2.144621413265975\n",
      "Now running epoch 6\n"
     ]
    },
    {
     "name": "stderr",
     "output_type": "stream",
     "text": [
      "Training data: 100%|███████████████████████████████████████████████████████████████████| 48/48 [00:05<00:00,  8.28it/s]\n",
      "Validation data: 100%|███████████████████████████████████████████████████████████████████| 4/4 [00:01<00:00,  2.67it/s]\n"
     ]
    },
    {
     "name": "stdout",
     "output_type": "stream",
     "text": [
      "Training losses: MAE = 0.9775356249495343, MSE = 1.6315487260671988\n",
      "Validation losses: MAE = 1.0613940991450597, MSE = 1.8080151967031537\n",
      "Now running epoch 7\n"
     ]
    },
    {
     "name": "stderr",
     "output_type": "stream",
     "text": [
      "Training data: 100%|███████████████████████████████████████████████████████████████████| 48/48 [00:05<00:00,  8.06it/s]\n",
      "Validation data: 100%|███████████████████████████████████████████████████████████████████| 4/4 [00:01<00:00,  2.54it/s]\n"
     ]
    },
    {
     "name": "stdout",
     "output_type": "stream",
     "text": [
      "Training losses: MAE = 0.9315800541997821, MSE = 1.5188505584090064\n",
      "Validation losses: MAE = 1.0565288296223945, MSE = 1.7758181118519423\n",
      "Now running epoch 8\n"
     ]
    },
    {
     "name": "stderr",
     "output_type": "stream",
     "text": [
      "Training data: 100%|███████████████████████████████████████████████████████████████████| 48/48 [00:06<00:00,  7.98it/s]\n",
      "Validation data: 100%|███████████████████████████████████████████████████████████████████| 4/4 [00:01<00:00,  2.68it/s]\n"
     ]
    },
    {
     "name": "stdout",
     "output_type": "stream",
     "text": [
      "Training losses: MAE = 0.8899919564106473, MSE = 1.3985991351735019\n",
      "Validation losses: MAE = 1.0432672380634234, MSE = 1.8089327871384908\n",
      "Now running epoch 9\n"
     ]
    },
    {
     "name": "stderr",
     "output_type": "stream",
     "text": [
      "Training data: 100%|███████████████████████████████████████████████████████████████████| 48/48 [00:05<00:00,  8.12it/s]\n",
      "Validation data: 100%|███████████████████████████████████████████████████████████████████| 4/4 [00:01<00:00,  2.81it/s]\n"
     ]
    },
    {
     "name": "stdout",
     "output_type": "stream",
     "text": [
      "Training losses: MAE = 0.8554285536883774, MSE = 1.3669588143174551\n",
      "Validation losses: MAE = 1.077510610978349, MSE = 2.005332979820336\n",
      "Now running epoch 10\n"
     ]
    },
    {
     "name": "stderr",
     "output_type": "stream",
     "text": [
      "Training data: 100%|███████████████████████████████████████████████████████████████████| 48/48 [00:05<00:00,  8.11it/s]\n",
      "Validation data: 100%|███████████████████████████████████████████████████████████████████| 4/4 [00:01<00:00,  2.73it/s]\n"
     ]
    },
    {
     "name": "stdout",
     "output_type": "stream",
     "text": [
      "Training losses: MAE = 0.8166368344532748, MSE = 1.2598104539705706\n",
      "Validation losses: MAE = 1.0902021597929645, MSE = 1.91602612356177\n",
      "Now running epoch 11\n"
     ]
    },
    {
     "name": "stderr",
     "output_type": "stream",
     "text": [
      "Training data: 100%|███████████████████████████████████████████████████████████████████| 48/48 [00:06<00:00,  7.90it/s]\n",
      "Validation data: 100%|███████████████████████████████████████████████████████████████████| 4/4 [00:01<00:00,  2.54it/s]\n"
     ]
    },
    {
     "name": "stdout",
     "output_type": "stream",
     "text": [
      "Training losses: MAE = 0.8047841053699109, MSE = 1.1955211464186404\n",
      "Validation losses: MAE = 1.0921805560852642, MSE = 1.7782455889244477\n",
      "Now running epoch 12\n"
     ]
    },
    {
     "name": "stderr",
     "output_type": "stream",
     "text": [
      "Training data: 100%|███████████████████████████████████████████████████████████████████| 48/48 [00:06<00:00,  7.98it/s]\n",
      "Validation data: 100%|███████████████████████████████████████████████████████████████████| 4/4 [00:01<00:00,  2.58it/s]\n"
     ]
    },
    {
     "name": "stdout",
     "output_type": "stream",
     "text": [
      "Training losses: MAE = 0.798739687684689, MSE = 1.2023964084447\n",
      "Validation losses: MAE = 1.0597908311765831, MSE = 1.835297955900866\n",
      "Now running epoch 13\n"
     ]
    },
    {
     "name": "stderr",
     "output_type": "stream",
     "text": [
      "Training data: 100%|███████████████████████████████████████████████████████████████████| 48/48 [00:05<00:00,  8.13it/s]\n",
      "Validation data: 100%|███████████████████████████████████████████████████████████████████| 4/4 [00:01<00:00,  2.60it/s]\n"
     ]
    },
    {
     "name": "stdout",
     "output_type": "stream",
     "text": [
      "Training losses: MAE = 0.7392799031143448, MSE = 1.0528749657067946\n",
      "Validation losses: MAE = 1.0669212757317832, MSE = 1.7539618774217793\n",
      "Now running epoch 14\n"
     ]
    },
    {
     "name": "stderr",
     "output_type": "stream",
     "text": [
      "Training data: 100%|███████████████████████████████████████████████████████████████████| 48/48 [00:05<00:00,  8.06it/s]\n",
      "Validation data: 100%|███████████████████████████████████████████████████████████████████| 4/4 [00:01<00:00,  2.81it/s]\n"
     ]
    },
    {
     "name": "stdout",
     "output_type": "stream",
     "text": [
      "Training losses: MAE = 0.7517934678106096, MSE = 1.067242988508585\n",
      "Validation losses: MAE = 1.0557965174796846, MSE = 1.7565217423503627\n",
      "Now running epoch 15\n"
     ]
    },
    {
     "name": "stderr",
     "output_type": "stream",
     "text": [
      "Training data: 100%|███████████████████████████████████████████████████████████████████| 48/48 [00:05<00:00,  8.39it/s]\n",
      "Validation data: 100%|███████████████████████████████████████████████████████████████████| 4/4 [00:01<00:00,  2.93it/s]\n"
     ]
    },
    {
     "name": "stdout",
     "output_type": "stream",
     "text": [
      "Training losses: MAE = 0.6985412148117133, MSE = 0.987938440145386\n",
      "Validation losses: MAE = 1.0820897980631023, MSE = 1.8442112489832916\n",
      "Now running epoch 16\n"
     ]
    },
    {
     "name": "stderr",
     "output_type": "stream",
     "text": [
      "Training data: 100%|███████████████████████████████████████████████████████████████████| 48/48 [00:05<00:00,  8.79it/s]\n",
      "Validation data: 100%|███████████████████████████████████████████████████████████████████| 4/4 [00:01<00:00,  2.75it/s]\n"
     ]
    },
    {
     "name": "stdout",
     "output_type": "stream",
     "text": [
      "Training losses: MAE = 0.6555469527993054, MSE = 0.8910594864718531\n",
      "Validation losses: MAE = 1.057426570798785, MSE = 1.7468823057648624\n",
      "Now running epoch 17\n"
     ]
    },
    {
     "name": "stderr",
     "output_type": "stream",
     "text": [
      "Training data: 100%|███████████████████████████████████████████████████████████████████| 48/48 [00:05<00:00,  8.58it/s]\n",
      "Validation data: 100%|███████████████████████████████████████████████████████████████████| 4/4 [00:01<00:00,  3.03it/s]\n"
     ]
    },
    {
     "name": "stdout",
     "output_type": "stream",
     "text": [
      "Training losses: MAE = 0.6189724181237283, MSE = 0.8101384168587044\n",
      "Validation losses: MAE = 1.1202810419623115, MSE = 1.8935950438020654\n",
      "Now running epoch 18\n"
     ]
    },
    {
     "name": "stderr",
     "output_type": "stream",
     "text": [
      "Training data: 100%|███████████████████████████████████████████████████████████████████| 48/48 [00:05<00:00,  8.77it/s]\n",
      "Validation data: 100%|███████████████████████████████████████████████████████████████████| 4/4 [00:01<00:00,  2.87it/s]\n"
     ]
    },
    {
     "name": "stdout",
     "output_type": "stream",
     "text": [
      "Training losses: MAE = 0.5671754297764928, MSE = 0.6820776417169053\n",
      "Validation losses: MAE = 1.0679341377043055, MSE = 1.745606825067857\n",
      "Now running epoch 19\n"
     ]
    },
    {
     "name": "stderr",
     "output_type": "stream",
     "text": [
      "Training data: 100%|███████████████████████████████████████████████████████████████████| 48/48 [00:05<00:00,  8.37it/s]\n",
      "Validation data: 100%|███████████████████████████████████████████████████████████████████| 4/4 [00:01<00:00,  2.82it/s]\n"
     ]
    },
    {
     "name": "stdout",
     "output_type": "stream",
     "text": [
      "Training losses: MAE = 0.6288254425716276, MSE = 0.8123731670542547\n",
      "Validation losses: MAE = 1.0653290561595583, MSE = 1.888353877564584\n",
      "Now running epoch 20\n"
     ]
    },
    {
     "name": "stderr",
     "output_type": "stream",
     "text": [
      "Training data: 100%|███████████████████████████████████████████████████████████████████| 48/48 [00:05<00:00,  8.57it/s]\n",
      "Validation data: 100%|███████████████████████████████████████████████████████████████████| 4/4 [00:01<00:00,  2.77it/s]\n"
     ]
    },
    {
     "name": "stdout",
     "output_type": "stream",
     "text": [
      "Training losses: MAE = 0.6109423561791857, MSE = 0.72319457553633\n",
      "Validation losses: MAE = 1.0495061126824603, MSE = 1.765730343203473\n",
      "Now running epoch 21\n"
     ]
    },
    {
     "name": "stderr",
     "output_type": "stream",
     "text": [
      "Training data: 100%|███████████████████████████████████████████████████████████████████| 48/48 [00:05<00:00,  8.15it/s]\n",
      "Validation data: 100%|███████████████████████████████████████████████████████████████████| 4/4 [00:01<00:00,  2.68it/s]\n"
     ]
    },
    {
     "name": "stdout",
     "output_type": "stream",
     "text": [
      "Training losses: MAE = 0.531981972735944, MSE = 0.6163221701877942\n",
      "Validation losses: MAE = 1.0413173516320144, MSE = 1.6796513211974395\n",
      "Now running epoch 22\n"
     ]
    },
    {
     "name": "stderr",
     "output_type": "stream",
     "text": [
      "Training data: 100%|███████████████████████████████████████████████████████████████████| 48/48 [00:05<00:00,  8.39it/s]\n",
      "Validation data: 100%|███████████████████████████████████████████████████████████████████| 4/4 [00:01<00:00,  2.62it/s]\n"
     ]
    },
    {
     "name": "stdout",
     "output_type": "stream",
     "text": [
      "Training losses: MAE = 0.5033578581359535, MSE = 0.5609498022806692\n",
      "Validation losses: MAE = 1.0894958199797478, MSE = 1.8157011428106344\n",
      "Now running epoch 23\n"
     ]
    },
    {
     "name": "stderr",
     "output_type": "stream",
     "text": [
      "Training data: 100%|███████████████████████████████████████████████████████████████████| 48/48 [00:05<00:00,  8.23it/s]\n",
      "Validation data: 100%|███████████████████████████████████████████████████████████████████| 4/4 [00:01<00:00,  2.84it/s]\n"
     ]
    },
    {
     "name": "stdout",
     "output_type": "stream",
     "text": [
      "Training losses: MAE = 0.5304596084651235, MSE = 0.6073363563878206\n",
      "Validation losses: MAE = 1.036071566255886, MSE = 1.6734033013478113\n",
      "Now running epoch 24\n"
     ]
    },
    {
     "name": "stderr",
     "output_type": "stream",
     "text": [
      "Training data: 100%|███████████████████████████████████████████████████████████████████| 48/48 [00:05<00:00,  8.51it/s]\n",
      "Validation data: 100%|███████████████████████████████████████████████████████████████████| 4/4 [00:01<00:00,  2.90it/s]\n"
     ]
    },
    {
     "name": "stdout",
     "output_type": "stream",
     "text": [
      "Training losses: MAE = 0.49726332422900965, MSE = 0.5344765665792399\n",
      "Validation losses: MAE = 1.0432843773079958, MSE = 1.670805252925472\n",
      "Now running epoch 25\n"
     ]
    },
    {
     "name": "stderr",
     "output_type": "stream",
     "text": [
      "Training data: 100%|███████████████████████████████████████████████████████████████████| 48/48 [00:05<00:00,  8.54it/s]\n",
      "Validation data: 100%|███████████████████████████████████████████████████████████████████| 4/4 [00:01<00:00,  2.82it/s]\n"
     ]
    },
    {
     "name": "stdout",
     "output_type": "stream",
     "text": [
      "Training losses: MAE = 0.5332260980062137, MSE = 0.6282330665081842\n",
      "Validation losses: MAE = 1.0949171298397375, MSE = 1.85222307072064\n",
      "Now running epoch 26\n"
     ]
    },
    {
     "name": "stderr",
     "output_type": "stream",
     "text": [
      "Training data: 100%|███████████████████████████████████████████████████████████████████| 48/48 [00:05<00:00,  8.58it/s]\n",
      "Validation data: 100%|███████████████████████████████████████████████████████████████████| 4/4 [00:01<00:00,  2.81it/s]\n"
     ]
    },
    {
     "name": "stdout",
     "output_type": "stream",
     "text": [
      "Training losses: MAE = 0.4782212414644727, MSE = 0.48354823367904\n",
      "Validation losses: MAE = 1.0521895581643441, MSE = 1.6948228137470411\n",
      "Now running epoch 27\n"
     ]
    },
    {
     "name": "stderr",
     "output_type": "stream",
     "text": [
      "Training data: 100%|███████████████████████████████████████████████████████████████████| 48/48 [00:05<00:00,  8.45it/s]\n",
      "Validation data: 100%|███████████████████████████████████████████████████████████████████| 4/4 [00:01<00:00,  2.75it/s]\n"
     ]
    },
    {
     "name": "stdout",
     "output_type": "stream",
     "text": [
      "Training losses: MAE = 0.49385862655924073, MSE = 0.5514019127205818\n",
      "Validation losses: MAE = 1.0844758494060258, MSE = 1.8075775759116444\n",
      "Now running epoch 28\n"
     ]
    },
    {
     "name": "stderr",
     "output_type": "stream",
     "text": [
      "Training data: 100%|███████████████████████████████████████████████████████████████████| 48/48 [00:05<00:00,  8.46it/s]\n",
      "Validation data: 100%|███████████████████████████████████████████████████████████████████| 4/4 [00:01<00:00,  2.78it/s]\n"
     ]
    },
    {
     "name": "stdout",
     "output_type": "stream",
     "text": [
      "Training losses: MAE = 0.5025631065985701, MSE = 0.5521883180975735\n",
      "Validation losses: MAE = 1.0372560135208269, MSE = 1.6759537692513147\n",
      "Now running epoch 29\n"
     ]
    },
    {
     "name": "stderr",
     "output_type": "stream",
     "text": [
      "Training data: 100%|███████████████████████████████████████████████████████████████████| 48/48 [00:05<00:00,  8.18it/s]\n",
      "Validation data: 100%|███████████████████████████████████████████████████████████████████| 4/4 [00:01<00:00,  2.77it/s]\n"
     ]
    },
    {
     "name": "stdout",
     "output_type": "stream",
     "text": [
      "Training losses: MAE = 0.5130871130690284, MSE = 0.5399981434115888\n",
      "Validation losses: MAE = 1.0463346209776578, MSE = 1.699278796148575\n",
      "Now running epoch 30\n"
     ]
    },
    {
     "name": "stderr",
     "output_type": "stream",
     "text": [
      "Training data: 100%|███████████████████████████████████████████████████████████████████| 48/48 [00:05<00:00,  8.50it/s]\n",
      "Validation data: 100%|███████████████████████████████████████████████████████████████████| 4/4 [00:01<00:00,  2.81it/s]\n"
     ]
    },
    {
     "name": "stdout",
     "output_type": "stream",
     "text": [
      "Training losses: MAE = 0.46080056741304504, MSE = 0.45129900026441755\n",
      "Validation losses: MAE = 1.1010170031585136, MSE = 1.943129169458068\n",
      "Now running epoch 31\n"
     ]
    },
    {
     "name": "stderr",
     "output_type": "stream",
     "text": [
      "Training data: 100%|███████████████████████████████████████████████████████████████████| 48/48 [00:05<00:00,  8.50it/s]\n",
      "Validation data: 100%|███████████████████████████████████████████████████████████████████| 4/4 [00:01<00:00,  2.89it/s]\n"
     ]
    },
    {
     "name": "stdout",
     "output_type": "stream",
     "text": [
      "Training losses: MAE = 0.4889570141804444, MSE = 0.49874176384833674\n",
      "Validation losses: MAE = 1.0740111400945294, MSE = 1.769905741060529\n",
      "Now running epoch 32\n"
     ]
    },
    {
     "name": "stderr",
     "output_type": "stream",
     "text": [
      "Training data: 100%|███████████████████████████████████████████████████████████████████| 48/48 [00:05<00:00,  8.50it/s]\n",
      "Validation data: 100%|███████████████████████████████████████████████████████████████████| 4/4 [00:01<00:00,  2.79it/s]\n"
     ]
    },
    {
     "name": "stdout",
     "output_type": "stream",
     "text": [
      "Training losses: MAE = 0.4842517830209438, MSE = 0.4752220413736696\n",
      "Validation losses: MAE = 1.0608065183141315, MSE = 1.7374981273054173\n",
      "Now running epoch 33\n"
     ]
    },
    {
     "name": "stderr",
     "output_type": "stream",
     "text": [
      "Training data: 100%|███████████████████████████████████████████████████████████████████| 48/48 [00:05<00:00,  8.53it/s]\n",
      "Validation data: 100%|███████████████████████████████████████████████████████████████████| 4/4 [00:01<00:00,  2.81it/s]\n"
     ]
    },
    {
     "name": "stdout",
     "output_type": "stream",
     "text": [
      "Training losses: MAE = 0.4625475525585408, MSE = 0.4708430991824743\n",
      "Validation losses: MAE = 1.050576775594949, MSE = 1.7117205304780871\n",
      "Now running epoch 34\n"
     ]
    },
    {
     "name": "stderr",
     "output_type": "stream",
     "text": [
      "Training data: 100%|███████████████████████████████████████████████████████████████████| 48/48 [00:05<00:00,  8.37it/s]\n",
      "Validation data: 100%|███████████████████████████████████████████████████████████████████| 4/4 [00:01<00:00,  2.71it/s]\n"
     ]
    },
    {
     "name": "stdout",
     "output_type": "stream",
     "text": [
      "Training losses: MAE = 0.4787242397153202, MSE = 0.46882092324412544\n",
      "Validation losses: MAE = 1.0369873010318162, MSE = 1.6492623873173402\n",
      "Now running epoch 35\n"
     ]
    },
    {
     "name": "stderr",
     "output_type": "stream",
     "text": [
      "Training data: 100%|███████████████████████████████████████████████████████████████████| 48/48 [00:05<00:00,  8.49it/s]\n",
      "Validation data: 100%|███████████████████████████████████████████████████████████████████| 4/4 [00:01<00:00,  2.95it/s]\n"
     ]
    },
    {
     "name": "stdout",
     "output_type": "stream",
     "text": [
      "Training losses: MAE = 0.4678461457238709, MSE = 0.4722502995170162\n",
      "Validation losses: MAE = 1.0898439343297535, MSE = 1.8743184483525814\n",
      "Now running epoch 36\n"
     ]
    },
    {
     "name": "stderr",
     "output_type": "stream",
     "text": [
      "Training data: 100%|███████████████████████████████████████████████████████████████████| 48/48 [00:05<00:00,  8.53it/s]\n",
      "Validation data: 100%|███████████████████████████████████████████████████████████████████| 4/4 [00:01<00:00,  2.83it/s]\n"
     ]
    },
    {
     "name": "stdout",
     "output_type": "stream",
     "text": [
      "Training losses: MAE = 0.4550956178415221, MSE = 0.4532864975490084\n",
      "Validation losses: MAE = 1.0740443601491123, MSE = 1.7888776660705832\n",
      "Now running epoch 37\n"
     ]
    },
    {
     "name": "stderr",
     "output_type": "stream",
     "text": [
      "Training data: 100%|███████████████████████████████████████████████████████████████████| 48/48 [00:05<00:00,  8.62it/s]\n",
      "Validation data: 100%|███████████████████████████████████████████████████████████████████| 4/4 [00:01<00:00,  2.73it/s]\n"
     ]
    },
    {
     "name": "stdout",
     "output_type": "stream",
     "text": [
      "Training losses: MAE = 0.4352907695983522, MSE = 0.40332028182433144\n",
      "Validation losses: MAE = 1.0763185820377315, MSE = 1.7679739204270422\n",
      "Now running epoch 38\n"
     ]
    },
    {
     "name": "stderr",
     "output_type": "stream",
     "text": [
      "Training data: 100%|███████████████████████████████████████████████████████████████████| 48/48 [00:05<00:00,  8.40it/s]\n",
      "Validation data: 100%|███████████████████████████████████████████████████████████████████| 4/4 [00:01<00:00,  2.84it/s]\n"
     ]
    },
    {
     "name": "stdout",
     "output_type": "stream",
     "text": [
      "Training losses: MAE = 0.4309814238492946, MSE = 0.37676340454814183\n",
      "Validation losses: MAE = 1.0802985546321004, MSE = 1.8296727044820864\n",
      "Now running epoch 39\n"
     ]
    },
    {
     "name": "stderr",
     "output_type": "stream",
     "text": [
      "Training data: 100%|███████████████████████████████████████████████████████████████████| 48/48 [00:05<00:00,  8.37it/s]\n",
      "Validation data: 100%|███████████████████████████████████████████████████████████████████| 4/4 [00:01<00:00,  2.77it/s]\n"
     ]
    },
    {
     "name": "stdout",
     "output_type": "stream",
     "text": [
      "Training losses: MAE = 0.4358640674965181, MSE = 0.41294281970181795\n",
      "Validation losses: MAE = 1.0872349952668432, MSE = 1.817466097370672\n",
      "Now running epoch 40\n"
     ]
    },
    {
     "name": "stderr",
     "output_type": "stream",
     "text": [
      "Training data: 100%|███████████████████████████████████████████████████████████████████| 48/48 [00:05<00:00,  8.25it/s]\n",
      "Validation data: 100%|███████████████████████████████████████████████████████████████████| 4/4 [00:01<00:00,  2.88it/s]\n"
     ]
    },
    {
     "name": "stdout",
     "output_type": "stream",
     "text": [
      "Training losses: MAE = 0.41577917149224275, MSE = 0.37867969782970096\n",
      "Validation losses: MAE = 1.052904465924332, MSE = 1.7011500291206811\n",
      "Now running epoch 41\n"
     ]
    },
    {
     "name": "stderr",
     "output_type": "stream",
     "text": [
      "Training data: 100%|███████████████████████████████████████████████████████████████████| 48/48 [00:05<00:00,  8.40it/s]\n",
      "Validation data: 100%|███████████████████████████████████████████████████████████████████| 4/4 [00:01<00:00,  2.76it/s]\n"
     ]
    },
    {
     "name": "stdout",
     "output_type": "stream",
     "text": [
      "Training losses: MAE = 0.4282225740897739, MSE = 0.38835021818088333\n",
      "Validation losses: MAE = 1.0586802923439953, MSE = 1.705003499885573\n",
      "Now running epoch 42\n"
     ]
    },
    {
     "name": "stderr",
     "output_type": "stream",
     "text": [
      "Training data: 100%|███████████████████████████████████████████████████████████████████| 48/48 [00:05<00:00,  8.32it/s]\n",
      "Validation data: 100%|███████████████████████████████████████████████████████████████████| 4/4 [00:01<00:00,  2.88it/s]\n"
     ]
    },
    {
     "name": "stdout",
     "output_type": "stream",
     "text": [
      "Training losses: MAE = 0.43592236660468714, MSE = 0.3962982095304759\n",
      "Validation losses: MAE = 1.067224971423748, MSE = 1.7429611595923904\n",
      "Now running epoch 43\n"
     ]
    },
    {
     "name": "stderr",
     "output_type": "stream",
     "text": [
      "Training data: 100%|███████████████████████████████████████████████████████████████████| 48/48 [00:05<00:00,  8.65it/s]\n",
      "Validation data: 100%|███████████████████████████████████████████████████████████████████| 4/4 [00:01<00:00,  2.66it/s]\n"
     ]
    },
    {
     "name": "stdout",
     "output_type": "stream",
     "text": [
      "Training losses: MAE = 0.43947121955605767, MSE = 0.38846016528214034\n",
      "Validation losses: MAE = 1.0578752665712137, MSE = 1.7125751481187548\n",
      "Now running epoch 44\n"
     ]
    },
    {
     "name": "stderr",
     "output_type": "stream",
     "text": [
      "Training data: 100%|███████████████████████████████████████████████████████████████████| 48/48 [00:05<00:00,  8.30it/s]\n",
      "Validation data: 100%|███████████████████████████████████████████████████████████████████| 4/4 [00:01<00:00,  2.76it/s]\n"
     ]
    },
    {
     "name": "stdout",
     "output_type": "stream",
     "text": [
      "Training losses: MAE = 0.42170070318223435, MSE = 0.3760490056603978\n",
      "Validation losses: MAE = 1.072795278410888, MSE = 1.7583290312063762\n",
      "Now running epoch 45\n"
     ]
    },
    {
     "name": "stderr",
     "output_type": "stream",
     "text": [
      "Training data: 100%|███████████████████████████████████████████████████████████████████| 48/48 [00:05<00:00,  8.54it/s]\n",
      "Validation data: 100%|███████████████████████████████████████████████████████████████████| 4/4 [00:01<00:00,  2.84it/s]\n"
     ]
    },
    {
     "name": "stdout",
     "output_type": "stream",
     "text": [
      "Training losses: MAE = 0.439898388919349, MSE = 0.41194467740634666\n",
      "Validation losses: MAE = 1.0822272852897308, MSE = 1.794319965085068\n",
      "Now running epoch 46\n"
     ]
    },
    {
     "name": "stderr",
     "output_type": "stream",
     "text": [
      "Training data: 100%|███████████████████████████████████████████████████████████████████| 48/48 [00:05<00:00,  8.45it/s]\n",
      "Validation data: 100%|███████████████████████████████████████████████████████████████████| 4/4 [00:01<00:00,  2.97it/s]\n"
     ]
    },
    {
     "name": "stdout",
     "output_type": "stream",
     "text": [
      "Training losses: MAE = 0.42764048534614707, MSE = 0.39001457054563554\n",
      "Validation losses: MAE = 1.0585107575992698, MSE = 1.7029094861961378\n",
      "Now running epoch 47\n"
     ]
    },
    {
     "name": "stderr",
     "output_type": "stream",
     "text": [
      "Training data: 100%|███████████████████████████████████████████████████████████████████| 48/48 [00:05<00:00,  8.51it/s]\n",
      "Validation data: 100%|███████████████████████████████████████████████████████████████████| 4/4 [00:01<00:00,  2.89it/s]\n"
     ]
    },
    {
     "name": "stdout",
     "output_type": "stream",
     "text": [
      "Training losses: MAE = 0.40409302967987615, MSE = 0.3693270585922626\n",
      "Validation losses: MAE = 1.074504992853622, MSE = 1.7682642103474242\n",
      "Now running epoch 48\n"
     ]
    },
    {
     "name": "stderr",
     "output_type": "stream",
     "text": [
      "Training data: 100%|███████████████████████████████████████████████████████████████████| 48/48 [00:05<00:00,  8.62it/s]\n",
      "Validation data: 100%|███████████████████████████████████████████████████████████████████| 4/4 [00:01<00:00,  2.81it/s]\n"
     ]
    },
    {
     "name": "stdout",
     "output_type": "stream",
     "text": [
      "Training losses: MAE = 0.4206528961073516, MSE = 0.3987603459574577\n",
      "Validation losses: MAE = 1.0622560666967016, MSE = 1.7103592489735049\n",
      "Now running epoch 49\n"
     ]
    },
    {
     "name": "stderr",
     "output_type": "stream",
     "text": [
      "Training data: 100%|███████████████████████████████████████████████████████████████████| 48/48 [00:05<00:00,  8.46it/s]\n",
      "Validation data: 100%|███████████████████████████████████████████████████████████████████| 4/4 [00:01<00:00,  2.91it/s]\n"
     ]
    },
    {
     "name": "stdout",
     "output_type": "stream",
     "text": [
      "Training losses: MAE = 0.4265209111176596, MSE = 0.3970260663487866\n",
      "Validation losses: MAE = 1.0805424278484919, MSE = 1.7914223953923432\n",
      "Now running epoch 50\n"
     ]
    },
    {
     "name": "stderr",
     "output_type": "stream",
     "text": [
      "Training data: 100%|███████████████████████████████████████████████████████████████████| 48/48 [00:05<00:00,  8.53it/s]\n",
      "Validation data: 100%|███████████████████████████████████████████████████████████████████| 4/4 [00:01<00:00,  2.99it/s]\n"
     ]
    },
    {
     "name": "stdout",
     "output_type": "stream",
     "text": [
      "Training losses: MAE = 0.4051636148712551, MSE = 0.33421662707549077\n",
      "Validation losses: MAE = 1.0769824400764179, MSE = 1.7791159092322015\n",
      "Now running epoch 51\n"
     ]
    },
    {
     "name": "stderr",
     "output_type": "stream",
     "text": [
      "Training data: 100%|███████████████████████████████████████████████████████████████████| 48/48 [00:05<00:00,  8.44it/s]\n",
      "Validation data: 100%|███████████████████████████████████████████████████████████████████| 4/4 [00:01<00:00,  2.76it/s]\n"
     ]
    },
    {
     "name": "stdout",
     "output_type": "stream",
     "text": [
      "Training losses: MAE = 0.4235847788409087, MSE = 0.38730343774029913\n",
      "Validation losses: MAE = 1.0620160733752397, MSE = 1.7106552186313149\n",
      "Now running epoch 52\n"
     ]
    },
    {
     "name": "stderr",
     "output_type": "stream",
     "text": [
      "Training data: 100%|███████████████████████████████████████████████████████████████████| 48/48 [00:05<00:00,  8.37it/s]\n",
      "Validation data: 100%|███████████████████████████████████████████████████████████████████| 4/4 [00:01<00:00,  2.79it/s]\n"
     ]
    },
    {
     "name": "stdout",
     "output_type": "stream",
     "text": [
      "Training losses: MAE = 0.43529327519503, MSE = 0.3906486334073875\n",
      "Validation losses: MAE = 1.0512395810638624, MSE = 1.7106119016874894\n",
      "Now running epoch 53\n"
     ]
    },
    {
     "name": "stderr",
     "output_type": "stream",
     "text": [
      "Training data: 100%|███████████████████████████████████████████████████████████████████| 48/48 [00:05<00:00,  8.25it/s]\n",
      "Validation data: 100%|███████████████████████████████████████████████████████████████████| 4/4 [00:01<00:00,  2.76it/s]\n"
     ]
    },
    {
     "name": "stdout",
     "output_type": "stream",
     "text": [
      "Training losses: MAE = 0.44854881153597176, MSE = 0.39926005999525493\n",
      "Validation losses: MAE = 1.083101643496967, MSE = 1.8081786935929272\n",
      "Now running epoch 54\n"
     ]
    },
    {
     "name": "stderr",
     "output_type": "stream",
     "text": [
      "Training data: 100%|███████████████████████████████████████████████████████████████████| 48/48 [00:05<00:00,  8.56it/s]\n",
      "Validation data: 100%|███████████████████████████████████████████████████████████████████| 4/4 [00:01<00:00,  2.76it/s]\n"
     ]
    },
    {
     "name": "stdout",
     "output_type": "stream",
     "text": [
      "Training losses: MAE = 0.4082318207868665, MSE = 0.3141055313965166\n",
      "Validation losses: MAE = 1.0616072727004195, MSE = 1.7067276648588716\n",
      "Now running epoch 55\n"
     ]
    },
    {
     "name": "stderr",
     "output_type": "stream",
     "text": [
      "Training data: 100%|███████████████████████████████████████████████████████████████████| 48/48 [00:05<00:00,  8.44it/s]\n",
      "Validation data: 100%|███████████████████████████████████████████████████████████████████| 4/4 [00:01<00:00,  2.71it/s]\n"
     ]
    },
    {
     "name": "stdout",
     "output_type": "stream",
     "text": [
      "Training losses: MAE = 0.45149083906854987, MSE = 0.40320416801204045\n",
      "Validation losses: MAE = 1.048912701585227, MSE = 1.6931657696045472\n",
      "Now running epoch 56\n"
     ]
    },
    {
     "name": "stderr",
     "output_type": "stream",
     "text": [
      "Training data: 100%|███████████████████████████████████████████████████████████████████| 48/48 [00:05<00:00,  8.12it/s]\n",
      "Validation data: 100%|███████████████████████████████████████████████████████████████████| 4/4 [00:01<00:00,  2.69it/s]\n"
     ]
    },
    {
     "name": "stdout",
     "output_type": "stream",
     "text": [
      "Training losses: MAE = 0.422281393287555, MSE = 0.3704102609490424\n",
      "Validation losses: MAE = 1.0493512424656546, MSE = 1.681690007359611\n",
      "Now running epoch 57\n"
     ]
    },
    {
     "name": "stderr",
     "output_type": "stream",
     "text": [
      "Training data: 100%|███████████████████████████████████████████████████████████████████| 48/48 [00:05<00:00,  8.09it/s]\n",
      "Validation data: 100%|███████████████████████████████████████████████████████████████████| 4/4 [00:01<00:00,  2.68it/s]\n"
     ]
    },
    {
     "name": "stdout",
     "output_type": "stream",
     "text": [
      "Training losses: MAE = 0.4141289073705565, MSE = 0.34067473654279473\n",
      "Validation losses: MAE = 1.0649099782524767, MSE = 1.7194310838746498\n",
      "Now running epoch 58\n"
     ]
    },
    {
     "name": "stderr",
     "output_type": "stream",
     "text": [
      "Training data: 100%|███████████████████████████████████████████████████████████████████| 48/48 [00:05<00:00,  8.15it/s]\n",
      "Validation data: 100%|███████████████████████████████████████████████████████████████████| 4/4 [00:01<00:00,  2.71it/s]\n"
     ]
    },
    {
     "name": "stdout",
     "output_type": "stream",
     "text": [
      "Training losses: MAE = 0.420338906947302, MSE = 0.3683738656410269\n",
      "Validation losses: MAE = 1.0672270445267953, MSE = 1.766955247061951\n",
      "Now running epoch 59\n"
     ]
    },
    {
     "name": "stderr",
     "output_type": "stream",
     "text": [
      "Training data: 100%|███████████████████████████████████████████████████████████████████| 48/48 [00:05<00:00,  8.15it/s]\n",
      "Validation data: 100%|███████████████████████████████████████████████████████████████████| 4/4 [00:01<00:00,  2.78it/s]\n"
     ]
    },
    {
     "name": "stdout",
     "output_type": "stream",
     "text": [
      "Training losses: MAE = 0.39892761105709557, MSE = 0.3366728703727606\n",
      "Validation losses: MAE = 1.0642465122838631, MSE = 1.7611638013323914\n",
      "Now running epoch 60\n"
     ]
    },
    {
     "name": "stderr",
     "output_type": "stream",
     "text": [
      "Training data: 100%|███████████████████████████████████████████████████████████████████| 48/48 [00:05<00:00,  8.22it/s]\n",
      "Validation data: 100%|███████████████████████████████████████████████████████████████████| 4/4 [00:01<00:00,  2.59it/s]\n"
     ]
    },
    {
     "name": "stdout",
     "output_type": "stream",
     "text": [
      "Training losses: MAE = 0.38782447199957515, MSE = 0.3152557313859574\n",
      "Validation losses: MAE = 1.0786304034641996, MSE = 1.7854767288867863\n",
      "Now running epoch 61\n"
     ]
    },
    {
     "name": "stderr",
     "output_type": "stream",
     "text": [
      "Training data: 100%|███████████████████████████████████████████████████████████████████| 48/48 [00:06<00:00,  7.97it/s]\n",
      "Validation data: 100%|███████████████████████████████████████████████████████████████████| 4/4 [00:01<00:00,  2.74it/s]\n"
     ]
    },
    {
     "name": "stdout",
     "output_type": "stream",
     "text": [
      "Training losses: MAE = 0.4350491836181556, MSE = 0.3777024272208235\n",
      "Validation losses: MAE = 1.0794199887209706, MSE = 1.802428908381586\n",
      "Now running epoch 62\n"
     ]
    },
    {
     "name": "stderr",
     "output_type": "stream",
     "text": [
      "Training data: 100%|███████████████████████████████████████████████████████████████████| 48/48 [00:06<00:00,  7.95it/s]\n",
      "Validation data: 100%|███████████████████████████████████████████████████████████████████| 4/4 [00:01<00:00,  2.77it/s]\n"
     ]
    },
    {
     "name": "stdout",
     "output_type": "stream",
     "text": [
      "Training losses: MAE = 0.3816354733596674, MSE = 0.34553059105229417\n",
      "Validation losses: MAE = 1.0760183674921076, MSE = 1.777015609750333\n",
      "Now running epoch 63\n"
     ]
    },
    {
     "name": "stderr",
     "output_type": "stream",
     "text": [
      "Training data: 100%|███████████████████████████████████████████████████████████████████| 48/48 [00:05<00:00,  8.09it/s]\n",
      "Validation data: 100%|███████████████████████████████████████████████████████████████████| 4/4 [00:01<00:00,  2.77it/s]\n"
     ]
    },
    {
     "name": "stdout",
     "output_type": "stream",
     "text": [
      "Training losses: MAE = 0.4179666998963161, MSE = 0.3649680924227001\n",
      "Validation losses: MAE = 1.0534526396853572, MSE = 1.6927828376431366\n",
      "Now running epoch 64\n"
     ]
    },
    {
     "name": "stderr",
     "output_type": "stream",
     "text": [
      "Training data: 100%|███████████████████████████████████████████████████████████████████| 48/48 [00:05<00:00,  8.04it/s]\n",
      "Validation data: 100%|███████████████████████████████████████████████████████████████████| 4/4 [00:01<00:00,  2.64it/s]\n"
     ]
    },
    {
     "name": "stdout",
     "output_type": "stream",
     "text": [
      "Training losses: MAE = 0.4250019264293351, MSE = 0.37999662614209845\n",
      "Validation losses: MAE = 1.0415578977698443, MSE = 1.6630690643388246\n",
      "Now running epoch 65\n"
     ]
    },
    {
     "name": "stderr",
     "output_type": "stream",
     "text": [
      "Training data: 100%|███████████████████████████████████████████████████████████████████| 48/48 [00:05<00:00,  8.01it/s]\n",
      "Validation data: 100%|███████████████████████████████████████████████████████████████████| 4/4 [00:01<00:00,  2.51it/s]\n"
     ]
    },
    {
     "name": "stdout",
     "output_type": "stream",
     "text": [
      "Training losses: MAE = 0.43532922755399905, MSE = 0.37180479888220136\n",
      "Validation losses: MAE = 1.0879100132880186, MSE = 1.8258458811060918\n",
      "Now running epoch 66\n"
     ]
    },
    {
     "name": "stderr",
     "output_type": "stream",
     "text": [
      "Training data: 100%|███████████████████████████████████████████████████████████████████| 48/48 [00:05<00:00,  8.06it/s]\n",
      "Validation data: 100%|███████████████████████████████████████████████████████████████████| 4/4 [00:01<00:00,  2.85it/s]\n"
     ]
    },
    {
     "name": "stdout",
     "output_type": "stream",
     "text": [
      "Training losses: MAE = 0.3862077667826886, MSE = 0.3400645628956504\n",
      "Validation losses: MAE = 1.0730185433336574, MSE = 1.7791398821218818\n",
      "Now running epoch 67\n"
     ]
    },
    {
     "name": "stderr",
     "output_type": "stream",
     "text": [
      "Training data: 100%|███████████████████████████████████████████████████████████████████| 48/48 [00:05<00:00,  8.15it/s]\n",
      "Validation data: 100%|███████████████████████████████████████████████████████████████████| 4/4 [00:01<00:00,  2.63it/s]\n"
     ]
    },
    {
     "name": "stdout",
     "output_type": "stream",
     "text": [
      "Training losses: MAE = 0.3794551698057818, MSE = 0.31251900944589056\n",
      "Validation losses: MAE = 1.0486505256655891, MSE = 1.685192292946079\n",
      "Now running epoch 68\n"
     ]
    },
    {
     "name": "stderr",
     "output_type": "stream",
     "text": [
      "Training data: 100%|███████████████████████████████████████████████████████████████████| 48/48 [00:05<00:00,  8.22it/s]\n",
      "Validation data: 100%|███████████████████████████████████████████████████████████████████| 4/4 [00:01<00:00,  2.70it/s]\n"
     ]
    },
    {
     "name": "stdout",
     "output_type": "stream",
     "text": [
      "Training losses: MAE = 0.41656093483317114, MSE = 0.3690433088824101\n",
      "Validation losses: MAE = 1.0433614346548372, MSE = 1.666062754796192\n",
      "Now running epoch 69\n"
     ]
    },
    {
     "name": "stderr",
     "output_type": "stream",
     "text": [
      "Training data: 100%|███████████████████████████████████████████████████████████████████| 48/48 [00:05<00:00,  8.02it/s]\n",
      "Validation data: 100%|███████████████████████████████████████████████████████████████████| 4/4 [00:01<00:00,  2.65it/s]\n"
     ]
    },
    {
     "name": "stdout",
     "output_type": "stream",
     "text": [
      "Training losses: MAE = 0.38106555965347255, MSE = 0.3409166866789352\n",
      "Validation losses: MAE = 1.0620782537485056, MSE = 1.7323478574838669\n",
      "Now running epoch 70\n"
     ]
    },
    {
     "name": "stderr",
     "output_type": "stream",
     "text": [
      "Training data: 100%|███████████████████████████████████████████████████████████████████| 48/48 [00:05<00:00,  8.15it/s]\n",
      "Validation data: 100%|███████████████████████████████████████████████████████████████████| 4/4 [00:01<00:00,  2.64it/s]\n"
     ]
    },
    {
     "name": "stdout",
     "output_type": "stream",
     "text": [
      "Training losses: MAE = 0.3907158561585849, MSE = 0.3266956195828022\n",
      "Validation losses: MAE = 1.0549051127789932, MSE = 1.6899229882822273\n",
      "Now running epoch 71\n"
     ]
    },
    {
     "name": "stderr",
     "output_type": "stream",
     "text": [
      "Training data: 100%|███████████████████████████████████████████████████████████████████| 48/48 [00:05<00:00,  8.13it/s]\n",
      "Validation data: 100%|███████████████████████████████████████████████████████████████████| 4/4 [00:01<00:00,  2.80it/s]\n"
     ]
    },
    {
     "name": "stdout",
     "output_type": "stream",
     "text": [
      "Training losses: MAE = 0.37338898810956594, MSE = 0.28156200791456004\n",
      "Validation losses: MAE = 1.0640703155418447, MSE = 1.7274804046708447\n",
      "Now running epoch 72\n"
     ]
    },
    {
     "name": "stderr",
     "output_type": "stream",
     "text": [
      "Training data: 100%|███████████████████████████████████████████████████████████████████| 48/48 [00:05<00:00,  8.02it/s]\n",
      "Validation data: 100%|███████████████████████████████████████████████████████████████████| 4/4 [00:01<00:00,  2.68it/s]\n"
     ]
    },
    {
     "name": "stdout",
     "output_type": "stream",
     "text": [
      "Training losses: MAE = 0.39685556182442144, MSE = 0.33431015696184163\n",
      "Validation losses: MAE = 1.0525794183836183, MSE = 1.6835337412465652\n",
      "Now running epoch 73\n"
     ]
    },
    {
     "name": "stderr",
     "output_type": "stream",
     "text": [
      "Training data: 100%|███████████████████████████████████████████████████████████████████| 48/48 [00:05<00:00,  8.02it/s]\n",
      "Validation data: 100%|███████████████████████████████████████████████████████████████████| 4/4 [00:01<00:00,  2.74it/s]\n"
     ]
    },
    {
     "name": "stdout",
     "output_type": "stream",
     "text": [
      "Training losses: MAE = 0.3872865078141926, MSE = 0.30686795225313734\n",
      "Validation losses: MAE = 1.0623254188429245, MSE = 1.7366875605472438\n",
      "Now running epoch 74\n"
     ]
    },
    {
     "name": "stderr",
     "output_type": "stream",
     "text": [
      "Training data: 100%|███████████████████████████████████████████████████████████████████| 48/48 [00:05<00:00,  8.22it/s]\n",
      "Validation data: 100%|███████████████████████████████████████████████████████████████████| 4/4 [00:01<00:00,  2.89it/s]\n"
     ]
    },
    {
     "name": "stdout",
     "output_type": "stream",
     "text": [
      "Training losses: MAE = 0.42332114320090913, MSE = 0.36095512065684016\n",
      "Validation losses: MAE = 1.0683360537537774, MSE = 1.7434373804075651\n",
      "Now running epoch 75\n"
     ]
    },
    {
     "name": "stderr",
     "output_type": "stream",
     "text": [
      "Training data: 100%|███████████████████████████████████████████████████████████████████| 48/48 [00:05<00:00,  8.50it/s]\n",
      "Validation data: 100%|███████████████████████████████████████████████████████████████████| 4/4 [00:01<00:00,  2.84it/s]\n"
     ]
    },
    {
     "name": "stdout",
     "output_type": "stream",
     "text": [
      "Training losses: MAE = 0.4106835689564579, MSE = 0.3556025679362728\n",
      "Validation losses: MAE = 1.0680556231007945, MSE = 1.7438760367419044\n",
      "Now running epoch 76\n"
     ]
    },
    {
     "name": "stderr",
     "output_type": "stream",
     "text": [
      "Training data: 100%|███████████████████████████████████████████████████████████████████| 48/48 [00:05<00:00,  8.59it/s]\n",
      "Validation data: 100%|███████████████████████████████████████████████████████████████████| 4/4 [00:01<00:00,  2.79it/s]\n"
     ]
    },
    {
     "name": "stdout",
     "output_type": "stream",
     "text": [
      "Training losses: MAE = 0.38190958397990876, MSE = 0.3263705301571031\n",
      "Validation losses: MAE = 1.0716426474858791, MSE = 1.7555772546505626\n",
      "Now running epoch 77\n"
     ]
    },
    {
     "name": "stderr",
     "output_type": "stream",
     "text": [
      "Training data: 100%|███████████████████████████████████████████████████████████████████| 48/48 [00:05<00:00,  8.30it/s]\n",
      "Validation data: 100%|███████████████████████████████████████████████████████████████████| 4/4 [00:01<00:00,  2.73it/s]\n"
     ]
    },
    {
     "name": "stdout",
     "output_type": "stream",
     "text": [
      "Training losses: MAE = 0.3935506842302676, MSE = 0.32989055164030506\n",
      "Validation losses: MAE = 1.0686706377065578, MSE = 1.755926098351895\n",
      "Now running epoch 78\n"
     ]
    },
    {
     "name": "stderr",
     "output_type": "stream",
     "text": [
      "Training data: 100%|███████████████████████████████████████████████████████████████████| 48/48 [00:05<00:00,  8.32it/s]\n",
      "Validation data: 100%|███████████████████████████████████████████████████████████████████| 4/4 [00:01<00:00,  2.75it/s]\n"
     ]
    },
    {
     "name": "stdout",
     "output_type": "stream",
     "text": [
      "Training losses: MAE = 0.413438383026846, MSE = 0.32841785756677727\n",
      "Validation losses: MAE = 1.113634768247979, MSE = 1.8760847543614996\n",
      "Now running epoch 79\n"
     ]
    },
    {
     "name": "stderr",
     "output_type": "stream",
     "text": [
      "Training data: 100%|███████████████████████████████████████████████████████████████████| 48/48 [00:05<00:00,  8.59it/s]\n",
      "Validation data: 100%|███████████████████████████████████████████████████████████████████| 4/4 [00:01<00:00,  2.83it/s]\n"
     ]
    },
    {
     "name": "stdout",
     "output_type": "stream",
     "text": [
      "Training losses: MAE = 0.42824314204852537, MSE = 0.3765892916998565\n",
      "Validation losses: MAE = 1.062521895787119, MSE = 1.7181209610223582\n",
      "Now running epoch 80\n"
     ]
    },
    {
     "name": "stderr",
     "output_type": "stream",
     "text": [
      "Training data: 100%|███████████████████████████████████████████████████████████████████| 48/48 [00:05<00:00,  8.53it/s]\n",
      "Validation data: 100%|███████████████████████████████████████████████████████████████████| 4/4 [00:01<00:00,  2.88it/s]\n"
     ]
    },
    {
     "name": "stdout",
     "output_type": "stream",
     "text": [
      "Training losses: MAE = 0.3976686907022796, MSE = 0.33811432552731135\n",
      "Validation losses: MAE = 1.0813428237086753, MSE = 1.7839917838778832\n",
      "Now running epoch 81\n"
     ]
    },
    {
     "name": "stderr",
     "output_type": "stream",
     "text": [
      "Training data: 100%|███████████████████████████████████████████████████████████████████| 48/48 [00:05<00:00,  8.53it/s]\n",
      "Validation data: 100%|███████████████████████████████████████████████████████████████████| 4/4 [00:01<00:00,  2.78it/s]\n"
     ]
    },
    {
     "name": "stdout",
     "output_type": "stream",
     "text": [
      "Training losses: MAE = 0.369138699401482, MSE = 0.28385585570920113\n",
      "Validation losses: MAE = 1.0762430939681942, MSE = 1.775261532850114\n",
      "Now running epoch 82\n"
     ]
    },
    {
     "name": "stderr",
     "output_type": "stream",
     "text": [
      "Training data: 100%|███████████████████████████████████████████████████████████████████| 48/48 [00:05<00:00,  8.32it/s]\n",
      "Validation data: 100%|███████████████████████████████████████████████████████████████████| 4/4 [00:01<00:00,  2.74it/s]\n"
     ]
    },
    {
     "name": "stdout",
     "output_type": "stream",
     "text": [
      "Training losses: MAE = 0.41764677255551474, MSE = 0.3682068394382619\n",
      "Validation losses: MAE = 1.0681836855498736, MSE = 1.7460326650951599\n",
      "Now running epoch 83\n"
     ]
    },
    {
     "name": "stderr",
     "output_type": "stream",
     "text": [
      "Training data: 100%|███████████████████████████████████████████████████████████████████| 48/48 [00:05<00:00,  8.44it/s]\n",
      "Validation data: 100%|███████████████████████████████████████████████████████████████████| 4/4 [00:01<00:00,  2.90it/s]\n"
     ]
    },
    {
     "name": "stdout",
     "output_type": "stream",
     "text": [
      "Training losses: MAE = 0.3646623742040462, MSE = 0.31313420440976997\n",
      "Validation losses: MAE = 1.0569758581085624, MSE = 1.710340678423271\n",
      "Now running epoch 84\n"
     ]
    },
    {
     "name": "stderr",
     "output_type": "stream",
     "text": [
      "Training data: 100%|███████████████████████████████████████████████████████████████████| 48/48 [00:05<00:00,  8.53it/s]\n",
      "Validation data: 100%|███████████████████████████████████████████████████████████████████| 4/4 [00:01<00:00,  2.75it/s]\n"
     ]
    },
    {
     "name": "stdout",
     "output_type": "stream",
     "text": [
      "Training losses: MAE = 0.408202902496918, MSE = 0.3416946038877817\n",
      "Validation losses: MAE = 1.062789602309329, MSE = 1.7179864851889957\n",
      "Now running epoch 85\n"
     ]
    },
    {
     "name": "stderr",
     "output_type": "stream",
     "text": [
      "Training data: 100%|███████████████████████████████████████████████████████████████████| 48/48 [00:05<00:00,  8.31it/s]\n",
      "Validation data: 100%|███████████████████████████████████████████████████████████████████| 4/4 [00:01<00:00,  2.94it/s]\n"
     ]
    },
    {
     "name": "stdout",
     "output_type": "stream",
     "text": [
      "Training losses: MAE = 0.4513603267685602, MSE = 0.39415167730465817\n",
      "Validation losses: MAE = 1.0575562907984293, MSE = 1.7045672813405492\n",
      "Now running epoch 86\n"
     ]
    },
    {
     "name": "stderr",
     "output_type": "stream",
     "text": [
      "Training data: 100%|███████████████████████████████████████████████████████████████████| 48/48 [00:05<00:00,  8.41it/s]\n",
      "Validation data: 100%|███████████████████████████████████████████████████████████████████| 4/4 [00:01<00:00,  2.91it/s]\n"
     ]
    },
    {
     "name": "stdout",
     "output_type": "stream",
     "text": [
      "Training losses: MAE = 0.39047823324463515, MSE = 0.3243739000737293\n",
      "Validation losses: MAE = 1.0599207710031326, MSE = 1.6940819153001245\n",
      "Now running epoch 87\n"
     ]
    },
    {
     "name": "stderr",
     "output_type": "stream",
     "text": [
      "Training data: 100%|███████████████████████████████████████████████████████████████████| 48/48 [00:06<00:00,  7.81it/s]\n",
      "Validation data: 100%|███████████████████████████████████████████████████████████████████| 4/4 [00:01<00:00,  2.64it/s]\n"
     ]
    },
    {
     "name": "stdout",
     "output_type": "stream",
     "text": [
      "Training losses: MAE = 0.34367375045789067, MSE = 0.26358657542076025\n",
      "Validation losses: MAE = 1.053938175552777, MSE = 1.6718049165307627\n",
      "Now running epoch 88\n"
     ]
    },
    {
     "name": "stderr",
     "output_type": "stream",
     "text": [
      "Training data: 100%|███████████████████████████████████████████████████████████████████| 48/48 [00:05<00:00,  8.06it/s]\n",
      "Validation data: 100%|███████████████████████████████████████████████████████████████████| 4/4 [00:01<00:00,  2.77it/s]\n"
     ]
    },
    {
     "name": "stdout",
     "output_type": "stream",
     "text": [
      "Training losses: MAE = 0.41903257266244714, MSE = 0.3459958240799049\n",
      "Validation losses: MAE = 1.0730191046013142, MSE = 1.7457994876323086\n",
      "Now running epoch 89\n"
     ]
    },
    {
     "name": "stderr",
     "output_type": "stream",
     "text": [
      "Training data: 100%|███████████████████████████████████████████████████████████████████| 48/48 [00:05<00:00,  8.38it/s]\n",
      "Validation data: 100%|███████████████████████████████████████████████████████████████████| 4/4 [00:01<00:00,  2.82it/s]\n"
     ]
    },
    {
     "name": "stdout",
     "output_type": "stream",
     "text": [
      "Training losses: MAE = 0.4059909178609481, MSE = 0.3468912523617823\n",
      "Validation losses: MAE = 1.0606915648315853, MSE = 1.736963693123049\n",
      "Now running epoch 90\n"
     ]
    },
    {
     "name": "stderr",
     "output_type": "stream",
     "text": [
      "Training data: 100%|███████████████████████████████████████████████████████████████████| 48/48 [00:05<00:00,  8.22it/s]\n",
      "Validation data: 100%|███████████████████████████████████████████████████████████████████| 4/4 [00:01<00:00,  2.77it/s]\n"
     ]
    },
    {
     "name": "stdout",
     "output_type": "stream",
     "text": [
      "Training losses: MAE = 0.43054079425424036, MSE = 0.3913865087772191\n",
      "Validation losses: MAE = 1.0813123694756737, MSE = 1.7784480647352074\n",
      "Now running epoch 91\n"
     ]
    },
    {
     "name": "stderr",
     "output_type": "stream",
     "text": [
      "Training data: 100%|███████████████████████████████████████████████████████████████████| 48/48 [00:06<00:00,  7.69it/s]\n",
      "Validation data: 100%|███████████████████████████████████████████████████████████████████| 4/4 [00:01<00:00,  2.64it/s]\n"
     ]
    },
    {
     "name": "stdout",
     "output_type": "stream",
     "text": [
      "Training losses: MAE = 0.3567959831575805, MSE = 0.31240994739636885\n",
      "Validation losses: MAE = 1.064795476382768, MSE = 1.7371901756638637\n",
      "Now running epoch 92\n"
     ]
    },
    {
     "name": "stderr",
     "output_type": "stream",
     "text": [
      "Training data: 100%|███████████████████████████████████████████████████████████████████| 48/48 [00:05<00:00,  8.29it/s]\n",
      "Validation data: 100%|███████████████████████████████████████████████████████████████████| 4/4 [00:01<00:00,  2.71it/s]\n"
     ]
    },
    {
     "name": "stdout",
     "output_type": "stream",
     "text": [
      "Training losses: MAE = 0.36181167596475716, MSE = 0.2699751498861236\n",
      "Validation losses: MAE = 1.0854004643271278, MSE = 1.8153511913883964\n",
      "Now running epoch 93\n"
     ]
    },
    {
     "name": "stderr",
     "output_type": "stream",
     "text": [
      "Training data: 100%|███████████████████████████████████████████████████████████████████| 48/48 [00:05<00:00,  8.07it/s]\n",
      "Validation data: 100%|███████████████████████████████████████████████████████████████████| 4/4 [00:01<00:00,  2.51it/s]\n"
     ]
    },
    {
     "name": "stdout",
     "output_type": "stream",
     "text": [
      "Training losses: MAE = 0.4372993940817076, MSE = 0.36050376458678707\n",
      "Validation losses: MAE = 1.065595297927515, MSE = 1.720646495998029\n",
      "Now running epoch 94\n"
     ]
    },
    {
     "name": "stderr",
     "output_type": "stream",
     "text": [
      "Training data: 100%|███████████████████████████████████████████████████████████████████| 48/48 [00:05<00:00,  8.15it/s]\n",
      "Validation data: 100%|███████████████████████████████████████████████████████████████████| 4/4 [00:01<00:00,  2.75it/s]\n"
     ]
    },
    {
     "name": "stdout",
     "output_type": "stream",
     "text": [
      "Training losses: MAE = 0.3715144931884585, MSE = 0.3002394144480332\n",
      "Validation losses: MAE = 1.0625323450375095, MSE = 1.719681509782694\n",
      "Now running epoch 95\n"
     ]
    },
    {
     "name": "stderr",
     "output_type": "stream",
     "text": [
      "Training data: 100%|███████████████████████████████████████████████████████████████████| 48/48 [00:05<00:00,  8.09it/s]\n",
      "Validation data: 100%|███████████████████████████████████████████████████████████████████| 4/4 [00:01<00:00,  2.70it/s]\n"
     ]
    },
    {
     "name": "stdout",
     "output_type": "stream",
     "text": [
      "Training losses: MAE = 0.4019871931412429, MSE = 0.3133489402401575\n",
      "Validation losses: MAE = 1.0565872627376325, MSE = 1.6900627625397866\n",
      "Now running epoch 96\n"
     ]
    },
    {
     "name": "stderr",
     "output_type": "stream",
     "text": [
      "Training data: 100%|███████████████████████████████████████████████████████████████████| 48/48 [00:06<00:00,  7.27it/s]\n",
      "Validation data: 100%|███████████████████████████████████████████████████████████████████| 4/4 [00:01<00:00,  2.59it/s]\n"
     ]
    },
    {
     "name": "stdout",
     "output_type": "stream",
     "text": [
      "Training losses: MAE = 0.37444184732077285, MSE = 0.29731267362885583\n",
      "Validation losses: MAE = 1.0673659074154938, MSE = 1.7154875369994136\n",
      "Now running epoch 97\n"
     ]
    },
    {
     "name": "stderr",
     "output_type": "stream",
     "text": [
      "Training data: 100%|███████████████████████████████████████████████████████████████████| 48/48 [00:06<00:00,  7.82it/s]\n",
      "Validation data: 100%|███████████████████████████████████████████████████████████████████| 4/4 [00:01<00:00,  2.60it/s]\n"
     ]
    },
    {
     "name": "stdout",
     "output_type": "stream",
     "text": [
      "Training losses: MAE = 0.37366714417139785, MSE = 0.313145492402831\n",
      "Validation losses: MAE = 1.0580643840158646, MSE = 1.6911213004211896\n",
      "Now running epoch 98\n"
     ]
    },
    {
     "name": "stderr",
     "output_type": "stream",
     "text": [
      "Training data: 100%|███████████████████████████████████████████████████████████████████| 48/48 [00:06<00:00,  7.81it/s]\n",
      "Validation data: 100%|███████████████████████████████████████████████████████████████████| 4/4 [00:01<00:00,  2.59it/s]\n"
     ]
    },
    {
     "name": "stdout",
     "output_type": "stream",
     "text": [
      "Training losses: MAE = 0.37220480356765145, MSE = 0.286151412297133\n",
      "Validation losses: MAE = 1.0669096133090925, MSE = 1.7408219493227854\n",
      "Now running epoch 99\n"
     ]
    },
    {
     "name": "stderr",
     "output_type": "stream",
     "text": [
      "Training data: 100%|███████████████████████████████████████████████████████████████████| 48/48 [00:06<00:00,  7.81it/s]\n",
      "Validation data: 100%|███████████████████████████████████████████████████████████████████| 4/4 [00:01<00:00,  2.61it/s]"
     ]
    },
    {
     "name": "stdout",
     "output_type": "stream",
     "text": [
      "Training losses: MAE = 0.39281559295764407, MSE = 0.31209601606566206\n",
      "Validation losses: MAE = 1.056810850936826, MSE = 1.6979132717604257\n"
     ]
    },
    {
     "name": "stderr",
     "output_type": "stream",
     "text": [
      "\n"
     ]
    }
   ],
   "source": [
    "epochs = 100\n",
    "print(f\"Training for {epochs} epochs\")\n",
    "\n",
    "# training loop\n",
    "train_mae_loss_list = []\n",
    "train_mse_loss_list = []\n",
    "val_mae_loss_list = []\n",
    "val_mse_loss_list = []\n",
    "best_mae = 1000000\n",
    "for epoch in range(epochs):\n",
    "    print(f\"Now running epoch {epoch}\")\n",
    "    #Iterate through training dataset\n",
    "    train_mae_loss = 0\n",
    "    train_mse_loss = 0\n",
    "    val_mae_loss = 0\n",
    "    val_mse_loss = 0\n",
    "    model.train()\n",
    "    for image, label in tqdm(train_loader,desc=\"Training data: \"):\n",
    "        # Send variables to device\n",
    "        image = image.to(device)\n",
    "        label = label.to(device)\n",
    "        # Zero gradients\n",
    "        optimizer.zero_grad()\n",
    "        # Predict values\n",
    "        pred = model(image)\n",
    "        # Compute loss\n",
    "        loss = criterion(pred.squeeze(),label)\n",
    "        # Backpropagate\n",
    "        loss.backward()\n",
    "        # Update parameters\n",
    "        optimizer.step()\n",
    "        # Move variables to cpu\n",
    "        pred = pred.cpu().detach()\n",
    "        label = label.cpu().detach()\n",
    "        # Compute losses\n",
    "        train_mae_loss += mean_absolute_error(pred,label)*image.shape[0]\n",
    "        train_mse_loss += mean_squared_error(pred,label)*image.shape[0]\n",
    "    train_mae_loss /= len(train_data)\n",
    "    train_mse_loss /= len(train_data)\n",
    "    model.eval()\n",
    "    # Run validation dataset\n",
    "    for image, label in tqdm(val_loader,desc=\"Validation data: \"):\n",
    "        # Send variables to device\n",
    "        image = image.to(device)\n",
    "        label = label.to(device)\n",
    "        # Run model\n",
    "        pred = model(image)\n",
    "        # Move variables to cpu\n",
    "        pred = pred.cpu().detach()\n",
    "        label = label.cpu().detach()\n",
    "        # Compute loss\n",
    "        val_mae_loss += mean_absolute_error(pred,label)*image.shape[0]\n",
    "        val_mse_loss += mean_squared_error(pred,label)*image.shape[0]\n",
    "    val_mae_loss /= len(val_data)\n",
    "    val_mse_loss /= len(val_data)\n",
    "    print(f\"Training losses: MAE = {train_mae_loss}, MSE = {train_mse_loss}\")\n",
    "    print(f\"Validation losses: MAE = {val_mae_loss}, MSE = {val_mse_loss}\")\n",
    "    train_mae_loss_list.append(train_mae_loss)\n",
    "    train_mse_loss_list.append(train_mse_loss)\n",
    "    val_mae_loss_list.append(val_mae_loss)\n",
    "    val_mse_loss_list.append(val_mse_loss)\n",
    "    scheduler.step()\n",
    "    # Checkpoint best model\n",
    "    if val_mae_loss < best_mae:\n",
    "        best_mae = val_mae_loss\n",
    "        torch.save(model, f\"best_resnext_model.pt\")"
   ]
  },
  {
   "cell_type": "code",
   "execution_count": 25,
   "id": "0757ba20",
   "metadata": {},
   "outputs": [],
   "source": [
    "# Load best performing model\n",
    "model = torch.load(\"best_resnext_model.pt\")"
   ]
  },
  {
   "cell_type": "code",
   "execution_count": 41,
   "id": "7dc7bad6",
   "metadata": {},
   "outputs": [
    {
     "name": "stderr",
     "output_type": "stream",
     "text": [
      "test data: 100%|█████████████████████████████████████████████████████████████████████████| 4/4 [00:02<00:00,  1.99it/s]"
     ]
    },
    {
     "name": "stdout",
     "output_type": "stream",
     "text": [
      "Test loss: MAE = 0.9546020617013612, MSE = 1.7036371959269352\n"
     ]
    },
    {
     "name": "stderr",
     "output_type": "stream",
     "text": [
      "\n"
     ]
    }
   ],
   "source": [
    "model.eval()\n",
    "# Run testing loop\n",
    "test_mae_loss = 0\n",
    "test_mse_loss = 0\n",
    "for image, label in tqdm(test_loader,desc=\"test data: \"):\n",
    "    # Send variables to device\n",
    "    image = image.to(device)\n",
    "    label = label.to(device)\n",
    "    # Run model\n",
    "    pred = model(image)\n",
    "    # Move variables to cpu\n",
    "    pred = pred.cpu().detach()\n",
    "    label = label.cpu().detach()\n",
    "    # Compute loss\n",
    "    test_mae_loss += mean_absolute_error(pred,label)*image.shape[0]\n",
    "    test_mse_loss += mean_squared_error(pred,label)*image.shape[0]\n",
    "test_mae_loss /= len(test_data)\n",
    "test_mse_loss /= len(test_data)\n",
    "print(f\"Test loss: MAE = {test_mae_loss}, MSE = {test_mse_loss}\")"
   ]
  },
  {
   "cell_type": "code",
   "execution_count": 27,
   "id": "e22538e5",
   "metadata": {},
   "outputs": [
    {
     "data": {
      "text/plain": [
       "<matplotlib.legend.Legend at 0x218f1391610>"
      ]
     },
     "execution_count": 27,
     "metadata": {},
     "output_type": "execute_result"
    },
    {
     "data": {
      "image/png": "[encoded data removed]",
      "text/plain": [
       "<Figure size 432x288 with 1 Axes>"
      ]
     },
     "metadata": {
      "needs_background": "light"
     },
     "output_type": "display_data"
    }
   ],
   "source": [
    "plt.figure()\n",
    "plt.plot(range(1,101),train_mae_loss_list,'-r',label=\"Training data\")\n",
    "plt.plot(range(1,101),val_mae_loss_list,'-g',label=\"Validation data\")\n",
    "plt.gca().set_xlabel(\"Epochs\")\n",
    "plt.gca().set_ylabel(\"log10 Mean Absolute Error\")\n",
    "plt.gca().set_title(\"log10 MAE Loss\")\n",
    "plt.legend()"
   ]
  },
  {
   "cell_type": "code",
   "execution_count": 28,
   "id": "b93a998d",
   "metadata": {},
   "outputs": [
    {
     "data": {
      "text/plain": [
       "<matplotlib.legend.Legend at 0x218efff4160>"
      ]
     },
     "execution_count": 28,
     "metadata": {},
     "output_type": "execute_result"
    },
    {
     "data": {
      "image/png": "[encoded data removed]",
      "text/plain": [
       "<Figure size 432x288 with 1 Axes>"
      ]
     },
     "metadata": {
      "needs_background": "light"
     },
     "output_type": "display_data"
    }
   ],
   "source": [
    "plt.figure()\n",
    "plt.plot(range(1,101),train_mse_loss_list,'-r',label=\"Training data\")\n",
    "plt.plot(range(1,101),val_mse_loss_list,'-g',label=\"Validation data\")\n",
    "plt.gca().set_xlabel(\"Epochs\")\n",
    "plt.gca().set_ylabel(\"log10 Mean Squared Error\")\n",
    "plt.gca().set_title(\"log10 MSE Loss\")\n",
    "plt.legend()"
   ]
  },
  {
   "cell_type": "code",
   "execution_count": 29,
   "id": "bc12b752",
   "metadata": {},
   "outputs": [],
   "source": [
    "def abs_err(x,y):\n",
    "    return np.abs(x-y)\n",
    "def reg_err(x,y):\n",
    "    return x-y"
   ]
  },
  {
   "cell_type": "code",
   "execution_count": 30,
   "id": "201db4fb",
   "metadata": {},
   "outputs": [
    {
     "name": "stderr",
     "output_type": "stream",
     "text": [
      "Train data: 100%|██████████████████████████████████████████████████████████████████████| 48/48 [00:05<00:00,  8.97it/s]\n"
     ]
    }
   ],
   "source": [
    "# Evaluate training distribution\n",
    "model.eval()\n",
    "train_mae_loss = []\n",
    "train_reg_loss = []\n",
    "\n",
    "for image, label in tqdm(train_loader,desc=\"Train data: \"):\n",
    "    # Send variables to device\n",
    "    image = image.to(device)\n",
    "    label = label.to(device)\n",
    "    # Run model\n",
    "    pred = model(image)\n",
    "    # Move variables to cpu\n",
    "    pred = pred.cpu().squeeze().detach()\n",
    "    label = label.cpu().squeeze().detach()\n",
    "#     print(pred.shape)\n",
    "#     print(abs_err(pred,label))\n",
    "    # Compute loss\n",
    "    train_mae_loss = np.concatenate((train_mae_loss, abs_err(pred,label)))\n",
    "    train_reg_loss = np.concatenate((train_reg_loss, reg_err(pred,label)))\n"
   ]
  },
  {
   "cell_type": "code",
   "execution_count": 31,
   "id": "44b94cbe",
   "metadata": {},
   "outputs": [
    {
     "data": {
      "text/plain": [
       "Text(0.5, 0, 'log10 absolute error')"
      ]
     },
     "execution_count": 31,
     "metadata": {},
     "output_type": "execute_result"
    },
    {
     "data": {
      "image/png": "[encoded data removed]",
      "text/plain": [
       "<Figure size 432x288 with 1 Axes>"
      ]
     },
     "metadata": {
      "needs_background": "light"
     },
     "output_type": "display_data"
    }
   ],
   "source": [
    "# Plot absolute error (log) distribution for model\n",
    "sns.histplot(train_mae_loss)#, kde=True)\n",
    "plt.gca().set_title(\"Training data log10 absolute error distribution\")\n",
    "plt.gca().set_xlabel(\"log10 absolute error\")"
   ]
  },
  {
   "cell_type": "code",
   "execution_count": 32,
   "id": "b1688a24",
   "metadata": {},
   "outputs": [
    {
     "data": {
      "text/plain": [
       "Text(0.5, 0, 'log10 error')"
      ]
     },
     "execution_count": 32,
     "metadata": {},
     "output_type": "execute_result"
    },
    {
     "data": {
      "image/png": "[encoded data removed]",
      "text/plain": [
       "<Figure size 432x288 with 1 Axes>"
      ]
     },
     "metadata": {
      "needs_background": "light"
     },
     "output_type": "display_data"
    }
   ],
   "source": [
    "sns.histplot(train_reg_loss)#, kde=True)\n",
    "plt.gca().set_title(\"Training data log10 error distribution\")\n",
    "plt.gca().set_xlabel(\"log10 error\")"
   ]
  },
  {
   "cell_type": "code",
   "execution_count": 33,
   "id": "1fbae089",
   "metadata": {},
   "outputs": [
    {
     "name": "stderr",
     "output_type": "stream",
     "text": [
      "Validation data: 100%|███████████████████████████████████████████████████████████████████| 4/4 [00:01<00:00,  2.20it/s]\n"
     ]
    }
   ],
   "source": [
    "# Evaluate validation distribution\n",
    "model.eval()\n",
    "val_mae_loss = []\n",
    "val_reg_loss = []\n",
    "\n",
    "for image, label in tqdm(val_loader,desc=\"Validation data: \"):\n",
    "    # Send variables to device\n",
    "    image = image.to(device)\n",
    "    label = label.to(device)\n",
    "    # Run model\n",
    "    pred = model(image)\n",
    "    # Move variables to cpu\n",
    "    pred = pred.cpu().squeeze().detach()\n",
    "    label = label.cpu().squeeze().detach()\n",
    "#     print(pred.shape)\n",
    "#     print(abs_err(pred,label))\n",
    "    # Compute loss\n",
    "    val_mae_loss = np.concatenate((val_mae_loss, abs_err(pred,label)))\n",
    "    val_reg_loss = np.concatenate((val_reg_loss, reg_err(pred,label)))\n"
   ]
  },
  {
   "cell_type": "code",
   "execution_count": 34,
   "id": "0d8a0cc2",
   "metadata": {},
   "outputs": [
    {
     "data": {
      "text/plain": [
       "Text(0.5, 0, 'log10 absolute error')"
      ]
     },
     "execution_count": 34,
     "metadata": {},
     "output_type": "execute_result"
    },
    {
     "data": {
      "image/png": "[encoded data removed]",
      "text/plain": [
       "<Figure size 432x288 with 1 Axes>"
      ]
     },
     "metadata": {
      "needs_background": "light"
     },
     "output_type": "display_data"
    }
   ],
   "source": [
    "sns.histplot(val_mae_loss)\n",
    "plt.gca().set_title(\"Validation data log10 absolute error distribution\")\n",
    "plt.gca().set_xlabel(\"log10 absolute error\")"
   ]
  },
  {
   "cell_type": "code",
   "execution_count": 35,
   "id": "2cdaef47",
   "metadata": {},
   "outputs": [
    {
     "data": {
      "text/plain": [
       "Text(0.5, 0, 'log10 error')"
      ]
     },
     "execution_count": 35,
     "metadata": {},
     "output_type": "execute_result"
    },
    {
     "data": {
      "image/png": "[encoded data removed]",
      "text/plain": [
       "<Figure size 432x288 with 1 Axes>"
      ]
     },
     "metadata": {
      "needs_background": "light"
     },
     "output_type": "display_data"
    }
   ],
   "source": [
    "sns.histplot(val_reg_loss)\n",
    "plt.gca().set_title(\"Validation data log10 error distribution\")\n",
    "plt.gca().set_xlabel(\"log10 error\")"
   ]
  },
  {
   "cell_type": "code",
   "execution_count": 37,
   "id": "af80778c",
   "metadata": {},
   "outputs": [
    {
     "name": "stderr",
     "output_type": "stream",
     "text": [
      "Test data: 100%|█████████████████████████████████████████████████████████████████████████| 4/4 [00:01<00:00,  2.18it/s]\n"
     ]
    }
   ],
   "source": [
    "# Evaluate test distribution\n",
    "model.eval()\n",
    "test_mae_loss = []\n",
    "test_reg_loss = []\n",
    "\n",
    "for image, label in tqdm(test_loader,desc=\"Test data: \"):\n",
    "    # Send variables to device\n",
    "    image = image.to(device)\n",
    "    label = label.to(device)\n",
    "    # Run model\n",
    "    pred = model(image)\n",
    "    # Move variables to cpu\n",
    "    pred = pred.cpu().squeeze().detach()\n",
    "    label = label.cpu().squeeze().detach()\n",
    "#     print(pred.shape)\n",
    "#     print(abs_err(pred,label))\n",
    "    # Compute loss\n",
    "    test_mae_loss = np.concatenate((test_mae_loss, abs_err(pred,label)))\n",
    "    test_reg_loss = np.concatenate((test_reg_loss, reg_err(pred,label)))"
   ]
  },
  {
   "cell_type": "code",
   "execution_count": 38,
   "id": "63261a57",
   "metadata": {},
   "outputs": [
    {
     "data": {
      "text/plain": [
       "Text(0.5, 0, 'log10 absolute error')"
      ]
     },
     "execution_count": 38,
     "metadata": {},
     "output_type": "execute_result"
    },
    {
     "data": {
      "image/png": "[encoded data removed]",
      "text/plain": [
       "<Figure size 432x288 with 1 Axes>"
      ]
     },
     "metadata": {
      "needs_background": "light"
     },
     "output_type": "display_data"
    }
   ],
   "source": [
    "sns.histplot(test_mae_loss)\n",
    "plt.gca().set_title(\"Test data log10 absolute error distribution\")\n",
    "plt.gca().set_xlabel(\"log10 absolute error\")"
   ]
  },
  {
   "cell_type": "code",
   "execution_count": 39,
   "id": "b4893e06",
   "metadata": {},
   "outputs": [
    {
     "data": {
      "text/plain": [
       "Text(0.5, 0, 'log10 error')"
      ]
     },
     "execution_count": 39,
     "metadata": {},
     "output_type": "execute_result"
    },
    {
     "data": {
      "image/png": "[encoded data removed]",
      "text/plain": [
       "<Figure size 432x288 with 1 Axes>"
      ]
     },
     "metadata": {
      "needs_background": "light"
     },
     "output_type": "display_data"
    }
   ],
   "source": [
    "sns.histplot(test_reg_loss)\n",
    "plt.gca().set_title(\"Test data log10 error distribution\")\n",
    "plt.gca().set_xlabel(\"log10 error\")"
   ]
  },
  {
   "cell_type": "code",
   "execution_count": null,
   "id": "6a06127a",
   "metadata": {},
   "outputs": [],
   "source": []
  }
 ],
 "metadata": {
  "kernelspec": {
   "display_name": "Python 3 (ipykernel)",
   "language": "python",
   "name": "python3"
  },
  "language_info": {
   "codemirror_mode": {
    "name": "ipython",
    "version": 3
   },
   "file_extension": ".py",
   "mimetype": "text/x-python",
   "name": "python",
   "nbconvert_exporter": "python",
   "pygments_lexer": "ipython3",
   "version": "3.9.7"
  }
 },
 "nbformat": 4,
 "nbformat_minor": 5
}
