{
 "cells": [
  {
   "cell_type": "code",
   "execution_count": 1,
   "id": "5623c66b",
   "metadata": {},
   "outputs": [],
   "source": [
    "import pandas as pd\n",
    "import numpy as np\n",
    "import seaborn as sns\n",
    "import matplotlib.pyplot as plt\n",
    "import glob\n",
    "import os\n",
    "import torch\n",
    "from torch.utils.data import Dataset, DataLoader\n",
    "from PIL import Image\n",
    "# from torchvision.transforms import ToTensor, ToPILImage\n",
    "import torchvision.transforms as transforms\n",
    "from collections import Counter\n",
    "from sklearn.model_selection import train_test_split\n",
    "from tqdm import tqdm\n",
    "from sklearn.metrics import mean_absolute_error, mean_squared_error\n",
    "import torchvision.models as models"
   ]
  },
  {
   "cell_type": "code",
   "execution_count": 2,
   "id": "b1e30452",
   "metadata": {},
   "outputs": [
    {
     "name": "stdout",
     "output_type": "stream",
     "text": [
      "(1603, 15)\n"
     ]
    },
    {
     "data": {
      "text/html": [
       "<div>\n",
       "<style scoped>\n",
       "    .dataframe tbody tr th:only-of-type {\n",
       "        vertical-align: middle;\n",
       "    }\n",
       "\n",
       "    .dataframe tbody tr th {\n",
       "        vertical-align: top;\n",
       "    }\n",
       "\n",
       "    .dataframe thead th {\n",
       "        text-align: right;\n",
       "    }\n",
       "</style>\n",
       "<table border=\"1\" class=\"dataframe\">\n",
       "  <thead>\n",
       "    <tr style=\"text-align: right;\">\n",
       "      <th></th>\n",
       "      <th>link</th>\n",
       "      <th>title</th>\n",
       "      <th>num</th>\n",
       "      <th>letter</th>\n",
       "      <th>hydrogel</th>\n",
       "      <th>sentence</th>\n",
       "      <th>figure</th>\n",
       "      <th>SEM</th>\n",
       "      <th>SEM_img</th>\n",
       "      <th>scale</th>\n",
       "      <th>modulus</th>\n",
       "      <th>measurement</th>\n",
       "      <th>modification</th>\n",
       "      <th>skip</th>\n",
       "      <th>Unnamed: 14</th>\n",
       "    </tr>\n",
       "  </thead>\n",
       "  <tbody>\n",
       "    <tr>\n",
       "      <th>0</th>\n",
       "      <td>https://pubs.acs.org/doi/10.1021/acsami.5b00184</td>\n",
       "      <td>Tough and Biocompatible Hydrogels Based on in ...</td>\n",
       "      <td>S3.</td>\n",
       "      <td>a</td>\n",
       "      <td>PVA</td>\n",
       "      <td>SEM images of the dehydrated PVA</td>\n",
       "      <td>sem/10.1021_acsami.5b00184\\supp_7.jpg</td>\n",
       "      <td>sem/10.1021_acsami.5b00184\\SEM</td>\n",
       "      <td>supp_7_SEM3.jpg</td>\n",
       "      <td>-5.0</td>\n",
       "      <td>compressive</td>\n",
       "      <td>42.3 kPa</td>\n",
       "      <td>NaN</td>\n",
       "      <td>NaN</td>\n",
       "      <td>NaN</td>\n",
       "    </tr>\n",
       "    <tr>\n",
       "      <th>1</th>\n",
       "      <td>https://pubs.acs.org/doi/10.1021/acsami.5b00185</td>\n",
       "      <td>Tough and Biocompatible Hydrogels Based on in ...</td>\n",
       "      <td>S3.</td>\n",
       "      <td>a</td>\n",
       "      <td>PVA</td>\n",
       "      <td>SEM images of the dehydrated PVA</td>\n",
       "      <td>sem/10.1021_acsami.5b00184\\supp_7.jpg</td>\n",
       "      <td>sem/10.1021_acsami.5b00184\\SEM</td>\n",
       "      <td>supp_7_SEM5.jpg</td>\n",
       "      <td>-6.0</td>\n",
       "      <td>compressive</td>\n",
       "      <td>42.3 kPa</td>\n",
       "      <td>NaN</td>\n",
       "      <td>NaN</td>\n",
       "      <td>NaN</td>\n",
       "    </tr>\n",
       "    <tr>\n",
       "      <th>2</th>\n",
       "      <td>https://pubs.acs.org/doi/10.1021/acsami.5b00186</td>\n",
       "      <td>Tough and Biocompatible Hydrogels Based on in ...</td>\n",
       "      <td>S3.</td>\n",
       "      <td>b</td>\n",
       "      <td>E-cGO0.5/PVA-2</td>\n",
       "      <td>and E-cGO/PVA-2IPN hydrogels with E-cGO   con...</td>\n",
       "      <td>sem/10.1021_acsami.5b00184\\supp_7.jpg</td>\n",
       "      <td>sem/10.1021_acsami.5b00184\\SEM</td>\n",
       "      <td>supp_7_SEM1.jpg</td>\n",
       "      <td>-5.0</td>\n",
       "      <td>compressive</td>\n",
       "      <td>60 kPa</td>\n",
       "      <td>NaN</td>\n",
       "      <td>NaN</td>\n",
       "      <td>NaN</td>\n",
       "    </tr>\n",
       "    <tr>\n",
       "      <th>3</th>\n",
       "      <td>https://pubs.acs.org/doi/10.1021/acsami.5b00187</td>\n",
       "      <td>Tough and Biocompatible Hydrogels Based on in ...</td>\n",
       "      <td>S3.</td>\n",
       "      <td>b</td>\n",
       "      <td>E-cGO0.5/PVA-2</td>\n",
       "      <td>and E-cGO/PVA-2IPN hydrogels with E-cGO   con...</td>\n",
       "      <td>sem/10.1021_acsami.5b00184\\supp_7.jpg</td>\n",
       "      <td>sem/10.1021_acsami.5b00184\\SEM</td>\n",
       "      <td>supp_7_SEM0.jpg</td>\n",
       "      <td>-6.0</td>\n",
       "      <td>compressive</td>\n",
       "      <td>60 kPa</td>\n",
       "      <td>NaN</td>\n",
       "      <td>NaN</td>\n",
       "      <td>NaN</td>\n",
       "    </tr>\n",
       "    <tr>\n",
       "      <th>4</th>\n",
       "      <td>https://pubs.acs.org/doi/10.1021/acsami.5b00188</td>\n",
       "      <td>Tough and Biocompatible Hydrogels Based on in ...</td>\n",
       "      <td>S3.</td>\n",
       "      <td>c</td>\n",
       "      <td>E-cGO1.0/PVA-2</td>\n",
       "      <td>and E-cGO/PVA-2IPN hydrogels with E-cGO   con...</td>\n",
       "      <td>sem/10.1021_acsami.5b00184\\supp_7.jpg</td>\n",
       "      <td>sem/10.1021_acsami.5b00184\\SEM</td>\n",
       "      <td>supp_7_SEM6.jpg</td>\n",
       "      <td>-5.0</td>\n",
       "      <td>compressive</td>\n",
       "      <td>60 kPa</td>\n",
       "      <td>NaN</td>\n",
       "      <td>NaN</td>\n",
       "      <td>NaN</td>\n",
       "    </tr>\n",
       "  </tbody>\n",
       "</table>\n",
       "</div>"
      ],
      "text/plain": [
       "                                              link  \\\n",
       "0  https://pubs.acs.org/doi/10.1021/acsami.5b00184   \n",
       "1  https://pubs.acs.org/doi/10.1021/acsami.5b00185   \n",
       "2  https://pubs.acs.org/doi/10.1021/acsami.5b00186   \n",
       "3  https://pubs.acs.org/doi/10.1021/acsami.5b00187   \n",
       "4  https://pubs.acs.org/doi/10.1021/acsami.5b00188   \n",
       "\n",
       "                                               title  num letter  \\\n",
       "0  Tough and Biocompatible Hydrogels Based on in ...  S3.      a   \n",
       "1  Tough and Biocompatible Hydrogels Based on in ...  S3.      a   \n",
       "2  Tough and Biocompatible Hydrogels Based on in ...  S3.      b   \n",
       "3  Tough and Biocompatible Hydrogels Based on in ...  S3.      b   \n",
       "4  Tough and Biocompatible Hydrogels Based on in ...  S3.      c   \n",
       "\n",
       "         hydrogel                                           sentence  \\\n",
       "0             PVA                   SEM images of the dehydrated PVA   \n",
       "1             PVA                   SEM images of the dehydrated PVA   \n",
       "2  E-cGO0.5/PVA-2   and E-cGO/PVA-2IPN hydrogels with E-cGO   con...   \n",
       "3  E-cGO0.5/PVA-2   and E-cGO/PVA-2IPN hydrogels with E-cGO   con...   \n",
       "4  E-cGO1.0/PVA-2   and E-cGO/PVA-2IPN hydrogels with E-cGO   con...   \n",
       "\n",
       "                                  figure                             SEM  \\\n",
       "0  sem/10.1021_acsami.5b00184\\supp_7.jpg  sem/10.1021_acsami.5b00184\\SEM   \n",
       "1  sem/10.1021_acsami.5b00184\\supp_7.jpg  sem/10.1021_acsami.5b00184\\SEM   \n",
       "2  sem/10.1021_acsami.5b00184\\supp_7.jpg  sem/10.1021_acsami.5b00184\\SEM   \n",
       "3  sem/10.1021_acsami.5b00184\\supp_7.jpg  sem/10.1021_acsami.5b00184\\SEM   \n",
       "4  sem/10.1021_acsami.5b00184\\supp_7.jpg  sem/10.1021_acsami.5b00184\\SEM   \n",
       "\n",
       "           SEM_img  scale      modulus measurement  modification skip  \\\n",
       "0  supp_7_SEM3.jpg   -5.0  compressive    42.3 kPa           NaN  NaN   \n",
       "1  supp_7_SEM5.jpg   -6.0  compressive    42.3 kPa           NaN  NaN   \n",
       "2  supp_7_SEM1.jpg   -5.0  compressive      60 kPa           NaN  NaN   \n",
       "3  supp_7_SEM0.jpg   -6.0  compressive      60 kPa           NaN  NaN   \n",
       "4  supp_7_SEM6.jpg   -5.0  compressive      60 kPa           NaN  NaN   \n",
       "\n",
       "  Unnamed: 14  \n",
       "0         NaN  \n",
       "1         NaN  \n",
       "2         NaN  \n",
       "3         NaN  \n",
       "4         NaN  "
      ]
     },
     "execution_count": 2,
     "metadata": {},
     "output_type": "execute_result"
    }
   ],
   "source": [
    "sem_df=pd.read_excel(\"SEM_Final.xlsx\")\n",
    "print(sem_df.shape)\n",
    "sem_df.head()"
   ]
  },
  {
   "cell_type": "code",
   "execution_count": 3,
   "id": "7f40302e",
   "metadata": {},
   "outputs": [
    {
     "data": {
      "text/plain": [
       "link               0\n",
       "title              0\n",
       "num                0\n",
       "letter             4\n",
       "hydrogel           0\n",
       "sentence          16\n",
       "figure             0\n",
       "SEM                0\n",
       "SEM_img          746\n",
       "scale            743\n",
       "modulus          766\n",
       "measurement      772\n",
       "modification    1603\n",
       "skip             796\n",
       "Unnamed: 14     1414\n",
       "dtype: int64"
      ]
     },
     "execution_count": 3,
     "metadata": {},
     "output_type": "execute_result"
    }
   ],
   "source": [
    "sem_df.isna().sum()"
   ]
  },
  {
   "cell_type": "code",
   "execution_count": 4,
   "id": "a0408d00",
   "metadata": {},
   "outputs": [
    {
     "name": "stdout",
     "output_type": "stream",
     "text": [
      "(0, 15)\n"
     ]
    },
    {
     "data": {
      "text/html": [
       "<div>\n",
       "<style scoped>\n",
       "    .dataframe tbody tr th:only-of-type {\n",
       "        vertical-align: middle;\n",
       "    }\n",
       "\n",
       "    .dataframe tbody tr th {\n",
       "        vertical-align: top;\n",
       "    }\n",
       "\n",
       "    .dataframe thead th {\n",
       "        text-align: right;\n",
       "    }\n",
       "</style>\n",
       "<table border=\"1\" class=\"dataframe\">\n",
       "  <thead>\n",
       "    <tr style=\"text-align: right;\">\n",
       "      <th></th>\n",
       "      <th>link</th>\n",
       "      <th>title</th>\n",
       "      <th>num</th>\n",
       "      <th>letter</th>\n",
       "      <th>hydrogel</th>\n",
       "      <th>sentence</th>\n",
       "      <th>figure</th>\n",
       "      <th>SEM</th>\n",
       "      <th>SEM_img</th>\n",
       "      <th>scale</th>\n",
       "      <th>modulus</th>\n",
       "      <th>measurement</th>\n",
       "      <th>modification</th>\n",
       "      <th>skip</th>\n",
       "      <th>Unnamed: 14</th>\n",
       "    </tr>\n",
       "  </thead>\n",
       "  <tbody>\n",
       "  </tbody>\n",
       "</table>\n",
       "</div>"
      ],
      "text/plain": [
       "Empty DataFrame\n",
       "Columns: [link, title, num, letter, hydrogel, sentence, figure, SEM, SEM_img, scale, modulus, measurement, modification, skip, Unnamed: 14]\n",
       "Index: []"
      ]
     },
     "execution_count": 4,
     "metadata": {},
     "output_type": "execute_result"
    }
   ],
   "source": [
    "measure_sem_df = sem_df[sem_df['skip'].isna()]\n",
    "measure_sem_df = measure_sem_df[measure_sem_df['measurement'].isna()]\n",
    "print(measure_sem_df.shape)\n",
    "measure_sem_df.to_csv(\"missing_measurement.csv\")\n",
    "measure_sem_df.head()"
   ]
  },
  {
   "cell_type": "code",
   "execution_count": 5,
   "id": "c4271d57",
   "metadata": {
    "scrolled": true
   },
   "outputs": [
    {
     "name": "stdout",
     "output_type": "stream",
     "text": [
      "793\n",
      "(793, 15)\n"
     ]
    },
    {
     "data": {
      "text/html": [
       "<div>\n",
       "<style scoped>\n",
       "    .dataframe tbody tr th:only-of-type {\n",
       "        vertical-align: middle;\n",
       "    }\n",
       "\n",
       "    .dataframe tbody tr th {\n",
       "        vertical-align: top;\n",
       "    }\n",
       "\n",
       "    .dataframe thead th {\n",
       "        text-align: right;\n",
       "    }\n",
       "</style>\n",
       "<table border=\"1\" class=\"dataframe\">\n",
       "  <thead>\n",
       "    <tr style=\"text-align: right;\">\n",
       "      <th></th>\n",
       "      <th>link</th>\n",
       "      <th>title</th>\n",
       "      <th>num</th>\n",
       "      <th>letter</th>\n",
       "      <th>hydrogel</th>\n",
       "      <th>sentence</th>\n",
       "      <th>figure</th>\n",
       "      <th>SEM</th>\n",
       "      <th>SEM_img</th>\n",
       "      <th>scale</th>\n",
       "      <th>modulus</th>\n",
       "      <th>measurement</th>\n",
       "      <th>modification</th>\n",
       "      <th>skip</th>\n",
       "      <th>Unnamed: 14</th>\n",
       "    </tr>\n",
       "  </thead>\n",
       "  <tbody>\n",
       "    <tr>\n",
       "      <th>0</th>\n",
       "      <td>https://pubs.acs.org/doi/10.1021/acsami.5b00184</td>\n",
       "      <td>Tough and Biocompatible Hydrogels Based on in ...</td>\n",
       "      <td>S3.</td>\n",
       "      <td>a</td>\n",
       "      <td>PVA</td>\n",
       "      <td>SEM images of the dehydrated PVA</td>\n",
       "      <td>sem/10.1021_acsami.5b00184\\supp_7.jpg</td>\n",
       "      <td>sem/10.1021_acsami.5b00184\\SEM</td>\n",
       "      <td>supp_7_SEM3.jpg</td>\n",
       "      <td>-5.0</td>\n",
       "      <td>compressive</td>\n",
       "      <td>42.3 kPa</td>\n",
       "      <td>NaN</td>\n",
       "      <td>NaN</td>\n",
       "      <td>NaN</td>\n",
       "    </tr>\n",
       "    <tr>\n",
       "      <th>1</th>\n",
       "      <td>https://pubs.acs.org/doi/10.1021/acsami.5b00185</td>\n",
       "      <td>Tough and Biocompatible Hydrogels Based on in ...</td>\n",
       "      <td>S3.</td>\n",
       "      <td>a</td>\n",
       "      <td>PVA</td>\n",
       "      <td>SEM images of the dehydrated PVA</td>\n",
       "      <td>sem/10.1021_acsami.5b00184\\supp_7.jpg</td>\n",
       "      <td>sem/10.1021_acsami.5b00184\\SEM</td>\n",
       "      <td>supp_7_SEM5.jpg</td>\n",
       "      <td>-6.0</td>\n",
       "      <td>compressive</td>\n",
       "      <td>42.3 kPa</td>\n",
       "      <td>NaN</td>\n",
       "      <td>NaN</td>\n",
       "      <td>NaN</td>\n",
       "    </tr>\n",
       "    <tr>\n",
       "      <th>2</th>\n",
       "      <td>https://pubs.acs.org/doi/10.1021/acsami.5b00186</td>\n",
       "      <td>Tough and Biocompatible Hydrogels Based on in ...</td>\n",
       "      <td>S3.</td>\n",
       "      <td>b</td>\n",
       "      <td>E-cGO0.5/PVA-2</td>\n",
       "      <td>and E-cGO/PVA-2IPN hydrogels with E-cGO   con...</td>\n",
       "      <td>sem/10.1021_acsami.5b00184\\supp_7.jpg</td>\n",
       "      <td>sem/10.1021_acsami.5b00184\\SEM</td>\n",
       "      <td>supp_7_SEM1.jpg</td>\n",
       "      <td>-5.0</td>\n",
       "      <td>compressive</td>\n",
       "      <td>60 kPa</td>\n",
       "      <td>NaN</td>\n",
       "      <td>NaN</td>\n",
       "      <td>NaN</td>\n",
       "    </tr>\n",
       "    <tr>\n",
       "      <th>3</th>\n",
       "      <td>https://pubs.acs.org/doi/10.1021/acsami.5b00187</td>\n",
       "      <td>Tough and Biocompatible Hydrogels Based on in ...</td>\n",
       "      <td>S3.</td>\n",
       "      <td>b</td>\n",
       "      <td>E-cGO0.5/PVA-2</td>\n",
       "      <td>and E-cGO/PVA-2IPN hydrogels with E-cGO   con...</td>\n",
       "      <td>sem/10.1021_acsami.5b00184\\supp_7.jpg</td>\n",
       "      <td>sem/10.1021_acsami.5b00184\\SEM</td>\n",
       "      <td>supp_7_SEM0.jpg</td>\n",
       "      <td>-6.0</td>\n",
       "      <td>compressive</td>\n",
       "      <td>60 kPa</td>\n",
       "      <td>NaN</td>\n",
       "      <td>NaN</td>\n",
       "      <td>NaN</td>\n",
       "    </tr>\n",
       "    <tr>\n",
       "      <th>4</th>\n",
       "      <td>https://pubs.acs.org/doi/10.1021/acsami.5b00188</td>\n",
       "      <td>Tough and Biocompatible Hydrogels Based on in ...</td>\n",
       "      <td>S3.</td>\n",
       "      <td>c</td>\n",
       "      <td>E-cGO1.0/PVA-2</td>\n",
       "      <td>and E-cGO/PVA-2IPN hydrogels with E-cGO   con...</td>\n",
       "      <td>sem/10.1021_acsami.5b00184\\supp_7.jpg</td>\n",
       "      <td>sem/10.1021_acsami.5b00184\\SEM</td>\n",
       "      <td>supp_7_SEM6.jpg</td>\n",
       "      <td>-5.0</td>\n",
       "      <td>compressive</td>\n",
       "      <td>60 kPa</td>\n",
       "      <td>NaN</td>\n",
       "      <td>NaN</td>\n",
       "      <td>NaN</td>\n",
       "    </tr>\n",
       "  </tbody>\n",
       "</table>\n",
       "</div>"
      ],
      "text/plain": [
       "                                              link  \\\n",
       "0  https://pubs.acs.org/doi/10.1021/acsami.5b00184   \n",
       "1  https://pubs.acs.org/doi/10.1021/acsami.5b00185   \n",
       "2  https://pubs.acs.org/doi/10.1021/acsami.5b00186   \n",
       "3  https://pubs.acs.org/doi/10.1021/acsami.5b00187   \n",
       "4  https://pubs.acs.org/doi/10.1021/acsami.5b00188   \n",
       "\n",
       "                                               title  num letter  \\\n",
       "0  Tough and Biocompatible Hydrogels Based on in ...  S3.      a   \n",
       "1  Tough and Biocompatible Hydrogels Based on in ...  S3.      a   \n",
       "2  Tough and Biocompatible Hydrogels Based on in ...  S3.      b   \n",
       "3  Tough and Biocompatible Hydrogels Based on in ...  S3.      b   \n",
       "4  Tough and Biocompatible Hydrogels Based on in ...  S3.      c   \n",
       "\n",
       "         hydrogel                                           sentence  \\\n",
       "0             PVA                   SEM images of the dehydrated PVA   \n",
       "1             PVA                   SEM images of the dehydrated PVA   \n",
       "2  E-cGO0.5/PVA-2   and E-cGO/PVA-2IPN hydrogels with E-cGO   con...   \n",
       "3  E-cGO0.5/PVA-2   and E-cGO/PVA-2IPN hydrogels with E-cGO   con...   \n",
       "4  E-cGO1.0/PVA-2   and E-cGO/PVA-2IPN hydrogels with E-cGO   con...   \n",
       "\n",
       "                                  figure                             SEM  \\\n",
       "0  sem/10.1021_acsami.5b00184\\supp_7.jpg  sem/10.1021_acsami.5b00184\\SEM   \n",
       "1  sem/10.1021_acsami.5b00184\\supp_7.jpg  sem/10.1021_acsami.5b00184\\SEM   \n",
       "2  sem/10.1021_acsami.5b00184\\supp_7.jpg  sem/10.1021_acsami.5b00184\\SEM   \n",
       "3  sem/10.1021_acsami.5b00184\\supp_7.jpg  sem/10.1021_acsami.5b00184\\SEM   \n",
       "4  sem/10.1021_acsami.5b00184\\supp_7.jpg  sem/10.1021_acsami.5b00184\\SEM   \n",
       "\n",
       "           SEM_img  scale      modulus measurement  modification skip  \\\n",
       "0  supp_7_SEM3.jpg   -5.0  compressive    42.3 kPa           NaN  NaN   \n",
       "1  supp_7_SEM5.jpg   -6.0  compressive    42.3 kPa           NaN  NaN   \n",
       "2  supp_7_SEM1.jpg   -5.0  compressive      60 kPa           NaN  NaN   \n",
       "3  supp_7_SEM0.jpg   -6.0  compressive      60 kPa           NaN  NaN   \n",
       "4  supp_7_SEM6.jpg   -5.0  compressive      60 kPa           NaN  NaN   \n",
       "\n",
       "  Unnamed: 14  \n",
       "0         NaN  \n",
       "1         NaN  \n",
       "2         NaN  \n",
       "3         NaN  \n",
       "4         NaN  "
      ]
     },
     "execution_count": 5,
     "metadata": {},
     "output_type": "execute_result"
    }
   ],
   "source": [
    "parsed_sem_df = sem_df[sem_df['measurement'].notna()]\n",
    "parsed_sem_df = parsed_sem_df[parsed_sem_df['SEM_img'].notna()]\n",
    "print(parsed_sem_df['skip'].isna().sum())\n",
    "parsed_sem_df = parsed_sem_df[parsed_sem_df['skip'].isna()]\n",
    "print(parsed_sem_df.shape)\n",
    "parsed_sem_df.head()"
   ]
  },
  {
   "cell_type": "code",
   "execution_count": 6,
   "id": "8c85bbf0",
   "metadata": {},
   "outputs": [
    {
     "data": {
      "text/plain": [
       "Series([], Name: skip, dtype: int64)"
      ]
     },
     "execution_count": 6,
     "metadata": {},
     "output_type": "execute_result"
    }
   ],
   "source": [
    "parsed_sem_df['skip'].value_counts()"
   ]
  },
  {
   "cell_type": "code",
   "execution_count": 7,
   "id": "8191f552",
   "metadata": {},
   "outputs": [
    {
     "data": {
      "text/plain": [
       "link              0\n",
       "title             0\n",
       "num               0\n",
       "letter            4\n",
       "hydrogel          0\n",
       "sentence          8\n",
       "figure            0\n",
       "SEM               0\n",
       "SEM_img           0\n",
       "scale             4\n",
       "modulus           0\n",
       "measurement       0\n",
       "modification    793\n",
       "skip            793\n",
       "Unnamed: 14     712\n",
       "dtype: int64"
      ]
     },
     "execution_count": 7,
     "metadata": {},
     "output_type": "execute_result"
    }
   ],
   "source": [
    "parsed_sem_df.isna().sum()"
   ]
  },
  {
   "cell_type": "code",
   "execution_count": 8,
   "id": "1836e327",
   "metadata": {},
   "outputs": [
    {
     "data": {
      "text/html": [
       "<div>\n",
       "<style scoped>\n",
       "    .dataframe tbody tr th:only-of-type {\n",
       "        vertical-align: middle;\n",
       "    }\n",
       "\n",
       "    .dataframe tbody tr th {\n",
       "        vertical-align: top;\n",
       "    }\n",
       "\n",
       "    .dataframe thead th {\n",
       "        text-align: right;\n",
       "    }\n",
       "</style>\n",
       "<table border=\"1\" class=\"dataframe\">\n",
       "  <thead>\n",
       "    <tr style=\"text-align: right;\">\n",
       "      <th></th>\n",
       "      <th>link</th>\n",
       "      <th>title</th>\n",
       "      <th>num</th>\n",
       "      <th>letter</th>\n",
       "      <th>hydrogel</th>\n",
       "      <th>sentence</th>\n",
       "      <th>figure</th>\n",
       "      <th>SEM</th>\n",
       "      <th>SEM_img</th>\n",
       "      <th>scale</th>\n",
       "      <th>modulus</th>\n",
       "      <th>measurement</th>\n",
       "      <th>modification</th>\n",
       "      <th>skip</th>\n",
       "      <th>Unnamed: 14</th>\n",
       "    </tr>\n",
       "  </thead>\n",
       "  <tbody>\n",
       "  </tbody>\n",
       "</table>\n",
       "</div>"
      ],
      "text/plain": [
       "Empty DataFrame\n",
       "Columns: [link, title, num, letter, hydrogel, sentence, figure, SEM, SEM_img, scale, modulus, measurement, modification, skip, Unnamed: 14]\n",
       "Index: []"
      ]
     },
     "execution_count": 8,
     "metadata": {},
     "output_type": "execute_result"
    }
   ],
   "source": [
    "missing_sem_df = parsed_sem_df[parsed_sem_df['SEM_img'].isna()]\n",
    "# missing_sem_df.to_csv(\"missing_sem_rows.csv\")\n",
    "missing_sem_df.head(40) "
   ]
  },
  {
   "cell_type": "code",
   "execution_count": 9,
   "id": "0a178b03",
   "metadata": {},
   "outputs": [
    {
     "data": {
      "text/plain": [
       "Series([], Name: skip, dtype: int64)"
      ]
     },
     "execution_count": 9,
     "metadata": {},
     "output_type": "execute_result"
    }
   ],
   "source": [
    "missing_sem_df['skip'].value_counts()"
   ]
  },
  {
   "cell_type": "code",
   "execution_count": 10,
   "id": "52aec5fc",
   "metadata": {},
   "outputs": [],
   "source": [
    "parsed_sem_df['img_path'] = parsed_sem_df.apply(lambda x: os.path.join(x['SEM'],x['SEM_img']),axis=1)"
   ]
  },
  {
   "cell_type": "code",
   "execution_count": 11,
   "id": "e9137983",
   "metadata": {},
   "outputs": [
    {
     "data": {
      "text/plain": [
       "0          sem/10.1021_acsami.5b00184\\SEM\\supp_7_SEM3.jpg\n",
       "1          sem/10.1021_acsami.5b00184\\SEM\\supp_7_SEM5.jpg\n",
       "2          sem/10.1021_acsami.5b00184\\SEM\\supp_7_SEM1.jpg\n",
       "3          sem/10.1021_acsami.5b00184\\SEM\\supp_7_SEM0.jpg\n",
       "4          sem/10.1021_acsami.5b00184\\SEM\\supp_7_SEM6.jpg\n",
       "                              ...                        \n",
       "1598    sem/10.1021_acs.langmuir.8b02918\\SEM\\la-2018-0...\n",
       "1599    sem/10.1021_acs.langmuir.8b02918\\SEM\\la-2018-0...\n",
       "1600    sem/10.1021_acsbiomaterials.0c00143\\SEM\\ab0c00...\n",
       "1601    sem/10.1021_acsbiomaterials.0c00143\\SEM\\ab0c00...\n",
       "1602    sem/10.1021_acsbiomaterials.0c00143\\SEM\\ab0c00...\n",
       "Name: img_path, Length: 793, dtype: object"
      ]
     },
     "execution_count": 11,
     "metadata": {},
     "output_type": "execute_result"
    }
   ],
   "source": [
    "parsed_sem_df['img_path']"
   ]
  },
  {
   "cell_type": "code",
   "execution_count": 12,
   "id": "1f99fbd6",
   "metadata": {},
   "outputs": [
    {
     "data": {
      "text/plain": [
       "0        42300.0\n",
       "1        42300.0\n",
       "2        60000.0\n",
       "3        60000.0\n",
       "4        60000.0\n",
       "          ...   \n",
       "1598    157000.0\n",
       "1599    162000.0\n",
       "1600      8000.0\n",
       "1601     50000.0\n",
       "1602    120000.0\n",
       "Name: measurement, Length: 793, dtype: float64"
      ]
     },
     "execution_count": 12,
     "metadata": {},
     "output_type": "execute_result"
    }
   ],
   "source": [
    "# clean dataset to get correct labels\n",
    "parsed_sem_df['measurement']\n",
    "\n",
    "def convert_measurement(string):\n",
    "    string.replace(\" \",\"\")\n",
    "    kpa = [\"KPa\",\"kPa\", \"Kpa\", \"kpa\",\"KpA\"]\n",
    "    mpa = [\"Mpa\",\"MPa\"]\n",
    "    gpa = [\"GPa\",\"Gpa\"]\n",
    "    \n",
    "    if any(KPA in string for KPA in kpa):\n",
    "        for KPA in kpa:\n",
    "            string = string.replace(KPA,\"\")\n",
    "        string = string.strip()\n",
    "        value = float(string)\n",
    "        value *= 1000 \n",
    "    elif any(MPA in string for MPA in mpa):\n",
    "        for MPA in mpa:\n",
    "            string = string.replace(MPA,\"\")\n",
    "        string = string.strip()\n",
    "        value = float(string)\n",
    "        value *= 1000000\n",
    "    elif any(GPA in string for GPA in gpa):\n",
    "        for GPA in gpa:\n",
    "            string = string.replace(GPA,\"\")\n",
    "        string = string.strip()\n",
    "        value = float(string)\n",
    "        value *= 1000000000\n",
    "    elif \"Pa\" in string:\n",
    "        string = string.replace(\"Pa\",\"\")\n",
    "        string = string.strip()\n",
    "        value = float(string)\n",
    "    else:\n",
    "        print(string)\n",
    "        return\n",
    "    return value\n",
    "parsed_sem_df['measurement'].apply(convert_measurement)"
   ]
  },
  {
   "cell_type": "code",
   "execution_count": 13,
   "id": "4e21e56f",
   "metadata": {},
   "outputs": [],
   "source": [
    "transform = transforms.Compose(\n",
    "    [transforms.Resize(256),\n",
    "#     transforms.Grayscale(3),\n",
    "    transforms.CenterCrop(224),\n",
    "    transforms.RandomHorizontalFlip(),\n",
    "    transforms.RandomVerticalFlip(),\n",
    "    transforms.ToTensor(),\n",
    "    transforms.Normalize(0,1)\n",
    "    ]\n",
    ")\n",
    "eval_transform = transform = transforms.Compose(\n",
    "    [transforms.Resize(256),\n",
    "#     transforms.Grayscale(3),\n",
    "    transforms.CenterCrop(224),\n",
    "    transforms.ToTensor(),\n",
    "    transforms.Normalize(0,1)\n",
    "    ]\n",
    ")"
   ]
  },
  {
   "cell_type": "code",
   "execution_count": 14,
   "id": "256839a6",
   "metadata": {},
   "outputs": [
    {
     "name": "stdout",
     "output_type": "stream",
     "text": [
      "793\n",
      "(793, 16)\n",
      "Length: 793\n"
     ]
    },
    {
     "data": {
      "text/plain": [
       "<matplotlib.image.AxesImage at 0x2009fbc5550>"
      ]
     },
     "execution_count": 14,
     "metadata": {},
     "output_type": "execute_result"
    },
    {
     "data": {
      "image/png": "[encoded data removed]",
      "text/plain": [
       "<Figure size 432x288 with 1 Axes>"
      ]
     },
     "metadata": {
      "needs_background": "light"
     },
     "output_type": "display_data"
    }
   ],
   "source": [
    "class semDataset(Dataset):\n",
    "    def __init__(self,filepath=\"SEM_Final.xlsx\", transform = None):\n",
    "        sem_df=pd.read_excel(\"SEM_Final.xlsx\")\n",
    "        parsed_sem_df = sem_df[sem_df['measurement'].notna()]\n",
    "        parsed_sem_df = parsed_sem_df[parsed_sem_df['SEM_img'].notna()]\n",
    "        print(parsed_sem_df['skip'].isna().sum())\n",
    "        parsed_sem_df = parsed_sem_df[parsed_sem_df['skip'].isna()]\n",
    "        parsed_sem_df['img_path'] = parsed_sem_df.apply(lambda x: os.path.join(x['SEM'],x['SEM_img']),axis=1)\n",
    "        print(parsed_sem_df.shape)\n",
    "        parsed_sem_df['measurement']= parsed_sem_df['measurement'].apply(self.convert_measurement)\n",
    "        self.sem_df = parsed_sem_df\n",
    "        self.transform = transform\n",
    "    \n",
    "    def __len__(self):\n",
    "        return parsed_sem_df.shape[0]\n",
    "    \n",
    "    def convert_measurement(self,string):\n",
    "        string.replace(\" \",\"\")\n",
    "        kpa = [\"KPa\",\"kPa\", \"Kpa\", \"kpa\",\"KpA\"]\n",
    "        mpa = [\"Mpa\",\"MPa\"]\n",
    "        gpa = [\"GPa\",\"Gpa\"]\n",
    "\n",
    "        if any(KPA in string for KPA in kpa):\n",
    "            for KPA in kpa:\n",
    "                string = string.replace(KPA,\"\")\n",
    "            string = string.strip()\n",
    "            value = float(string)\n",
    "            value *= 1000 \n",
    "        elif any(MPA in string for MPA in mpa):\n",
    "            for MPA in mpa:\n",
    "                string = string.replace(MPA,\"\")\n",
    "            string = string.strip()\n",
    "            value = float(string)\n",
    "            value *= 1000000\n",
    "        elif any(GPA in string for GPA in gpa):\n",
    "            for GPA in gpa:\n",
    "                string = string.replace(GPA,\"\")\n",
    "            string = string.strip()\n",
    "            value = float(string)\n",
    "            value *= 1000000000\n",
    "        elif \"Pa\" in string:\n",
    "            string = string.replace(\"Pa\",\"\")\n",
    "            string = string.strip()\n",
    "            value = float(string)\n",
    "        else:\n",
    "            print(string)\n",
    "            return\n",
    "        return np.log10(value)\n",
    "    def __getitem__(self,index):\n",
    "        image = Image.open(self.sem_df.iloc[index][\"img_path\"])\n",
    "        label = self.sem_df.iloc[index][\"measurement\"]\n",
    "        if self.transform is not None:\n",
    "            image = self.transform(image)\n",
    "        label = torch.tensor(label)\n",
    "        return image, label\n",
    "semdata = semDataset(transform=transform)\n",
    "print(f\"Length: {len(semdata)}\")\n",
    "image, label=semdata.__getitem__(0)\n",
    "plt.imshow(image.permute(1,2,0))"
   ]
  },
  {
   "cell_type": "code",
   "execution_count": 15,
   "id": "debd4b5b",
   "metadata": {},
   "outputs": [
    {
     "name": "stdout",
     "output_type": "stream",
     "text": [
      "793\n",
      "(793, 16)\n",
      "793\n",
      "(793, 16)\n",
      "793\n",
      "(793, 16)\n",
      "Train dataset length: 475\n",
      "Validation dataset length: 159\n",
      "Test dataset length: 159\n"
     ]
    }
   ],
   "source": [
    "# Create train test split, as 60/20/20 split\n",
    "train_idx, test_idx = train_test_split(list(range(len(semdata))),test_size = 0.2, random_state=42)\n",
    "train_idx, val_idx =  train_test_split(train_idx, test_size = 0.25, random_state=42)\n",
    "train_data = torch.utils.data.Subset(semDataset(transform=transform),train_idx)\n",
    "val_data = torch.utils.data.Subset(semDataset(transform=eval_transform),val_idx)\n",
    "test_data = torch.utils.data.Subset(semDataset(transform=eval_transform),test_idx)\n",
    "print(f\"Train dataset length: {len(train_data)}\")\n",
    "print(f\"Validation dataset length: {len(val_data)}\")\n",
    "print(f\"Test dataset length: {len(test_data)}\")"
   ]
  },
  {
   "cell_type": "code",
   "execution_count": 16,
   "id": "242a8007",
   "metadata": {},
   "outputs": [],
   "source": [
    "batch_size = 10\n",
    "train_loader = DataLoader(train_data, batch_size=batch_size, \n",
    "                          shuffle=True, num_workers=0, persistent_workers=False)\n",
    "val_loader = DataLoader(val_data, batch_size=batch_size*4, \n",
    "                          shuffle=False, num_workers=0, persistent_workers=False)\n",
    "test_loader = DataLoader(test_data, batch_size=batch_size*4, \n",
    "                          shuffle=False, num_workers=0, persistent_workers=False)"
   ]
  },
  {
   "cell_type": "code",
   "execution_count": 17,
   "id": "478cac28",
   "metadata": {},
   "outputs": [
    {
     "name": "stdout",
     "output_type": "stream",
     "text": [
      "We cannot open 0 files\n",
      "Smallest resolution is (224, 224)\n",
      "Largest resolution is (224, 224)\n"
     ]
    }
   ],
   "source": [
    "resolution = []\n",
    "cannot_open = []\n",
    "low_res = []\n",
    "to_pil = transforms.ToPILImage()\n",
    "for i in range(len(semdata)):\n",
    "    try:\n",
    "        image, label=semdata.__getitem__(i)\n",
    "#         image = image.permute(1,2,0)\n",
    "        image = to_pil(image)\n",
    "        if image.size[0]<128 or image.size[1]<128:\n",
    "            low_res.append(i)\n",
    "        resolution.append(image.size)\n",
    "    except:\n",
    "        print(parsed_sem_df.iloc[i,:][\"img_path\"])\n",
    "        cannot_open.append(i)\n",
    "        print(f\"Cannot open {i}\")\n",
    "parsed_sem_df.iloc[cannot_open,:].to_csv(\"cannot_open.csv\")\n",
    "print(f\"We cannot open {len(cannot_open)} files\")\n",
    "print(f\"Smallest resolution is {min(resolution)}\")\n",
    "print(f\"Largest resolution is {max(resolution)}\")"
   ]
  },
  {
   "cell_type": "code",
   "execution_count": 18,
   "id": "a17cc1e1",
   "metadata": {},
   "outputs": [
    {
     "data": {
      "text/plain": [
       "[]"
      ]
     },
     "execution_count": 18,
     "metadata": {},
     "output_type": "execute_result"
    }
   ],
   "source": [
    "low_res"
   ]
  },
  {
   "cell_type": "code",
   "execution_count": 19,
   "id": "abd24ace",
   "metadata": {},
   "outputs": [
    {
     "data": {
      "text/plain": [
       "<matplotlib.image.AxesImage at 0x200a00f8bb0>"
      ]
     },
     "execution_count": 19,
     "metadata": {},
     "output_type": "execute_result"
    },
    {
     "data": {
      "image/png": "[encoded data removed]",
      "text/plain": [
       "<Figure size 432x288 with 1 Axes>"
      ]
     },
     "metadata": {
      "needs_background": "light"
     },
     "output_type": "display_data"
    }
   ],
   "source": [
    "plt.imshow(semdata.__getitem__(615)[0].permute(1,2,0))"
   ]
  },
  {
   "cell_type": "code",
   "execution_count": 20,
   "id": "79cb0189",
   "metadata": {},
   "outputs": [
    {
     "data": {
      "text/plain": [
       "torch.Tensor"
      ]
     },
     "execution_count": 20,
     "metadata": {},
     "output_type": "execute_result"
    }
   ],
   "source": [
    "type(semdata.__getitem__(615)[0])"
   ]
  },
  {
   "cell_type": "code",
   "execution_count": 21,
   "id": "b8123866",
   "metadata": {},
   "outputs": [],
   "source": [
    "# Define a model\n",
    "\n",
    "class SEMPro(torch.nn.Module):\n",
    "    def __init__(self):\n",
    "        super(SEMPro,self).__init__()\n",
    "        self.cnn_block = torch.nn.Sequential(\n",
    "            torch.nn.Conv2d(1,16,kernel_size=3,stride=2),\n",
    "            torch.nn.ELU(inplace=True),\n",
    "            torch.nn.MaxPool2d(2),\n",
    "            torch.nn.BatchNorm2d(16),\n",
    "            torch.nn.Conv2d(16,8,kernel_size=3,stride=2),\n",
    "            torch.nn.ELU(inplace=True),\n",
    "            torch.nn.MaxPool2d(2),\n",
    "            torch.nn.BatchNorm2d(8)         \n",
    "        )\n",
    "        \n",
    "        self.linear_layer = torch.nn.Sequential(\n",
    "            torch.nn.LazyLinear(64),\n",
    "            torch.nn.ELU(inplace=True),\n",
    "            torch.nn.BatchNorm1d(64),\n",
    "            torch.nn.Linear(64,32),\n",
    "            torch.nn.BatchNorm1d(32),\n",
    "            torch.nn.ELU(inplace=True),\n",
    "            torch.nn.Linear(32,1)\n",
    "        )\n",
    "    \n",
    "    def forward(self, x):\n",
    "        x = self.cnn_block(x)\n",
    "#         print(x.shape)\n",
    "        x = x.view(x.size(0),-1)\n",
    "#         print(x.shape)\n",
    "        x = self.linear_layer(x)\n",
    "        return x"
   ]
  },
  {
   "cell_type": "code",
   "execution_count": 22,
   "id": "da0c0a40",
   "metadata": {},
   "outputs": [],
   "source": [
    "class SEMPro_resNext(torch.nn.Module):\n",
    "    def __init__(self,fc_size = 2048,large = False, pretrained = False):\n",
    "        super(SEMPro_resNext,self).__init__()\n",
    "        if large:\n",
    "            self.model = models.resnext101_32x8d(pretrained=pretrained)\n",
    "        else:\n",
    "            self.model = models.resnext50_32x4d(pretrained=pretrained)\n",
    "        self.model.fc = torch.nn.Linear(fc_size,1)\n",
    "        # Change relu to elu\n",
    "        self.replace_layers(self.model, torch.nn.ReLU, torch.nn.ELU())\n",
    "    def forward(self,x):\n",
    "        x = self.model(x)\n",
    "        return x\n",
    "    ## From https://stackoverflow.com/questions/58297197/how-to-change-activation-layer-in-pytorch-pretrained-module\n",
    "    def replace_layers(self, model, old, new):\n",
    "        for n, module in model.named_children():\n",
    "            if len(list(module.children())) > 0:\n",
    "                ## compound module, go inside it\n",
    "                self.replace_layers(module, old, new)\n",
    "            if isinstance(module, old):\n",
    "                ## simple module\n",
    "                setattr(model, n, new)"
   ]
  },
  {
   "cell_type": "code",
   "execution_count": 23,
   "id": "5a224b00",
   "metadata": {},
   "outputs": [
    {
     "name": "stdout",
     "output_type": "stream",
     "text": [
      "Running on cuda\n",
      "SEMPro_resNext(\n",
      "  (model): ResNet(\n",
      "    (conv1): Conv2d(3, 64, kernel_size=(7, 7), stride=(2, 2), padding=(3, 3), bias=False)\n",
      "    (bn1): BatchNorm2d(64, eps=1e-05, momentum=0.1, affine=True, track_running_stats=True)\n",
      "    (relu): ELU(alpha=1.0)\n",
      "    (maxpool): MaxPool2d(kernel_size=3, stride=2, padding=1, dilation=1, ceil_mode=False)\n",
      "    (layer1): Sequential(\n",
      "      (0): Bottleneck(\n",
      "        (conv1): Conv2d(64, 128, kernel_size=(1, 1), stride=(1, 1), bias=False)\n",
      "        (bn1): BatchNorm2d(128, eps=1e-05, momentum=0.1, affine=True, track_running_stats=True)\n",
      "        (conv2): Conv2d(128, 128, kernel_size=(3, 3), stride=(1, 1), padding=(1, 1), groups=32, bias=False)\n",
      "        (bn2): BatchNorm2d(128, eps=1e-05, momentum=0.1, affine=True, track_running_stats=True)\n",
      "        (conv3): Conv2d(128, 256, kernel_size=(1, 1), stride=(1, 1), bias=False)\n",
      "        (bn3): BatchNorm2d(256, eps=1e-05, momentum=0.1, affine=True, track_running_stats=True)\n",
      "        (relu): ELU(alpha=1.0)\n",
      "        (downsample): Sequential(\n",
      "          (0): Conv2d(64, 256, kernel_size=(1, 1), stride=(1, 1), bias=False)\n",
      "          (1): BatchNorm2d(256, eps=1e-05, momentum=0.1, affine=True, track_running_stats=True)\n",
      "        )\n",
      "      )\n",
      "      (1): Bottleneck(\n",
      "        (conv1): Conv2d(256, 128, kernel_size=(1, 1), stride=(1, 1), bias=False)\n",
      "        (bn1): BatchNorm2d(128, eps=1e-05, momentum=0.1, affine=True, track_running_stats=True)\n",
      "        (conv2): Conv2d(128, 128, kernel_size=(3, 3), stride=(1, 1), padding=(1, 1), groups=32, bias=False)\n",
      "        (bn2): BatchNorm2d(128, eps=1e-05, momentum=0.1, affine=True, track_running_stats=True)\n",
      "        (conv3): Conv2d(128, 256, kernel_size=(1, 1), stride=(1, 1), bias=False)\n",
      "        (bn3): BatchNorm2d(256, eps=1e-05, momentum=0.1, affine=True, track_running_stats=True)\n",
      "        (relu): ELU(alpha=1.0)\n",
      "      )\n",
      "      (2): Bottleneck(\n",
      "        (conv1): Conv2d(256, 128, kernel_size=(1, 1), stride=(1, 1), bias=False)\n",
      "        (bn1): BatchNorm2d(128, eps=1e-05, momentum=0.1, affine=True, track_running_stats=True)\n",
      "        (conv2): Conv2d(128, 128, kernel_size=(3, 3), stride=(1, 1), padding=(1, 1), groups=32, bias=False)\n",
      "        (bn2): BatchNorm2d(128, eps=1e-05, momentum=0.1, affine=True, track_running_stats=True)\n",
      "        (conv3): Conv2d(128, 256, kernel_size=(1, 1), stride=(1, 1), bias=False)\n",
      "        (bn3): BatchNorm2d(256, eps=1e-05, momentum=0.1, affine=True, track_running_stats=True)\n",
      "        (relu): ELU(alpha=1.0)\n",
      "      )\n",
      "    )\n",
      "    (layer2): Sequential(\n",
      "      (0): Bottleneck(\n",
      "        (conv1): Conv2d(256, 256, kernel_size=(1, 1), stride=(1, 1), bias=False)\n",
      "        (bn1): BatchNorm2d(256, eps=1e-05, momentum=0.1, affine=True, track_running_stats=True)\n",
      "        (conv2): Conv2d(256, 256, kernel_size=(3, 3), stride=(2, 2), padding=(1, 1), groups=32, bias=False)\n",
      "        (bn2): BatchNorm2d(256, eps=1e-05, momentum=0.1, affine=True, track_running_stats=True)\n",
      "        (conv3): Conv2d(256, 512, kernel_size=(1, 1), stride=(1, 1), bias=False)\n",
      "        (bn3): BatchNorm2d(512, eps=1e-05, momentum=0.1, affine=True, track_running_stats=True)\n",
      "        (relu): ELU(alpha=1.0)\n",
      "        (downsample): Sequential(\n",
      "          (0): Conv2d(256, 512, kernel_size=(1, 1), stride=(2, 2), bias=False)\n",
      "          (1): BatchNorm2d(512, eps=1e-05, momentum=0.1, affine=True, track_running_stats=True)\n",
      "        )\n",
      "      )\n",
      "      (1): Bottleneck(\n",
      "        (conv1): Conv2d(512, 256, kernel_size=(1, 1), stride=(1, 1), bias=False)\n",
      "        (bn1): BatchNorm2d(256, eps=1e-05, momentum=0.1, affine=True, track_running_stats=True)\n",
      "        (conv2): Conv2d(256, 256, kernel_size=(3, 3), stride=(1, 1), padding=(1, 1), groups=32, bias=False)\n",
      "        (bn2): BatchNorm2d(256, eps=1e-05, momentum=0.1, affine=True, track_running_stats=True)\n",
      "        (conv3): Conv2d(256, 512, kernel_size=(1, 1), stride=(1, 1), bias=False)\n",
      "        (bn3): BatchNorm2d(512, eps=1e-05, momentum=0.1, affine=True, track_running_stats=True)\n",
      "        (relu): ELU(alpha=1.0)\n",
      "      )\n",
      "      (2): Bottleneck(\n",
      "        (conv1): Conv2d(512, 256, kernel_size=(1, 1), stride=(1, 1), bias=False)\n",
      "        (bn1): BatchNorm2d(256, eps=1e-05, momentum=0.1, affine=True, track_running_stats=True)\n",
      "        (conv2): Conv2d(256, 256, kernel_size=(3, 3), stride=(1, 1), padding=(1, 1), groups=32, bias=False)\n",
      "        (bn2): BatchNorm2d(256, eps=1e-05, momentum=0.1, affine=True, track_running_stats=True)\n",
      "        (conv3): Conv2d(256, 512, kernel_size=(1, 1), stride=(1, 1), bias=False)\n",
      "        (bn3): BatchNorm2d(512, eps=1e-05, momentum=0.1, affine=True, track_running_stats=True)\n",
      "        (relu): ELU(alpha=1.0)\n",
      "      )\n",
      "      (3): Bottleneck(\n",
      "        (conv1): Conv2d(512, 256, kernel_size=(1, 1), stride=(1, 1), bias=False)\n",
      "        (bn1): BatchNorm2d(256, eps=1e-05, momentum=0.1, affine=True, track_running_stats=True)\n",
      "        (conv2): Conv2d(256, 256, kernel_size=(3, 3), stride=(1, 1), padding=(1, 1), groups=32, bias=False)\n",
      "        (bn2): BatchNorm2d(256, eps=1e-05, momentum=0.1, affine=True, track_running_stats=True)\n",
      "        (conv3): Conv2d(256, 512, kernel_size=(1, 1), stride=(1, 1), bias=False)\n",
      "        (bn3): BatchNorm2d(512, eps=1e-05, momentum=0.1, affine=True, track_running_stats=True)\n",
      "        (relu): ELU(alpha=1.0)\n",
      "      )\n",
      "    )\n",
      "    (layer3): Sequential(\n",
      "      (0): Bottleneck(\n",
      "        (conv1): Conv2d(512, 512, kernel_size=(1, 1), stride=(1, 1), bias=False)\n",
      "        (bn1): BatchNorm2d(512, eps=1e-05, momentum=0.1, affine=True, track_running_stats=True)\n",
      "        (conv2): Conv2d(512, 512, kernel_size=(3, 3), stride=(2, 2), padding=(1, 1), groups=32, bias=False)\n",
      "        (bn2): BatchNorm2d(512, eps=1e-05, momentum=0.1, affine=True, track_running_stats=True)\n",
      "        (conv3): Conv2d(512, 1024, kernel_size=(1, 1), stride=(1, 1), bias=False)\n",
      "        (bn3): BatchNorm2d(1024, eps=1e-05, momentum=0.1, affine=True, track_running_stats=True)\n",
      "        (relu): ELU(alpha=1.0)\n",
      "        (downsample): Sequential(\n",
      "          (0): Conv2d(512, 1024, kernel_size=(1, 1), stride=(2, 2), bias=False)\n",
      "          (1): BatchNorm2d(1024, eps=1e-05, momentum=0.1, affine=True, track_running_stats=True)\n",
      "        )\n",
      "      )\n",
      "      (1): Bottleneck(\n",
      "        (conv1): Conv2d(1024, 512, kernel_size=(1, 1), stride=(1, 1), bias=False)\n",
      "        (bn1): BatchNorm2d(512, eps=1e-05, momentum=0.1, affine=True, track_running_stats=True)\n",
      "        (conv2): Conv2d(512, 512, kernel_size=(3, 3), stride=(1, 1), padding=(1, 1), groups=32, bias=False)\n",
      "        (bn2): BatchNorm2d(512, eps=1e-05, momentum=0.1, affine=True, track_running_stats=True)\n",
      "        (conv3): Conv2d(512, 1024, kernel_size=(1, 1), stride=(1, 1), bias=False)\n",
      "        (bn3): BatchNorm2d(1024, eps=1e-05, momentum=0.1, affine=True, track_running_stats=True)\n",
      "        (relu): ELU(alpha=1.0)\n",
      "      )\n",
      "      (2): Bottleneck(\n",
      "        (conv1): Conv2d(1024, 512, kernel_size=(1, 1), stride=(1, 1), bias=False)\n",
      "        (bn1): BatchNorm2d(512, eps=1e-05, momentum=0.1, affine=True, track_running_stats=True)\n",
      "        (conv2): Conv2d(512, 512, kernel_size=(3, 3), stride=(1, 1), padding=(1, 1), groups=32, bias=False)\n",
      "        (bn2): BatchNorm2d(512, eps=1e-05, momentum=0.1, affine=True, track_running_stats=True)\n",
      "        (conv3): Conv2d(512, 1024, kernel_size=(1, 1), stride=(1, 1), bias=False)\n",
      "        (bn3): BatchNorm2d(1024, eps=1e-05, momentum=0.1, affine=True, track_running_stats=True)\n",
      "        (relu): ELU(alpha=1.0)\n",
      "      )\n",
      "      (3): Bottleneck(\n",
      "        (conv1): Conv2d(1024, 512, kernel_size=(1, 1), stride=(1, 1), bias=False)\n",
      "        (bn1): BatchNorm2d(512, eps=1e-05, momentum=0.1, affine=True, track_running_stats=True)\n",
      "        (conv2): Conv2d(512, 512, kernel_size=(3, 3), stride=(1, 1), padding=(1, 1), groups=32, bias=False)\n",
      "        (bn2): BatchNorm2d(512, eps=1e-05, momentum=0.1, affine=True, track_running_stats=True)\n",
      "        (conv3): Conv2d(512, 1024, kernel_size=(1, 1), stride=(1, 1), bias=False)\n",
      "        (bn3): BatchNorm2d(1024, eps=1e-05, momentum=0.1, affine=True, track_running_stats=True)\n",
      "        (relu): ELU(alpha=1.0)\n",
      "      )\n",
      "      (4): Bottleneck(\n",
      "        (conv1): Conv2d(1024, 512, kernel_size=(1, 1), stride=(1, 1), bias=False)\n",
      "        (bn1): BatchNorm2d(512, eps=1e-05, momentum=0.1, affine=True, track_running_stats=True)\n",
      "        (conv2): Conv2d(512, 512, kernel_size=(3, 3), stride=(1, 1), padding=(1, 1), groups=32, bias=False)\n",
      "        (bn2): BatchNorm2d(512, eps=1e-05, momentum=0.1, affine=True, track_running_stats=True)\n",
      "        (conv3): Conv2d(512, 1024, kernel_size=(1, 1), stride=(1, 1), bias=False)\n",
      "        (bn3): BatchNorm2d(1024, eps=1e-05, momentum=0.1, affine=True, track_running_stats=True)\n",
      "        (relu): ELU(alpha=1.0)\n",
      "      )\n",
      "      (5): Bottleneck(\n",
      "        (conv1): Conv2d(1024, 512, kernel_size=(1, 1), stride=(1, 1), bias=False)\n",
      "        (bn1): BatchNorm2d(512, eps=1e-05, momentum=0.1, affine=True, track_running_stats=True)\n",
      "        (conv2): Conv2d(512, 512, kernel_size=(3, 3), stride=(1, 1), padding=(1, 1), groups=32, bias=False)\n",
      "        (bn2): BatchNorm2d(512, eps=1e-05, momentum=0.1, affine=True, track_running_stats=True)\n",
      "        (conv3): Conv2d(512, 1024, kernel_size=(1, 1), stride=(1, 1), bias=False)\n",
      "        (bn3): BatchNorm2d(1024, eps=1e-05, momentum=0.1, affine=True, track_running_stats=True)\n",
      "        (relu): ELU(alpha=1.0)\n",
      "      )\n",
      "    )\n",
      "    (layer4): Sequential(\n",
      "      (0): Bottleneck(\n",
      "        (conv1): Conv2d(1024, 1024, kernel_size=(1, 1), stride=(1, 1), bias=False)\n",
      "        (bn1): BatchNorm2d(1024, eps=1e-05, momentum=0.1, affine=True, track_running_stats=True)\n",
      "        (conv2): Conv2d(1024, 1024, kernel_size=(3, 3), stride=(2, 2), padding=(1, 1), groups=32, bias=False)\n",
      "        (bn2): BatchNorm2d(1024, eps=1e-05, momentum=0.1, affine=True, track_running_stats=True)\n",
      "        (conv3): Conv2d(1024, 2048, kernel_size=(1, 1), stride=(1, 1), bias=False)\n",
      "        (bn3): BatchNorm2d(2048, eps=1e-05, momentum=0.1, affine=True, track_running_stats=True)\n",
      "        (relu): ELU(alpha=1.0)\n",
      "        (downsample): Sequential(\n",
      "          (0): Conv2d(1024, 2048, kernel_size=(1, 1), stride=(2, 2), bias=False)\n",
      "          (1): BatchNorm2d(2048, eps=1e-05, momentum=0.1, affine=True, track_running_stats=True)\n",
      "        )\n",
      "      )\n",
      "      (1): Bottleneck(\n",
      "        (conv1): Conv2d(2048, 1024, kernel_size=(1, 1), stride=(1, 1), bias=False)\n",
      "        (bn1): BatchNorm2d(1024, eps=1e-05, momentum=0.1, affine=True, track_running_stats=True)\n",
      "        (conv2): Conv2d(1024, 1024, kernel_size=(3, 3), stride=(1, 1), padding=(1, 1), groups=32, bias=False)\n",
      "        (bn2): BatchNorm2d(1024, eps=1e-05, momentum=0.1, affine=True, track_running_stats=True)\n",
      "        (conv3): Conv2d(1024, 2048, kernel_size=(1, 1), stride=(1, 1), bias=False)\n",
      "        (bn3): BatchNorm2d(2048, eps=1e-05, momentum=0.1, affine=True, track_running_stats=True)\n",
      "        (relu): ELU(alpha=1.0)\n",
      "      )\n",
      "      (2): Bottleneck(\n",
      "        (conv1): Conv2d(2048, 1024, kernel_size=(1, 1), stride=(1, 1), bias=False)\n",
      "        (bn1): BatchNorm2d(1024, eps=1e-05, momentum=0.1, affine=True, track_running_stats=True)\n",
      "        (conv2): Conv2d(1024, 1024, kernel_size=(3, 3), stride=(1, 1), padding=(1, 1), groups=32, bias=False)\n",
      "        (bn2): BatchNorm2d(1024, eps=1e-05, momentum=0.1, affine=True, track_running_stats=True)\n",
      "        (conv3): Conv2d(1024, 2048, kernel_size=(1, 1), stride=(1, 1), bias=False)\n",
      "        (bn3): BatchNorm2d(2048, eps=1e-05, momentum=0.1, affine=True, track_running_stats=True)\n",
      "        (relu): ELU(alpha=1.0)\n",
      "      )\n",
      "    )\n",
      "    (avgpool): AdaptiveAvgPool2d(output_size=(1, 1))\n",
      "    (fc): Linear(in_features=2048, out_features=1, bias=True)\n",
      "  )\n",
      ")\n"
     ]
    }
   ],
   "source": [
    "model = SEMPro_resNext()\n",
    "optimizer = torch.optim.AdamW(model.parameters(), lr=5e-6, weight_decay = 0.02)\n",
    "criterion = torch.nn.L1Loss()\n",
    "scheduler = torch.optim.lr_scheduler.StepLR(optimizer, 20,gamma=0.5)\n",
    "device = torch.device(\"cuda\" if torch.cuda.is_available() else \"cpu\")\n",
    "print(f\"Running on {device}\")\n",
    "model.to(device)\n",
    "criterion.to(device)\n",
    "print(model)\n",
    "# 1/0\n",
    "# print(semdata.__getitem__(615))\n",
    "# model.eval()\n",
    "# print(model.forward(semdata.__getitem__(615)[0].unsqueeze(0).to(device)))\n",
    "# model.train()"
   ]
  },
  {
   "cell_type": "code",
   "execution_count": 24,
   "id": "23789ac3",
   "metadata": {
    "scrolled": true
   },
   "outputs": [
    {
     "name": "stdout",
     "output_type": "stream",
     "text": [
      "Training for 100 epochs\n",
      "Now running epoch 0\n"
     ]
    },
    {
     "name": "stderr",
     "output_type": "stream",
     "text": [
      "Training data: 100%|███████████████████████████████████████████████████████████████████| 48/48 [00:11<00:00,  4.31it/s]\n",
      "Validation data: 100%|███████████████████████████████████████████████████████████████████| 4/4 [00:01<00:00,  2.10it/s]\n"
     ]
    },
    {
     "name": "stdout",
     "output_type": "stream",
     "text": [
      "Training losses: MAE = 5.091997988250272, MSE = 27.720839518254078\n",
      "Validation losses: MAE = 3.8362229905124825, MSE = 16.766882956113527\n",
      "Now running epoch 1\n"
     ]
    },
    {
     "name": "stderr",
     "output_type": "stream",
     "text": [
      "Training data: 100%|███████████████████████████████████████████████████████████████████| 48/48 [00:07<00:00,  6.51it/s]\n",
      "Validation data: 100%|███████████████████████████████████████████████████████████████████| 4/4 [00:01<00:00,  2.30it/s]\n"
     ]
    },
    {
     "name": "stdout",
     "output_type": "stream",
     "text": [
      "Training losses: MAE = 4.297399852855001, MSE = 20.40705450529295\n",
      "Validation losses: MAE = 3.2444880066024777, MSE = 13.200894179704006\n",
      "Now running epoch 2\n"
     ]
    },
    {
     "name": "stderr",
     "output_type": "stream",
     "text": [
      "Training data: 100%|███████████████████████████████████████████████████████████████████| 48/48 [00:06<00:00,  7.13it/s]\n",
      "Validation data: 100%|███████████████████████████████████████████████████████████████████| 4/4 [00:01<00:00,  2.31it/s]\n"
     ]
    },
    {
     "name": "stdout",
     "output_type": "stream",
     "text": [
      "Training losses: MAE = 2.801764528783623, MSE = 10.192186638492046\n",
      "Validation losses: MAE = 1.7169736761572496, MSE = 4.514582986032811\n",
      "Now running epoch 3\n"
     ]
    },
    {
     "name": "stderr",
     "output_type": "stream",
     "text": [
      "Training data: 100%|███████████████████████████████████████████████████████████████████| 48/48 [00:07<00:00,  6.65it/s]\n",
      "Validation data: 100%|███████████████████████████████████████████████████████████████████| 4/4 [00:01<00:00,  2.21it/s]\n"
     ]
    },
    {
     "name": "stdout",
     "output_type": "stream",
     "text": [
      "Training losses: MAE = 1.4216194712295596, MSE = 3.2106957505156095\n",
      "Validation losses: MAE = 1.1400611586779503, MSE = 2.15962916323321\n",
      "Now running epoch 4\n"
     ]
    },
    {
     "name": "stderr",
     "output_type": "stream",
     "text": [
      "Training data: 100%|███████████████████████████████████████████████████████████████████| 48/48 [00:07<00:00,  6.72it/s]\n",
      "Validation data: 100%|███████████████████████████████████████████████████████████████████| 4/4 [00:01<00:00,  2.20it/s]\n"
     ]
    },
    {
     "name": "stdout",
     "output_type": "stream",
     "text": [
      "Training losses: MAE = 1.0795756610370992, MSE = 1.978079773451544\n",
      "Validation losses: MAE = 1.1941106501621448, MSE = 2.1798858127000718\n",
      "Now running epoch 5\n"
     ]
    },
    {
     "name": "stderr",
     "output_type": "stream",
     "text": [
      "Training data: 100%|███████████████████████████████████████████████████████████████████| 48/48 [00:07<00:00,  6.58it/s]\n",
      "Validation data: 100%|███████████████████████████████████████████████████████████████████| 4/4 [00:02<00:00,  1.94it/s]\n"
     ]
    },
    {
     "name": "stdout",
     "output_type": "stream",
     "text": [
      "Training losses: MAE = 1.0514813124381062, MSE = 1.8375829999119124\n",
      "Validation losses: MAE = 1.2328522423773836, MSE = 2.296470630708963\n",
      "Now running epoch 6\n"
     ]
    },
    {
     "name": "stderr",
     "output_type": "stream",
     "text": [
      "Training data: 100%|███████████████████████████████████████████████████████████████████| 48/48 [00:08<00:00,  5.69it/s]\n",
      "Validation data: 100%|███████████████████████████████████████████████████████████████████| 4/4 [00:01<00:00,  2.12it/s]\n"
     ]
    },
    {
     "name": "stdout",
     "output_type": "stream",
     "text": [
      "Training losses: MAE = 0.9989660799063806, MSE = 1.6558936952060126\n",
      "Validation losses: MAE = 1.172430848650081, MSE = 2.1106854892907916\n",
      "Now running epoch 7\n"
     ]
    },
    {
     "name": "stderr",
     "output_type": "stream",
     "text": [
      "Training data: 100%|███████████████████████████████████████████████████████████████████| 48/48 [00:07<00:00,  6.38it/s]\n",
      "Validation data: 100%|███████████████████████████████████████████████████████████████████| 4/4 [00:01<00:00,  2.17it/s]\n"
     ]
    },
    {
     "name": "stdout",
     "output_type": "stream",
     "text": [
      "Training losses: MAE = 0.9637150721988026, MSE = 1.6160358223962747\n",
      "Validation losses: MAE = 1.0930855071001877, MSE = 1.8873822304334402\n",
      "Now running epoch 8\n"
     ]
    },
    {
     "name": "stderr",
     "output_type": "stream",
     "text": [
      "Training data: 100%|███████████████████████████████████████████████████████████████████| 48/48 [00:07<00:00,  6.63it/s]\n",
      "Validation data: 100%|███████████████████████████████████████████████████████████████████| 4/4 [00:01<00:00,  2.11it/s]\n"
     ]
    },
    {
     "name": "stdout",
     "output_type": "stream",
     "text": [
      "Training losses: MAE = 0.9228713685881731, MSE = 1.474640363217804\n",
      "Validation losses: MAE = 1.1463121674751866, MSE = 2.0149968285577176\n",
      "Now running epoch 9\n"
     ]
    },
    {
     "name": "stderr",
     "output_type": "stream",
     "text": [
      "Training data: 100%|███████████████████████████████████████████████████████████████████| 48/48 [00:07<00:00,  6.41it/s]\n",
      "Validation data: 100%|███████████████████████████████████████████████████████████████████| 4/4 [00:01<00:00,  2.16it/s]\n"
     ]
    },
    {
     "name": "stdout",
     "output_type": "stream",
     "text": [
      "Training losses: MAE = 0.8869788223958798, MSE = 1.371981746694672\n",
      "Validation losses: MAE = 1.0910199800370894, MSE = 1.9051085549548503\n",
      "Now running epoch 10\n"
     ]
    },
    {
     "name": "stderr",
     "output_type": "stream",
     "text": [
      "Training data: 100%|███████████████████████████████████████████████████████████████████| 48/48 [00:07<00:00,  6.27it/s]\n",
      "Validation data: 100%|███████████████████████████████████████████████████████████████████| 4/4 [00:01<00:00,  2.14it/s]\n"
     ]
    },
    {
     "name": "stdout",
     "output_type": "stream",
     "text": [
      "Training losses: MAE = 0.8658878149209127, MSE = 1.350967983914129\n",
      "Validation losses: MAE = 1.0839857768901873, MSE = 1.8733937766803066\n",
      "Now running epoch 11\n"
     ]
    },
    {
     "name": "stderr",
     "output_type": "stream",
     "text": [
      "Training data: 100%|███████████████████████████████████████████████████████████████████| 48/48 [00:07<00:00,  6.42it/s]\n",
      "Validation data: 100%|███████████████████████████████████████████████████████████████████| 4/4 [00:01<00:00,  2.22it/s]\n"
     ]
    },
    {
     "name": "stdout",
     "output_type": "stream",
     "text": [
      "Training losses: MAE = 0.8325006325326044, MSE = 1.3099008319728924\n",
      "Validation losses: MAE = 1.0929189809465112, MSE = 1.861033510852513\n",
      "Now running epoch 12\n"
     ]
    },
    {
     "name": "stderr",
     "output_type": "stream",
     "text": [
      "Training data: 100%|███████████████████████████████████████████████████████████████████| 48/48 [00:06<00:00,  7.03it/s]\n",
      "Validation data: 100%|███████████████████████████████████████████████████████████████████| 4/4 [00:01<00:00,  2.21it/s]\n"
     ]
    },
    {
     "name": "stdout",
     "output_type": "stream",
     "text": [
      "Training losses: MAE = 0.8350020019192276, MSE = 1.2556935516205396\n",
      "Validation losses: MAE = 1.1036047403231035, MSE = 1.932954345848323\n",
      "Now running epoch 13\n"
     ]
    },
    {
     "name": "stderr",
     "output_type": "stream",
     "text": [
      "Training data: 100%|███████████████████████████████████████████████████████████████████| 48/48 [00:07<00:00,  6.85it/s]\n",
      "Validation data: 100%|███████████████████████████████████████████████████████████████████| 4/4 [00:01<00:00,  2.18it/s]\n"
     ]
    },
    {
     "name": "stdout",
     "output_type": "stream",
     "text": [
      "Training losses: MAE = 0.744481733399115, MSE = 1.1005323259402984\n",
      "Validation losses: MAE = 1.0628412760919477, MSE = 1.7641382931625758\n",
      "Now running epoch 14\n"
     ]
    },
    {
     "name": "stderr",
     "output_type": "stream",
     "text": [
      "Training data: 100%|███████████████████████████████████████████████████████████████████| 48/48 [00:06<00:00,  6.86it/s]\n",
      "Validation data: 100%|███████████████████████████████████████████████████████████████████| 4/4 [00:01<00:00,  2.30it/s]\n"
     ]
    },
    {
     "name": "stdout",
     "output_type": "stream",
     "text": [
      "Training losses: MAE = 0.7581409091621885, MSE = 1.1707567790685334\n",
      "Validation losses: MAE = 1.0836728420403463, MSE = 1.836184636759617\n",
      "Now running epoch 15\n"
     ]
    },
    {
     "name": "stderr",
     "output_type": "stream",
     "text": [
      "Training data: 100%|███████████████████████████████████████████████████████████████████| 48/48 [00:06<00:00,  7.02it/s]\n",
      "Validation data: 100%|███████████████████████████████████████████████████████████████████| 4/4 [00:01<00:00,  2.25it/s]\n"
     ]
    },
    {
     "name": "stdout",
     "output_type": "stream",
     "text": [
      "Training losses: MAE = 0.7502512764293252, MSE = 1.1274533369196102\n",
      "Validation losses: MAE = 1.0880168308277636, MSE = 2.0409427146859382\n",
      "Now running epoch 16\n"
     ]
    },
    {
     "name": "stderr",
     "output_type": "stream",
     "text": [
      "Training data: 100%|███████████████████████████████████████████████████████████████████| 48/48 [00:06<00:00,  7.20it/s]\n",
      "Validation data: 100%|███████████████████████████████████████████████████████████████████| 4/4 [00:01<00:00,  2.41it/s]\n"
     ]
    },
    {
     "name": "stdout",
     "output_type": "stream",
     "text": [
      "Training losses: MAE = 0.7348574106950565, MSE = 1.043473797047515\n",
      "Validation losses: MAE = 1.0595865115443959, MSE = 1.7426757923394554\n",
      "Now running epoch 17\n"
     ]
    },
    {
     "name": "stderr",
     "output_type": "stream",
     "text": [
      "Training data: 100%|███████████████████████████████████████████████████████████████████| 48/48 [00:06<00:00,  7.21it/s]\n",
      "Validation data: 100%|███████████████████████████████████████████████████████████████████| 4/4 [00:01<00:00,  2.41it/s]\n"
     ]
    },
    {
     "name": "stdout",
     "output_type": "stream",
     "text": [
      "Training losses: MAE = 0.6716118840448492, MSE = 0.9372709610282606\n",
      "Validation losses: MAE = 1.1229241644813182, MSE = 1.9170667816515812\n",
      "Now running epoch 18\n"
     ]
    },
    {
     "name": "stderr",
     "output_type": "stream",
     "text": [
      "Training data: 100%|███████████████████████████████████████████████████████████████████| 48/48 [00:06<00:00,  7.33it/s]\n",
      "Validation data: 100%|███████████████████████████████████████████████████████████████████| 4/4 [00:01<00:00,  2.41it/s]\n"
     ]
    },
    {
     "name": "stdout",
     "output_type": "stream",
     "text": [
      "Training losses: MAE = 0.6338037212876745, MSE = 0.8235062824502976\n",
      "Validation losses: MAE = 1.1066300156470075, MSE = 2.0665500470105074\n",
      "Now running epoch 19\n"
     ]
    },
    {
     "name": "stderr",
     "output_type": "stream",
     "text": [
      "Training data: 100%|███████████████████████████████████████████████████████████████████| 48/48 [00:07<00:00,  6.70it/s]\n",
      "Validation data: 100%|███████████████████████████████████████████████████████████████████| 4/4 [00:01<00:00,  2.28it/s]\n"
     ]
    },
    {
     "name": "stdout",
     "output_type": "stream",
     "text": [
      "Training losses: MAE = 0.6244487220865294, MSE = 0.8467498896262862\n",
      "Validation losses: MAE = 1.1185461908344365, MSE = 1.9298430428119708\n",
      "Now running epoch 20\n"
     ]
    },
    {
     "name": "stderr",
     "output_type": "stream",
     "text": [
      "Training data: 100%|███████████████████████████████████████████████████████████████████| 48/48 [00:07<00:00,  6.64it/s]\n",
      "Validation data: 100%|███████████████████████████████████████████████████████████████████| 4/4 [00:01<00:00,  2.24it/s]\n"
     ]
    },
    {
     "name": "stdout",
     "output_type": "stream",
     "text": [
      "Training losses: MAE = 0.6094714257915421, MSE = 0.8124858074857536\n",
      "Validation losses: MAE = 1.0627425391503071, MSE = 1.8426738075489544\n",
      "Now running epoch 21\n"
     ]
    },
    {
     "name": "stderr",
     "output_type": "stream",
     "text": [
      "Training data: 100%|███████████████████████████████████████████████████████████████████| 48/48 [00:06<00:00,  6.87it/s]\n",
      "Validation data: 100%|███████████████████████████████████████████████████████████████████| 4/4 [00:01<00:00,  2.39it/s]\n"
     ]
    },
    {
     "name": "stdout",
     "output_type": "stream",
     "text": [
      "Training losses: MAE = 0.6048156229413825, MSE = 0.7953530104376876\n",
      "Validation losses: MAE = 1.050132896914846, MSE = 1.7831729867383401\n",
      "Now running epoch 22\n"
     ]
    },
    {
     "name": "stderr",
     "output_type": "stream",
     "text": [
      "Training data: 100%|███████████████████████████████████████████████████████████████████| 48/48 [00:06<00:00,  7.24it/s]\n",
      "Validation data: 100%|███████████████████████████████████████████████████████████████████| 4/4 [00:01<00:00,  2.46it/s]\n"
     ]
    },
    {
     "name": "stdout",
     "output_type": "stream",
     "text": [
      "Training losses: MAE = 0.5762117293117195, MSE = 0.7014258840270073\n",
      "Validation losses: MAE = 1.1104870393517043, MSE = 1.9897015367576676\n",
      "Now running epoch 23\n"
     ]
    },
    {
     "name": "stderr",
     "output_type": "stream",
     "text": [
      "Training data: 100%|███████████████████████████████████████████████████████████████████| 48/48 [00:06<00:00,  7.19it/s]\n",
      "Validation data: 100%|███████████████████████████████████████████████████████████████████| 4/4 [00:01<00:00,  2.34it/s]\n"
     ]
    },
    {
     "name": "stdout",
     "output_type": "stream",
     "text": [
      "Training losses: MAE = 0.586851330824709, MSE = 0.718961603253737\n",
      "Validation losses: MAE = 1.1252180212890612, MSE = 1.8765984180510733\n",
      "Now running epoch 24\n"
     ]
    },
    {
     "name": "stderr",
     "output_type": "stream",
     "text": [
      "Training data: 100%|███████████████████████████████████████████████████████████████████| 48/48 [00:06<00:00,  7.38it/s]\n",
      "Validation data: 100%|███████████████████████████████████████████████████████████████████| 4/4 [00:01<00:00,  2.54it/s]\n"
     ]
    },
    {
     "name": "stdout",
     "output_type": "stream",
     "text": [
      "Training losses: MAE = 0.537208348106927, MSE = 0.6764089128717469\n",
      "Validation losses: MAE = 1.077673510251849, MSE = 1.9126539329170316\n",
      "Now running epoch 25\n"
     ]
    },
    {
     "name": "stderr",
     "output_type": "stream",
     "text": [
      "Training data: 100%|███████████████████████████████████████████████████████████████████| 48/48 [00:06<00:00,  7.29it/s]\n",
      "Validation data: 100%|███████████████████████████████████████████████████████████████████| 4/4 [00:01<00:00,  2.42it/s]\n"
     ]
    },
    {
     "name": "stdout",
     "output_type": "stream",
     "text": [
      "Training losses: MAE = 0.5239497179445994, MSE = 0.6266407145618605\n",
      "Validation losses: MAE = 1.0533036103829787, MSE = 1.7965716432645586\n",
      "Now running epoch 26\n"
     ]
    },
    {
     "name": "stderr",
     "output_type": "stream",
     "text": [
      "Training data: 100%|███████████████████████████████████████████████████████████████████| 48/48 [00:06<00:00,  7.22it/s]\n",
      "Validation data: 100%|███████████████████████████████████████████████████████████████████| 4/4 [00:01<00:00,  2.44it/s]\n"
     ]
    },
    {
     "name": "stdout",
     "output_type": "stream",
     "text": [
      "Training losses: MAE = 0.4920120891133959, MSE = 0.5776184185288257\n",
      "Validation losses: MAE = 1.0650366788358854, MSE = 1.8653126390071386\n",
      "Now running epoch 27\n"
     ]
    },
    {
     "name": "stderr",
     "output_type": "stream",
     "text": [
      "Training data: 100%|███████████████████████████████████████████████████████████████████| 48/48 [00:06<00:00,  7.25it/s]\n",
      "Validation data: 100%|███████████████████████████████████████████████████████████████████| 4/4 [00:01<00:00,  2.21it/s]\n"
     ]
    },
    {
     "name": "stdout",
     "output_type": "stream",
     "text": [
      "Training losses: MAE = 0.5175196143042423, MSE = 0.5886121417311951\n",
      "Validation losses: MAE = 1.0704132061318268, MSE = 1.8050952596889893\n",
      "Now running epoch 28\n"
     ]
    },
    {
     "name": "stderr",
     "output_type": "stream",
     "text": [
      "Training data: 100%|███████████████████████████████████████████████████████████████████| 48/48 [00:07<00:00,  6.61it/s]\n",
      "Validation data: 100%|███████████████████████████████████████████████████████████████████| 4/4 [00:01<00:00,  2.53it/s]\n"
     ]
    },
    {
     "name": "stdout",
     "output_type": "stream",
     "text": [
      "Training losses: MAE = 0.5575725129787953, MSE = 0.6538756350605246\n",
      "Validation losses: MAE = 1.0469171529588202, MSE = 1.670720724711316\n",
      "Now running epoch 29\n"
     ]
    },
    {
     "name": "stderr",
     "output_type": "stream",
     "text": [
      "Training data: 100%|███████████████████████████████████████████████████████████████████| 48/48 [00:06<00:00,  6.88it/s]\n",
      "Validation data: 100%|███████████████████████████████████████████████████████████████████| 4/4 [00:01<00:00,  2.49it/s]\n"
     ]
    },
    {
     "name": "stdout",
     "output_type": "stream",
     "text": [
      "Training losses: MAE = 0.5199757626022232, MSE = 0.5596482433880924\n",
      "Validation losses: MAE = 1.063425388296496, MSE = 1.8546342750766882\n",
      "Now running epoch 30\n"
     ]
    },
    {
     "name": "stderr",
     "output_type": "stream",
     "text": [
      "Training data: 100%|███████████████████████████████████████████████████████████████████| 48/48 [00:06<00:00,  7.34it/s]\n",
      "Validation data: 100%|███████████████████████████████████████████████████████████████████| 4/4 [00:01<00:00,  2.34it/s]\n"
     ]
    },
    {
     "name": "stdout",
     "output_type": "stream",
     "text": [
      "Training losses: MAE = 0.5045528543688106, MSE = 0.5525996111650965\n",
      "Validation losses: MAE = 1.0861159641825813, MSE = 1.7820015172175059\n",
      "Now running epoch 31\n"
     ]
    },
    {
     "name": "stderr",
     "output_type": "stream",
     "text": [
      "Training data: 100%|███████████████████████████████████████████████████████████████████| 48/48 [00:06<00:00,  7.03it/s]\n",
      "Validation data: 100%|███████████████████████████████████████████████████████████████████| 4/4 [00:01<00:00,  2.35it/s]\n"
     ]
    },
    {
     "name": "stdout",
     "output_type": "stream",
     "text": [
      "Training losses: MAE = 0.5141164397235641, MSE = 0.5618723330244222\n",
      "Validation losses: MAE = 1.0732405928753252, MSE = 1.8470929579517388\n",
      "Now running epoch 32\n"
     ]
    },
    {
     "name": "stderr",
     "output_type": "stream",
     "text": [
      "Training data: 100%|███████████████████████████████████████████████████████████████████| 48/48 [00:06<00:00,  6.97it/s]\n",
      "Validation data: 100%|███████████████████████████████████████████████████████████████████| 4/4 [00:01<00:00,  2.34it/s]\n"
     ]
    },
    {
     "name": "stdout",
     "output_type": "stream",
     "text": [
      "Training losses: MAE = 0.5842859767762237, MSE = 0.6712705579676992\n",
      "Validation losses: MAE = 1.050071762316907, MSE = 1.7052603981906729\n",
      "Now running epoch 33\n"
     ]
    },
    {
     "name": "stderr",
     "output_type": "stream",
     "text": [
      "Training data: 100%|███████████████████████████████████████████████████████████████████| 48/48 [00:06<00:00,  6.99it/s]\n",
      "Validation data: 100%|███████████████████████████████████████████████████████████████████| 4/4 [00:01<00:00,  2.38it/s]\n"
     ]
    },
    {
     "name": "stdout",
     "output_type": "stream",
     "text": [
      "Training losses: MAE = 0.49536604850314014, MSE = 0.5176174404548549\n",
      "Validation losses: MAE = 1.0588258250558338, MSE = 1.8405359153861023\n",
      "Now running epoch 34\n"
     ]
    },
    {
     "name": "stderr",
     "output_type": "stream",
     "text": [
      "Training data: 100%|███████████████████████████████████████████████████████████████████| 48/48 [00:06<00:00,  6.98it/s]\n",
      "Validation data: 100%|███████████████████████████████████████████████████████████████████| 4/4 [00:01<00:00,  2.38it/s]\n"
     ]
    },
    {
     "name": "stdout",
     "output_type": "stream",
     "text": [
      "Training losses: MAE = 0.48820452492538713, MSE = 0.5394743747704486\n",
      "Validation losses: MAE = 1.055935321102666, MSE = 1.7216480445114644\n",
      "Now running epoch 35\n"
     ]
    },
    {
     "name": "stderr",
     "output_type": "stream",
     "text": [
      "Training data: 100%|███████████████████████████████████████████████████████████████████| 48/48 [00:06<00:00,  7.00it/s]\n",
      "Validation data: 100%|███████████████████████████████████████████████████████████████████| 4/4 [00:01<00:00,  2.33it/s]\n"
     ]
    },
    {
     "name": "stdout",
     "output_type": "stream",
     "text": [
      "Training losses: MAE = 0.4713252072659801, MSE = 0.47338396944280914\n",
      "Validation losses: MAE = 1.060254387646766, MSE = 1.741614188316101\n",
      "Now running epoch 36\n"
     ]
    },
    {
     "name": "stderr",
     "output_type": "stream",
     "text": [
      "Training data: 100%|███████████████████████████████████████████████████████████████████| 48/48 [00:06<00:00,  7.04it/s]\n",
      "Validation data: 100%|███████████████████████████████████████████████████████████████████| 4/4 [00:01<00:00,  2.29it/s]\n"
     ]
    },
    {
     "name": "stdout",
     "output_type": "stream",
     "text": [
      "Training losses: MAE = 0.5148692699805765, MSE = 0.5572583070182074\n",
      "Validation losses: MAE = 1.1271256355842798, MSE = 1.9412487814561779\n",
      "Now running epoch 37\n"
     ]
    },
    {
     "name": "stderr",
     "output_type": "stream",
     "text": [
      "Training data: 100%|███████████████████████████████████████████████████████████████████| 48/48 [00:06<00:00,  6.93it/s]\n",
      "Validation data: 100%|███████████████████████████████████████████████████████████████████| 4/4 [00:01<00:00,  2.36it/s]\n"
     ]
    },
    {
     "name": "stdout",
     "output_type": "stream",
     "text": [
      "Training losses: MAE = 0.4757152552945978, MSE = 0.5013075136999567\n",
      "Validation losses: MAE = 1.0638828287547275, MSE = 1.8326333671733015\n",
      "Now running epoch 38\n"
     ]
    },
    {
     "name": "stderr",
     "output_type": "stream",
     "text": [
      "Training data: 100%|███████████████████████████████████████████████████████████████████| 48/48 [00:06<00:00,  7.03it/s]\n",
      "Validation data: 100%|███████████████████████████████████████████████████████████████████| 4/4 [00:01<00:00,  2.36it/s]\n"
     ]
    },
    {
     "name": "stdout",
     "output_type": "stream",
     "text": [
      "Training losses: MAE = 0.45224188349517014, MSE = 0.43293602743268306\n",
      "Validation losses: MAE = 1.081661752933479, MSE = 1.7971130026859299\n",
      "Now running epoch 39\n"
     ]
    },
    {
     "name": "stderr",
     "output_type": "stream",
     "text": [
      "Training data: 100%|███████████████████████████████████████████████████████████████████| 48/48 [00:06<00:00,  7.04it/s]\n",
      "Validation data: 100%|███████████████████████████████████████████████████████████████████| 4/4 [00:01<00:00,  2.35it/s]\n"
     ]
    },
    {
     "name": "stdout",
     "output_type": "stream",
     "text": [
      "Training losses: MAE = 0.4711003707387346, MSE = 0.46656526524237757\n",
      "Validation losses: MAE = 1.084879066366994, MSE = 1.853879933407002\n",
      "Now running epoch 40\n"
     ]
    },
    {
     "name": "stderr",
     "output_type": "stream",
     "text": [
      "Training data: 100%|███████████████████████████████████████████████████████████████████| 48/48 [00:06<00:00,  6.92it/s]\n",
      "Validation data: 100%|███████████████████████████████████████████████████████████████████| 4/4 [00:01<00:00,  2.33it/s]\n"
     ]
    },
    {
     "name": "stdout",
     "output_type": "stream",
     "text": [
      "Training losses: MAE = 0.4771427364971934, MSE = 0.4751714534867854\n",
      "Validation losses: MAE = 1.1111650337840135, MSE = 1.868011808322882\n",
      "Now running epoch 41\n"
     ]
    },
    {
     "name": "stderr",
     "output_type": "stream",
     "text": [
      "Training data: 100%|███████████████████████████████████████████████████████████████████| 48/48 [00:06<00:00,  7.02it/s]\n",
      "Validation data: 100%|███████████████████████████████████████████████████████████████████| 4/4 [00:01<00:00,  2.35it/s]\n"
     ]
    },
    {
     "name": "stdout",
     "output_type": "stream",
     "text": [
      "Training losses: MAE = 0.46373282689034234, MSE = 0.4240687141685302\n",
      "Validation losses: MAE = 1.0912664826612388, MSE = 1.8156325172338934\n",
      "Now running epoch 42\n"
     ]
    },
    {
     "name": "stderr",
     "output_type": "stream",
     "text": [
      "Training data: 100%|███████████████████████████████████████████████████████████████████| 48/48 [00:06<00:00,  7.04it/s]\n",
      "Validation data: 100%|███████████████████████████████████████████████████████████████████| 4/4 [00:01<00:00,  2.36it/s]\n"
     ]
    },
    {
     "name": "stdout",
     "output_type": "stream",
     "text": [
      "Training losses: MAE = 0.47579690386174156, MSE = 0.49023113598311563\n",
      "Validation losses: MAE = 1.0674030871601738, MSE = 1.759845704648357\n",
      "Now running epoch 43\n"
     ]
    },
    {
     "name": "stderr",
     "output_type": "stream",
     "text": [
      "Training data: 100%|███████████████████████████████████████████████████████████████████| 48/48 [00:06<00:00,  6.90it/s]\n",
      "Validation data: 100%|███████████████████████████████████████████████████████████████████| 4/4 [00:01<00:00,  2.27it/s]\n"
     ]
    },
    {
     "name": "stdout",
     "output_type": "stream",
     "text": [
      "Training losses: MAE = 0.43415694765227053, MSE = 0.4147666361219577\n",
      "Validation losses: MAE = 1.079039973758265, MSE = 1.7626729611044232\n",
      "Now running epoch 44\n"
     ]
    },
    {
     "name": "stderr",
     "output_type": "stream",
     "text": [
      "Training data: 100%|███████████████████████████████████████████████████████████████████| 48/48 [00:06<00:00,  6.91it/s]\n",
      "Validation data: 100%|███████████████████████████████████████████████████████████████████| 4/4 [00:01<00:00,  2.24it/s]\n"
     ]
    },
    {
     "name": "stdout",
     "output_type": "stream",
     "text": [
      "Training losses: MAE = 0.45904272856419065, MSE = 0.45701086515665673\n",
      "Validation losses: MAE = 1.0654407470415292, MSE = 1.7944661141809417\n",
      "Now running epoch 45\n"
     ]
    },
    {
     "name": "stderr",
     "output_type": "stream",
     "text": [
      "Training data: 100%|███████████████████████████████████████████████████████████████████| 48/48 [00:07<00:00,  6.82it/s]\n",
      "Validation data: 100%|███████████████████████████████████████████████████████████████████| 4/4 [00:01<00:00,  2.24it/s]\n"
     ]
    },
    {
     "name": "stdout",
     "output_type": "stream",
     "text": [
      "Training losses: MAE = 0.4851116849043722, MSE = 0.4720434916231971\n",
      "Validation losses: MAE = 1.0654024478991335, MSE = 1.7397050012120299\n",
      "Now running epoch 46\n"
     ]
    },
    {
     "name": "stderr",
     "output_type": "stream",
     "text": [
      "Training data: 100%|███████████████████████████████████████████████████████████████████| 48/48 [00:07<00:00,  6.82it/s]\n",
      "Validation data: 100%|███████████████████████████████████████████████████████████████████| 4/4 [00:01<00:00,  2.26it/s]\n"
     ]
    },
    {
     "name": "stdout",
     "output_type": "stream",
     "text": [
      "Training losses: MAE = 0.4938012532338898, MSE = 0.48780678844436687\n",
      "Validation losses: MAE = 1.0631651099341373, MSE = 1.7743973758682425\n",
      "Now running epoch 47\n"
     ]
    },
    {
     "name": "stderr",
     "output_type": "stream",
     "text": [
      "Training data: 100%|███████████████████████████████████████████████████████████████████| 48/48 [00:06<00:00,  6.91it/s]\n",
      "Validation data: 100%|███████████████████████████████████████████████████████████████████| 4/4 [00:01<00:00,  2.29it/s]\n"
     ]
    },
    {
     "name": "stdout",
     "output_type": "stream",
     "text": [
      "Training losses: MAE = 0.5015190493657715, MSE = 0.4977526648765464\n",
      "Validation losses: MAE = 1.0952378631349629, MSE = 1.7855448911000202\n",
      "Now running epoch 48\n"
     ]
    },
    {
     "name": "stderr",
     "output_type": "stream",
     "text": [
      "Training data: 100%|███████████████████████████████████████████████████████████████████| 48/48 [00:07<00:00,  6.81it/s]\n",
      "Validation data: 100%|███████████████████████████████████████████████████████████████████| 4/4 [00:01<00:00,  2.28it/s]\n"
     ]
    },
    {
     "name": "stdout",
     "output_type": "stream",
     "text": [
      "Training losses: MAE = 0.4634824845073463, MSE = 0.4527936076832721\n",
      "Validation losses: MAE = 1.0504173434403141, MSE = 1.7417862165596563\n",
      "Now running epoch 49\n"
     ]
    },
    {
     "name": "stderr",
     "output_type": "stream",
     "text": [
      "Training data: 100%|███████████████████████████████████████████████████████████████████| 48/48 [00:07<00:00,  6.83it/s]\n",
      "Validation data: 100%|███████████████████████████████████████████████████████████████████| 4/4 [00:01<00:00,  2.28it/s]\n"
     ]
    },
    {
     "name": "stdout",
     "output_type": "stream",
     "text": [
      "Training losses: MAE = 0.4134572749490323, MSE = 0.37702993097745424\n",
      "Validation losses: MAE = 1.0544469697700312, MSE = 1.7476815742989738\n",
      "Now running epoch 50\n"
     ]
    },
    {
     "name": "stderr",
     "output_type": "stream",
     "text": [
      "Training data: 100%|███████████████████████████████████████████████████████████████████| 48/48 [00:07<00:00,  6.81it/s]\n",
      "Validation data: 100%|███████████████████████████████████████████████████████████████████| 4/4 [00:01<00:00,  2.26it/s]\n"
     ]
    },
    {
     "name": "stdout",
     "output_type": "stream",
     "text": [
      "Training losses: MAE = 0.4259584764153139, MSE = 0.408492572225998\n",
      "Validation losses: MAE = 1.061549412369424, MSE = 1.7679377891328831\n",
      "Now running epoch 51\n"
     ]
    },
    {
     "name": "stderr",
     "output_type": "stream",
     "text": [
      "Training data: 100%|███████████████████████████████████████████████████████████████████| 48/48 [00:07<00:00,  6.81it/s]\n",
      "Validation data: 100%|███████████████████████████████████████████████████████████████████| 4/4 [00:01<00:00,  2.26it/s]\n"
     ]
    },
    {
     "name": "stdout",
     "output_type": "stream",
     "text": [
      "Training losses: MAE = 0.45858509114952395, MSE = 0.4315097079000253\n",
      "Validation losses: MAE = 1.0756270635826963, MSE = 1.8139093388052707\n",
      "Now running epoch 52\n"
     ]
    },
    {
     "name": "stderr",
     "output_type": "stream",
     "text": [
      "Training data: 100%|███████████████████████████████████████████████████████████████████| 48/48 [00:06<00:00,  6.88it/s]\n",
      "Validation data: 100%|███████████████████████████████████████████████████████████████████| 4/4 [00:01<00:00,  2.07it/s]\n"
     ]
    },
    {
     "name": "stdout",
     "output_type": "stream",
     "text": [
      "Training losses: MAE = 0.46327243784540145, MSE = 0.4599941662590805\n",
      "Validation losses: MAE = 1.11634802956717, MSE = 1.8785346967860923\n",
      "Now running epoch 53\n"
     ]
    },
    {
     "name": "stderr",
     "output_type": "stream",
     "text": [
      "Training data: 100%|███████████████████████████████████████████████████████████████████| 48/48 [00:06<00:00,  6.94it/s]\n",
      "Validation data: 100%|███████████████████████████████████████████████████████████████████| 4/4 [00:01<00:00,  2.18it/s]\n"
     ]
    },
    {
     "name": "stdout",
     "output_type": "stream",
     "text": [
      "Training losses: MAE = 0.43814372450674427, MSE = 0.42139108065181013\n",
      "Validation losses: MAE = 1.069613936055858, MSE = 1.7692958447192617\n",
      "Now running epoch 54\n"
     ]
    },
    {
     "name": "stderr",
     "output_type": "stream",
     "text": [
      "Training data: 100%|███████████████████████████████████████████████████████████████████| 48/48 [00:06<00:00,  7.03it/s]\n",
      "Validation data: 100%|███████████████████████████████████████████████████████████████████| 4/4 [00:01<00:00,  2.26it/s]\n"
     ]
    },
    {
     "name": "stdout",
     "output_type": "stream",
     "text": [
      "Training losses: MAE = 0.42419114900594557, MSE = 0.44167591651196597\n",
      "Validation losses: MAE = 1.0410613809550024, MSE = 1.6856648662076776\n",
      "Now running epoch 55\n"
     ]
    },
    {
     "name": "stderr",
     "output_type": "stream",
     "text": [
      "Training data: 100%|███████████████████████████████████████████████████████████████████| 48/48 [00:06<00:00,  6.92it/s]\n",
      "Validation data: 100%|███████████████████████████████████████████████████████████████████| 4/4 [00:01<00:00,  2.21it/s]\n"
     ]
    },
    {
     "name": "stdout",
     "output_type": "stream",
     "text": [
      "Training losses: MAE = 0.4173761684763849, MSE = 0.3814034644748812\n",
      "Validation losses: MAE = 1.0433863161165657, MSE = 1.6970773918714768\n",
      "Now running epoch 56\n"
     ]
    },
    {
     "name": "stderr",
     "output_type": "stream",
     "text": [
      "Training data: 100%|███████████████████████████████████████████████████████████████████| 48/48 [00:06<00:00,  6.98it/s]\n",
      "Validation data: 100%|███████████████████████████████████████████████████████████████████| 4/4 [00:01<00:00,  2.38it/s]\n"
     ]
    },
    {
     "name": "stdout",
     "output_type": "stream",
     "text": [
      "Training losses: MAE = 0.40789194424853153, MSE = 0.37784349286164476\n",
      "Validation losses: MAE = 1.0770260295003367, MSE = 1.7729617371619744\n",
      "Now running epoch 57\n"
     ]
    },
    {
     "name": "stderr",
     "output_type": "stream",
     "text": [
      "Training data: 100%|███████████████████████████████████████████████████████████████████| 48/48 [00:06<00:00,  7.10it/s]\n",
      "Validation data: 100%|███████████████████████████████████████████████████████████████████| 4/4 [00:01<00:00,  2.39it/s]\n"
     ]
    },
    {
     "name": "stdout",
     "output_type": "stream",
     "text": [
      "Training losses: MAE = 0.40605511293561775, MSE = 0.3513937620550145\n",
      "Validation losses: MAE = 1.0917413751352651, MSE = 1.8007238783211927\n",
      "Now running epoch 58\n"
     ]
    },
    {
     "name": "stderr",
     "output_type": "stream",
     "text": [
      "Training data: 100%|███████████████████████████████████████████████████████████████████| 48/48 [00:06<00:00,  7.20it/s]\n",
      "Validation data: 100%|███████████████████████████████████████████████████████████████████| 4/4 [00:01<00:00,  2.30it/s]\n"
     ]
    },
    {
     "name": "stdout",
     "output_type": "stream",
     "text": [
      "Training losses: MAE = 0.4499286387493258, MSE = 0.4226569299243098\n",
      "Validation losses: MAE = 1.0551436724634962, MSE = 1.780774139924117\n",
      "Now running epoch 59\n"
     ]
    },
    {
     "name": "stderr",
     "output_type": "stream",
     "text": [
      "Training data: 100%|███████████████████████████████████████████████████████████████████| 48/48 [00:06<00:00,  6.94it/s]\n",
      "Validation data: 100%|███████████████████████████████████████████████████████████████████| 4/4 [00:01<00:00,  2.44it/s]\n"
     ]
    },
    {
     "name": "stdout",
     "output_type": "stream",
     "text": [
      "Training losses: MAE = 0.38235346265603903, MSE = 0.3389429049377671\n",
      "Validation losses: MAE = 1.0541373793557258, MSE = 1.7512164656803804\n",
      "Now running epoch 60\n"
     ]
    },
    {
     "name": "stderr",
     "output_type": "stream",
     "text": [
      "Training data: 100%|███████████████████████████████████████████████████████████████████| 48/48 [00:06<00:00,  7.36it/s]\n",
      "Validation data: 100%|███████████████████████████████████████████████████████████████████| 4/4 [00:01<00:00,  2.44it/s]\n"
     ]
    },
    {
     "name": "stdout",
     "output_type": "stream",
     "text": [
      "Training losses: MAE = 0.4566448444953038, MSE = 0.4372878668484198\n",
      "Validation losses: MAE = 1.0731294597234202, MSE = 1.7773290971077356\n",
      "Now running epoch 61\n"
     ]
    },
    {
     "name": "stderr",
     "output_type": "stream",
     "text": [
      "Training data: 100%|███████████████████████████████████████████████████████████████████| 48/48 [00:06<00:00,  7.21it/s]\n",
      "Validation data: 100%|███████████████████████████████████████████████████████████████████| 4/4 [00:01<00:00,  2.36it/s]\n"
     ]
    },
    {
     "name": "stdout",
     "output_type": "stream",
     "text": [
      "Training losses: MAE = 0.45163458402192735, MSE = 0.4399931458895016\n",
      "Validation losses: MAE = 1.039984043866907, MSE = 1.6996361162966185\n",
      "Now running epoch 62\n"
     ]
    },
    {
     "name": "stderr",
     "output_type": "stream",
     "text": [
      "Training data: 100%|███████████████████████████████████████████████████████████████████| 48/48 [00:06<00:00,  6.87it/s]\n",
      "Validation data: 100%|███████████████████████████████████████████████████████████████████| 4/4 [00:01<00:00,  2.22it/s]\n"
     ]
    },
    {
     "name": "stdout",
     "output_type": "stream",
     "text": [
      "Training losses: MAE = 0.41249365701474694, MSE = 0.35657685659512606\n",
      "Validation losses: MAE = 1.0557113051300346, MSE = 1.7506816142046326\n",
      "Now running epoch 63\n"
     ]
    },
    {
     "name": "stderr",
     "output_type": "stream",
     "text": [
      "Training data: 100%|███████████████████████████████████████████████████████████████████| 48/48 [00:08<00:00,  5.96it/s]\n",
      "Validation data: 100%|███████████████████████████████████████████████████████████████████| 4/4 [00:01<00:00,  2.32it/s]\n"
     ]
    },
    {
     "name": "stdout",
     "output_type": "stream",
     "text": [
      "Training losses: MAE = 0.4210863386032379, MSE = 0.394525302579114\n",
      "Validation losses: MAE = 1.092496812017443, MSE = 1.853920079577432\n",
      "Now running epoch 64\n"
     ]
    },
    {
     "name": "stderr",
     "output_type": "stream",
     "text": [
      "Training data: 100%|███████████████████████████████████████████████████████████████████| 48/48 [00:06<00:00,  7.15it/s]\n",
      "Validation data: 100%|███████████████████████████████████████████████████████████████████| 4/4 [00:01<00:00,  2.45it/s]\n"
     ]
    },
    {
     "name": "stdout",
     "output_type": "stream",
     "text": [
      "Training losses: MAE = 0.4323101247910311, MSE = 0.3915844961548085\n",
      "Validation losses: MAE = 1.0480759185353152, MSE = 1.7211211986291646\n",
      "Now running epoch 65\n"
     ]
    },
    {
     "name": "stderr",
     "output_type": "stream",
     "text": [
      "Training data: 100%|███████████████████████████████████████████████████████████████████| 48/48 [00:06<00:00,  7.26it/s]\n",
      "Validation data: 100%|███████████████████████████████████████████████████████████████████| 4/4 [00:01<00:00,  2.35it/s]\n"
     ]
    },
    {
     "name": "stdout",
     "output_type": "stream",
     "text": [
      "Training losses: MAE = 0.4476976951588416, MSE = 0.390161861558171\n",
      "Validation losses: MAE = 1.052066384907667, MSE = 1.70475465334435\n",
      "Now running epoch 66\n"
     ]
    },
    {
     "name": "stderr",
     "output_type": "stream",
     "text": [
      "Training data: 100%|███████████████████████████████████████████████████████████████████| 48/48 [00:06<00:00,  7.21it/s]\n",
      "Validation data: 100%|███████████████████████████████████████████████████████████████████| 4/4 [00:01<00:00,  2.44it/s]\n"
     ]
    },
    {
     "name": "stdout",
     "output_type": "stream",
     "text": [
      "Training losses: MAE = 0.47098723820377053, MSE = 0.43725339550017395\n",
      "Validation losses: MAE = 1.0567043064459312, MSE = 1.7455177024417132\n",
      "Now running epoch 67\n"
     ]
    },
    {
     "name": "stderr",
     "output_type": "stream",
     "text": [
      "Training data: 100%|███████████████████████████████████████████████████████████████████| 48/48 [00:06<00:00,  7.20it/s]\n",
      "Validation data: 100%|███████████████████████████████████████████████████████████████████| 4/4 [00:01<00:00,  2.42it/s]\n"
     ]
    },
    {
     "name": "stdout",
     "output_type": "stream",
     "text": [
      "Training losses: MAE = 0.3950846282849899, MSE = 0.34323749770839224\n",
      "Validation losses: MAE = 1.0800626500517072, MSE = 1.7902471681538814\n",
      "Now running epoch 68\n"
     ]
    },
    {
     "name": "stderr",
     "output_type": "stream",
     "text": [
      "Training data: 100%|███████████████████████████████████████████████████████████████████| 48/48 [00:06<00:00,  7.11it/s]\n",
      "Validation data: 100%|███████████████████████████████████████████████████████████████████| 4/4 [00:01<00:00,  2.35it/s]\n"
     ]
    },
    {
     "name": "stdout",
     "output_type": "stream",
     "text": [
      "Training losses: MAE = 0.3962221370165306, MSE = 0.35714346983996553\n",
      "Validation losses: MAE = 1.0611309308677963, MSE = 1.7531626709627155\n",
      "Now running epoch 69\n"
     ]
    },
    {
     "name": "stderr",
     "output_type": "stream",
     "text": [
      "Training data: 100%|███████████████████████████████████████████████████████████████████| 48/48 [00:06<00:00,  7.32it/s]\n",
      "Validation data: 100%|███████████████████████████████████████████████████████████████████| 4/4 [00:01<00:00,  2.43it/s]\n"
     ]
    },
    {
     "name": "stdout",
     "output_type": "stream",
     "text": [
      "Training losses: MAE = 0.4299596903099965, MSE = 0.38717980945966857\n",
      "Validation losses: MAE = 1.0479431319367953, MSE = 1.7399885531383432\n",
      "Now running epoch 70\n"
     ]
    },
    {
     "name": "stderr",
     "output_type": "stream",
     "text": [
      "Training data: 100%|███████████████████████████████████████████████████████████████████| 48/48 [00:06<00:00,  7.30it/s]\n",
      "Validation data: 100%|███████████████████████████████████████████████████████████████████| 4/4 [00:01<00:00,  2.39it/s]\n"
     ]
    },
    {
     "name": "stdout",
     "output_type": "stream",
     "text": [
      "Training losses: MAE = 0.40816334615020033, MSE = 0.36853488683222274\n",
      "Validation losses: MAE = 1.0698877095555366, MSE = 1.782796487985865\n",
      "Now running epoch 71\n"
     ]
    },
    {
     "name": "stderr",
     "output_type": "stream",
     "text": [
      "Training data: 100%|███████████████████████████████████████████████████████████████████| 48/48 [00:06<00:00,  7.22it/s]\n",
      "Validation data: 100%|███████████████████████████████████████████████████████████████████| 4/4 [00:01<00:00,  2.44it/s]\n"
     ]
    },
    {
     "name": "stdout",
     "output_type": "stream",
     "text": [
      "Training losses: MAE = 0.3593505374764151, MSE = 0.2913756839925711\n",
      "Validation losses: MAE = 1.0704182908201108, MSE = 1.767020095732249\n",
      "Now running epoch 72\n"
     ]
    },
    {
     "name": "stderr",
     "output_type": "stream",
     "text": [
      "Training data: 100%|███████████████████████████████████████████████████████████████████| 48/48 [00:06<00:00,  7.29it/s]\n",
      "Validation data: 100%|███████████████████████████████████████████████████████████████████| 4/4 [00:01<00:00,  2.39it/s]\n"
     ]
    },
    {
     "name": "stdout",
     "output_type": "stream",
     "text": [
      "Training losses: MAE = 0.4023294194679561, MSE = 0.3519012120477816\n",
      "Validation losses: MAE = 1.0510653565028871, MSE = 1.7460515770053409\n",
      "Now running epoch 73\n"
     ]
    },
    {
     "name": "stderr",
     "output_type": "stream",
     "text": [
      "Training data: 100%|███████████████████████████████████████████████████████████████████| 48/48 [00:06<00:00,  7.18it/s]\n",
      "Validation data: 100%|███████████████████████████████████████████████████████████████████| 4/4 [00:01<00:00,  2.36it/s]\n"
     ]
    },
    {
     "name": "stdout",
     "output_type": "stream",
     "text": [
      "Training losses: MAE = 0.4373236573113837, MSE = 0.41808025398420706\n",
      "Validation losses: MAE = 1.0470423446719848, MSE = 1.7360259597981054\n",
      "Now running epoch 74\n"
     ]
    },
    {
     "name": "stderr",
     "output_type": "stream",
     "text": [
      "Training data: 100%|███████████████████████████████████████████████████████████████████| 48/48 [00:06<00:00,  7.20it/s]\n",
      "Validation data: 100%|███████████████████████████████████████████████████████████████████| 4/4 [00:01<00:00,  2.44it/s]\n"
     ]
    },
    {
     "name": "stdout",
     "output_type": "stream",
     "text": [
      "Training losses: MAE = 0.40681364010239424, MSE = 0.35241970809443685\n",
      "Validation losses: MAE = 1.0483699443140135, MSE = 1.7379249810427653\n",
      "Now running epoch 75\n"
     ]
    },
    {
     "name": "stderr",
     "output_type": "stream",
     "text": [
      "Training data: 100%|███████████████████████████████████████████████████████████████████| 48/48 [00:06<00:00,  7.32it/s]\n",
      "Validation data: 100%|███████████████████████████████████████████████████████████████████| 4/4 [00:01<00:00,  2.37it/s]\n"
     ]
    },
    {
     "name": "stdout",
     "output_type": "stream",
     "text": [
      "Training losses: MAE = 0.40383902560260293, MSE = 0.35588201815911996\n",
      "Validation losses: MAE = 1.0766065184320637, MSE = 1.783534099848541\n",
      "Now running epoch 76\n"
     ]
    },
    {
     "name": "stderr",
     "output_type": "stream",
     "text": [
      "Training data: 100%|███████████████████████████████████████████████████████████████████| 48/48 [00:06<00:00,  7.34it/s]\n",
      "Validation data: 100%|███████████████████████████████████████████████████████████████████| 4/4 [00:01<00:00,  2.37it/s]\n"
     ]
    },
    {
     "name": "stdout",
     "output_type": "stream",
     "text": [
      "Training losses: MAE = 0.43362276569081154, MSE = 0.39326923914205003\n",
      "Validation losses: MAE = 1.0772517039841856, MSE = 1.8194069429083004\n",
      "Now running epoch 77\n"
     ]
    },
    {
     "name": "stderr",
     "output_type": "stream",
     "text": [
      "Training data: 100%|███████████████████████████████████████████████████████████████████| 48/48 [00:06<00:00,  7.35it/s]\n",
      "Validation data: 100%|███████████████████████████████████████████████████████████████████| 4/4 [00:01<00:00,  2.46it/s]\n"
     ]
    },
    {
     "name": "stdout",
     "output_type": "stream",
     "text": [
      "Training losses: MAE = 0.4196572674358912, MSE = 0.3633061370584362\n",
      "Validation losses: MAE = 1.0703401511614694, MSE = 1.761196647352932\n",
      "Now running epoch 78\n"
     ]
    },
    {
     "name": "stderr",
     "output_type": "stream",
     "text": [
      "Training data: 100%|███████████████████████████████████████████████████████████████████| 48/48 [00:06<00:00,  7.28it/s]\n",
      "Validation data: 100%|███████████████████████████████████████████████████████████████████| 4/4 [00:01<00:00,  2.48it/s]\n"
     ]
    },
    {
     "name": "stdout",
     "output_type": "stream",
     "text": [
      "Training losses: MAE = 0.4240035510241459, MSE = 0.3735880724357211\n",
      "Validation losses: MAE = 1.115667863804306, MSE = 1.8941305177829275\n",
      "Now running epoch 79\n"
     ]
    },
    {
     "name": "stderr",
     "output_type": "stream",
     "text": [
      "Training data: 100%|███████████████████████████████████████████████████████████████████| 48/48 [00:06<00:00,  7.35it/s]\n",
      "Validation data: 100%|███████████████████████████████████████████████████████████████████| 4/4 [00:01<00:00,  2.46it/s]\n"
     ]
    },
    {
     "name": "stdout",
     "output_type": "stream",
     "text": [
      "Training losses: MAE = 0.39197511663521034, MSE = 0.36216352053301015\n",
      "Validation losses: MAE = 1.0719284444215533, MSE = 1.7851999183803997\n",
      "Now running epoch 80\n"
     ]
    },
    {
     "name": "stderr",
     "output_type": "stream",
     "text": [
      "Training data: 100%|███████████████████████████████████████████████████████████████████| 48/48 [00:06<00:00,  7.19it/s]\n",
      "Validation data: 100%|███████████████████████████████████████████████████████████████████| 4/4 [00:01<00:00,  2.35it/s]\n"
     ]
    },
    {
     "name": "stdout",
     "output_type": "stream",
     "text": [
      "Training losses: MAE = 0.4611758097092438, MSE = 0.428876918824867\n",
      "Validation losses: MAE = 1.0757771532444909, MSE = 1.788181959585478\n",
      "Now running epoch 81\n"
     ]
    },
    {
     "name": "stderr",
     "output_type": "stream",
     "text": [
      "Training data: 100%|███████████████████████████████████████████████████████████████████| 48/48 [00:06<00:00,  7.24it/s]\n",
      "Validation data: 100%|███████████████████████████████████████████████████████████████████| 4/4 [00:01<00:00,  2.40it/s]\n"
     ]
    },
    {
     "name": "stdout",
     "output_type": "stream",
     "text": [
      "Training losses: MAE = 0.4080557514467888, MSE = 0.36016637430590565\n",
      "Validation losses: MAE = 1.0792511844150874, MSE = 1.804704033467208\n",
      "Now running epoch 82\n"
     ]
    },
    {
     "name": "stderr",
     "output_type": "stream",
     "text": [
      "Training data: 100%|███████████████████████████████████████████████████████████████████| 48/48 [00:06<00:00,  7.30it/s]\n",
      "Validation data: 100%|███████████████████████████████████████████████████████████████████| 4/4 [00:01<00:00,  2.40it/s]\n"
     ]
    },
    {
     "name": "stdout",
     "output_type": "stream",
     "text": [
      "Training losses: MAE = 0.3752642214424789, MSE = 0.3309444005952388\n",
      "Validation losses: MAE = 1.0899655444318208, MSE = 1.8222955520203852\n",
      "Now running epoch 83\n"
     ]
    },
    {
     "name": "stderr",
     "output_type": "stream",
     "text": [
      "Training data: 100%|███████████████████████████████████████████████████████████████████| 48/48 [00:06<00:00,  7.26it/s]\n",
      "Validation data: 100%|███████████████████████████████████████████████████████████████████| 4/4 [00:01<00:00,  2.39it/s]\n"
     ]
    },
    {
     "name": "stdout",
     "output_type": "stream",
     "text": [
      "Training losses: MAE = 0.3727299173135373, MSE = 0.33282794292552254\n",
      "Validation losses: MAE = 1.0399786008841165, MSE = 1.7275810303598502\n",
      "Now running epoch 84\n"
     ]
    },
    {
     "name": "stderr",
     "output_type": "stream",
     "text": [
      "Training data: 100%|███████████████████████████████████████████████████████████████████| 48/48 [00:06<00:00,  7.21it/s]\n",
      "Validation data: 100%|███████████████████████████████████████████████████████████████████| 4/4 [00:01<00:00,  2.46it/s]\n"
     ]
    },
    {
     "name": "stdout",
     "output_type": "stream",
     "text": [
      "Training losses: MAE = 0.4291086386844092, MSE = 0.3664043907069674\n",
      "Validation losses: MAE = 1.057875366675017, MSE = 1.7575127465771883\n",
      "Now running epoch 85\n"
     ]
    },
    {
     "name": "stderr",
     "output_type": "stream",
     "text": [
      "Training data: 100%|███████████████████████████████████████████████████████████████████| 48/48 [00:06<00:00,  7.22it/s]\n",
      "Validation data: 100%|███████████████████████████████████████████████████████████████████| 4/4 [00:01<00:00,  2.20it/s]\n"
     ]
    },
    {
     "name": "stdout",
     "output_type": "stream",
     "text": [
      "Training losses: MAE = 0.3996072173272645, MSE = 0.34620950859977545\n",
      "Validation losses: MAE = 1.06276555401914, MSE = 1.7397324998373833\n",
      "Now running epoch 86\n"
     ]
    },
    {
     "name": "stderr",
     "output_type": "stream",
     "text": [
      "Training data: 100%|███████████████████████████████████████████████████████████████████| 48/48 [00:08<00:00,  5.99it/s]\n",
      "Validation data: 100%|███████████████████████████████████████████████████████████████████| 4/4 [00:01<00:00,  2.21it/s]\n"
     ]
    },
    {
     "name": "stdout",
     "output_type": "stream",
     "text": [
      "Training losses: MAE = 0.4208275952502831, MSE = 0.3699664243731493\n",
      "Validation losses: MAE = 1.047599988791836, MSE = 1.74863803779999\n",
      "Now running epoch 87\n"
     ]
    },
    {
     "name": "stderr",
     "output_type": "stream",
     "text": [
      "Training data: 100%|███████████████████████████████████████████████████████████████████| 48/48 [00:06<00:00,  6.87it/s]\n",
      "Validation data: 100%|███████████████████████████████████████████████████████████████████| 4/4 [00:01<00:00,  2.22it/s]\n"
     ]
    },
    {
     "name": "stdout",
     "output_type": "stream",
     "text": [
      "Training losses: MAE = 0.423975306314804, MSE = 0.3679149211515415\n",
      "Validation losses: MAE = 1.0472841826358168, MSE = 1.7232541336640448\n",
      "Now running epoch 88\n"
     ]
    },
    {
     "name": "stderr",
     "output_type": "stream",
     "text": [
      "Training data: 100%|███████████████████████████████████████████████████████████████████| 48/48 [00:07<00:00,  6.85it/s]\n",
      "Validation data: 100%|███████████████████████████████████████████████████████████████████| 4/4 [00:01<00:00,  2.42it/s]\n"
     ]
    },
    {
     "name": "stdout",
     "output_type": "stream",
     "text": [
      "Training losses: MAE = 0.41652884253049716, MSE = 0.3782810744916066\n",
      "Validation losses: MAE = 1.0479743945883648, MSE = 1.73948902157295\n",
      "Now running epoch 89\n"
     ]
    },
    {
     "name": "stderr",
     "output_type": "stream",
     "text": [
      "Training data: 100%|███████████████████████████████████████████████████████████████████| 48/48 [00:06<00:00,  7.10it/s]\n",
      "Validation data: 100%|███████████████████████████████████████████████████████████████████| 4/4 [00:01<00:00,  2.25it/s]\n"
     ]
    },
    {
     "name": "stdout",
     "output_type": "stream",
     "text": [
      "Training losses: MAE = 0.43127104738126015, MSE = 0.3659738076449646\n",
      "Validation losses: MAE = 1.044129081980551, MSE = 1.7046449287358125\n",
      "Now running epoch 90\n"
     ]
    },
    {
     "name": "stderr",
     "output_type": "stream",
     "text": [
      "Training data: 100%|███████████████████████████████████████████████████████████████████| 48/48 [00:07<00:00,  6.66it/s]\n",
      "Validation data: 100%|███████████████████████████████████████████████████████████████████| 4/4 [00:01<00:00,  2.29it/s]\n"
     ]
    },
    {
     "name": "stdout",
     "output_type": "stream",
     "text": [
      "Training losses: MAE = 0.39308083342798017, MSE = 0.3545151525802895\n",
      "Validation losses: MAE = 1.057105499969772, MSE = 1.7509958182945737\n",
      "Now running epoch 91\n"
     ]
    },
    {
     "name": "stderr",
     "output_type": "stream",
     "text": [
      "Training data: 100%|███████████████████████████████████████████████████████████████████| 48/48 [00:07<00:00,  6.60it/s]\n",
      "Validation data: 100%|███████████████████████████████████████████████████████████████████| 4/4 [00:01<00:00,  2.10it/s]\n"
     ]
    },
    {
     "name": "stdout",
     "output_type": "stream",
     "text": [
      "Training losses: MAE = 0.4341902469482617, MSE = 0.4019892863302076\n",
      "Validation losses: MAE = 1.067676402563743, MSE = 1.776071195259449\n",
      "Now running epoch 92\n"
     ]
    },
    {
     "name": "stderr",
     "output_type": "stream",
     "text": [
      "Training data: 100%|███████████████████████████████████████████████████████████████████| 48/48 [00:07<00:00,  6.49it/s]\n",
      "Validation data: 100%|███████████████████████████████████████████████████████████████████| 4/4 [00:01<00:00,  2.19it/s]\n"
     ]
    },
    {
     "name": "stdout",
     "output_type": "stream",
     "text": [
      "Training losses: MAE = 0.40772806626608216, MSE = 0.36010060217764717\n",
      "Validation losses: MAE = 1.0598263217090402, MSE = 1.7489414105024341\n",
      "Now running epoch 93\n"
     ]
    },
    {
     "name": "stderr",
     "output_type": "stream",
     "text": [
      "Training data: 100%|███████████████████████████████████████████████████████████████████| 48/48 [00:07<00:00,  6.84it/s]\n",
      "Validation data: 100%|███████████████████████████████████████████████████████████████████| 4/4 [00:01<00:00,  2.32it/s]\n"
     ]
    },
    {
     "name": "stdout",
     "output_type": "stream",
     "text": [
      "Training losses: MAE = 0.43084239952542935, MSE = 0.36166256008725084\n",
      "Validation losses: MAE = 1.0799868137625928, MSE = 1.7944458999612922\n",
      "Now running epoch 94\n"
     ]
    },
    {
     "name": "stderr",
     "output_type": "stream",
     "text": [
      "Training data: 100%|███████████████████████████████████████████████████████████████████| 48/48 [00:06<00:00,  6.97it/s]\n",
      "Validation data: 100%|███████████████████████████████████████████████████████████████████| 4/4 [00:01<00:00,  2.29it/s]\n"
     ]
    },
    {
     "name": "stdout",
     "output_type": "stream",
     "text": [
      "Training losses: MAE = 0.4121726580848409, MSE = 0.3518110734252794\n",
      "Validation losses: MAE = 1.0815458180499897, MSE = 1.8048704649640792\n",
      "Now running epoch 95\n"
     ]
    },
    {
     "name": "stderr",
     "output_type": "stream",
     "text": [
      "Training data: 100%|███████████████████████████████████████████████████████████████████| 48/48 [00:06<00:00,  7.03it/s]\n",
      "Validation data: 100%|███████████████████████████████████████████████████████████████████| 4/4 [00:01<00:00,  2.35it/s]\n"
     ]
    },
    {
     "name": "stdout",
     "output_type": "stream",
     "text": [
      "Training losses: MAE = 0.4348568660941864, MSE = 0.4051321501820948\n",
      "Validation losses: MAE = 1.0685858716806111, MSE = 1.7760373518319956\n",
      "Now running epoch 96\n"
     ]
    },
    {
     "name": "stderr",
     "output_type": "stream",
     "text": [
      "Training data: 100%|███████████████████████████████████████████████████████████████████| 48/48 [00:06<00:00,  6.92it/s]\n",
      "Validation data: 100%|███████████████████████████████████████████████████████████████████| 4/4 [00:01<00:00,  2.33it/s]\n"
     ]
    },
    {
     "name": "stdout",
     "output_type": "stream",
     "text": [
      "Training losses: MAE = 0.37854412677820326, MSE = 0.3201625741207586\n",
      "Validation losses: MAE = 1.0552998922062609, MSE = 1.7386447979276207\n",
      "Now running epoch 97\n"
     ]
    },
    {
     "name": "stderr",
     "output_type": "stream",
     "text": [
      "Training data: 100%|███████████████████████████████████████████████████████████████████| 48/48 [00:06<00:00,  6.91it/s]\n",
      "Validation data: 100%|███████████████████████████████████████████████████████████████████| 4/4 [00:01<00:00,  2.30it/s]\n"
     ]
    },
    {
     "name": "stdout",
     "output_type": "stream",
     "text": [
      "Training losses: MAE = 0.4531029454890697, MSE = 0.3969944310986657\n",
      "Validation losses: MAE = 1.0544259330330652, MSE = 1.7367479588070998\n",
      "Now running epoch 98\n"
     ]
    },
    {
     "name": "stderr",
     "output_type": "stream",
     "text": [
      "Training data: 100%|███████████████████████████████████████████████████████████████████| 48/48 [00:06<00:00,  7.01it/s]\n",
      "Validation data: 100%|███████████████████████████████████████████████████████████████████| 4/4 [00:01<00:00,  2.28it/s]\n"
     ]
    },
    {
     "name": "stdout",
     "output_type": "stream",
     "text": [
      "Training losses: MAE = 0.3592981420501497, MSE = 0.2877804340122461\n",
      "Validation losses: MAE = 1.0447050280901016, MSE = 1.7320414538393432\n",
      "Now running epoch 99\n"
     ]
    },
    {
     "name": "stderr",
     "output_type": "stream",
     "text": [
      "Training data: 100%|███████████████████████████████████████████████████████████████████| 48/48 [00:06<00:00,  7.08it/s]\n",
      "Validation data: 100%|███████████████████████████████████████████████████████████████████| 4/4 [00:01<00:00,  2.33it/s]"
     ]
    },
    {
     "name": "stdout",
     "output_type": "stream",
     "text": [
      "Training losses: MAE = 0.4187182871384569, MSE = 0.38078018789404633\n",
      "Validation losses: MAE = 1.0500993246370118, MSE = 1.7077466374646966\n"
     ]
    },
    {
     "name": "stderr",
     "output_type": "stream",
     "text": [
      "\n"
     ]
    }
   ],
   "source": [
    "epochs = 100\n",
    "print(f\"Training for {epochs} epochs\")\n",
    "\n",
    "# training loop\n",
    "train_mae_loss_list = []\n",
    "train_mse_loss_list = []\n",
    "val_mae_loss_list = []\n",
    "val_mse_loss_list = []\n",
    "best_mae = 1000000\n",
    "for epoch in range(epochs):\n",
    "    print(f\"Now running epoch {epoch}\")\n",
    "    #Iterate through training dataset\n",
    "    train_mae_loss = 0\n",
    "    train_mse_loss = 0\n",
    "    val_mae_loss = 0\n",
    "    val_mse_loss = 0\n",
    "    model.train()\n",
    "    for image, label in tqdm(train_loader,desc=\"Training data: \"):\n",
    "        # Send variables to device\n",
    "        image = image.to(device)\n",
    "        label = label.to(device)\n",
    "        # Zero gradients\n",
    "        optimizer.zero_grad()\n",
    "        # Predict values\n",
    "        pred = model(image)\n",
    "        # Compute loss\n",
    "        loss = criterion(pred.squeeze(),label)\n",
    "        # Backpropagate\n",
    "        loss.backward()\n",
    "        # Update parameters\n",
    "        optimizer.step()\n",
    "        # Move variables to cpu\n",
    "        pred = pred.cpu().detach()\n",
    "        label = label.cpu().detach()\n",
    "        # Compute losses\n",
    "        train_mae_loss += mean_absolute_error(pred,label)*image.shape[0]\n",
    "        train_mse_loss += mean_squared_error(pred,label)*image.shape[0]\n",
    "    train_mae_loss /= len(train_data)\n",
    "    train_mse_loss /= len(train_data)\n",
    "    model.eval()\n",
    "    # Run validation dataset\n",
    "    for image, label in tqdm(val_loader,desc=\"Validation data: \"):\n",
    "        # Send variables to device\n",
    "        image = image.to(device)\n",
    "        label = label.to(device)\n",
    "        # Run model\n",
    "        pred = model(image)\n",
    "        # Move variables to cpu\n",
    "        pred = pred.cpu().detach()\n",
    "        label = label.cpu().detach()\n",
    "        # Compute loss\n",
    "        val_mae_loss += mean_absolute_error(pred,label)*image.shape[0]\n",
    "        val_mse_loss += mean_squared_error(pred,label)*image.shape[0]\n",
    "    val_mae_loss /= len(val_data)\n",
    "    val_mse_loss /= len(val_data)\n",
    "    print(f\"Training losses: MAE = {train_mae_loss}, MSE = {train_mse_loss}\")\n",
    "    print(f\"Validation losses: MAE = {val_mae_loss}, MSE = {val_mse_loss}\")\n",
    "    train_mae_loss_list.append(train_mae_loss)\n",
    "    train_mse_loss_list.append(train_mse_loss)\n",
    "    val_mae_loss_list.append(val_mae_loss)\n",
    "    val_mse_loss_list.append(val_mse_loss)\n",
    "    scheduler.step()\n",
    "    # Checkpoint best model\n",
    "    if val_mae_loss < best_mae:\n",
    "        best_mae = val_mae_loss\n",
    "        torch.save(model, f\"best_resnext_model.pt\")"
   ]
  },
  {
   "cell_type": "code",
   "execution_count": 25,
   "id": "0757ba20",
   "metadata": {},
   "outputs": [],
   "source": [
    "# Load best performing model\n",
    "model = torch.load(\"best_resnext_model.pt\")"
   ]
  },
  {
   "cell_type": "code",
   "execution_count": 26,
   "id": "7dc7bad6",
   "metadata": {},
   "outputs": [
    {
     "name": "stderr",
     "output_type": "stream",
     "text": [
      "test data: 100%|█████████████████████████████████████████████████████████████████████████| 4/4 [00:01<00:00,  2.18it/s]"
     ]
    },
    {
     "name": "stdout",
     "output_type": "stream",
     "text": [
      "Test loss: MAE = 0.9706078026276608, MSE = 1.703890857540053\n"
     ]
    },
    {
     "name": "stderr",
     "output_type": "stream",
     "text": [
      "\n"
     ]
    }
   ],
   "source": [
    "model.eval()\n",
    "# Run testing loop\n",
    "test_mae_loss = 0\n",
    "test_mse_loss = 0\n",
    "for image, label in tqdm(test_loader,desc=\"test data: \"):\n",
    "    # Send variables to device\n",
    "    image = image.to(device)\n",
    "    label = label.to(device)\n",
    "    # Run model\n",
    "    pred = model(image)\n",
    "    # Move variables to cpu\n",
    "    pred = pred.cpu().detach()\n",
    "    label = label.cpu().detach()\n",
    "    # Compute loss\n",
    "    test_mae_loss += mean_absolute_error(pred,label)*image.shape[0]\n",
    "    test_mse_loss += mean_squared_error(pred,label)*image.shape[0]\n",
    "test_mae_loss /= len(test_data)\n",
    "test_mse_loss /= len(test_data)\n",
    "print(f\"Test loss: MAE = {test_mae_loss}, MSE = {test_mse_loss}\")"
   ]
  },
  {
   "cell_type": "code",
   "execution_count": 27,
   "id": "e22538e5",
   "metadata": {},
   "outputs": [
    {
     "data": {
      "text/plain": [
       "<matplotlib.legend.Legend at 0x200a01171f0>"
      ]
     },
     "execution_count": 27,
     "metadata": {},
     "output_type": "execute_result"
    },
    {
     "data": {
      "image/png": "[encoded data removed]",
      "text/plain": [
       "<Figure size 432x288 with 1 Axes>"
      ]
     },
     "metadata": {
      "needs_background": "light"
     },
     "output_type": "display_data"
    }
   ],
   "source": [
    "plt.figure()\n",
    "plt.plot(range(1,101),train_mae_loss_list,'-r',label=\"Training data\")\n",
    "plt.plot(range(1,101),val_mae_loss_list,'-g',label=\"Validation data\")\n",
    "plt.gca().set_xlabel(\"Epochs\")\n",
    "plt.gca().set_ylabel(\"log10 Mean Absolute Error\")\n",
    "plt.gca().set_title(\"log10 MAE Loss\")\n",
    "plt.legend()"
   ]
  },
  {
   "cell_type": "code",
   "execution_count": 28,
   "id": "b93a998d",
   "metadata": {},
   "outputs": [
    {
     "data": {
      "text/plain": [
       "<matplotlib.legend.Legend at 0x2009f94f760>"
      ]
     },
     "execution_count": 28,
     "metadata": {},
     "output_type": "execute_result"
    },
    {
     "data": {
      "image/png": "[encoded data removed]",
      "text/plain": [
       "<Figure size 432x288 with 1 Axes>"
      ]
     },
     "metadata": {
      "needs_background": "light"
     },
     "output_type": "display_data"
    }
   ],
   "source": [
    "plt.figure()\n",
    "plt.plot(range(1,101),train_mse_loss_list,'-r',label=\"Training data\")\n",
    "plt.plot(range(1,101),val_mse_loss_list,'-g',label=\"Validation data\")\n",
    "plt.gca().set_xlabel(\"Epochs\")\n",
    "plt.gca().set_ylabel(\"log10 Mean Squared Error\")\n",
    "plt.gca().set_title(\"log10 MSE Loss\")\n",
    "plt.legend()"
   ]
  },
  {
   "cell_type": "code",
   "execution_count": 29,
   "id": "bc12b752",
   "metadata": {},
   "outputs": [],
   "source": [
    "def abs_err(x,y):\n",
    "    return np.abs(x-y)\n",
    "def reg_err(x,y):\n",
    "    return x-y"
   ]
  },
  {
   "cell_type": "code",
   "execution_count": 30,
   "id": "201db4fb",
   "metadata": {},
   "outputs": [
    {
     "name": "stderr",
     "output_type": "stream",
     "text": [
      "Train data: 100%|██████████████████████████████████████████████████████████████████████| 48/48 [00:05<00:00,  8.60it/s]\n"
     ]
    }
   ],
   "source": [
    "# Evaluate training distribution\n",
    "model.eval()\n",
    "train_mae_loss = []\n",
    "train_reg_loss = []\n",
    "\n",
    "for image, label in tqdm(train_loader,desc=\"Train data: \"):\n",
    "    # Send variables to device\n",
    "    image = image.to(device)\n",
    "    label = label.to(device)\n",
    "    # Run model\n",
    "    pred = model(image)\n",
    "    # Move variables to cpu\n",
    "    pred = pred.cpu().squeeze().detach()\n",
    "    label = label.cpu().squeeze().detach()\n",
    "#     print(pred.shape)\n",
    "#     print(abs_err(pred,label))\n",
    "    # Compute loss\n",
    "    train_mae_loss = np.concatenate((train_mae_loss, abs_err(pred,label)))\n",
    "    train_reg_loss = np.concatenate((train_reg_loss, reg_err(pred,label)))\n"
   ]
  },
  {
   "cell_type": "code",
   "execution_count": 31,
   "id": "44b94cbe",
   "metadata": {},
   "outputs": [
    {
     "data": {
      "text/plain": [
       "Text(0.5, 0, 'log10 absolute error')"
      ]
     },
     "execution_count": 31,
     "metadata": {},
     "output_type": "execute_result"
    },
    {
     "data": {
      "image/png": "[encoded data removed]",
      "text/plain": [
       "<Figure size 432x288 with 1 Axes>"
      ]
     },
     "metadata": {
      "needs_background": "light"
     },
     "output_type": "display_data"
    }
   ],
   "source": [
    "# Plot absolute error (log) distribution for model\n",
    "sns.histplot(train_mae_loss)#, kde=True)\n",
    "plt.gca().set_title(\"Training data log10 absolute error distribution\")\n",
    "plt.gca().set_xlabel(\"log10 absolute error\")"
   ]
  },
  {
   "cell_type": "code",
   "execution_count": 32,
   "id": "b1688a24",
   "metadata": {},
   "outputs": [
    {
     "data": {
      "text/plain": [
       "Text(0.5, 0, 'log10 error')"
      ]
     },
     "execution_count": 32,
     "metadata": {},
     "output_type": "execute_result"
    },
    {
     "data": {
      "image/png": "[encoded data removed]",
      "text/plain": [
       "<Figure size 432x288 with 1 Axes>"
      ]
     },
     "metadata": {
      "needs_background": "light"
     },
     "output_type": "display_data"
    }
   ],
   "source": [
    "sns.histplot(train_reg_loss)#, kde=True)\n",
    "plt.gca().set_title(\"Training data log10 error distribution\")\n",
    "plt.gca().set_xlabel(\"log10 error\")"
   ]
  },
  {
   "cell_type": "code",
   "execution_count": 33,
   "id": "1fbae089",
   "metadata": {},
   "outputs": [
    {
     "name": "stderr",
     "output_type": "stream",
     "text": [
      "Validation data: 100%|███████████████████████████████████████████████████████████████████| 4/4 [00:01<00:00,  2.06it/s]\n"
     ]
    }
   ],
   "source": [
    "# Evaluate validation distribution\n",
    "model.eval()\n",
    "val_mae_loss = []\n",
    "val_reg_loss = []\n",
    "\n",
    "for image, label in tqdm(val_loader,desc=\"Validation data: \"):\n",
    "    # Send variables to device\n",
    "    image = image.to(device)\n",
    "    label = label.to(device)\n",
    "    # Run model\n",
    "    pred = model(image)\n",
    "    # Move variables to cpu\n",
    "    pred = pred.cpu().squeeze().detach()\n",
    "    label = label.cpu().squeeze().detach()\n",
    "#     print(pred.shape)\n",
    "#     print(abs_err(pred,label))\n",
    "    # Compute loss\n",
    "    val_mae_loss = np.concatenate((val_mae_loss, abs_err(pred,label)))\n",
    "    val_reg_loss = np.concatenate((val_reg_loss, reg_err(pred,label)))\n"
   ]
  },
  {
   "cell_type": "code",
   "execution_count": 34,
   "id": "0d8a0cc2",
   "metadata": {},
   "outputs": [
    {
     "data": {
      "text/plain": [
       "Text(0.5, 0, 'log10 absolute error')"
      ]
     },
     "execution_count": 34,
     "metadata": {},
     "output_type": "execute_result"
    },
    {
     "data": {
      "image/png": "[encoded data removed]",
      "text/plain": [
       "<Figure size 432x288 with 1 Axes>"
      ]
     },
     "metadata": {
      "needs_background": "light"
     },
     "output_type": "display_data"
    }
   ],
   "source": [
    "sns.histplot(val_mae_loss)\n",
    "plt.gca().set_title(\"Validation data log10 absolute error distribution\")\n",
    "plt.gca().set_xlabel(\"log10 absolute error\")"
   ]
  },
  {
   "cell_type": "code",
   "execution_count": 35,
   "id": "2cdaef47",
   "metadata": {},
   "outputs": [
    {
     "data": {
      "text/plain": [
       "Text(0.5, 0, 'log10 error')"
      ]
     },
     "execution_count": 35,
     "metadata": {},
     "output_type": "execute_result"
    },
    {
     "data": {
      "image/png": "[encoded data removed]",
      "text/plain": [
       "<Figure size 432x288 with 1 Axes>"
      ]
     },
     "metadata": {
      "needs_background": "light"
     },
     "output_type": "display_data"
    }
   ],
   "source": [
    "sns.histplot(val_reg_loss)\n",
    "plt.gca().set_title(\"Validation data log10 error distribution\")\n",
    "plt.gca().set_xlabel(\"log10 error\")"
   ]
  },
  {
   "cell_type": "code",
   "execution_count": 36,
   "id": "af80778c",
   "metadata": {},
   "outputs": [
    {
     "name": "stderr",
     "output_type": "stream",
     "text": [
      "Test data: 100%|█████████████████████████████████████████████████████████████████████████| 4/4 [00:01<00:00,  2.09it/s]\n"
     ]
    }
   ],
   "source": [
    "# Evaluate test distribution\n",
    "model.eval()\n",
    "test_mae_loss = []\n",
    "test_reg_loss = []\n",
    "\n",
    "for image, label in tqdm(test_loader,desc=\"Test data: \"):\n",
    "    # Send variables to device\n",
    "    image = image.to(device)\n",
    "    label = label.to(device)\n",
    "    # Run model\n",
    "    pred = model(image)\n",
    "    # Move variables to cpu\n",
    "    pred = pred.cpu().squeeze().detach()\n",
    "    label = label.cpu().squeeze().detach()\n",
    "#     print(pred.shape)\n",
    "#     print(abs_err(pred,label))\n",
    "    # Compute loss\n",
    "    test_mae_loss = np.concatenate((test_mae_loss, abs_err(pred,label)))\n",
    "    test_reg_loss = np.concatenate((test_reg_loss, reg_err(pred,label)))"
   ]
  },
  {
   "cell_type": "code",
   "execution_count": 37,
   "id": "63261a57",
   "metadata": {},
   "outputs": [
    {
     "data": {
      "text/plain": [
       "Text(0.5, 0, 'log10 absolute error')"
      ]
     },
     "execution_count": 37,
     "metadata": {},
     "output_type": "execute_result"
    },
    {
     "data": {
      "image/png": "[encoded data removed]",
      "text/plain": [
       "<Figure size 432x288 with 1 Axes>"
      ]
     },
     "metadata": {
      "needs_background": "light"
     },
     "output_type": "display_data"
    }
   ],
   "source": [
    "sns.histplot(test_mae_loss)\n",
    "plt.gca().set_title(\"Test data log10 absolute error distribution\")\n",
    "plt.gca().set_xlabel(\"log10 absolute error\")"
   ]
  },
  {
   "cell_type": "code",
   "execution_count": 38,
   "id": "b4893e06",
   "metadata": {},
   "outputs": [
    {
     "data": {
      "text/plain": [
       "Text(0.5, 0, 'log10 error')"
      ]
     },
     "execution_count": 38,
     "metadata": {},
     "output_type": "execute_result"
    },
    {
     "data": {
      "image/png": "[encoded data removed]",
      "text/plain": [
       "<Figure size 432x288 with 1 Axes>"
      ]
     },
     "metadata": {
      "needs_background": "light"
     },
     "output_type": "display_data"
    }
   ],
   "source": [
    "sns.histplot(test_reg_loss)\n",
    "plt.gca().set_title(\"Test data log10 error distribution\")\n",
    "plt.gca().set_xlabel(\"log10 error\")"
   ]
  },
  {
   "cell_type": "code",
   "execution_count": null,
   "id": "6a06127a",
   "metadata": {},
   "outputs": [],
   "source": []
  }
 ],
 "metadata": {
  "kernelspec": {
   "display_name": "Python 3 (ipykernel)",
   "language": "python",
   "name": "python3"
  },
  "language_info": {
   "codemirror_mode": {
    "name": "ipython",
    "version": 3
   },
   "file_extension": ".py",
   "mimetype": "text/x-python",
   "name": "python",
   "nbconvert_exporter": "python",
   "pygments_lexer": "ipython3",
   "version": "3.9.7"
  }
 },
 "nbformat": 4,
 "nbformat_minor": 5
}
