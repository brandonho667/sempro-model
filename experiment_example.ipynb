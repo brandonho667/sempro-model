{
 "cells": [
  {
   "cell_type": "code",
   "execution_count": 15,
   "id": "ee20ae2f",
   "metadata": {},
   "outputs": [
    {
     "name": "stdout",
     "output_type": "stream",
     "text": [
      "The autoreload extension is already loaded. To reload it, use:\n",
      "  %reload_ext autoreload\n"
     ]
    }
   ],
   "source": [
    "import experiment\n",
    "from pytorch_grad_cam import GradCAM, ScoreCAM, GradCAMPlusPlus, AblationCAM, XGradCAM, EigenCAM, FullGrad\n",
    "from pytorch_grad_cam.utils.model_targets import ClassifierOutputTarget\n",
    "from pytorch_grad_cam.utils.image import show_cam_on_image\n",
    "import torch\n",
    "import matplotlib.pyplot as plt\n",
    "%load_ext autoreload\n",
    "%autoreload 2\n",
    "\n",
    "device = torch.device(\"cuda\" if torch.cuda.is_available() else \"cpu\")"
   ]
  },
  {
   "cell_type": "code",
   "execution_count": 2,
   "id": "3ea4d4f7",
   "metadata": {
    "scrolled": true
   },
   "outputs": [
    {
     "name": "stdout",
     "output_type": "stream",
     "text": [
      "Loading default_experiment\n",
      "Initialized experiment\n"
     ]
    }
   ],
   "source": [
    "default_exp = experiment.Experiment()"
   ]
  },
  {
   "cell_type": "code",
   "execution_count": 3,
   "id": "1ca765ec",
   "metadata": {
    "scrolled": true
   },
   "outputs": [
    {
     "name": "stdout",
     "output_type": "stream",
     "text": [
      "Now running epoch 0\n"
     ]
    },
    {
     "name": "stderr",
     "output_type": "stream",
     "text": [
      "Training data: 100%|███████████████████████████████████████████████████████████████████| 48/48 [00:10<00:00,  4.56it/s]\n",
      "Validation data: 100%|█████████████████████████████████████████████████████████████████| 16/16 [00:01<00:00,  9.17it/s]\n"
     ]
    },
    {
     "name": "stdout",
     "output_type": "stream",
     "text": [
      "Training losses: MAE = 4.394593272864788, MSE = 21.100722594254268\n",
      "Validation losses: MAE = 4.202986054927681, MSE = 19.563622736800752\n",
      "Now running epoch 1\n"
     ]
    },
    {
     "name": "stderr",
     "output_type": "stream",
     "text": [
      "Training data: 100%|███████████████████████████████████████████████████████████████████| 48/48 [00:06<00:00,  7.38it/s]\n",
      "Validation data: 100%|█████████████████████████████████████████████████████████████████| 16/16 [00:01<00:00,  8.52it/s]\n"
     ]
    },
    {
     "name": "stdout",
     "output_type": "stream",
     "text": [
      "Training losses: MAE = 4.274717726265095, MSE = 20.088781629668247\n",
      "Validation losses: MAE = 4.023554423516285, MSE = 18.079063805416713\n",
      "Now running epoch 2\n"
     ]
    },
    {
     "name": "stderr",
     "output_type": "stream",
     "text": [
      "Training data: 100%|███████████████████████████████████████████████████████████████████| 48/48 [00:07<00:00,  6.70it/s]\n",
      "Validation data: 100%|█████████████████████████████████████████████████████████████████| 16/16 [00:01<00:00,  8.06it/s]\n"
     ]
    },
    {
     "name": "stdout",
     "output_type": "stream",
     "text": [
      "Training losses: MAE = 4.15331703251597, MSE = 19.03537963959205\n",
      "Validation losses: MAE = 3.8854885583115157, MSE = 17.001121218379716\n",
      "Now running epoch 3\n"
     ]
    },
    {
     "name": "stderr",
     "output_type": "stream",
     "text": [
      "Training data: 100%|███████████████████████████████████████████████████████████████████| 48/48 [00:07<00:00,  6.60it/s]\n",
      "Validation data: 100%|█████████████████████████████████████████████████████████████████| 16/16 [00:01<00:00,  9.29it/s]\n"
     ]
    },
    {
     "name": "stdout",
     "output_type": "stream",
     "text": [
      "Training losses: MAE = 4.02067051702107, MSE = 17.955474707314558\n",
      "Validation losses: MAE = 3.73623433972418, MSE = 15.871211212712465\n",
      "Now running epoch 4\n"
     ]
    },
    {
     "name": "stderr",
     "output_type": "stream",
     "text": [
      "Training data: 100%|███████████████████████████████████████████████████████████████████| 48/48 [00:07<00:00,  6.79it/s]\n",
      "Validation data: 100%|█████████████████████████████████████████████████████████████████| 16/16 [00:01<00:00,  8.96it/s]\n"
     ]
    },
    {
     "name": "stdout",
     "output_type": "stream",
     "text": [
      "Training losses: MAE = 3.882063016144471, MSE = 16.84036717749192\n",
      "Validation losses: MAE = 3.54931769862978, MSE = 14.543907750900809\n",
      "Now running epoch 5\n"
     ]
    },
    {
     "name": "stderr",
     "output_type": "stream",
     "text": [
      "Training data: 100%|███████████████████████████████████████████████████████████████████| 48/48 [00:06<00:00,  7.26it/s]\n",
      "Validation data: 100%|█████████████████████████████████████████████████████████████████| 16/16 [00:01<00:00,  9.31it/s]\n"
     ]
    },
    {
     "name": "stdout",
     "output_type": "stream",
     "text": [
      "Training losses: MAE = 3.7100504002100205, MSE = 15.611701121833148\n",
      "Validation losses: MAE = 3.38566907229027, MSE = 13.481767754164416\n",
      "Now running epoch 6\n"
     ]
    },
    {
     "name": "stderr",
     "output_type": "stream",
     "text": [
      "Training data: 100%|███████████████████████████████████████████████████████████████████| 48/48 [00:06<00:00,  7.09it/s]\n",
      "Validation data: 100%|█████████████████████████████████████████████████████████████████| 16/16 [00:01<00:00,  8.80it/s]\n"
     ]
    },
    {
     "name": "stdout",
     "output_type": "stream",
     "text": [
      "Training losses: MAE = 3.5207448443672487, MSE = 14.233339044944618\n",
      "Validation losses: MAE = 3.118464523517695, MSE = 11.804431187744463\n",
      "Now running epoch 7\n"
     ]
    },
    {
     "name": "stderr",
     "output_type": "stream",
     "text": [
      "Training data: 100%|███████████████████████████████████████████████████████████████████| 48/48 [00:06<00:00,  7.14it/s]\n",
      "Validation data: 100%|█████████████████████████████████████████████████████████████████| 16/16 [00:01<00:00,  9.13it/s]\n"
     ]
    },
    {
     "name": "stdout",
     "output_type": "stream",
     "text": [
      "Training losses: MAE = 3.286054483218816, MSE = 12.724333696402539\n",
      "Validation losses: MAE = 2.8756529279571583, MSE = 10.40343978205193\n",
      "Now running epoch 8\n"
     ]
    },
    {
     "name": "stderr",
     "output_type": "stream",
     "text": [
      "Training data: 100%|███████████████████████████████████████████████████████████████████| 48/48 [00:06<00:00,  7.20it/s]\n",
      "Validation data: 100%|█████████████████████████████████████████████████████████████████| 16/16 [00:01<00:00,  9.71it/s]\n"
     ]
    },
    {
     "name": "stdout",
     "output_type": "stream",
     "text": [
      "Training losses: MAE = 2.9944833915933335, MSE = 11.014982755219625\n",
      "Validation losses: MAE = 2.5310959615310207, MSE = 8.501800561342659\n",
      "Now running epoch 9\n"
     ]
    },
    {
     "name": "stderr",
     "output_type": "stream",
     "text": [
      "Training data: 100%|███████████████████████████████████████████████████████████████████| 48/48 [00:06<00:00,  7.21it/s]\n",
      "Validation data: 100%|█████████████████████████████████████████████████████████████████| 16/16 [00:01<00:00,  9.30it/s]\n"
     ]
    },
    {
     "name": "stdout",
     "output_type": "stream",
     "text": [
      "Training losses: MAE = 2.6674591090938837, MSE = 9.115475061778266\n",
      "Validation losses: MAE = 2.1974094918640366, MSE = 6.777368954443205\n",
      "Now running epoch 10\n"
     ]
    },
    {
     "name": "stderr",
     "output_type": "stream",
     "text": [
      "Training data: 100%|███████████████████████████████████████████████████████████████████| 48/48 [00:06<00:00,  7.24it/s]\n",
      "Validation data: 100%|█████████████████████████████████████████████████████████████████| 16/16 [00:01<00:00,  8.87it/s]\n"
     ]
    },
    {
     "name": "stdout",
     "output_type": "stream",
     "text": [
      "Training losses: MAE = 2.3057134619553303, MSE = 7.269573003828619\n",
      "Validation losses: MAE = 1.9573956865354156, MSE = 5.5258703828450955\n",
      "Now running epoch 11\n"
     ]
    },
    {
     "name": "stderr",
     "output_type": "stream",
     "text": [
      "Training data: 100%|███████████████████████████████████████████████████████████████████| 48/48 [00:06<00:00,  7.27it/s]\n",
      "Validation data: 100%|█████████████████████████████████████████████████████████████████| 16/16 [00:01<00:00,  9.02it/s]\n"
     ]
    },
    {
     "name": "stdout",
     "output_type": "stream",
     "text": [
      "Training losses: MAE = 1.9527690287766655, MSE = 5.592432116792432\n",
      "Validation losses: MAE = 1.7078773365284974, MSE = 4.383404193855586\n",
      "Now running epoch 12\n"
     ]
    },
    {
     "name": "stderr",
     "output_type": "stream",
     "text": [
      "Training data: 100%|███████████████████████████████████████████████████████████████████| 48/48 [00:06<00:00,  7.12it/s]\n",
      "Validation data: 100%|█████████████████████████████████████████████████████████████████| 16/16 [00:01<00:00,  9.27it/s]\n"
     ]
    },
    {
     "name": "stdout",
     "output_type": "stream",
     "text": [
      "Training losses: MAE = 1.6905699590381007, MSE = 4.36987714862338\n",
      "Validation losses: MAE = 1.444960526860306, MSE = 3.3505090254168386\n",
      "Now running epoch 13\n"
     ]
    },
    {
     "name": "stderr",
     "output_type": "stream",
     "text": [
      "Training data: 100%|███████████████████████████████████████████████████████████████████| 48/48 [00:06<00:00,  7.22it/s]\n",
      "Validation data: 100%|█████████████████████████████████████████████████████████████████| 16/16 [00:01<00:00,  9.35it/s]\n"
     ]
    },
    {
     "name": "stdout",
     "output_type": "stream",
     "text": [
      "Training losses: MAE = 1.4700725685099094, MSE = 3.503623619440641\n",
      "Validation losses: MAE = 1.3111231003003028, MSE = 2.7570731874363434\n",
      "Now running epoch 14\n"
     ]
    },
    {
     "name": "stderr",
     "output_type": "stream",
     "text": [
      "Training data: 100%|███████████████████████████████████████████████████████████████████| 48/48 [00:06<00:00,  7.02it/s]\n",
      "Validation data: 100%|█████████████████████████████████████████████████████████████████| 16/16 [00:01<00:00,  9.05it/s]\n"
     ]
    },
    {
     "name": "stdout",
     "output_type": "stream",
     "text": [
      "Training losses: MAE = 1.315188820031171, MSE = 2.8280977966414893\n",
      "Validation losses: MAE = 1.221351270773236, MSE = 2.379132685445582\n",
      "Now running epoch 15\n"
     ]
    },
    {
     "name": "stderr",
     "output_type": "stream",
     "text": [
      "Training data: 100%|███████████████████████████████████████████████████████████████████| 48/48 [00:06<00:00,  7.14it/s]\n",
      "Validation data: 100%|█████████████████████████████████████████████████████████████████| 16/16 [00:01<00:00,  8.93it/s]\n"
     ]
    },
    {
     "name": "stdout",
     "output_type": "stream",
     "text": [
      "Training losses: MAE = 1.208253631832488, MSE = 2.460075811915339\n",
      "Validation losses: MAE = 1.1538895961394642, MSE = 2.1783827618935887\n",
      "Now running epoch 16\n"
     ]
    },
    {
     "name": "stderr",
     "output_type": "stream",
     "text": [
      "Training data: 100%|███████████████████████████████████████████████████████████████████| 48/48 [00:06<00:00,  7.24it/s]\n",
      "Validation data: 100%|█████████████████████████████████████████████████████████████████| 16/16 [00:01<00:00,  9.23it/s]\n"
     ]
    },
    {
     "name": "stdout",
     "output_type": "stream",
     "text": [
      "Training losses: MAE = 1.1370322584607804, MSE = 2.1439723254859597\n",
      "Validation losses: MAE = 1.13282235124427, MSE = 2.035668431484708\n",
      "Now running epoch 17\n"
     ]
    },
    {
     "name": "stderr",
     "output_type": "stream",
     "text": [
      "Training data: 100%|███████████████████████████████████████████████████████████████████| 48/48 [00:06<00:00,  7.25it/s]\n",
      "Validation data: 100%|█████████████████████████████████████████████████████████████████| 16/16 [00:01<00:00,  8.84it/s]\n"
     ]
    },
    {
     "name": "stdout",
     "output_type": "stream",
     "text": [
      "Training losses: MAE = 1.1026560980174884, MSE = 2.09041120357401\n",
      "Validation losses: MAE = 1.116182692104209, MSE = 2.0236342543596244\n",
      "Now running epoch 18\n"
     ]
    },
    {
     "name": "stderr",
     "output_type": "stream",
     "text": [
      "Training data: 100%|███████████████████████████████████████████████████████████████████| 48/48 [00:06<00:00,  7.32it/s]\n",
      "Validation data: 100%|█████████████████████████████████████████████████████████████████| 16/16 [00:01<00:00,  9.46it/s]\n"
     ]
    },
    {
     "name": "stdout",
     "output_type": "stream",
     "text": [
      "Training losses: MAE = 1.0653712107763404, MSE = 1.879696706363499\n",
      "Validation losses: MAE = 1.09771351208414, MSE = 1.9827071295535954\n",
      "Now running epoch 19\n"
     ]
    },
    {
     "name": "stderr",
     "output_type": "stream",
     "text": [
      "Training data: 100%|███████████████████████████████████████████████████████████████████| 48/48 [00:06<00:00,  7.01it/s]\n",
      "Validation data: 100%|█████████████████████████████████████████████████████████████████| 16/16 [00:01<00:00,  8.98it/s]\n"
     ]
    },
    {
     "name": "stdout",
     "output_type": "stream",
     "text": [
      "Training losses: MAE = 1.0534991300925896, MSE = 1.8995067009953845\n",
      "Validation losses: MAE = 1.089967921634921, MSE = 1.9163259091715212\n",
      "Now running epoch 20\n"
     ]
    },
    {
     "name": "stderr",
     "output_type": "stream",
     "text": [
      "Training data: 100%|███████████████████████████████████████████████████████████████████| 48/48 [00:06<00:00,  7.00it/s]\n",
      "Validation data: 100%|█████████████████████████████████████████████████████████████████| 16/16 [00:01<00:00,  8.44it/s]\n"
     ]
    },
    {
     "name": "stdout",
     "output_type": "stream",
     "text": [
      "Training losses: MAE = 1.0546654332495384, MSE = 1.8795533536285063\n",
      "Validation losses: MAE = 1.0811010574927002, MSE = 1.8764331578865687\n",
      "Now running epoch 21\n"
     ]
    },
    {
     "name": "stderr",
     "output_type": "stream",
     "text": [
      "Training data: 100%|███████████████████████████████████████████████████████████████████| 48/48 [00:07<00:00,  6.75it/s]\n",
      "Validation data: 100%|█████████████████████████████████████████████████████████████████| 16/16 [00:01<00:00,  8.35it/s]\n"
     ]
    },
    {
     "name": "stdout",
     "output_type": "stream",
     "text": [
      "Training losses: MAE = 1.0437385145628564, MSE = 1.8299852171938293\n",
      "Validation losses: MAE = 1.087228876442313, MSE = 1.8922820428310092\n",
      "Now running epoch 22\n"
     ]
    },
    {
     "name": "stderr",
     "output_type": "stream",
     "text": [
      "Training data: 100%|███████████████████████████████████████████████████████████████████| 48/48 [00:07<00:00,  6.82it/s]\n",
      "Validation data: 100%|█████████████████████████████████████████████████████████████████| 16/16 [00:01<00:00,  8.34it/s]\n"
     ]
    },
    {
     "name": "stdout",
     "output_type": "stream",
     "text": [
      "Training losses: MAE = 1.056868786021648, MSE = 1.8513908315015373\n",
      "Validation losses: MAE = 1.0851818580533517, MSE = 1.9030852942702596\n",
      "Now running epoch 23\n"
     ]
    },
    {
     "name": "stderr",
     "output_type": "stream",
     "text": [
      "Training data: 100%|███████████████████████████████████████████████████████████████████| 48/48 [00:07<00:00,  6.71it/s]\n",
      "Validation data: 100%|█████████████████████████████████████████████████████████████████| 16/16 [00:01<00:00,  9.14it/s]\n"
     ]
    },
    {
     "name": "stdout",
     "output_type": "stream",
     "text": [
      "Training losses: MAE = 1.0372700231882177, MSE = 1.8188131778410241\n",
      "Validation losses: MAE = 1.087552822607504, MSE = 1.8715590802799558\n",
      "Now running epoch 24\n"
     ]
    },
    {
     "name": "stderr",
     "output_type": "stream",
     "text": [
      "Training data: 100%|███████████████████████████████████████████████████████████████████| 48/48 [00:06<00:00,  6.91it/s]\n",
      "Validation data: 100%|█████████████████████████████████████████████████████████████████| 16/16 [00:01<00:00,  9.60it/s]\n"
     ]
    },
    {
     "name": "stdout",
     "output_type": "stream",
     "text": [
      "Training losses: MAE = 1.0368818738564243, MSE = 1.8131867455567905\n",
      "Validation losses: MAE = 1.0831152257482397, MSE = 1.8706103788278412\n",
      "Now running epoch 25\n"
     ]
    },
    {
     "name": "stderr",
     "output_type": "stream",
     "text": [
      "Training data: 100%|███████████████████████████████████████████████████████████████████| 48/48 [00:06<00:00,  7.24it/s]\n",
      "Validation data: 100%|█████████████████████████████████████████████████████████████████| 16/16 [00:01<00:00,  8.60it/s]\n"
     ]
    },
    {
     "name": "stdout",
     "output_type": "stream",
     "text": [
      "Training losses: MAE = 1.0295998967926847, MSE = 1.7779012905344438\n",
      "Validation losses: MAE = 1.0860354870380575, MSE = 1.8874868547094976\n",
      "Now running epoch 26\n"
     ]
    },
    {
     "name": "stderr",
     "output_type": "stream",
     "text": [
      "Training data: 100%|███████████████████████████████████████████████████████████████████| 48/48 [00:07<00:00,  6.77it/s]\n",
      "Validation data: 100%|█████████████████████████████████████████████████████████████████| 16/16 [00:01<00:00,  8.76it/s]\n"
     ]
    },
    {
     "name": "stdout",
     "output_type": "stream",
     "text": [
      "Training losses: MAE = 1.0380819258235925, MSE = 1.7955809954490878\n",
      "Validation losses: MAE = 1.0910509418950272, MSE = 1.90206943344168\n",
      "Now running epoch 27\n"
     ]
    },
    {
     "name": "stderr",
     "output_type": "stream",
     "text": [
      "Training data: 100%|███████████████████████████████████████████████████████████████████| 48/48 [00:07<00:00,  6.57it/s]\n",
      "Validation data: 100%|█████████████████████████████████████████████████████████████████| 16/16 [00:01<00:00,  8.98it/s]\n"
     ]
    },
    {
     "name": "stdout",
     "output_type": "stream",
     "text": [
      "Training losses: MAE = 1.0300298978958145, MSE = 1.7597572595220525\n",
      "Validation losses: MAE = 1.083028921885027, MSE = 1.875189148923596\n",
      "Now running epoch 28\n"
     ]
    },
    {
     "name": "stderr",
     "output_type": "stream",
     "text": [
      "Training data: 100%|███████████████████████████████████████████████████████████████████| 48/48 [00:06<00:00,  7.23it/s]\n",
      "Validation data: 100%|█████████████████████████████████████████████████████████████████| 16/16 [00:01<00:00,  9.04it/s]\n"
     ]
    },
    {
     "name": "stdout",
     "output_type": "stream",
     "text": [
      "Training losses: MAE = 1.0160881353895863, MSE = 1.7243090020061322\n",
      "Validation losses: MAE = 1.098813986439673, MSE = 1.907921970825569\n",
      "Now running epoch 29\n"
     ]
    },
    {
     "name": "stderr",
     "output_type": "stream",
     "text": [
      "Training data: 100%|███████████████████████████████████████████████████████████████████| 48/48 [00:07<00:00,  6.76it/s]\n",
      "Validation data: 100%|█████████████████████████████████████████████████████████████████| 16/16 [00:01<00:00,  8.50it/s]\n"
     ]
    },
    {
     "name": "stdout",
     "output_type": "stream",
     "text": [
      "Training losses: MAE = 1.0143430139062812, MSE = 1.7505660611446956\n",
      "Validation losses: MAE = 1.0957225908978065, MSE = 1.910538494919213\n",
      "Now running epoch 30\n"
     ]
    },
    {
     "name": "stderr",
     "output_type": "stream",
     "text": [
      "Training data: 100%|███████████████████████████████████████████████████████████████████| 48/48 [00:06<00:00,  7.12it/s]\n",
      "Validation data: 100%|█████████████████████████████████████████████████████████████████| 16/16 [00:01<00:00,  9.20it/s]\n"
     ]
    },
    {
     "name": "stdout",
     "output_type": "stream",
     "text": [
      "Training losses: MAE = 1.021059970240513, MSE = 1.7397518217077534\n",
      "Validation losses: MAE = 1.1025311668191713, MSE = 1.9107882342428328\n",
      "Now running epoch 31\n"
     ]
    },
    {
     "name": "stderr",
     "output_type": "stream",
     "text": [
      "Training data: 100%|███████████████████████████████████████████████████████████████████| 48/48 [00:06<00:00,  7.36it/s]\n",
      "Validation data: 100%|█████████████████████████████████████████████████████████████████| 16/16 [00:01<00:00,  9.58it/s]\n"
     ]
    },
    {
     "name": "stdout",
     "output_type": "stream",
     "text": [
      "Training losses: MAE = 1.016556139740191, MSE = 1.7800140413839385\n",
      "Validation losses: MAE = 1.0799222701715143, MSE = 1.8973197614718746\n",
      "Now running epoch 32\n"
     ]
    },
    {
     "name": "stderr",
     "output_type": "stream",
     "text": [
      "Training data: 100%|███████████████████████████████████████████████████████████████████| 48/48 [00:06<00:00,  7.25it/s]\n",
      "Validation data: 100%|█████████████████████████████████████████████████████████████████| 16/16 [00:01<00:00,  9.26it/s]\n"
     ]
    },
    {
     "name": "stdout",
     "output_type": "stream",
     "text": [
      "Training losses: MAE = 1.0061100866270045, MSE = 1.7151016692167564\n",
      "Validation losses: MAE = 1.10203965052346, MSE = 1.904183627984885\n",
      "Now running epoch 33\n"
     ]
    },
    {
     "name": "stderr",
     "output_type": "stream",
     "text": [
      "Training data: 100%|███████████████████████████████████████████████████████████████████| 48/48 [00:06<00:00,  7.17it/s]\n",
      "Validation data: 100%|█████████████████████████████████████████████████████████████████| 16/16 [00:01<00:00,  9.19it/s]\n"
     ]
    },
    {
     "name": "stdout",
     "output_type": "stream",
     "text": [
      "Training losses: MAE = 1.0103512205432148, MSE = 1.7162491957709973\n",
      "Validation losses: MAE = 1.092093493715021, MSE = 1.9213597342791313\n",
      "Now running epoch 34\n"
     ]
    },
    {
     "name": "stderr",
     "output_type": "stream",
     "text": [
      "Training data: 100%|███████████████████████████████████████████████████████████████████| 48/48 [00:06<00:00,  7.04it/s]\n",
      "Validation data: 100%|█████████████████████████████████████████████████████████████████| 16/16 [00:01<00:00,  9.33it/s]\n"
     ]
    },
    {
     "name": "stdout",
     "output_type": "stream",
     "text": [
      "Training losses: MAE = 1.0145214802061202, MSE = 1.7052777030910091\n",
      "Validation losses: MAE = 1.0855157892310536, MSE = 1.890843570010498\n",
      "Now running epoch 35\n"
     ]
    },
    {
     "name": "stderr",
     "output_type": "stream",
     "text": [
      "Training data: 100%|███████████████████████████████████████████████████████████████████| 48/48 [00:06<00:00,  7.13it/s]\n",
      "Validation data: 100%|█████████████████████████████████████████████████████████████████| 16/16 [00:02<00:00,  7.89it/s]\n"
     ]
    },
    {
     "name": "stdout",
     "output_type": "stream",
     "text": [
      "Training losses: MAE = 1.0020462103560723, MSE = 1.7314019894355919\n",
      "Validation losses: MAE = 1.0871546153727862, MSE = 1.8780035467450553\n",
      "Now running epoch 36\n"
     ]
    },
    {
     "name": "stderr",
     "output_type": "stream",
     "text": [
      "Training data: 100%|███████████████████████████████████████████████████████████████████| 48/48 [00:07<00:00,  6.23it/s]\n",
      "Validation data: 100%|█████████████████████████████████████████████████████████████████| 16/16 [00:01<00:00,  8.82it/s]\n"
     ]
    },
    {
     "name": "stdout",
     "output_type": "stream",
     "text": [
      "Training losses: MAE = 0.9865079233575533, MSE = 1.6830299676758442\n",
      "Validation losses: MAE = 1.1073858580537645, MSE = 1.9008659626558253\n",
      "Now running epoch 37\n"
     ]
    },
    {
     "name": "stderr",
     "output_type": "stream",
     "text": [
      "Training data: 100%|███████████████████████████████████████████████████████████████████| 48/48 [00:07<00:00,  6.02it/s]\n",
      "Validation data: 100%|█████████████████████████████████████████████████████████████████| 16/16 [00:01<00:00,  8.30it/s]\n"
     ]
    },
    {
     "name": "stdout",
     "output_type": "stream",
     "text": [
      "Training losses: MAE = 1.0086972049641365, MSE = 1.7090825275382855\n",
      "Validation losses: MAE = 1.0923440221544976, MSE = 1.9065971733396545\n",
      "Now running epoch 38\n"
     ]
    },
    {
     "name": "stderr",
     "output_type": "stream",
     "text": [
      "Training data: 100%|███████████████████████████████████████████████████████████████████| 48/48 [00:07<00:00,  6.34it/s]\n",
      "Validation data: 100%|█████████████████████████████████████████████████████████████████| 16/16 [00:01<00:00,  8.53it/s]\n"
     ]
    },
    {
     "name": "stdout",
     "output_type": "stream",
     "text": [
      "Training losses: MAE = 1.015620088103974, MSE = 1.7305167069872014\n",
      "Validation losses: MAE = 1.0945547066807162, MSE = 1.9061194390288916\n",
      "Now running epoch 39\n"
     ]
    },
    {
     "name": "stderr",
     "output_type": "stream",
     "text": [
      "Training data: 100%|███████████████████████████████████████████████████████████████████| 48/48 [00:07<00:00,  6.23it/s]\n",
      "Validation data: 100%|█████████████████████████████████████████████████████████████████| 16/16 [00:01<00:00,  8.81it/s]\n"
     ]
    },
    {
     "name": "stdout",
     "output_type": "stream",
     "text": [
      "Training losses: MAE = 0.96929990654087, MSE = 1.6234607267305463\n",
      "Validation losses: MAE = 1.0866164491572188, MSE = 1.8853284553767555\n",
      "Now running epoch 40\n"
     ]
    },
    {
     "name": "stderr",
     "output_type": "stream",
     "text": [
      "Training data: 100%|███████████████████████████████████████████████████████████████████| 48/48 [00:06<00:00,  7.04it/s]\n",
      "Validation data: 100%|█████████████████████████████████████████████████████████████████| 16/16 [00:01<00:00,  8.72it/s]\n"
     ]
    },
    {
     "name": "stdout",
     "output_type": "stream",
     "text": [
      "Training losses: MAE = 1.0146301674760703, MSE = 1.7155526680774267\n",
      "Validation losses: MAE = 1.100287462568899, MSE = 1.8980376723982528\n",
      "Now running epoch 41\n"
     ]
    },
    {
     "name": "stderr",
     "output_type": "stream",
     "text": [
      "Training data: 100%|███████████████████████████████████████████████████████████████████| 48/48 [00:06<00:00,  6.96it/s]\n",
      "Validation data: 100%|█████████████████████████████████████████████████████████████████| 16/16 [00:01<00:00,  8.82it/s]\n"
     ]
    },
    {
     "name": "stdout",
     "output_type": "stream",
     "text": [
      "Training losses: MAE = 0.9955942416884046, MSE = 1.669321697773838\n",
      "Validation losses: MAE = 1.0950336657553477, MSE = 1.8932227083987017\n",
      "Now running epoch 42\n"
     ]
    },
    {
     "name": "stderr",
     "output_type": "stream",
     "text": [
      "Training data: 100%|███████████████████████████████████████████████████████████████████| 48/48 [00:06<00:00,  7.13it/s]\n",
      "Validation data: 100%|█████████████████████████████████████████████████████████████████| 16/16 [00:01<00:00,  8.03it/s]\n"
     ]
    },
    {
     "name": "stdout",
     "output_type": "stream",
     "text": [
      "Training losses: MAE = 1.0078641145251046, MSE = 1.7036208653058464\n",
      "Validation losses: MAE = 1.0784228835718415, MSE = 1.860998585862245\n",
      "Now running epoch 43\n"
     ]
    },
    {
     "name": "stderr",
     "output_type": "stream",
     "text": [
      "Training data: 100%|███████████████████████████████████████████████████████████████████| 48/48 [00:07<00:00,  6.21it/s]\n",
      "Validation data: 100%|█████████████████████████████████████████████████████████████████| 16/16 [00:01<00:00,  8.15it/s]\n"
     ]
    },
    {
     "name": "stdout",
     "output_type": "stream",
     "text": [
      "Training losses: MAE = 0.9861551129741715, MSE = 1.702848616476889\n",
      "Validation losses: MAE = 1.0923039728254842, MSE = 1.8704954425012819\n",
      "Now running epoch 44\n"
     ]
    },
    {
     "name": "stderr",
     "output_type": "stream",
     "text": [
      "Training data: 100%|███████████████████████████████████████████████████████████████████| 48/48 [00:07<00:00,  6.82it/s]\n",
      "Validation data: 100%|█████████████████████████████████████████████████████████████████| 16/16 [00:01<00:00,  8.97it/s]\n"
     ]
    },
    {
     "name": "stdout",
     "output_type": "stream",
     "text": [
      "Training losses: MAE = 1.0072336989007125, MSE = 1.742236623368181\n",
      "Validation losses: MAE = 1.0939398581635171, MSE = 1.9151009236777614\n",
      "Now running epoch 45\n"
     ]
    },
    {
     "name": "stderr",
     "output_type": "stream",
     "text": [
      "Training data: 100%|███████████████████████████████████████████████████████████████████| 48/48 [00:07<00:00,  6.63it/s]\n",
      "Validation data: 100%|█████████████████████████████████████████████████████████████████| 16/16 [00:01<00:00,  8.79it/s]\n"
     ]
    },
    {
     "name": "stdout",
     "output_type": "stream",
     "text": [
      "Training losses: MAE = 0.9860793432801869, MSE = 1.6420955656440364\n",
      "Validation losses: MAE = 1.091295395862726, MSE = 1.90633087125818\n",
      "Now running epoch 46\n"
     ]
    },
    {
     "name": "stderr",
     "output_type": "stream",
     "text": [
      "Training data: 100%|███████████████████████████████████████████████████████████████████| 48/48 [00:06<00:00,  7.07it/s]\n",
      "Validation data: 100%|█████████████████████████████████████████████████████████████████| 16/16 [00:01<00:00,  9.17it/s]\n"
     ]
    },
    {
     "name": "stdout",
     "output_type": "stream",
     "text": [
      "Training losses: MAE = 0.9975986092206359, MSE = 1.6782531907449165\n",
      "Validation losses: MAE = 1.0964700497891169, MSE = 1.9021416468655226\n",
      "Now running epoch 47\n"
     ]
    },
    {
     "name": "stderr",
     "output_type": "stream",
     "text": [
      "Training data: 100%|███████████████████████████████████████████████████████████████████| 48/48 [00:07<00:00,  6.70it/s]\n",
      "Validation data: 100%|█████████████████████████████████████████████████████████████████| 16/16 [00:01<00:00,  8.42it/s]\n"
     ]
    },
    {
     "name": "stdout",
     "output_type": "stream",
     "text": [
      "Training losses: MAE = 1.0011964229112398, MSE = 1.6767517361048985\n",
      "Validation losses: MAE = 1.099949244089596, MSE = 1.9245192162773161\n",
      "Now running epoch 48\n"
     ]
    },
    {
     "name": "stderr",
     "output_type": "stream",
     "text": [
      "Training data: 100%|███████████████████████████████████████████████████████████████████| 48/48 [00:06<00:00,  7.12it/s]\n",
      "Validation data: 100%|█████████████████████████████████████████████████████████████████| 16/16 [00:01<00:00,  9.24it/s]\n"
     ]
    },
    {
     "name": "stdout",
     "output_type": "stream",
     "text": [
      "Training losses: MAE = 1.0125480844088892, MSE = 1.7477205979823973\n",
      "Validation losses: MAE = 1.0864204274890032, MSE = 1.8878223956991014\n",
      "Now running epoch 49\n"
     ]
    },
    {
     "name": "stderr",
     "output_type": "stream",
     "text": [
      "Training data: 100%|███████████████████████████████████████████████████████████████████| 48/48 [00:06<00:00,  7.25it/s]\n",
      "Validation data: 100%|█████████████████████████████████████████████████████████████████| 16/16 [00:01<00:00,  9.54it/s]\n"
     ]
    },
    {
     "name": "stdout",
     "output_type": "stream",
     "text": [
      "Training losses: MAE = 0.986377376905448, MSE = 1.6756918236231348\n",
      "Validation losses: MAE = 1.0880360338633634, MSE = 1.8927057359227162\n",
      "Now running epoch 50\n"
     ]
    },
    {
     "name": "stderr",
     "output_type": "stream",
     "text": [
      "Training data: 100%|███████████████████████████████████████████████████████████████████| 48/48 [00:06<00:00,  7.06it/s]\n",
      "Validation data: 100%|█████████████████████████████████████████████████████████████████| 16/16 [00:01<00:00,  8.17it/s]\n"
     ]
    },
    {
     "name": "stdout",
     "output_type": "stream",
     "text": [
      "Training losses: MAE = 1.0007043461047402, MSE = 1.706646861007789\n",
      "Validation losses: MAE = 1.09419757313914, MSE = 1.8819500580053106\n",
      "Now running epoch 51\n"
     ]
    },
    {
     "name": "stderr",
     "output_type": "stream",
     "text": [
      "Training data: 100%|███████████████████████████████████████████████████████████████████| 48/48 [00:06<00:00,  6.99it/s]\n",
      "Validation data: 100%|█████████████████████████████████████████████████████████████████| 16/16 [00:01<00:00,  9.46it/s]\n"
     ]
    },
    {
     "name": "stdout",
     "output_type": "stream",
     "text": [
      "Training losses: MAE = 0.9797453575607098, MSE = 1.661437913085562\n",
      "Validation losses: MAE = 1.0798806315103184, MSE = 1.8770526143354564\n",
      "Now running epoch 52\n"
     ]
    },
    {
     "name": "stderr",
     "output_type": "stream",
     "text": [
      "Training data: 100%|███████████████████████████████████████████████████████████████████| 48/48 [00:06<00:00,  7.05it/s]\n",
      "Validation data: 100%|█████████████████████████████████████████████████████████████████| 16/16 [00:01<00:00,  8.48it/s]\n"
     ]
    },
    {
     "name": "stdout",
     "output_type": "stream",
     "text": [
      "Training losses: MAE = 1.0028886003560369, MSE = 1.7163669136354107\n",
      "Validation losses: MAE = 1.0944312870733497, MSE = 1.9051436882297264\n",
      "Now running epoch 53\n"
     ]
    },
    {
     "name": "stderr",
     "output_type": "stream",
     "text": [
      "Training data: 100%|███████████████████████████████████████████████████████████████████| 48/48 [00:06<00:00,  7.17it/s]\n",
      "Validation data: 100%|█████████████████████████████████████████████████████████████████| 16/16 [00:01<00:00,  9.36it/s]\n"
     ]
    },
    {
     "name": "stdout",
     "output_type": "stream",
     "text": [
      "Training losses: MAE = 1.009385040268817, MSE = 1.7153632422407195\n",
      "Validation losses: MAE = 1.0978631480594794, MSE = 1.9175539454346335\n",
      "Now running epoch 54\n"
     ]
    },
    {
     "name": "stderr",
     "output_type": "stream",
     "text": [
      "Training data: 100%|███████████████████████████████████████████████████████████████████| 48/48 [00:06<00:00,  7.31it/s]\n",
      "Validation data: 100%|█████████████████████████████████████████████████████████████████| 16/16 [00:01<00:00,  8.43it/s]\n"
     ]
    },
    {
     "name": "stdout",
     "output_type": "stream",
     "text": [
      "Training losses: MAE = 0.9968901090162915, MSE = 1.6919194301129528\n",
      "Validation losses: MAE = 1.0970698723937675, MSE = 1.899286824892481\n",
      "Now running epoch 55\n"
     ]
    },
    {
     "name": "stderr",
     "output_type": "stream",
     "text": [
      "Training data: 100%|███████████████████████████████████████████████████████████████████| 48/48 [00:06<00:00,  7.22it/s]\n",
      "Validation data: 100%|█████████████████████████████████████████████████████████████████| 16/16 [00:01<00:00,  9.23it/s]\n"
     ]
    },
    {
     "name": "stdout",
     "output_type": "stream",
     "text": [
      "Training losses: MAE = 0.9658800761669343, MSE = 1.5808429164554716\n",
      "Validation losses: MAE = 1.0929499700313496, MSE = 1.8955302835076495\n",
      "Now running epoch 56\n"
     ]
    },
    {
     "name": "stderr",
     "output_type": "stream",
     "text": [
      "Training data: 100%|███████████████████████████████████████████████████████████████████| 48/48 [00:06<00:00,  7.28it/s]\n",
      "Validation data: 100%|█████████████████████████████████████████████████████████████████| 16/16 [00:01<00:00,  8.39it/s]\n"
     ]
    },
    {
     "name": "stdout",
     "output_type": "stream",
     "text": [
      "Training losses: MAE = 0.9728536018445496, MSE = 1.672016024019751\n",
      "Validation losses: MAE = 1.0795240309274599, MSE = 1.8780322310114064\n",
      "Now running epoch 57\n"
     ]
    },
    {
     "name": "stderr",
     "output_type": "stream",
     "text": [
      "Training data: 100%|███████████████████████████████████████████████████████████████████| 48/48 [00:06<00:00,  6.86it/s]\n",
      "Validation data: 100%|█████████████████████████████████████████████████████████████████| 16/16 [00:01<00:00,  8.99it/s]\n"
     ]
    },
    {
     "name": "stdout",
     "output_type": "stream",
     "text": [
      "Training losses: MAE = 0.9922681930199122, MSE = 1.6680947194864177\n",
      "Validation losses: MAE = 1.0933649815064277, MSE = 1.9200705159443854\n",
      "Now running epoch 58\n"
     ]
    },
    {
     "name": "stderr",
     "output_type": "stream",
     "text": [
      "Training data: 100%|███████████████████████████████████████████████████████████████████| 48/48 [00:06<00:00,  7.19it/s]\n",
      "Validation data: 100%|█████████████████████████████████████████████████████████████████| 16/16 [00:02<00:00,  7.67it/s]\n"
     ]
    },
    {
     "name": "stdout",
     "output_type": "stream",
     "text": [
      "Training losses: MAE = 0.9782286386118918, MSE = 1.6366050813729889\n",
      "Validation losses: MAE = 1.0927720541483215, MSE = 1.8944101721790914\n",
      "Now running epoch 59\n"
     ]
    },
    {
     "name": "stderr",
     "output_type": "stream",
     "text": [
      "Training data: 100%|███████████████████████████████████████████████████████████████████| 48/48 [00:07<00:00,  6.86it/s]\n",
      "Validation data: 100%|█████████████████████████████████████████████████████████████████| 16/16 [00:01<00:00,  8.56it/s]\n"
     ]
    },
    {
     "name": "stdout",
     "output_type": "stream",
     "text": [
      "Training losses: MAE = 0.985655159253584, MSE = 1.6620094523969284\n",
      "Validation losses: MAE = 1.0835256782122895, MSE = 1.8970112980968807\n",
      "Now running epoch 60\n"
     ]
    },
    {
     "name": "stderr",
     "output_type": "stream",
     "text": [
      "Training data: 100%|███████████████████████████████████████████████████████████████████| 48/48 [00:06<00:00,  7.02it/s]\n",
      "Validation data: 100%|█████████████████████████████████████████████████████████████████| 16/16 [00:01<00:00,  8.90it/s]\n"
     ]
    },
    {
     "name": "stdout",
     "output_type": "stream",
     "text": [
      "Training losses: MAE = 0.9924732787049952, MSE = 1.6686521886675323\n",
      "Validation losses: MAE = 1.0864590012962774, MSE = 1.8763064452052134\n",
      "Now running epoch 61\n"
     ]
    },
    {
     "name": "stderr",
     "output_type": "stream",
     "text": [
      "Training data: 100%|███████████████████████████████████████████████████████████████████| 48/48 [00:07<00:00,  6.76it/s]\n",
      "Validation data: 100%|█████████████████████████████████████████████████████████████████| 16/16 [00:01<00:00,  8.85it/s]\n"
     ]
    },
    {
     "name": "stdout",
     "output_type": "stream",
     "text": [
      "Training losses: MAE = 0.9736236001652013, MSE = 1.6277031707182812\n",
      "Validation losses: MAE = 1.0894875084647688, MSE = 1.8850225841053911\n",
      "Now running epoch 62\n"
     ]
    },
    {
     "name": "stderr",
     "output_type": "stream",
     "text": [
      "Training data: 100%|███████████████████████████████████████████████████████████████████| 48/48 [00:08<00:00,  5.77it/s]\n",
      "Validation data: 100%|█████████████████████████████████████████████████████████████████| 16/16 [00:02<00:00,  6.59it/s]\n"
     ]
    },
    {
     "name": "stdout",
     "output_type": "stream",
     "text": [
      "Training losses: MAE = 0.957583828257104, MSE = 1.5622683242224644\n",
      "Validation losses: MAE = 1.092877576624663, MSE = 1.9005230178557146\n",
      "Now running epoch 63\n"
     ]
    },
    {
     "name": "stderr",
     "output_type": "stream",
     "text": [
      "Training data: 100%|███████████████████████████████████████████████████████████████████| 48/48 [00:07<00:00,  6.41it/s]\n",
      "Validation data: 100%|█████████████████████████████████████████████████████████████████| 16/16 [00:01<00:00,  8.73it/s]\n"
     ]
    },
    {
     "name": "stdout",
     "output_type": "stream",
     "text": [
      "Training losses: MAE = 0.9784259848392006, MSE = 1.614373240807386\n",
      "Validation losses: MAE = 1.0906656819903053, MSE = 1.900801963406424\n",
      "Now running epoch 64\n"
     ]
    },
    {
     "name": "stderr",
     "output_type": "stream",
     "text": [
      "Training data: 100%|███████████████████████████████████████████████████████████████████| 48/48 [00:08<00:00,  5.41it/s]\n",
      "Validation data: 100%|█████████████████████████████████████████████████████████████████| 16/16 [00:02<00:00,  6.90it/s]\n"
     ]
    },
    {
     "name": "stdout",
     "output_type": "stream",
     "text": [
      "Training losses: MAE = 0.9739852613739374, MSE = 1.6659859128150734\n",
      "Validation losses: MAE = 1.0816370183782233, MSE = 1.8894873144631597\n",
      "Now running epoch 65\n"
     ]
    },
    {
     "name": "stderr",
     "output_type": "stream",
     "text": [
      "Training data: 100%|███████████████████████████████████████████████████████████████████| 48/48 [00:07<00:00,  6.40it/s]\n",
      "Validation data: 100%|█████████████████████████████████████████████████████████████████| 16/16 [00:01<00:00,  8.71it/s]\n"
     ]
    },
    {
     "name": "stdout",
     "output_type": "stream",
     "text": [
      "Training losses: MAE = 0.976569349948923, MSE = 1.6187457854566454\n",
      "Validation losses: MAE = 1.0758279895103722, MSE = 1.8596304592376243\n",
      "Now running epoch 66\n"
     ]
    },
    {
     "name": "stderr",
     "output_type": "stream",
     "text": [
      "Training data: 100%|███████████████████████████████████████████████████████████████████| 48/48 [00:08<00:00,  5.73it/s]\n",
      "Validation data: 100%|█████████████████████████████████████████████████████████████████| 16/16 [00:01<00:00,  8.04it/s]\n"
     ]
    },
    {
     "name": "stdout",
     "output_type": "stream",
     "text": [
      "Training losses: MAE = 0.9672035239482552, MSE = 1.6246324049348804\n",
      "Validation losses: MAE = 1.0876438731894007, MSE = 1.8786064453310574\n",
      "Now running epoch 67\n"
     ]
    },
    {
     "name": "stderr",
     "output_type": "stream",
     "text": [
      "Training data: 100%|███████████████████████████████████████████████████████████████████| 48/48 [00:07<00:00,  6.19it/s]\n",
      "Validation data: 100%|█████████████████████████████████████████████████████████████████| 16/16 [00:01<00:00,  8.95it/s]\n"
     ]
    },
    {
     "name": "stdout",
     "output_type": "stream",
     "text": [
      "Training losses: MAE = 1.0188137135980295, MSE = 1.7621927335846468\n",
      "Validation losses: MAE = 1.0879809368340487, MSE = 1.8946604651157655\n",
      "Now running epoch 68\n"
     ]
    },
    {
     "name": "stderr",
     "output_type": "stream",
     "text": [
      "Training data: 100%|███████████████████████████████████████████████████████████████████| 48/48 [00:07<00:00,  6.58it/s]\n",
      "Validation data: 100%|█████████████████████████████████████████████████████████████████| 16/16 [00:02<00:00,  7.38it/s]\n"
     ]
    },
    {
     "name": "stdout",
     "output_type": "stream",
     "text": [
      "Training losses: MAE = 0.9590735430919292, MSE = 1.5685005942334207\n",
      "Validation losses: MAE = 1.0893586675486535, MSE = 1.8991546038454317\n",
      "Now running epoch 69\n"
     ]
    },
    {
     "name": "stderr",
     "output_type": "stream",
     "text": [
      "Training data: 100%|███████████████████████████████████████████████████████████████████| 48/48 [00:07<00:00,  6.07it/s]\n",
      "Validation data: 100%|█████████████████████████████████████████████████████████████████| 16/16 [00:02<00:00,  6.92it/s]\n"
     ]
    },
    {
     "name": "stdout",
     "output_type": "stream",
     "text": [
      "Training losses: MAE = 0.9980664968696561, MSE = 1.6736586707995507\n",
      "Validation losses: MAE = 1.0819294360104483, MSE = 1.8901467743223255\n",
      "Now running epoch 70\n"
     ]
    },
    {
     "name": "stderr",
     "output_type": "stream",
     "text": [
      "Training data: 100%|███████████████████████████████████████████████████████████████████| 48/48 [00:07<00:00,  6.20it/s]\n",
      "Validation data: 100%|█████████████████████████████████████████████████████████████████| 16/16 [00:02<00:00,  7.52it/s]\n"
     ]
    },
    {
     "name": "stdout",
     "output_type": "stream",
     "text": [
      "Training losses: MAE = 0.9950361368562428, MSE = 1.6636453435074365\n",
      "Validation losses: MAE = 1.07650979506065, MSE = 1.8631854734515518\n",
      "Now running epoch 71\n"
     ]
    },
    {
     "name": "stderr",
     "output_type": "stream",
     "text": [
      "Training data: 100%|███████████████████████████████████████████████████████████████████| 48/48 [00:07<00:00,  6.27it/s]\n",
      "Validation data: 100%|█████████████████████████████████████████████████████████████████| 16/16 [00:01<00:00,  8.37it/s]\n"
     ]
    },
    {
     "name": "stdout",
     "output_type": "stream",
     "text": [
      "Training losses: MAE = 0.974967842937798, MSE = 1.6035558899334468\n",
      "Validation losses: MAE = 1.0919940392236682, MSE = 1.9017833192214273\n",
      "Now running epoch 72\n"
     ]
    },
    {
     "name": "stderr",
     "output_type": "stream",
     "text": [
      "Training data: 100%|███████████████████████████████████████████████████████████████████| 48/48 [00:07<00:00,  6.62it/s]\n",
      "Validation data: 100%|█████████████████████████████████████████████████████████████████| 16/16 [00:01<00:00,  8.42it/s]\n"
     ]
    },
    {
     "name": "stdout",
     "output_type": "stream",
     "text": [
      "Training losses: MAE = 0.9973649951439054, MSE = 1.6614947896875434\n",
      "Validation losses: MAE = 1.0881695279515795, MSE = 1.885610943017776\n",
      "Now running epoch 73\n"
     ]
    },
    {
     "name": "stderr",
     "output_type": "stream",
     "text": [
      "Training data: 100%|███████████████████████████████████████████████████████████████████| 48/48 [00:07<00:00,  6.77it/s]\n",
      "Validation data: 100%|█████████████████████████████████████████████████████████████████| 16/16 [00:01<00:00,  9.02it/s]\n"
     ]
    },
    {
     "name": "stdout",
     "output_type": "stream",
     "text": [
      "Training losses: MAE = 0.9865891911018368, MSE = 1.7026850083451388\n",
      "Validation losses: MAE = 1.0852801284067537, MSE = 1.9024074659442174\n",
      "Now running epoch 74\n"
     ]
    },
    {
     "name": "stderr",
     "output_type": "stream",
     "text": [
      "Training data: 100%|███████████████████████████████████████████████████████████████████| 48/48 [00:07<00:00,  6.37it/s]\n",
      "Validation data: 100%|█████████████████████████████████████████████████████████████████| 16/16 [00:02<00:00,  7.92it/s]\n"
     ]
    },
    {
     "name": "stdout",
     "output_type": "stream",
     "text": [
      "Training losses: MAE = 0.9900386249321681, MSE = 1.6668741808396217\n",
      "Validation losses: MAE = 1.079273300591151, MSE = 1.9146418236560567\n",
      "Now running epoch 75\n"
     ]
    },
    {
     "name": "stderr",
     "output_type": "stream",
     "text": [
      "Training data: 100%|███████████████████████████████████████████████████████████████████| 48/48 [00:06<00:00,  6.89it/s]\n",
      "Validation data: 100%|█████████████████████████████████████████████████████████████████| 16/16 [00:01<00:00,  8.63it/s]\n"
     ]
    },
    {
     "name": "stdout",
     "output_type": "stream",
     "text": [
      "Training losses: MAE = 0.9741894982931768, MSE = 1.6291034066558208\n",
      "Validation losses: MAE = 1.098552513889802, MSE = 1.927724106644484\n",
      "Now running epoch 76\n"
     ]
    },
    {
     "name": "stderr",
     "output_type": "stream",
     "text": [
      "Training data: 100%|███████████████████████████████████████████████████████████████████| 48/48 [00:06<00:00,  7.04it/s]\n",
      "Validation data: 100%|█████████████████████████████████████████████████████████████████| 16/16 [00:01<00:00,  8.88it/s]\n"
     ]
    },
    {
     "name": "stdout",
     "output_type": "stream",
     "text": [
      "Training losses: MAE = 1.000325232993281, MSE = 1.734455221999101\n",
      "Validation losses: MAE = 1.0762590737315865, MSE = 1.8541714763305015\n",
      "Now running epoch 77\n"
     ]
    },
    {
     "name": "stderr",
     "output_type": "stream",
     "text": [
      "Training data: 100%|███████████████████████████████████████████████████████████████████| 48/48 [00:06<00:00,  7.01it/s]\n",
      "Validation data: 100%|█████████████████████████████████████████████████████████████████| 16/16 [00:01<00:00,  9.09it/s]\n"
     ]
    },
    {
     "name": "stdout",
     "output_type": "stream",
     "text": [
      "Training losses: MAE = 0.9890814694705957, MSE = 1.6424197461302585\n",
      "Validation losses: MAE = 1.0808799365751798, MSE = 1.8597800908293038\n",
      "Now running epoch 78\n"
     ]
    },
    {
     "name": "stderr",
     "output_type": "stream",
     "text": [
      "Training data: 100%|███████████████████████████████████████████████████████████████████| 48/48 [00:07<00:00,  6.56it/s]\n",
      "Validation data: 100%|█████████████████████████████████████████████████████████████████| 16/16 [00:02<00:00,  7.63it/s]\n"
     ]
    },
    {
     "name": "stdout",
     "output_type": "stream",
     "text": [
      "Training losses: MAE = 0.978176499449346, MSE = 1.626017035840961\n",
      "Validation losses: MAE = 1.08513705192832, MSE = 1.9254759777317498\n",
      "Now running epoch 79\n"
     ]
    },
    {
     "name": "stderr",
     "output_type": "stream",
     "text": [
      "Training data: 100%|███████████████████████████████████████████████████████████████████| 48/48 [00:07<00:00,  6.47it/s]\n",
      "Validation data: 100%|█████████████████████████████████████████████████████████████████| 16/16 [00:01<00:00,  8.35it/s]\n"
     ]
    },
    {
     "name": "stdout",
     "output_type": "stream",
     "text": [
      "Training losses: MAE = 0.9651379512091434, MSE = 1.6181455024358844\n",
      "Validation losses: MAE = 1.096108795975268, MSE = 1.8828492102269563\n",
      "Now running epoch 80\n"
     ]
    },
    {
     "name": "stderr",
     "output_type": "stream",
     "text": [
      "Training data: 100%|███████████████████████████████████████████████████████████████████| 48/48 [00:07<00:00,  6.23it/s]\n",
      "Validation data: 100%|█████████████████████████████████████████████████████████████████| 16/16 [00:02<00:00,  7.30it/s]\n"
     ]
    },
    {
     "name": "stdout",
     "output_type": "stream",
     "text": [
      "Training losses: MAE = 0.9809206797964993, MSE = 1.6457235133158337\n",
      "Validation losses: MAE = 1.086513561498151, MSE = 1.910467775117439\n",
      "Now running epoch 81\n"
     ]
    },
    {
     "name": "stderr",
     "output_type": "stream",
     "text": [
      "Training data: 100%|███████████████████████████████████████████████████████████████████| 48/48 [00:08<00:00,  5.76it/s]\n",
      "Validation data: 100%|█████████████████████████████████████████████████████████████████| 16/16 [00:01<00:00,  8.79it/s]\n"
     ]
    },
    {
     "name": "stdout",
     "output_type": "stream",
     "text": [
      "Training losses: MAE = 0.9690481252219552, MSE = 1.6030558438641611\n",
      "Validation losses: MAE = 1.0878508154516455, MSE = 1.876036672206904\n",
      "Now running epoch 82\n"
     ]
    },
    {
     "name": "stderr",
     "output_type": "stream",
     "text": [
      "Training data: 100%|███████████████████████████████████████████████████████████████████| 48/48 [00:06<00:00,  7.19it/s]\n",
      "Validation data: 100%|█████████████████████████████████████████████████████████████████| 16/16 [00:01<00:00,  8.40it/s]\n"
     ]
    },
    {
     "name": "stdout",
     "output_type": "stream",
     "text": [
      "Training losses: MAE = 0.9784294391505435, MSE = 1.6261479553168212\n",
      "Validation losses: MAE = 1.091733027685091, MSE = 1.8864673657868711\n",
      "Now running epoch 83\n"
     ]
    },
    {
     "name": "stderr",
     "output_type": "stream",
     "text": [
      "Training data: 100%|███████████████████████████████████████████████████████████████████| 48/48 [00:07<00:00,  6.84it/s]\n",
      "Validation data: 100%|█████████████████████████████████████████████████████████████████| 16/16 [00:01<00:00,  9.26it/s]\n"
     ]
    },
    {
     "name": "stdout",
     "output_type": "stream",
     "text": [
      "Training losses: MAE = 0.9725786376486406, MSE = 1.6461200089050034\n",
      "Validation losses: MAE = 1.0844859979601111, MSE = 1.8662119166854554\n",
      "Now running epoch 84\n"
     ]
    },
    {
     "name": "stderr",
     "output_type": "stream",
     "text": [
      "Training data: 100%|███████████████████████████████████████████████████████████████████| 48/48 [00:06<00:00,  6.96it/s]\n",
      "Validation data: 100%|█████████████████████████████████████████████████████████████████| 16/16 [00:01<00:00,  8.81it/s]\n"
     ]
    },
    {
     "name": "stdout",
     "output_type": "stream",
     "text": [
      "Training losses: MAE = 0.9690110701370663, MSE = 1.6268739737328675\n",
      "Validation losses: MAE = 1.0846569750509398, MSE = 1.8927227461578147\n",
      "Now running epoch 85\n"
     ]
    },
    {
     "name": "stderr",
     "output_type": "stream",
     "text": [
      "Training data: 100%|███████████████████████████████████████████████████████████████████| 48/48 [00:07<00:00,  6.79it/s]\n",
      "Validation data: 100%|█████████████████████████████████████████████████████████████████| 16/16 [00:01<00:00,  8.46it/s]\n"
     ]
    },
    {
     "name": "stdout",
     "output_type": "stream",
     "text": [
      "Training losses: MAE = 0.9694792894552876, MSE = 1.6267434988185927\n",
      "Validation losses: MAE = 1.0910967013281039, MSE = 1.8979109842413795\n",
      "Now running epoch 86\n"
     ]
    },
    {
     "name": "stderr",
     "output_type": "stream",
     "text": [
      "Training data: 100%|███████████████████████████████████████████████████████████████████| 48/48 [00:06<00:00,  6.90it/s]\n",
      "Validation data: 100%|█████████████████████████████████████████████████████████████████| 16/16 [00:01<00:00,  9.06it/s]\n"
     ]
    },
    {
     "name": "stdout",
     "output_type": "stream",
     "text": [
      "Training losses: MAE = 0.992017733300526, MSE = 1.6910922679747704\n",
      "Validation losses: MAE = 1.0777722540362595, MSE = 1.856575913990148\n",
      "Now running epoch 87\n"
     ]
    },
    {
     "name": "stderr",
     "output_type": "stream",
     "text": [
      "Training data: 100%|███████████████████████████████████████████████████████████████████| 48/48 [00:06<00:00,  7.02it/s]\n",
      "Validation data: 100%|█████████████████████████████████████████████████████████████████| 16/16 [00:01<00:00,  8.09it/s]\n"
     ]
    },
    {
     "name": "stdout",
     "output_type": "stream",
     "text": [
      "Training losses: MAE = 0.9725408955460385, MSE = 1.6532672623868783\n",
      "Validation losses: MAE = 1.0816804960304311, MSE = 1.8883099556816785\n",
      "Now running epoch 88\n"
     ]
    },
    {
     "name": "stderr",
     "output_type": "stream",
     "text": [
      "Training data: 100%|███████████████████████████████████████████████████████████████████| 48/48 [00:07<00:00,  6.35it/s]\n",
      "Validation data: 100%|█████████████████████████████████████████████████████████████████| 16/16 [00:02<00:00,  7.69it/s]\n"
     ]
    },
    {
     "name": "stdout",
     "output_type": "stream",
     "text": [
      "Training losses: MAE = 0.985425721774775, MSE = 1.6382249974376422\n",
      "Validation losses: MAE = 1.0957409020998088, MSE = 1.9066887502244214\n",
      "Now running epoch 89\n"
     ]
    },
    {
     "name": "stderr",
     "output_type": "stream",
     "text": [
      "Training data: 100%|███████████████████████████████████████████████████████████████████| 48/48 [00:07<00:00,  6.66it/s]\n",
      "Validation data: 100%|█████████████████████████████████████████████████████████████████| 16/16 [00:01<00:00,  8.90it/s]\n"
     ]
    },
    {
     "name": "stdout",
     "output_type": "stream",
     "text": [
      "Training losses: MAE = 0.9623230240041868, MSE = 1.586964032038618\n",
      "Validation losses: MAE = 1.087647557289252, MSE = 1.8843793447020813\n",
      "Now running epoch 90\n"
     ]
    },
    {
     "name": "stderr",
     "output_type": "stream",
     "text": [
      "Training data: 100%|███████████████████████████████████████████████████████████████████| 48/48 [00:07<00:00,  6.71it/s]\n",
      "Validation data: 100%|█████████████████████████████████████████████████████████████████| 16/16 [00:01<00:00,  8.68it/s]\n"
     ]
    },
    {
     "name": "stdout",
     "output_type": "stream",
     "text": [
      "Training losses: MAE = 0.9705563253293148, MSE = 1.6557095491520006\n",
      "Validation losses: MAE = 1.0802377664435108, MSE = 1.8712550136655792\n",
      "Now running epoch 91\n"
     ]
    },
    {
     "name": "stderr",
     "output_type": "stream",
     "text": [
      "Training data: 100%|███████████████████████████████████████████████████████████████████| 48/48 [00:06<00:00,  6.96it/s]\n",
      "Validation data: 100%|█████████████████████████████████████████████████████████████████| 16/16 [00:01<00:00,  9.16it/s]\n"
     ]
    },
    {
     "name": "stdout",
     "output_type": "stream",
     "text": [
      "Training losses: MAE = 0.9867790999687299, MSE = 1.6831138981303269\n",
      "Validation losses: MAE = 1.0914986421947588, MSE = 1.8897178245774726\n",
      "Now running epoch 92\n"
     ]
    },
    {
     "name": "stderr",
     "output_type": "stream",
     "text": [
      "Training data: 100%|███████████████████████████████████████████████████████████████████| 48/48 [00:06<00:00,  7.32it/s]\n",
      "Validation data: 100%|█████████████████████████████████████████████████████████████████| 16/16 [00:01<00:00,  8.74it/s]\n"
     ]
    },
    {
     "name": "stdout",
     "output_type": "stream",
     "text": [
      "Training losses: MAE = 0.9943874413959126, MSE = 1.6838428777253474\n",
      "Validation losses: MAE = 1.0903834732730644, MSE = 1.8511685600035135\n",
      "Now running epoch 93\n"
     ]
    },
    {
     "name": "stderr",
     "output_type": "stream",
     "text": [
      "Training data: 100%|███████████████████████████████████████████████████████████████████| 48/48 [00:07<00:00,  6.69it/s]\n",
      "Validation data: 100%|█████████████████████████████████████████████████████████████████| 16/16 [00:01<00:00,  8.65it/s]\n"
     ]
    },
    {
     "name": "stdout",
     "output_type": "stream",
     "text": [
      "Training losses: MAE = 0.9660862640358459, MSE = 1.6405559063326605\n",
      "Validation losses: MAE = 1.0971954438542995, MSE = 1.9145746634213965\n",
      "Now running epoch 94\n"
     ]
    },
    {
     "name": "stderr",
     "output_type": "stream",
     "text": [
      "Training data: 100%|███████████████████████████████████████████████████████████████████| 48/48 [00:06<00:00,  7.11it/s]\n",
      "Validation data: 100%|█████████████████████████████████████████████████████████████████| 16/16 [00:01<00:00,  9.10it/s]\n"
     ]
    },
    {
     "name": "stdout",
     "output_type": "stream",
     "text": [
      "Training losses: MAE = 0.9730915278366835, MSE = 1.618037416741612\n",
      "Validation losses: MAE = 1.0898159364992612, MSE = 1.8934471987439343\n",
      "Now running epoch 95\n"
     ]
    },
    {
     "name": "stderr",
     "output_type": "stream",
     "text": [
      "Training data: 100%|███████████████████████████████████████████████████████████████████| 48/48 [00:07<00:00,  6.62it/s]\n",
      "Validation data: 100%|█████████████████████████████████████████████████████████████████| 16/16 [00:02<00:00,  7.92it/s]\n"
     ]
    },
    {
     "name": "stdout",
     "output_type": "stream",
     "text": [
      "Training losses: MAE = 0.9816876469071486, MSE = 1.6793543060669416\n",
      "Validation losses: MAE = 1.0906335167584178, MSE = 1.8680288694689666\n",
      "Now running epoch 96\n"
     ]
    },
    {
     "name": "stderr",
     "output_type": "stream",
     "text": [
      "Training data: 100%|███████████████████████████████████████████████████████████████████| 48/48 [00:07<00:00,  6.72it/s]\n",
      "Validation data: 100%|█████████████████████████████████████████████████████████████████| 16/16 [00:01<00:00,  8.01it/s]\n"
     ]
    },
    {
     "name": "stdout",
     "output_type": "stream",
     "text": [
      "Training losses: MAE = 0.9967196737160386, MSE = 1.6636116038417388\n",
      "Validation losses: MAE = 1.096144805411115, MSE = 1.9163663275648088\n",
      "Now running epoch 97\n"
     ]
    },
    {
     "name": "stderr",
     "output_type": "stream",
     "text": [
      "Training data: 100%|███████████████████████████████████████████████████████████████████| 48/48 [00:07<00:00,  6.63it/s]\n",
      "Validation data: 100%|█████████████████████████████████████████████████████████████████| 16/16 [00:01<00:00,  8.72it/s]\n"
     ]
    },
    {
     "name": "stdout",
     "output_type": "stream",
     "text": [
      "Training losses: MAE = 0.9940410878600602, MSE = 1.6983446009138674\n",
      "Validation losses: MAE = 1.0776856849046204, MSE = 1.8516501499859972\n",
      "Now running epoch 98\n"
     ]
    },
    {
     "name": "stderr",
     "output_type": "stream",
     "text": [
      "Training data: 100%|███████████████████████████████████████████████████████████████████| 48/48 [00:07<00:00,  6.56it/s]\n",
      "Validation data: 100%|█████████████████████████████████████████████████████████████████| 16/16 [00:01<00:00,  8.69it/s]\n"
     ]
    },
    {
     "name": "stdout",
     "output_type": "stream",
     "text": [
      "Training losses: MAE = 0.9920160788968759, MSE = 1.669405415989116\n",
      "Validation losses: MAE = 1.093796989938714, MSE = 1.866978700077868\n",
      "Now running epoch 99\n"
     ]
    },
    {
     "name": "stderr",
     "output_type": "stream",
     "text": [
      "Training data: 100%|███████████████████████████████████████████████████████████████████| 48/48 [00:06<00:00,  6.93it/s]\n",
      "Validation data: 100%|█████████████████████████████████████████████████████████████████| 16/16 [00:01<00:00,  8.23it/s]"
     ]
    },
    {
     "name": "stdout",
     "output_type": "stream",
     "text": [
      "Training losses: MAE = 0.9755029981954814, MSE = 1.6252716984508488\n",
      "Validation losses: MAE = 1.0905374121431908, MSE = 1.8885226075910422\n"
     ]
    },
    {
     "name": "stderr",
     "output_type": "stream",
     "text": [
      "\n"
     ]
    }
   ],
   "source": [
    "default_exp.train()"
   ]
  },
  {
   "cell_type": "code",
   "execution_count": 4,
   "id": "0af5da49",
   "metadata": {},
   "outputs": [
    {
     "name": "stderr",
     "output_type": "stream",
     "text": [
      "Test data: 100%|███████████████████████████████████████████████████████████████████████| 16/16 [00:02<00:00,  6.51it/s]"
     ]
    },
    {
     "name": "stdout",
     "output_type": "stream",
     "text": [
      "Test loss: MAE = 0.9645035237084624, MSE = 1.7207450587044237\n"
     ]
    },
    {
     "name": "stderr",
     "output_type": "stream",
     "text": [
      "\n"
     ]
    }
   ],
   "source": [
    "default_exp.test()"
   ]
  },
  {
   "cell_type": "code",
   "execution_count": 5,
   "id": "0f93c331",
   "metadata": {},
   "outputs": [
    {
     "data": {
      "image/png": "[encoded data removed]",
      "text/plain": [
       "<Figure size 432x288 with 1 Axes>"
      ]
     },
     "metadata": {
      "needs_background": "light"
     },
     "output_type": "display_data"
    },
    {
     "data": {
      "image/png": "[encoded data removed]",
      "text/plain": [
       "<Figure size 432x288 with 1 Axes>"
      ]
     },
     "metadata": {
      "needs_background": "light"
     },
     "output_type": "display_data"
    }
   ],
   "source": [
    "default_exp.analyze_training()"
   ]
  },
  {
   "cell_type": "code",
   "execution_count": 6,
   "id": "a922addf",
   "metadata": {},
   "outputs": [
    {
     "name": "stdout",
     "output_type": "stream",
     "text": [
      "Analyzing distribution...\n"
     ]
    },
    {
     "name": "stderr",
     "output_type": "stream",
     "text": [
      "Train data: 100%|██████████████████████████████████████████████████████████████████████| 48/48 [00:05<00:00,  8.10it/s]\n",
      "Validation data: 100%|█████████████████████████████████████████████████████████████████| 16/16 [00:02<00:00,  6.56it/s]\n",
      "Test data: 100%|███████████████████████████████████████████████████████████████████████| 16/16 [00:02<00:00,  6.98it/s]\n"
     ]
    },
    {
     "data": {
      "image/png": "[encoded data removed]",
      "text/plain": [
       "<Figure size 432x288 with 1 Axes>"
      ]
     },
     "metadata": {
      "needs_background": "light"
     },
     "output_type": "display_data"
    },
    {
     "data": {
      "image/png": "[encoded data removed]",
      "text/plain": [
       "<Figure size 432x288 with 1 Axes>"
      ]
     },
     "metadata": {
      "needs_background": "light"
     },
     "output_type": "display_data"
    },
    {
     "data": {
      "image/png": "[encoded data removed]",
      "text/plain": [
       "<Figure size 432x288 with 1 Axes>"
      ]
     },
     "metadata": {
      "needs_background": "light"
     },
     "output_type": "display_data"
    },
    {
     "data": {
      "image/png": "[encoded data removed]",
      "text/plain": [
       "<Figure size 432x288 with 1 Axes>"
      ]
     },
     "metadata": {
      "needs_background": "light"
     },
     "output_type": "display_data"
    },
    {
     "data": {
      "image/png": "[encoded data removed]",
      "text/plain": [
       "<Figure size 432x288 with 1 Axes>"
      ]
     },
     "metadata": {
      "needs_background": "light"
     },
     "output_type": "display_data"
    },
    {
     "data": {
      "image/png": "[encoded data removed]",
      "text/plain": [
       "<Figure size 432x288 with 1 Axes>"
      ]
     },
     "metadata": {
      "needs_background": "light"
     },
     "output_type": "display_data"
    }
   ],
   "source": [
    "default_exp.analyze_error_dist()"
   ]
  },
  {
   "cell_type": "code",
   "execution_count": 7,
   "id": "c35cc44a",
   "metadata": {},
   "outputs": [],
   "source": [
    "model = default_exp.get_best_model()"
   ]
  },
  {
   "cell_type": "code",
   "execution_count": 8,
   "id": "cab3c3e7",
   "metadata": {},
   "outputs": [
    {
     "name": "stdout",
     "output_type": "stream",
     "text": [
      "SEMPro_resNext(\n",
      "  (model): ResNet(\n",
      "    (conv1): Conv2d(3, 64, kernel_size=(7, 7), stride=(2, 2), padding=(3, 3), bias=False)\n",
      "    (bn1): BatchNorm2d(64, eps=1e-05, momentum=0.1, affine=True, track_running_stats=True)\n",
      "    (relu): ELU(alpha=1.0)\n",
      "    (maxpool): MaxPool2d(kernel_size=3, stride=2, padding=1, dilation=1, ceil_mode=False)\n",
      "    (layer1): Sequential(\n",
      "      (0): Bottleneck(\n",
      "        (conv1): Conv2d(64, 128, kernel_size=(1, 1), stride=(1, 1), bias=False)\n",
      "        (bn1): BatchNorm2d(128, eps=1e-05, momentum=0.1, affine=True, track_running_stats=True)\n",
      "        (conv2): Conv2d(128, 128, kernel_size=(3, 3), stride=(1, 1), padding=(1, 1), groups=32, bias=False)\n",
      "        (bn2): BatchNorm2d(128, eps=1e-05, momentum=0.1, affine=True, track_running_stats=True)\n",
      "        (conv3): Conv2d(128, 256, kernel_size=(1, 1), stride=(1, 1), bias=False)\n",
      "        (bn3): BatchNorm2d(256, eps=1e-05, momentum=0.1, affine=True, track_running_stats=True)\n",
      "        (relu): ELU(alpha=1.0)\n",
      "        (downsample): Sequential(\n",
      "          (0): Conv2d(64, 256, kernel_size=(1, 1), stride=(1, 1), bias=False)\n",
      "          (1): BatchNorm2d(256, eps=1e-05, momentum=0.1, affine=True, track_running_stats=True)\n",
      "        )\n",
      "      )\n",
      "      (1): Bottleneck(\n",
      "        (conv1): Conv2d(256, 128, kernel_size=(1, 1), stride=(1, 1), bias=False)\n",
      "        (bn1): BatchNorm2d(128, eps=1e-05, momentum=0.1, affine=True, track_running_stats=True)\n",
      "        (conv2): Conv2d(128, 128, kernel_size=(3, 3), stride=(1, 1), padding=(1, 1), groups=32, bias=False)\n",
      "        (bn2): BatchNorm2d(128, eps=1e-05, momentum=0.1, affine=True, track_running_stats=True)\n",
      "        (conv3): Conv2d(128, 256, kernel_size=(1, 1), stride=(1, 1), bias=False)\n",
      "        (bn3): BatchNorm2d(256, eps=1e-05, momentum=0.1, affine=True, track_running_stats=True)\n",
      "        (relu): ELU(alpha=1.0)\n",
      "      )\n",
      "      (2): Bottleneck(\n",
      "        (conv1): Conv2d(256, 128, kernel_size=(1, 1), stride=(1, 1), bias=False)\n",
      "        (bn1): BatchNorm2d(128, eps=1e-05, momentum=0.1, affine=True, track_running_stats=True)\n",
      "        (conv2): Conv2d(128, 128, kernel_size=(3, 3), stride=(1, 1), padding=(1, 1), groups=32, bias=False)\n",
      "        (bn2): BatchNorm2d(128, eps=1e-05, momentum=0.1, affine=True, track_running_stats=True)\n",
      "        (conv3): Conv2d(128, 256, kernel_size=(1, 1), stride=(1, 1), bias=False)\n",
      "        (bn3): BatchNorm2d(256, eps=1e-05, momentum=0.1, affine=True, track_running_stats=True)\n",
      "        (relu): ELU(alpha=1.0)\n",
      "      )\n",
      "    )\n",
      "    (layer2): Sequential(\n",
      "      (0): Bottleneck(\n",
      "        (conv1): Conv2d(256, 256, kernel_size=(1, 1), stride=(1, 1), bias=False)\n",
      "        (bn1): BatchNorm2d(256, eps=1e-05, momentum=0.1, affine=True, track_running_stats=True)\n",
      "        (conv2): Conv2d(256, 256, kernel_size=(3, 3), stride=(2, 2), padding=(1, 1), groups=32, bias=False)\n",
      "        (bn2): BatchNorm2d(256, eps=1e-05, momentum=0.1, affine=True, track_running_stats=True)\n",
      "        (conv3): Conv2d(256, 512, kernel_size=(1, 1), stride=(1, 1), bias=False)\n",
      "        (bn3): BatchNorm2d(512, eps=1e-05, momentum=0.1, affine=True, track_running_stats=True)\n",
      "        (relu): ELU(alpha=1.0)\n",
      "        (downsample): Sequential(\n",
      "          (0): Conv2d(256, 512, kernel_size=(1, 1), stride=(2, 2), bias=False)\n",
      "          (1): BatchNorm2d(512, eps=1e-05, momentum=0.1, affine=True, track_running_stats=True)\n",
      "        )\n",
      "      )\n",
      "      (1): Bottleneck(\n",
      "        (conv1): Conv2d(512, 256, kernel_size=(1, 1), stride=(1, 1), bias=False)\n",
      "        (bn1): BatchNorm2d(256, eps=1e-05, momentum=0.1, affine=True, track_running_stats=True)\n",
      "        (conv2): Conv2d(256, 256, kernel_size=(3, 3), stride=(1, 1), padding=(1, 1), groups=32, bias=False)\n",
      "        (bn2): BatchNorm2d(256, eps=1e-05, momentum=0.1, affine=True, track_running_stats=True)\n",
      "        (conv3): Conv2d(256, 512, kernel_size=(1, 1), stride=(1, 1), bias=False)\n",
      "        (bn3): BatchNorm2d(512, eps=1e-05, momentum=0.1, affine=True, track_running_stats=True)\n",
      "        (relu): ELU(alpha=1.0)\n",
      "      )\n",
      "      (2): Bottleneck(\n",
      "        (conv1): Conv2d(512, 256, kernel_size=(1, 1), stride=(1, 1), bias=False)\n",
      "        (bn1): BatchNorm2d(256, eps=1e-05, momentum=0.1, affine=True, track_running_stats=True)\n",
      "        (conv2): Conv2d(256, 256, kernel_size=(3, 3), stride=(1, 1), padding=(1, 1), groups=32, bias=False)\n",
      "        (bn2): BatchNorm2d(256, eps=1e-05, momentum=0.1, affine=True, track_running_stats=True)\n",
      "        (conv3): Conv2d(256, 512, kernel_size=(1, 1), stride=(1, 1), bias=False)\n",
      "        (bn3): BatchNorm2d(512, eps=1e-05, momentum=0.1, affine=True, track_running_stats=True)\n",
      "        (relu): ELU(alpha=1.0)\n",
      "      )\n",
      "      (3): Bottleneck(\n",
      "        (conv1): Conv2d(512, 256, kernel_size=(1, 1), stride=(1, 1), bias=False)\n",
      "        (bn1): BatchNorm2d(256, eps=1e-05, momentum=0.1, affine=True, track_running_stats=True)\n",
      "        (conv2): Conv2d(256, 256, kernel_size=(3, 3), stride=(1, 1), padding=(1, 1), groups=32, bias=False)\n",
      "        (bn2): BatchNorm2d(256, eps=1e-05, momentum=0.1, affine=True, track_running_stats=True)\n",
      "        (conv3): Conv2d(256, 512, kernel_size=(1, 1), stride=(1, 1), bias=False)\n",
      "        (bn3): BatchNorm2d(512, eps=1e-05, momentum=0.1, affine=True, track_running_stats=True)\n",
      "        (relu): ELU(alpha=1.0)\n",
      "      )\n",
      "    )\n",
      "    (layer3): Sequential(\n",
      "      (0): Bottleneck(\n",
      "        (conv1): Conv2d(512, 512, kernel_size=(1, 1), stride=(1, 1), bias=False)\n",
      "        (bn1): BatchNorm2d(512, eps=1e-05, momentum=0.1, affine=True, track_running_stats=True)\n",
      "        (conv2): Conv2d(512, 512, kernel_size=(3, 3), stride=(2, 2), padding=(1, 1), groups=32, bias=False)\n",
      "        (bn2): BatchNorm2d(512, eps=1e-05, momentum=0.1, affine=True, track_running_stats=True)\n",
      "        (conv3): Conv2d(512, 1024, kernel_size=(1, 1), stride=(1, 1), bias=False)\n",
      "        (bn3): BatchNorm2d(1024, eps=1e-05, momentum=0.1, affine=True, track_running_stats=True)\n",
      "        (relu): ELU(alpha=1.0)\n",
      "        (downsample): Sequential(\n",
      "          (0): Conv2d(512, 1024, kernel_size=(1, 1), stride=(2, 2), bias=False)\n",
      "          (1): BatchNorm2d(1024, eps=1e-05, momentum=0.1, affine=True, track_running_stats=True)\n",
      "        )\n",
      "      )\n",
      "      (1): Bottleneck(\n",
      "        (conv1): Conv2d(1024, 512, kernel_size=(1, 1), stride=(1, 1), bias=False)\n",
      "        (bn1): BatchNorm2d(512, eps=1e-05, momentum=0.1, affine=True, track_running_stats=True)\n",
      "        (conv2): Conv2d(512, 512, kernel_size=(3, 3), stride=(1, 1), padding=(1, 1), groups=32, bias=False)\n",
      "        (bn2): BatchNorm2d(512, eps=1e-05, momentum=0.1, affine=True, track_running_stats=True)\n",
      "        (conv3): Conv2d(512, 1024, kernel_size=(1, 1), stride=(1, 1), bias=False)\n",
      "        (bn3): BatchNorm2d(1024, eps=1e-05, momentum=0.1, affine=True, track_running_stats=True)\n",
      "        (relu): ELU(alpha=1.0)\n",
      "      )\n",
      "      (2): Bottleneck(\n",
      "        (conv1): Conv2d(1024, 512, kernel_size=(1, 1), stride=(1, 1), bias=False)\n",
      "        (bn1): BatchNorm2d(512, eps=1e-05, momentum=0.1, affine=True, track_running_stats=True)\n",
      "        (conv2): Conv2d(512, 512, kernel_size=(3, 3), stride=(1, 1), padding=(1, 1), groups=32, bias=False)\n",
      "        (bn2): BatchNorm2d(512, eps=1e-05, momentum=0.1, affine=True, track_running_stats=True)\n",
      "        (conv3): Conv2d(512, 1024, kernel_size=(1, 1), stride=(1, 1), bias=False)\n",
      "        (bn3): BatchNorm2d(1024, eps=1e-05, momentum=0.1, affine=True, track_running_stats=True)\n",
      "        (relu): ELU(alpha=1.0)\n",
      "      )\n",
      "      (3): Bottleneck(\n",
      "        (conv1): Conv2d(1024, 512, kernel_size=(1, 1), stride=(1, 1), bias=False)\n",
      "        (bn1): BatchNorm2d(512, eps=1e-05, momentum=0.1, affine=True, track_running_stats=True)\n",
      "        (conv2): Conv2d(512, 512, kernel_size=(3, 3), stride=(1, 1), padding=(1, 1), groups=32, bias=False)\n",
      "        (bn2): BatchNorm2d(512, eps=1e-05, momentum=0.1, affine=True, track_running_stats=True)\n",
      "        (conv3): Conv2d(512, 1024, kernel_size=(1, 1), stride=(1, 1), bias=False)\n",
      "        (bn3): BatchNorm2d(1024, eps=1e-05, momentum=0.1, affine=True, track_running_stats=True)\n",
      "        (relu): ELU(alpha=1.0)\n",
      "      )\n",
      "      (4): Bottleneck(\n",
      "        (conv1): Conv2d(1024, 512, kernel_size=(1, 1), stride=(1, 1), bias=False)\n",
      "        (bn1): BatchNorm2d(512, eps=1e-05, momentum=0.1, affine=True, track_running_stats=True)\n",
      "        (conv2): Conv2d(512, 512, kernel_size=(3, 3), stride=(1, 1), padding=(1, 1), groups=32, bias=False)\n",
      "        (bn2): BatchNorm2d(512, eps=1e-05, momentum=0.1, affine=True, track_running_stats=True)\n",
      "        (conv3): Conv2d(512, 1024, kernel_size=(1, 1), stride=(1, 1), bias=False)\n",
      "        (bn3): BatchNorm2d(1024, eps=1e-05, momentum=0.1, affine=True, track_running_stats=True)\n",
      "        (relu): ELU(alpha=1.0)\n",
      "      )\n",
      "      (5): Bottleneck(\n",
      "        (conv1): Conv2d(1024, 512, kernel_size=(1, 1), stride=(1, 1), bias=False)\n",
      "        (bn1): BatchNorm2d(512, eps=1e-05, momentum=0.1, affine=True, track_running_stats=True)\n",
      "        (conv2): Conv2d(512, 512, kernel_size=(3, 3), stride=(1, 1), padding=(1, 1), groups=32, bias=False)\n",
      "        (bn2): BatchNorm2d(512, eps=1e-05, momentum=0.1, affine=True, track_running_stats=True)\n",
      "        (conv3): Conv2d(512, 1024, kernel_size=(1, 1), stride=(1, 1), bias=False)\n",
      "        (bn3): BatchNorm2d(1024, eps=1e-05, momentum=0.1, affine=True, track_running_stats=True)\n",
      "        (relu): ELU(alpha=1.0)\n",
      "      )\n",
      "    )\n",
      "    (layer4): Sequential(\n",
      "      (0): Bottleneck(\n",
      "        (conv1): Conv2d(1024, 1024, kernel_size=(1, 1), stride=(1, 1), bias=False)\n",
      "        (bn1): BatchNorm2d(1024, eps=1e-05, momentum=0.1, affine=True, track_running_stats=True)\n",
      "        (conv2): Conv2d(1024, 1024, kernel_size=(3, 3), stride=(2, 2), padding=(1, 1), groups=32, bias=False)\n",
      "        (bn2): BatchNorm2d(1024, eps=1e-05, momentum=0.1, affine=True, track_running_stats=True)\n",
      "        (conv3): Conv2d(1024, 2048, kernel_size=(1, 1), stride=(1, 1), bias=False)\n",
      "        (bn3): BatchNorm2d(2048, eps=1e-05, momentum=0.1, affine=True, track_running_stats=True)\n",
      "        (relu): ELU(alpha=1.0)\n",
      "        (downsample): Sequential(\n",
      "          (0): Conv2d(1024, 2048, kernel_size=(1, 1), stride=(2, 2), bias=False)\n",
      "          (1): BatchNorm2d(2048, eps=1e-05, momentum=0.1, affine=True, track_running_stats=True)\n",
      "        )\n",
      "      )\n",
      "      (1): Bottleneck(\n",
      "        (conv1): Conv2d(2048, 1024, kernel_size=(1, 1), stride=(1, 1), bias=False)\n",
      "        (bn1): BatchNorm2d(1024, eps=1e-05, momentum=0.1, affine=True, track_running_stats=True)\n",
      "        (conv2): Conv2d(1024, 1024, kernel_size=(3, 3), stride=(1, 1), padding=(1, 1), groups=32, bias=False)\n",
      "        (bn2): BatchNorm2d(1024, eps=1e-05, momentum=0.1, affine=True, track_running_stats=True)\n",
      "        (conv3): Conv2d(1024, 2048, kernel_size=(1, 1), stride=(1, 1), bias=False)\n",
      "        (bn3): BatchNorm2d(2048, eps=1e-05, momentum=0.1, affine=True, track_running_stats=True)\n",
      "        (relu): ELU(alpha=1.0)\n",
      "      )\n",
      "      (2): Bottleneck(\n",
      "        (conv1): Conv2d(2048, 1024, kernel_size=(1, 1), stride=(1, 1), bias=False)\n",
      "        (bn1): BatchNorm2d(1024, eps=1e-05, momentum=0.1, affine=True, track_running_stats=True)\n",
      "        (conv2): Conv2d(1024, 1024, kernel_size=(3, 3), stride=(1, 1), padding=(1, 1), groups=32, bias=False)\n",
      "        (bn2): BatchNorm2d(1024, eps=1e-05, momentum=0.1, affine=True, track_running_stats=True)\n",
      "        (conv3): Conv2d(1024, 2048, kernel_size=(1, 1), stride=(1, 1), bias=False)\n",
      "        (bn3): BatchNorm2d(2048, eps=1e-05, momentum=0.1, affine=True, track_running_stats=True)\n",
      "        (relu): ELU(alpha=1.0)\n",
      "      )\n",
      "    )\n",
      "    (avgpool): AdaptiveAvgPool2d(output_size=(1, 1))\n",
      "    (fc): Linear(in_features=2048, out_features=1, bias=True)\n",
      "  )\n",
      ")\n"
     ]
    }
   ],
   "source": [
    "print(model)"
   ]
  },
  {
   "cell_type": "code",
   "execution_count": 9,
   "id": "38f63b8e",
   "metadata": {},
   "outputs": [],
   "source": [
    "target_layers = [model.model.layer4[-1]]# Specific target layer of model"
   ]
  },
  {
   "cell_type": "code",
   "execution_count": 10,
   "id": "340158ab",
   "metadata": {},
   "outputs": [],
   "source": [
    "input_tensor, label = default_exp.getExample(1,11)\n",
    "input_tensor = input_tensor.unsqueeze(0)\n",
    "actual = model(input_tensor.to(device))"
   ]
  },
  {
   "cell_type": "code",
   "execution_count": 11,
   "id": "6826bd6e",
   "metadata": {},
   "outputs": [
    {
     "name": "stdout",
     "output_type": "stream",
     "text": [
      "torch.Size([1, 3, 224, 224])\n"
     ]
    }
   ],
   "source": [
    "print(input_tensor.shape)"
   ]
  },
  {
   "cell_type": "code",
   "execution_count": 12,
   "id": "a5a2180a",
   "metadata": {},
   "outputs": [],
   "source": [
    "cam = GradCAM(model=model, target_layers=target_layers, use_cuda=True)"
   ]
  },
  {
   "cell_type": "code",
   "execution_count": 13,
   "id": "aaf37ba5",
   "metadata": {},
   "outputs": [],
   "source": [
    "targets = [ClassifierOutputTarget(0)]"
   ]
  },
  {
   "cell_type": "code",
   "execution_count": 16,
   "id": "46707c8a",
   "metadata": {},
   "outputs": [
    {
     "data": {
      "text/plain": [
       "(-0.5, 223.5, 223.5, -0.5)"
      ]
     },
     "execution_count": 16,
     "metadata": {},
     "output_type": "execute_result"
    },
    {
     "data": {
      "image/png": "[encoded data removed]",
      "text/plain": [
       "<Figure size 432x288 with 1 Axes>"
      ]
     },
     "metadata": {
      "needs_background": "light"
     },
     "output_type": "display_data"
    },
    {
     "data": {
      "image/png": "[encoded data removed]",
      "text/plain": [
       "<Figure size 432x288 with 2 Axes>"
      ]
     },
     "metadata": {
      "needs_background": "light"
     },
     "output_type": "display_data"
    }
   ],
   "source": [
    "grayscale_cam = cam(input_tensor=input_tensor, targets=targets)\n",
    "\n",
    "# In this example grayscale_cam has only one image in the batch:\n",
    "grayscale_cam = grayscale_cam[0, :]\n",
    "plt.figure(1)\n",
    "plt.imshow(input_tensor.squeeze().permute(1,2,0))\n",
    "plt.axis('off')\n",
    "plt.figure(2)\n",
    "plt.gca().set_title(f\" Actual: {label:.4f} logPa, predicted: {actual.cpu().detach().numpy()[0][0]:.4f} logPa\")\n",
    "plt.imshow(grayscale_cam)\n",
    "plt.colorbar()\n",
    "plt.axis('off')\n",
    "# visualization = show_cam_on_image(input_tensor.squeeze(0), grayscale_cam, use_rgb=True)"
   ]
  },
  {
   "cell_type": "code",
   "execution_count": 22,
   "id": "507070b8",
   "metadata": {},
   "outputs": [
    {
     "data": {
      "text/plain": [
       "(-0.5, 223.5, 223.5, -0.5)"
      ]
     },
     "execution_count": 22,
     "metadata": {},
     "output_type": "execute_result"
    },
    {
     "data": {
      "image/png": "[encoded data removed]",
      "text/plain": [
       "<Figure size 432x288 with 1 Axes>"
      ]
     },
     "metadata": {
      "needs_background": "light"
     },
     "output_type": "display_data"
    },
    {
     "data": {
      "image/png": "[encoded data removed]",
      "text/plain": [
       "<Figure size 432x288 with 2 Axes>"
      ]
     },
     "metadata": {
      "needs_background": "light"
     },
     "output_type": "display_data"
    }
   ],
   "source": [
    "eigencam = EigenCAM(model=model, target_layers=target_layers, use_cuda=True)\n",
    "targets = [ClassifierOutputTarget(0)]\n",
    "grayscale_cam = eigencam(input_tensor=input_tensor, targets=targets)\n",
    "\n",
    "# In this example grayscale_cam has only one image in the batch:\n",
    "grayscale_cam = grayscale_cam[0, :]\n",
    "plt.figure(1)\n",
    "plt.imshow(input_tensor.squeeze().permute(1,2,0))\n",
    "plt.axis('off')\n",
    "plt.figure(2)\n",
    "plt.gca().set_title(f\" Actual: {label:.4f} logPa, predicted: {actual.cpu().detach().numpy()[0][0]:.4f} logPa\")\n",
    "plt.imshow(grayscale_cam)\n",
    "plt.colorbar()\n",
    "plt.axis('off')\n",
    "# visualization = show_cam_on_image(input_tensor.squeeze(0), grayscale_cam, use_rgb=True)"
   ]
  },
  {
   "cell_type": "code",
   "execution_count": null,
   "id": "43ac2a79",
   "metadata": {},
   "outputs": [],
   "source": []
  }
 ],
 "metadata": {
  "kernelspec": {
   "display_name": "Python 3 (ipykernel)",
   "language": "python",
   "name": "python3"
  },
  "language_info": {
   "codemirror_mode": {
    "name": "ipython",
    "version": 3
   },
   "file_extension": ".py",
   "mimetype": "text/x-python",
   "name": "python",
   "nbconvert_exporter": "python",
   "pygments_lexer": "ipython3",
   "version": "3.9.7"
  }
 },
 "nbformat": 4,
 "nbformat_minor": 5
}
