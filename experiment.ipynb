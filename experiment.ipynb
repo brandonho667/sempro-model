{
 "cells": [
  {
   "cell_type": "code",
   "execution_count": 1,
   "metadata": {},
   "outputs": [],
   "source": [
    "import experiment"
   ]
  },
  {
   "cell_type": "code",
   "execution_count": 2,
   "metadata": {},
   "outputs": [
    {
     "name": "stdout",
     "output_type": "stream",
     "text": [
      "Loading default_experiment\n",
      "Using re-weighting: [SQRT_INV]\n",
      "Using LDS: [GAUSSIAN] (5/2)\n",
      "Using re-weighting: [SQRT_INV]\n",
      "Using LDS: [GAUSSIAN] (5/2)\n",
      "Using re-weighting: [SQRT_INV]\n",
      "Using LDS: [GAUSSIAN] (5/2)\n",
      "Using re-weighting: [SQRT_INV]\n",
      "Using LDS: [GAUSSIAN] (5/2)\n",
      "Using re-weighting: [SQRT_INV]\n",
      "Using LDS: [GAUSSIAN] (5/2)\n",
      "Initialized experiment\n"
     ]
    }
   ],
   "source": [
    "default_exp = experiment.Experiment(root_dir=\"./experiments\", stats_dir=\"stats\")"
   ]
  },
  {
   "cell_type": "code",
   "execution_count": 3,
   "metadata": {},
   "outputs": [
    {
     "name": "stdout",
     "output_type": "stream",
     "text": [
      "Now running epoch 0\n"
     ]
    },
    {
     "name": "stderr",
     "output_type": "stream",
     "text": [
      "Training data: 100%|██████████| 48/48 [00:16<00:00,  2.93it/s]\n",
      "Validation data: 100%|██████████| 16/16 [00:02<00:00,  7.82it/s]\n"
     ]
    },
    {
     "name": "stdout",
     "output_type": "stream",
     "text": [
      "Training losses: MAE = 5.555797218645844, MSE = 32.669544292511546\n",
      "Validation losses: MAE = 4.7617707741913815, MSE = 24.695726826115585\n",
      "Now running epoch 1\n"
     ]
    },
    {
     "name": "stderr",
     "output_type": "stream",
     "text": [
      "Training data: 100%|██████████| 48/48 [00:16<00:00,  2.92it/s]\n",
      "Validation data: 100%|██████████| 16/16 [00:02<00:00,  7.61it/s]\n"
     ]
    },
    {
     "name": "stdout",
     "output_type": "stream",
     "text": [
      "Training losses: MAE = 5.463311323712498, MSE = 31.69066711814411\n",
      "Validation losses: MAE = 5.180750358647529, MSE = 28.840142160087915\n",
      "Now running epoch 2\n"
     ]
    },
    {
     "name": "stderr",
     "output_type": "stream",
     "text": [
      "Training data: 100%|██████████| 48/48 [00:16<00:00,  2.93it/s]\n",
      "Validation data: 100%|██████████| 16/16 [00:02<00:00,  7.69it/s]\n"
     ]
    },
    {
     "name": "stdout",
     "output_type": "stream",
     "text": [
      "Training losses: MAE = 5.371594725510759, MSE = 30.72112293719897\n",
      "Validation losses: MAE = 5.034025757037439, MSE = 27.41079416163391\n",
      "Now running epoch 3\n"
     ]
    },
    {
     "name": "stderr",
     "output_type": "stream",
     "text": [
      "Training data: 100%|██████████| 48/48 [00:16<00:00,  2.91it/s]\n",
      "Validation data: 100%|██████████| 16/16 [00:02<00:00,  7.70it/s]\n"
     ]
    },
    {
     "name": "stdout",
     "output_type": "stream",
     "text": [
      "Training losses: MAE = 5.277204164345766, MSE = 29.79418057471414\n",
      "Validation losses: MAE = 4.940500883757326, MSE = 26.603734600787096\n",
      "Now running epoch 4\n"
     ]
    },
    {
     "name": "stderr",
     "output_type": "stream",
     "text": [
      "Training data: 100%|██████████| 48/48 [00:16<00:00,  2.91it/s]\n",
      "Validation data: 100%|██████████| 16/16 [00:02<00:00,  7.27it/s]\n"
     ]
    },
    {
     "name": "stdout",
     "output_type": "stream",
     "text": [
      "Training losses: MAE = 5.1792755302166915, MSE = 28.92311695339944\n",
      "Validation losses: MAE = 4.7636563936627585, MSE = 25.022184818035957\n",
      "Now running epoch 5\n"
     ]
    },
    {
     "name": "stderr",
     "output_type": "stream",
     "text": [
      "Training data: 100%|██████████| 48/48 [00:16<00:00,  2.90it/s]\n",
      "Validation data: 100%|██████████| 16/16 [00:02<00:00,  7.48it/s]\n"
     ]
    },
    {
     "name": "stdout",
     "output_type": "stream",
     "text": [
      "Training losses: MAE = 5.081955582817884, MSE = 28.00970284467719\n",
      "Validation losses: MAE = 4.635405166797863, MSE = 24.014894672044257\n",
      "Now running epoch 6\n"
     ]
    },
    {
     "name": "stderr",
     "output_type": "stream",
     "text": [
      "Training data: 100%|██████████| 48/48 [00:16<00:00,  2.88it/s]\n",
      "Validation data: 100%|██████████| 16/16 [00:02<00:00,  7.50it/s]\n"
     ]
    },
    {
     "name": "stdout",
     "output_type": "stream",
     "text": [
      "Training losses: MAE = 4.984081027449714, MSE = 27.158017351539634\n",
      "Validation losses: MAE = 4.431032513868517, MSE = 22.568899878796795\n",
      "Now running epoch 7\n"
     ]
    },
    {
     "name": "stderr",
     "output_type": "stream",
     "text": [
      "Training data: 100%|██████████| 48/48 [00:16<00:00,  2.88it/s]\n",
      "Validation data: 100%|██████████| 16/16 [00:02<00:00,  7.09it/s]\n"
     ]
    },
    {
     "name": "stdout",
     "output_type": "stream",
     "text": [
      "Training losses: MAE = 4.873311952585602, MSE = 26.368154330343913\n",
      "Validation losses: MAE = 4.264754647330276, MSE = 21.51428675881999\n",
      "Now running epoch 8\n"
     ]
    },
    {
     "name": "stderr",
     "output_type": "stream",
     "text": [
      "Training data: 100%|██████████| 48/48 [00:16<00:00,  2.87it/s]\n",
      "Validation data: 100%|██████████| 16/16 [00:02<00:00,  7.59it/s]\n"
     ]
    },
    {
     "name": "stdout",
     "output_type": "stream",
     "text": [
      "Training losses: MAE = 4.7589546332633486, MSE = 25.553899320874848\n",
      "Validation losses: MAE = 4.2145903431486245, MSE = 21.286128008010174\n",
      "Now running epoch 9\n"
     ]
    },
    {
     "name": "stderr",
     "output_type": "stream",
     "text": [
      "Training data: 100%|██████████| 48/48 [00:16<00:00,  2.88it/s]\n",
      "Validation data: 100%|██████████| 16/16 [00:02<00:00,  7.25it/s]\n"
     ]
    },
    {
     "name": "stdout",
     "output_type": "stream",
     "text": [
      "Training losses: MAE = 4.635171855924128, MSE = 25.04160655099178\n",
      "Validation losses: MAE = 4.180187060220612, MSE = 21.588458998859295\n",
      "Now running epoch 10\n"
     ]
    },
    {
     "name": "stderr",
     "output_type": "stream",
     "text": [
      "Training data: 100%|██████████| 48/48 [00:16<00:00,  2.86it/s]\n",
      "Validation data: 100%|██████████| 16/16 [00:02<00:00,  7.00it/s]\n"
     ]
    },
    {
     "name": "stdout",
     "output_type": "stream",
     "text": [
      "Training losses: MAE = 4.526275945779111, MSE = 24.20223591164884\n",
      "Validation losses: MAE = 3.8368725624092392, MSE = 18.73048725684276\n",
      "Now running epoch 11\n"
     ]
    },
    {
     "name": "stderr",
     "output_type": "stream",
     "text": [
      "Training data: 100%|██████████| 48/48 [00:16<00:00,  2.83it/s]\n",
      "Validation data: 100%|██████████| 16/16 [00:02<00:00,  7.43it/s]\n"
     ]
    },
    {
     "name": "stdout",
     "output_type": "stream",
     "text": [
      "Training losses: MAE = 4.392570731872227, MSE = 22.94212082819918\n",
      "Validation losses: MAE = 3.7262492884693144, MSE = 17.896668849920946\n",
      "Now running epoch 12\n"
     ]
    },
    {
     "name": "stderr",
     "output_type": "stream",
     "text": [
      "Training data: 100%|██████████| 48/48 [00:16<00:00,  2.84it/s]\n",
      "Validation data: 100%|██████████| 16/16 [00:02<00:00,  7.36it/s]\n"
     ]
    },
    {
     "name": "stdout",
     "output_type": "stream",
     "text": [
      "Training losses: MAE = 4.2500235593396205, MSE = 21.86417770735798\n",
      "Validation losses: MAE = 3.7199950272151745, MSE = 17.921741127613473\n",
      "Now running epoch 13\n"
     ]
    },
    {
     "name": "stderr",
     "output_type": "stream",
     "text": [
      "Training data: 100%|██████████| 48/48 [00:16<00:00,  2.86it/s]\n",
      "Validation data: 100%|██████████| 16/16 [00:02<00:00,  7.29it/s]\n"
     ]
    },
    {
     "name": "stdout",
     "output_type": "stream",
     "text": [
      "Training losses: MAE = 4.116402757556199, MSE = 20.635143205997124\n",
      "Validation losses: MAE = 3.51158717276105, MSE = 16.324987956326066\n",
      "Now running epoch 14\n"
     ]
    },
    {
     "name": "stderr",
     "output_type": "stream",
     "text": [
      "Training data: 100%|██████████| 48/48 [00:16<00:00,  2.87it/s]\n",
      "Validation data: 100%|██████████| 16/16 [00:02<00:00,  7.20it/s]\n"
     ]
    },
    {
     "name": "stdout",
     "output_type": "stream",
     "text": [
      "Training losses: MAE = 3.9479674227885986, MSE = 19.080321573829252\n",
      "Validation losses: MAE = 3.300121484792648, MSE = 14.902350329788808\n",
      "Now running epoch 15\n"
     ]
    },
    {
     "name": "stderr",
     "output_type": "stream",
     "text": [
      "Training data: 100%|██████████| 48/48 [00:16<00:00,  2.86it/s]\n",
      "Validation data: 100%|██████████| 16/16 [00:02<00:00,  7.10it/s]\n"
     ]
    },
    {
     "name": "stdout",
     "output_type": "stream",
     "text": [
      "Training losses: MAE = 3.776541594158895, MSE = 17.797389729939194\n",
      "Validation losses: MAE = 3.1327490331164944, MSE = 13.722340385416913\n",
      "Now running epoch 16\n"
     ]
    },
    {
     "name": "stderr",
     "output_type": "stream",
     "text": [
      "Training data: 100%|██████████| 48/48 [00:16<00:00,  2.86it/s]\n",
      "Validation data: 100%|██████████| 16/16 [00:02<00:00,  7.42it/s]\n"
     ]
    },
    {
     "name": "stdout",
     "output_type": "stream",
     "text": [
      "Training losses: MAE = 3.604422831884397, MSE = 16.091058635014935\n",
      "Validation losses: MAE = 2.891419221573062, MSE = 11.887047725431398\n",
      "Now running epoch 17\n"
     ]
    },
    {
     "name": "stderr",
     "output_type": "stream",
     "text": [
      "Training data: 100%|██████████| 48/48 [00:16<00:00,  2.84it/s]\n",
      "Validation data: 100%|██████████| 16/16 [00:02<00:00,  7.36it/s]\n"
     ]
    },
    {
     "name": "stdout",
     "output_type": "stream",
     "text": [
      "Training losses: MAE = 3.4044709946957723, MSE = 14.742227978588428\n",
      "Validation losses: MAE = 2.8901179328313, MSE = 11.656527419042133\n",
      "Now running epoch 18\n"
     ]
    },
    {
     "name": "stderr",
     "output_type": "stream",
     "text": [
      "Training data: 100%|██████████| 48/48 [00:16<00:00,  2.85it/s]\n",
      "Validation data: 100%|██████████| 16/16 [00:02<00:00,  7.45it/s]\n"
     ]
    },
    {
     "name": "stdout",
     "output_type": "stream",
     "text": [
      "Training losses: MAE = 3.150498739576168, MSE = 12.675587536892463\n",
      "Validation losses: MAE = 2.5933648557892504, MSE = 9.693643520037893\n",
      "Now running epoch 19\n"
     ]
    },
    {
     "name": "stderr",
     "output_type": "stream",
     "text": [
      "Training data: 100%|██████████| 48/48 [00:16<00:00,  2.83it/s]\n",
      "Validation data: 100%|██████████| 16/16 [00:02<00:00,  7.20it/s]\n"
     ]
    },
    {
     "name": "stdout",
     "output_type": "stream",
     "text": [
      "Training losses: MAE = 2.9173021009858338, MSE = 11.110330807039468\n",
      "Validation losses: MAE = 2.342024384114672, MSE = 8.115414451347071\n",
      "Now running epoch 20\n"
     ]
    },
    {
     "name": "stderr",
     "output_type": "stream",
     "text": [
      "Training data: 100%|██████████| 48/48 [00:16<00:00,  2.84it/s]\n",
      "Validation data: 100%|██████████| 16/16 [00:02<00:00,  7.40it/s]\n"
     ]
    },
    {
     "name": "stdout",
     "output_type": "stream",
     "text": [
      "Training losses: MAE = 2.7336353869694743, MSE = 9.848376500777876\n",
      "Validation losses: MAE = 2.341122537084553, MSE = 7.996094255109523\n",
      "Now running epoch 21\n"
     ]
    },
    {
     "name": "stderr",
     "output_type": "stream",
     "text": [
      "Training data: 100%|██████████| 48/48 [00:16<00:00,  2.84it/s]\n",
      "Validation data: 100%|██████████| 16/16 [00:02<00:00,  7.24it/s]\n"
     ]
    },
    {
     "name": "stdout",
     "output_type": "stream",
     "text": [
      "Training losses: MAE = 2.5998227425923397, MSE = 8.939816779683472\n",
      "Validation losses: MAE = 2.188346820339295, MSE = 7.151551770931093\n",
      "Now running epoch 22\n"
     ]
    },
    {
     "name": "stderr",
     "output_type": "stream",
     "text": [
      "Training data: 100%|██████████| 48/48 [00:16<00:00,  2.83it/s]\n",
      "Validation data: 100%|██████████| 16/16 [00:02<00:00,  7.35it/s]\n"
     ]
    },
    {
     "name": "stdout",
     "output_type": "stream",
     "text": [
      "Training losses: MAE = 2.4716291710116245, MSE = 8.235343936687778\n",
      "Validation losses: MAE = 2.1501051306688845, MSE = 6.8526385823872\n",
      "Now running epoch 23\n"
     ]
    },
    {
     "name": "stderr",
     "output_type": "stream",
     "text": [
      "Training data: 100%|██████████| 48/48 [00:16<00:00,  2.84it/s]\n",
      "Validation data: 100%|██████████| 16/16 [00:02<00:00,  7.51it/s]\n"
     ]
    },
    {
     "name": "stdout",
     "output_type": "stream",
     "text": [
      "Training losses: MAE = 2.361447424486693, MSE = 7.577478723954142\n",
      "Validation losses: MAE = 1.9609250044968283, MSE = 5.881926932246897\n",
      "Now running epoch 24\n"
     ]
    },
    {
     "name": "stderr",
     "output_type": "stream",
     "text": [
      "Training data: 100%|██████████| 48/48 [00:16<00:00,  2.85it/s]\n",
      "Validation data: 100%|██████████| 16/16 [00:02<00:00,  7.35it/s]\n"
     ]
    },
    {
     "name": "stdout",
     "output_type": "stream",
     "text": [
      "Training losses: MAE = 2.2346485321006337, MSE = 6.834649907994955\n",
      "Validation losses: MAE = 1.9875066631387364, MSE = 5.9343052733547506\n",
      "Now running epoch 25\n"
     ]
    },
    {
     "name": "stderr",
     "output_type": "stream",
     "text": [
      "Training data: 100%|██████████| 48/48 [00:17<00:00,  2.82it/s]\n",
      "Validation data: 100%|██████████| 16/16 [00:02<00:00,  7.46it/s]\n"
     ]
    },
    {
     "name": "stdout",
     "output_type": "stream",
     "text": [
      "Training losses: MAE = 2.125600511554302, MSE = 6.245270023867423\n",
      "Validation losses: MAE = 1.8315839966114333, MSE = 5.182378027931846\n",
      "Now running epoch 26\n"
     ]
    },
    {
     "name": "stderr",
     "output_type": "stream",
     "text": [
      "Training data: 100%|██████████| 48/48 [00:16<00:00,  2.84it/s]\n",
      "Validation data: 100%|██████████| 16/16 [00:02<00:00,  7.20it/s]\n"
     ]
    },
    {
     "name": "stdout",
     "output_type": "stream",
     "text": [
      "Training losses: MAE = 2.05468308147336, MSE = 5.927860942222962\n",
      "Validation losses: MAE = 1.7103134583550608, MSE = 4.611437478315359\n",
      "Now running epoch 27\n"
     ]
    },
    {
     "name": "stderr",
     "output_type": "stream",
     "text": [
      "Training data: 100%|██████████| 48/48 [00:16<00:00,  2.83it/s]\n",
      "Validation data: 100%|██████████| 16/16 [00:02<00:00,  7.18it/s]\n"
     ]
    },
    {
     "name": "stdout",
     "output_type": "stream",
     "text": [
      "Training losses: MAE = 1.8963190550842401, MSE = 5.208864610348894\n",
      "Validation losses: MAE = 1.6711106709409753, MSE = 4.407457304266991\n",
      "Now running epoch 28\n"
     ]
    },
    {
     "name": "stderr",
     "output_type": "stream",
     "text": [
      "Training data: 100%|██████████| 48/48 [00:16<00:00,  2.84it/s]\n",
      "Validation data: 100%|██████████| 16/16 [00:02<00:00,  7.35it/s]\n"
     ]
    },
    {
     "name": "stdout",
     "output_type": "stream",
     "text": [
      "Training losses: MAE = 1.826562800509447, MSE = 4.774117465482017\n",
      "Validation losses: MAE = 1.6096014060056256, MSE = 4.14893066250654\n",
      "Now running epoch 29\n"
     ]
    },
    {
     "name": "stderr",
     "output_type": "stream",
     "text": [
      "Training data: 100%|██████████| 48/48 [00:16<00:00,  2.84it/s]\n",
      "Validation data: 100%|██████████| 16/16 [00:02<00:00,  7.24it/s]\n"
     ]
    },
    {
     "name": "stdout",
     "output_type": "stream",
     "text": [
      "Training losses: MAE = 1.722491718424738, MSE = 4.4735903563122115\n",
      "Validation losses: MAE = 1.5053259091136415, MSE = 3.6771444222559393\n",
      "Now running epoch 30\n"
     ]
    },
    {
     "name": "stderr",
     "output_type": "stream",
     "text": [
      "Training data: 100%|██████████| 48/48 [00:16<00:00,  2.85it/s]\n",
      "Validation data: 100%|██████████| 16/16 [00:02<00:00,  7.33it/s]\n"
     ]
    },
    {
     "name": "stdout",
     "output_type": "stream",
     "text": [
      "Training losses: MAE = 1.6516737721262982, MSE = 4.093385810111055\n",
      "Validation losses: MAE = 1.5084884160492766, MSE = 3.5849779775125916\n",
      "Now running epoch 31\n"
     ]
    },
    {
     "name": "stderr",
     "output_type": "stream",
     "text": [
      "Training data: 100%|██████████| 48/48 [00:16<00:00,  2.83it/s]\n",
      "Validation data: 100%|██████████| 16/16 [00:02<00:00,  7.15it/s]\n"
     ]
    },
    {
     "name": "stdout",
     "output_type": "stream",
     "text": [
      "Training losses: MAE = 1.5499926379391338, MSE = 3.685742664047625\n",
      "Validation losses: MAE = 1.413968484409305, MSE = 3.213103213700566\n",
      "Now running epoch 32\n"
     ]
    },
    {
     "name": "stderr",
     "output_type": "stream",
     "text": [
      "Training data: 100%|██████████| 48/48 [00:17<00:00,  2.82it/s]\n",
      "Validation data: 100%|██████████| 16/16 [00:02<00:00,  7.35it/s]\n"
     ]
    },
    {
     "name": "stdout",
     "output_type": "stream",
     "text": [
      "Training losses: MAE = 1.4797222758528046, MSE = 3.366135846693219\n",
      "Validation losses: MAE = 1.3970665090574486, MSE = 3.13033163620618\n",
      "Now running epoch 33\n"
     ]
    },
    {
     "name": "stderr",
     "output_type": "stream",
     "text": [
      "Training data: 100%|██████████| 48/48 [00:16<00:00,  2.84it/s]\n",
      "Validation data: 100%|██████████| 16/16 [00:02<00:00,  7.17it/s]\n"
     ]
    },
    {
     "name": "stdout",
     "output_type": "stream",
     "text": [
      "Training losses: MAE = 1.4538491657601964, MSE = 3.288381996208912\n",
      "Validation losses: MAE = 1.3221215934670523, MSE = 2.8414730084022986\n",
      "Now running epoch 34\n"
     ]
    },
    {
     "name": "stderr",
     "output_type": "stream",
     "text": [
      "Training data: 100%|██████████| 48/48 [00:16<00:00,  2.85it/s]\n",
      "Validation data: 100%|██████████| 16/16 [00:02<00:00,  7.42it/s]\n"
     ]
    },
    {
     "name": "stdout",
     "output_type": "stream",
     "text": [
      "Training losses: MAE = 1.3521483841712643, MSE = 2.920519792188101\n",
      "Validation losses: MAE = 1.2963252290388825, MSE = 2.728792328307377\n",
      "Now running epoch 35\n"
     ]
    },
    {
     "name": "stderr",
     "output_type": "stream",
     "text": [
      "Training data: 100%|██████████| 48/48 [00:16<00:00,  2.84it/s]\n",
      "Validation data: 100%|██████████| 16/16 [00:02<00:00,  7.25it/s]\n"
     ]
    },
    {
     "name": "stdout",
     "output_type": "stream",
     "text": [
      "Training losses: MAE = 1.3226406712751626, MSE = 2.8696387626094926\n",
      "Validation losses: MAE = 1.2501965461831241, MSE = 2.525479427819146\n",
      "Now running epoch 36\n"
     ]
    },
    {
     "name": "stderr",
     "output_type": "stream",
     "text": [
      "Training data: 100%|██████████| 48/48 [00:17<00:00,  2.82it/s]\n",
      "Validation data: 100%|██████████| 16/16 [00:02<00:00,  7.36it/s]\n"
     ]
    },
    {
     "name": "stdout",
     "output_type": "stream",
     "text": [
      "Training losses: MAE = 1.2654689156293102, MSE = 2.5836496644977216\n",
      "Validation losses: MAE = 1.2344772630071863, MSE = 2.4720221523548136\n",
      "Now running epoch 37\n"
     ]
    },
    {
     "name": "stderr",
     "output_type": "stream",
     "text": [
      "Training data: 100%|██████████| 48/48 [00:16<00:00,  2.85it/s]\n",
      "Validation data: 100%|██████████| 16/16 [00:02<00:00,  7.44it/s]\n"
     ]
    },
    {
     "name": "stdout",
     "output_type": "stream",
     "text": [
      "Training losses: MAE = 1.2556347141936977, MSE = 2.560425978909423\n",
      "Validation losses: MAE = 1.2170250912420773, MSE = 2.4051577628450165\n",
      "Now running epoch 38\n"
     ]
    },
    {
     "name": "stderr",
     "output_type": "stream",
     "text": [
      "Training data: 100%|██████████| 48/48 [00:16<00:00,  2.84it/s]\n",
      "Validation data: 100%|██████████| 16/16 [00:02<00:00,  7.37it/s]\n"
     ]
    },
    {
     "name": "stdout",
     "output_type": "stream",
     "text": [
      "Training losses: MAE = 1.2150534641834223, MSE = 2.433266738253698\n",
      "Validation losses: MAE = 1.2004423869734737, MSE = 2.306121447324421\n",
      "Now running epoch 39\n"
     ]
    },
    {
     "name": "stderr",
     "output_type": "stream",
     "text": [
      "Training data: 100%|██████████| 48/48 [00:16<00:00,  2.83it/s]\n",
      "Validation data: 100%|██████████| 16/16 [00:02<00:00,  6.60it/s]\n"
     ]
    },
    {
     "name": "stdout",
     "output_type": "stream",
     "text": [
      "Training losses: MAE = 1.1883624466595237, MSE = 2.338364813626093\n",
      "Validation losses: MAE = 1.1957531643437547, MSE = 2.26896509640106\n",
      "Now running epoch 40\n"
     ]
    },
    {
     "name": "stderr",
     "output_type": "stream",
     "text": [
      "Training data: 100%|██████████| 48/48 [00:16<00:00,  2.84it/s]\n",
      "Validation data: 100%|██████████| 16/16 [00:02<00:00,  7.42it/s]\n"
     ]
    },
    {
     "name": "stdout",
     "output_type": "stream",
     "text": [
      "Training losses: MAE = 1.1966855253623436, MSE = 2.3095421639228286\n",
      "Validation losses: MAE = 1.191765368950964, MSE = 2.2903992013779226\n",
      "Now running epoch 41\n"
     ]
    },
    {
     "name": "stderr",
     "output_type": "stream",
     "text": [
      "Training data: 100%|██████████| 48/48 [00:16<00:00,  2.84it/s]\n",
      "Validation data: 100%|██████████| 16/16 [00:02<00:00,  7.18it/s]\n"
     ]
    },
    {
     "name": "stdout",
     "output_type": "stream",
     "text": [
      "Training losses: MAE = 1.1613361851238015, MSE = 2.2426047751012046\n",
      "Validation losses: MAE = 1.173076014358832, MSE = 2.1944001916182003\n",
      "Now running epoch 42\n"
     ]
    },
    {
     "name": "stderr",
     "output_type": "stream",
     "text": [
      "Training data: 100%|██████████| 48/48 [00:16<00:00,  2.84it/s]\n",
      "Validation data: 100%|██████████| 16/16 [00:02<00:00,  7.22it/s]\n"
     ]
    },
    {
     "name": "stdout",
     "output_type": "stream",
     "text": [
      "Training losses: MAE = 1.1618023470541472, MSE = 2.22225998588052\n",
      "Validation losses: MAE = 1.1801292718304153, MSE = 2.2100289981158485\n",
      "Now running epoch 43\n"
     ]
    },
    {
     "name": "stderr",
     "output_type": "stream",
     "text": [
      "Training data: 100%|██████████| 48/48 [00:17<00:00,  2.82it/s]\n",
      "Validation data: 100%|██████████| 16/16 [00:02<00:00,  7.26it/s]\n"
     ]
    },
    {
     "name": "stdout",
     "output_type": "stream",
     "text": [
      "Training losses: MAE = 1.1426319125097983, MSE = 2.1111689169198136\n",
      "Validation losses: MAE = 1.1718166013751845, MSE = 2.1748454893853943\n",
      "Now running epoch 44\n"
     ]
    },
    {
     "name": "stderr",
     "output_type": "stream",
     "text": [
      "Training data: 100%|██████████| 48/48 [00:16<00:00,  2.83it/s]\n",
      "Validation data: 100%|██████████| 16/16 [00:02<00:00,  7.14it/s]\n"
     ]
    },
    {
     "name": "stdout",
     "output_type": "stream",
     "text": [
      "Training losses: MAE = 1.1264505004480965, MSE = 2.0825001909150562\n",
      "Validation losses: MAE = 1.184797553702088, MSE = 2.188085972616318\n",
      "Now running epoch 45\n"
     ]
    },
    {
     "name": "stderr",
     "output_type": "stream",
     "text": [
      "Training data: 100%|██████████| 48/48 [00:17<00:00,  2.82it/s]\n",
      "Validation data: 100%|██████████| 16/16 [00:02<00:00,  7.26it/s]\n"
     ]
    },
    {
     "name": "stdout",
     "output_type": "stream",
     "text": [
      "Training losses: MAE = 1.0924038107636325, MSE = 1.9674376254792438\n",
      "Validation losses: MAE = 1.1706282537809798, MSE = 2.163244686660216\n",
      "Now running epoch 46\n"
     ]
    },
    {
     "name": "stderr",
     "output_type": "stream",
     "text": [
      "Training data: 100%|██████████| 48/48 [00:16<00:00,  2.83it/s]\n",
      "Validation data: 100%|██████████| 16/16 [00:02<00:00,  7.42it/s]\n"
     ]
    },
    {
     "name": "stdout",
     "output_type": "stream",
     "text": [
      "Training losses: MAE = 1.1024368017620791, MSE = 2.021763336925942\n",
      "Validation losses: MAE = 1.1753487304700596, MSE = 2.163676400361509\n",
      "Now running epoch 47\n"
     ]
    },
    {
     "name": "stderr",
     "output_type": "stream",
     "text": [
      "Training data: 100%|██████████| 48/48 [00:16<00:00,  2.85it/s]\n",
      "Validation data: 100%|██████████| 16/16 [00:02<00:00,  7.31it/s]\n"
     ]
    },
    {
     "name": "stdout",
     "output_type": "stream",
     "text": [
      "Training losses: MAE = 1.0845791363347448, MSE = 1.9966771156301724\n",
      "Validation losses: MAE = 1.167159877844919, MSE = 2.1148263776149583\n",
      "Now running epoch 48\n"
     ]
    },
    {
     "name": "stderr",
     "output_type": "stream",
     "text": [
      "Training data: 100%|██████████| 48/48 [00:16<00:00,  2.83it/s]\n",
      "Validation data: 100%|██████████| 16/16 [00:02<00:00,  7.43it/s]\n"
     ]
    },
    {
     "name": "stdout",
     "output_type": "stream",
     "text": [
      "Training losses: MAE = 1.090608314006112, MSE = 1.9521527020535046\n",
      "Validation losses: MAE = 1.1640225941294575, MSE = 2.098872619984251\n",
      "Now running epoch 49\n"
     ]
    },
    {
     "name": "stderr",
     "output_type": "stream",
     "text": [
      "Training data: 100%|██████████| 48/48 [00:16<00:00,  2.84it/s]\n",
      "Validation data: 100%|██████████| 16/16 [00:02<00:00,  7.14it/s]\n"
     ]
    },
    {
     "name": "stdout",
     "output_type": "stream",
     "text": [
      "Training losses: MAE = 1.088345632300711, MSE = 1.915167249311842\n",
      "Validation losses: MAE = 1.1692439337434464, MSE = 2.1003819920578977\n",
      "Now running epoch 50\n"
     ]
    },
    {
     "name": "stderr",
     "output_type": "stream",
     "text": [
      "Training data: 100%|██████████| 48/48 [00:16<00:00,  2.83it/s]\n",
      "Validation data: 100%|██████████| 16/16 [00:02<00:00,  7.47it/s]\n"
     ]
    },
    {
     "name": "stdout",
     "output_type": "stream",
     "text": [
      "Training losses: MAE = 1.0690304103289296, MSE = 1.8842814520929108\n",
      "Validation losses: MAE = 1.177628248466431, MSE = 2.131634682014079\n",
      "Now running epoch 51\n"
     ]
    },
    {
     "name": "stderr",
     "output_type": "stream",
     "text": [
      "Training data: 100%|██████████| 48/48 [00:16<00:00,  2.83it/s]\n",
      "Validation data: 100%|██████████| 16/16 [00:02<00:00,  7.35it/s]\n"
     ]
    },
    {
     "name": "stdout",
     "output_type": "stream",
     "text": [
      "Training losses: MAE = 1.0826781875055065, MSE = 1.9474420131678571\n",
      "Validation losses: MAE = 1.1724350639099372, MSE = 2.1550411216921854\n",
      "Now running epoch 52\n"
     ]
    },
    {
     "name": "stderr",
     "output_type": "stream",
     "text": [
      "Training data: 100%|██████████| 48/48 [00:17<00:00,  2.80it/s]\n",
      "Validation data: 100%|██████████| 16/16 [00:02<00:00,  7.11it/s]\n"
     ]
    },
    {
     "name": "stdout",
     "output_type": "stream",
     "text": [
      "Training losses: MAE = 1.0955113495723539, MSE = 1.9638109844015161\n",
      "Validation losses: MAE = 1.1694191771518347, MSE = 2.128159041015834\n",
      "Now running epoch 53\n"
     ]
    },
    {
     "name": "stderr",
     "output_type": "stream",
     "text": [
      "Training data: 100%|██████████| 48/48 [00:16<00:00,  2.83it/s]\n",
      "Validation data: 100%|██████████| 16/16 [00:02<00:00,  7.41it/s]\n"
     ]
    },
    {
     "name": "stdout",
     "output_type": "stream",
     "text": [
      "Training losses: MAE = 1.0667830270211554, MSE = 1.9153147567814524\n",
      "Validation losses: MAE = 1.1573096811627586, MSE = 2.093291289786151\n",
      "Now running epoch 54\n"
     ]
    },
    {
     "name": "stderr",
     "output_type": "stream",
     "text": [
      "Training data: 100%|██████████| 48/48 [00:16<00:00,  2.84it/s]\n",
      "Validation data: 100%|██████████| 16/16 [00:02<00:00,  7.33it/s]\n"
     ]
    },
    {
     "name": "stdout",
     "output_type": "stream",
     "text": [
      "Training losses: MAE = 1.0528904982391394, MSE = 1.7980574720561928\n",
      "Validation losses: MAE = 1.1577225149237431, MSE = 2.1237098483469765\n",
      "Now running epoch 55\n"
     ]
    },
    {
     "name": "stderr",
     "output_type": "stream",
     "text": [
      "Training data: 100%|██████████| 48/48 [00:16<00:00,  2.84it/s]\n",
      "Validation data: 100%|██████████| 16/16 [00:02<00:00,  7.42it/s]\n"
     ]
    },
    {
     "name": "stdout",
     "output_type": "stream",
     "text": [
      "Training losses: MAE = 1.0922908464416323, MSE = 1.8978052377315207\n",
      "Validation losses: MAE = 1.1574461219074963, MSE = 2.063469935279864\n",
      "Now running epoch 56\n"
     ]
    },
    {
     "name": "stderr",
     "output_type": "stream",
     "text": [
      "Training data: 100%|██████████| 48/48 [00:16<00:00,  2.86it/s]\n",
      "Validation data: 100%|██████████| 16/16 [00:02<00:00,  7.16it/s]\n"
     ]
    },
    {
     "name": "stdout",
     "output_type": "stream",
     "text": [
      "Training losses: MAE = 1.0553844664652046, MSE = 1.876393984577667\n",
      "Validation losses: MAE = 1.1573561936375771, MSE = 2.0787582949824457\n",
      "Now running epoch 57\n"
     ]
    },
    {
     "name": "stderr",
     "output_type": "stream",
     "text": [
      "Training data: 100%|██████████| 48/48 [00:17<00:00,  2.82it/s]\n",
      "Validation data: 100%|██████████| 16/16 [00:02<00:00,  6.98it/s]\n"
     ]
    },
    {
     "name": "stdout",
     "output_type": "stream",
     "text": [
      "Training losses: MAE = 1.0498728033972706, MSE = 1.8531153644070444\n",
      "Validation losses: MAE = 1.1610001807500017, MSE = 2.0525034856311826\n",
      "Now running epoch 58\n"
     ]
    },
    {
     "name": "stderr",
     "output_type": "stream",
     "text": [
      "Training data: 100%|██████████| 48/48 [00:16<00:00,  2.85it/s]\n",
      "Validation data: 100%|██████████| 16/16 [00:02<00:00,  7.28it/s]\n"
     ]
    },
    {
     "name": "stdout",
     "output_type": "stream",
     "text": [
      "Training losses: MAE = 1.0669732121316449, MSE = 1.8659163242010035\n",
      "Validation losses: MAE = 1.1879445426362905, MSE = 2.0689355955309434\n",
      "Now running epoch 59\n"
     ]
    },
    {
     "name": "stderr",
     "output_type": "stream",
     "text": [
      "Training data: 100%|██████████| 48/48 [00:16<00:00,  2.84it/s]\n",
      "Validation data: 100%|██████████| 16/16 [00:02<00:00,  7.28it/s]\n"
     ]
    },
    {
     "name": "stdout",
     "output_type": "stream",
     "text": [
      "Training losses: MAE = 1.0485272384958815, MSE = 1.8301399675321646\n",
      "Validation losses: MAE = 1.1608088559048684, MSE = 2.050123148448083\n",
      "Now running epoch 60\n"
     ]
    },
    {
     "name": "stderr",
     "output_type": "stream",
     "text": [
      "Training data: 100%|██████████| 48/48 [00:16<00:00,  2.84it/s]\n",
      "Validation data: 100%|██████████| 16/16 [00:02<00:00,  7.37it/s]\n"
     ]
    },
    {
     "name": "stdout",
     "output_type": "stream",
     "text": [
      "Training losses: MAE = 1.0725475010278647, MSE = 1.8490805456917359\n",
      "Validation losses: MAE = 1.1586757322302437, MSE = 2.0280959384539456\n",
      "Now running epoch 61\n"
     ]
    },
    {
     "name": "stderr",
     "output_type": "stream",
     "text": [
      "Training data: 100%|██████████| 48/48 [00:17<00:00,  2.82it/s]\n",
      "Validation data: 100%|██████████| 16/16 [00:02<00:00,  7.26it/s]\n"
     ]
    },
    {
     "name": "stdout",
     "output_type": "stream",
     "text": [
      "Training losses: MAE = 1.0447769940602205, MSE = 1.794838814932343\n",
      "Validation losses: MAE = 1.1841414906874757, MSE = 2.061975511907217\n",
      "Now running epoch 62\n"
     ]
    },
    {
     "name": "stderr",
     "output_type": "stream",
     "text": [
      "Training data: 100%|██████████| 48/48 [00:16<00:00,  2.84it/s]\n",
      "Validation data: 100%|██████████| 16/16 [00:02<00:00,  7.03it/s]\n"
     ]
    },
    {
     "name": "stdout",
     "output_type": "stream",
     "text": [
      "Training losses: MAE = 1.0442730566052472, MSE = 1.78211112391606\n",
      "Validation losses: MAE = 1.1637187570826133, MSE = 2.0427466984523397\n",
      "Now running epoch 63\n"
     ]
    },
    {
     "name": "stderr",
     "output_type": "stream",
     "text": [
      "Training data: 100%|██████████| 48/48 [00:16<00:00,  2.83it/s]\n",
      "Validation data: 100%|██████████| 16/16 [00:02<00:00,  7.29it/s]\n"
     ]
    },
    {
     "name": "stdout",
     "output_type": "stream",
     "text": [
      "Training losses: MAE = 1.0396838328636135, MSE = 1.7522978257400443\n",
      "Validation losses: MAE = 1.1763915213838503, MSE = 2.0499641535420032\n",
      "Now running epoch 64\n"
     ]
    },
    {
     "name": "stderr",
     "output_type": "stream",
     "text": [
      "Training data: 100%|██████████| 48/48 [00:17<00:00,  2.81it/s]\n",
      "Validation data: 100%|██████████| 16/16 [00:02<00:00,  7.06it/s]\n"
     ]
    },
    {
     "name": "stdout",
     "output_type": "stream",
     "text": [
      "Training losses: MAE = 1.0599787531905127, MSE = 1.8666346453056655\n",
      "Validation losses: MAE = 1.1568428626166194, MSE = 2.058846203198306\n",
      "Now running epoch 65\n"
     ]
    },
    {
     "name": "stderr",
     "output_type": "stream",
     "text": [
      "Training data: 100%|██████████| 48/48 [00:17<00:00,  2.82it/s]\n",
      "Validation data: 100%|██████████| 16/16 [00:02<00:00,  7.46it/s]\n"
     ]
    },
    {
     "name": "stdout",
     "output_type": "stream",
     "text": [
      "Training losses: MAE = 1.0360100930918883, MSE = 1.753631136211408\n",
      "Validation losses: MAE = 1.1595627402185975, MSE = 2.025376891806468\n",
      "Now running epoch 66\n"
     ]
    },
    {
     "name": "stderr",
     "output_type": "stream",
     "text": [
      "Training data: 100%|██████████| 48/48 [00:16<00:00,  2.83it/s]\n",
      "Validation data: 100%|██████████| 16/16 [00:02<00:00,  6.92it/s]\n"
     ]
    },
    {
     "name": "stdout",
     "output_type": "stream",
     "text": [
      "Training losses: MAE = 1.0690038130063342, MSE = 1.8749861053378862\n",
      "Validation losses: MAE = 1.17493167842606, MSE = 2.0681735968926795\n",
      "Now running epoch 67\n"
     ]
    },
    {
     "name": "stderr",
     "output_type": "stream",
     "text": [
      "Training data: 100%|██████████| 48/48 [00:16<00:00,  2.83it/s]\n",
      "Validation data: 100%|██████████| 16/16 [00:02<00:00,  7.44it/s]\n"
     ]
    },
    {
     "name": "stdout",
     "output_type": "stream",
     "text": [
      "Training losses: MAE = 1.0504454445503133, MSE = 1.7897751007366254\n",
      "Validation losses: MAE = 1.168494538355005, MSE = 2.0361456188667724\n",
      "Now running epoch 68\n"
     ]
    },
    {
     "name": "stderr",
     "output_type": "stream",
     "text": [
      "Training data: 100%|██████████| 48/48 [00:16<00:00,  2.84it/s]\n",
      "Validation data: 100%|██████████| 16/16 [00:02<00:00,  7.24it/s]\n"
     ]
    },
    {
     "name": "stdout",
     "output_type": "stream",
     "text": [
      "Training losses: MAE = 1.0514580326804321, MSE = 1.8284050894676216\n",
      "Validation losses: MAE = 1.1600085550400154, MSE = 2.036827638542495\n",
      "Now running epoch 69\n"
     ]
    },
    {
     "name": "stderr",
     "output_type": "stream",
     "text": [
      "Training data: 100%|██████████| 48/48 [00:16<00:00,  2.86it/s]\n",
      "Validation data: 100%|██████████| 16/16 [00:02<00:00,  7.06it/s]\n"
     ]
    },
    {
     "name": "stdout",
     "output_type": "stream",
     "text": [
      "Training losses: MAE = 1.0364334115536413, MSE = 1.7942925921548512\n",
      "Validation losses: MAE = 1.1753158030251736, MSE = 2.049712363555917\n",
      "Now running epoch 70\n"
     ]
    },
    {
     "name": "stderr",
     "output_type": "stream",
     "text": [
      "Training data: 100%|██████████| 48/48 [00:16<00:00,  2.84it/s]\n",
      "Validation data: 100%|██████████| 16/16 [00:02<00:00,  7.23it/s]\n"
     ]
    },
    {
     "name": "stdout",
     "output_type": "stream",
     "text": [
      "Training losses: MAE = 0.9949683557140637, MSE = 1.6670489912915165\n",
      "Validation losses: MAE = 1.163486386886661, MSE = 2.0555088791782357\n",
      "Now running epoch 71\n"
     ]
    },
    {
     "name": "stderr",
     "output_type": "stream",
     "text": [
      "Training data: 100%|██████████| 48/48 [00:16<00:00,  2.82it/s]\n",
      "Validation data: 100%|██████████| 16/16 [00:02<00:00,  7.01it/s]\n"
     ]
    },
    {
     "name": "stdout",
     "output_type": "stream",
     "text": [
      "Training losses: MAE = 1.0472502844074147, MSE = 1.8126839741060143\n",
      "Validation losses: MAE = 1.1965260703039984, MSE = 2.0986473166758595\n",
      "Now running epoch 72\n"
     ]
    },
    {
     "name": "stderr",
     "output_type": "stream",
     "text": [
      "Training data: 100%|██████████| 48/48 [00:17<00:00,  2.82it/s]\n",
      "Validation data: 100%|██████████| 16/16 [00:02<00:00,  7.42it/s]\n"
     ]
    },
    {
     "name": "stdout",
     "output_type": "stream",
     "text": [
      "Training losses: MAE = 1.041044442087652, MSE = 1.7816645802711566\n",
      "Validation losses: MAE = 1.1734192392718863, MSE = 2.088942689685798\n",
      "Now running epoch 73\n"
     ]
    },
    {
     "name": "stderr",
     "output_type": "stream",
     "text": [
      "Training data: 100%|██████████| 48/48 [00:17<00:00,  2.82it/s]\n",
      "Validation data: 100%|██████████| 16/16 [00:02<00:00,  7.28it/s]\n"
     ]
    },
    {
     "name": "stdout",
     "output_type": "stream",
     "text": [
      "Training losses: MAE = 1.0497024505312924, MSE = 1.8003760137639282\n",
      "Validation losses: MAE = 1.1646634341852764, MSE = 2.0355399474318885\n",
      "Now running epoch 74\n"
     ]
    },
    {
     "name": "stderr",
     "output_type": "stream",
     "text": [
      "Training data: 100%|██████████| 48/48 [00:16<00:00,  2.83it/s]\n",
      "Validation data: 100%|██████████| 16/16 [00:02<00:00,  7.10it/s]\n"
     ]
    },
    {
     "name": "stdout",
     "output_type": "stream",
     "text": [
      "Training losses: MAE = 1.0628844618563444, MSE = 1.8598422453415442\n",
      "Validation losses: MAE = 1.1640084312897423, MSE = 2.0878369235772096\n",
      "Now running epoch 75\n"
     ]
    },
    {
     "name": "stderr",
     "output_type": "stream",
     "text": [
      "Training data: 100%|██████████| 48/48 [00:17<00:00,  2.80it/s]\n",
      "Validation data: 100%|██████████| 16/16 [00:02<00:00,  7.34it/s]\n"
     ]
    },
    {
     "name": "stdout",
     "output_type": "stream",
     "text": [
      "Training losses: MAE = 1.0677028718693704, MSE = 1.8158090351426976\n",
      "Validation losses: MAE = 1.1703719692986378, MSE = 2.0584662134973954\n",
      "Now running epoch 76\n"
     ]
    },
    {
     "name": "stderr",
     "output_type": "stream",
     "text": [
      "Training data: 100%|██████████| 48/48 [00:16<00:00,  2.86it/s]\n",
      "Validation data: 100%|██████████| 16/16 [00:02<00:00,  7.36it/s]\n"
     ]
    },
    {
     "name": "stdout",
     "output_type": "stream",
     "text": [
      "Training losses: MAE = 1.0366791329155691, MSE = 1.7537235342952116\n",
      "Validation losses: MAE = 1.1666189380453056, MSE = 2.055020566009332\n",
      "Now running epoch 77\n"
     ]
    },
    {
     "name": "stderr",
     "output_type": "stream",
     "text": [
      "Training data: 100%|██████████| 48/48 [00:17<00:00,  2.81it/s]\n",
      "Validation data: 100%|██████████| 16/16 [00:02<00:00,  7.34it/s]\n"
     ]
    },
    {
     "name": "stdout",
     "output_type": "stream",
     "text": [
      "Training losses: MAE = 1.0713160818819434, MSE = 1.849652435605978\n",
      "Validation losses: MAE = 1.16898686410393, MSE = 2.044631462322525\n",
      "Now running epoch 78\n"
     ]
    },
    {
     "name": "stderr",
     "output_type": "stream",
     "text": [
      "Training data: 100%|██████████| 48/48 [00:17<00:00,  2.82it/s]\n",
      "Validation data: 100%|██████████| 16/16 [00:02<00:00,  7.35it/s]\n"
     ]
    },
    {
     "name": "stdout",
     "output_type": "stream",
     "text": [
      "Training losses: MAE = 1.0310912415558562, MSE = 1.7249265642872458\n",
      "Validation losses: MAE = 1.1700640115389271, MSE = 2.0611666846650145\n",
      "Now running epoch 79\n"
     ]
    },
    {
     "name": "stderr",
     "output_type": "stream",
     "text": [
      "Training data: 100%|██████████| 48/48 [00:16<00:00,  2.83it/s]\n",
      "Validation data: 100%|██████████| 16/16 [00:02<00:00,  7.31it/s]\n"
     ]
    },
    {
     "name": "stdout",
     "output_type": "stream",
     "text": [
      "Training losses: MAE = 1.0088535052401535, MSE = 1.6878225053909752\n",
      "Validation losses: MAE = 1.1592669135863813, MSE = 2.022890124144785\n",
      "Now running epoch 80\n"
     ]
    },
    {
     "name": "stderr",
     "output_type": "stream",
     "text": [
      "Training data: 100%|██████████| 48/48 [00:16<00:00,  2.85it/s]\n",
      "Validation data: 100%|██████████| 16/16 [00:02<00:00,  7.37it/s]\n"
     ]
    },
    {
     "name": "stdout",
     "output_type": "stream",
     "text": [
      "Training losses: MAE = 1.0215349261066466, MSE = 1.7091317216950983\n",
      "Validation losses: MAE = 1.1936338445106758, MSE = 2.059940916831562\n",
      "Now running epoch 81\n"
     ]
    },
    {
     "name": "stderr",
     "output_type": "stream",
     "text": [
      "Training data: 100%|██████████| 48/48 [00:16<00:00,  2.85it/s]\n",
      "Validation data: 100%|██████████| 16/16 [00:02<00:00,  7.35it/s]\n"
     ]
    },
    {
     "name": "stdout",
     "output_type": "stream",
     "text": [
      "Training losses: MAE = 1.0520662234483487, MSE = 1.7934194646419315\n",
      "Validation losses: MAE = 1.1753825068081696, MSE = 2.054727885741405\n",
      "Now running epoch 82\n"
     ]
    },
    {
     "name": "stderr",
     "output_type": "stream",
     "text": [
      "Training data: 100%|██████████| 48/48 [00:16<00:00,  2.85it/s]\n",
      "Validation data: 100%|██████████| 16/16 [00:02<00:00,  7.13it/s]\n"
     ]
    },
    {
     "name": "stdout",
     "output_type": "stream",
     "text": [
      "Training losses: MAE = 1.0330140972823258, MSE = 1.732887937263487\n",
      "Validation losses: MAE = 1.18063407478289, MSE = 2.0633923937081873\n",
      "Now running epoch 83\n"
     ]
    },
    {
     "name": "stderr",
     "output_type": "stream",
     "text": [
      "Training data: 100%|██████████| 48/48 [00:16<00:00,  2.83it/s]\n",
      "Validation data: 100%|██████████| 16/16 [00:02<00:00,  7.32it/s]\n"
     ]
    },
    {
     "name": "stdout",
     "output_type": "stream",
     "text": [
      "Training losses: MAE = 1.0496306205871084, MSE = 1.7986380489142142\n",
      "Validation losses: MAE = 1.1755091724887283, MSE = 2.044002049775883\n",
      "Now running epoch 84\n"
     ]
    },
    {
     "name": "stderr",
     "output_type": "stream",
     "text": [
      "Training data: 100%|██████████| 48/48 [00:16<00:00,  2.83it/s]\n",
      "Validation data: 100%|██████████| 16/16 [00:02<00:00,  6.78it/s]\n"
     ]
    },
    {
     "name": "stdout",
     "output_type": "stream",
     "text": [
      "Training losses: MAE = 1.0186516054907282, MSE = 1.700801384052729\n",
      "Validation losses: MAE = 1.1923290566048936, MSE = 2.075883042938872\n",
      "Now running epoch 85\n"
     ]
    },
    {
     "name": "stderr",
     "output_type": "stream",
     "text": [
      "Training data: 100%|██████████| 48/48 [00:16<00:00,  2.86it/s]\n",
      "Validation data: 100%|██████████| 16/16 [00:02<00:00,  7.40it/s]\n"
     ]
    },
    {
     "name": "stdout",
     "output_type": "stream",
     "text": [
      "Training losses: MAE = 1.0543966023631068, MSE = 1.8170206333429244\n",
      "Validation losses: MAE = 1.1727773507657064, MSE = 2.0455832378346255\n",
      "Now running epoch 86\n"
     ]
    },
    {
     "name": "stderr",
     "output_type": "stream",
     "text": [
      "Training data: 100%|██████████| 48/48 [00:16<00:00,  2.84it/s]\n",
      "Validation data: 100%|██████████| 16/16 [00:02<00:00,  7.29it/s]\n"
     ]
    },
    {
     "name": "stdout",
     "output_type": "stream",
     "text": [
      "Training losses: MAE = 1.0557912425681515, MSE = 1.7907308459784204\n",
      "Validation losses: MAE = 1.1741518690515007, MSE = 2.06149623745307\n",
      "Now running epoch 87\n"
     ]
    },
    {
     "name": "stderr",
     "output_type": "stream",
     "text": [
      "Training data: 100%|██████████| 48/48 [00:16<00:00,  2.84it/s]\n",
      "Validation data: 100%|██████████| 16/16 [00:02<00:00,  7.26it/s]\n"
     ]
    },
    {
     "name": "stdout",
     "output_type": "stream",
     "text": [
      "Training losses: MAE = 1.0450506919790317, MSE = 1.7543913103042759\n",
      "Validation losses: MAE = 1.1794425130356934, MSE = 2.0561618577120147\n",
      "Now running epoch 88\n"
     ]
    },
    {
     "name": "stderr",
     "output_type": "stream",
     "text": [
      "Training data: 100%|██████████| 48/48 [00:16<00:00,  2.84it/s]\n",
      "Validation data: 100%|██████████| 16/16 [00:02<00:00,  7.06it/s]\n"
     ]
    },
    {
     "name": "stdout",
     "output_type": "stream",
     "text": [
      "Training losses: MAE = 1.0529110943043107, MSE = 1.8149969225868112\n",
      "Validation losses: MAE = 1.178771891106202, MSE = 2.058558725975876\n",
      "Now running epoch 89\n"
     ]
    },
    {
     "name": "stderr",
     "output_type": "stream",
     "text": [
      "Training data: 100%|██████████| 48/48 [00:17<00:00,  2.82it/s]\n",
      "Validation data: 100%|██████████| 16/16 [00:02<00:00,  7.28it/s]\n"
     ]
    },
    {
     "name": "stdout",
     "output_type": "stream",
     "text": [
      "Training losses: MAE = 1.0577955542007338, MSE = 1.7626725370075584\n",
      "Validation losses: MAE = 1.1790989300721546, MSE = 2.0644226425675205\n",
      "Now running epoch 90\n"
     ]
    },
    {
     "name": "stderr",
     "output_type": "stream",
     "text": [
      "Training data: 100%|██████████| 48/48 [00:16<00:00,  2.84it/s]\n",
      "Validation data: 100%|██████████| 16/16 [00:02<00:00,  7.29it/s]\n"
     ]
    },
    {
     "name": "stdout",
     "output_type": "stream",
     "text": [
      "Training losses: MAE = 1.0474465530684496, MSE = 1.7164942307813724\n",
      "Validation losses: MAE = 1.2030642267766114, MSE = 2.073280948113151\n",
      "Now running epoch 91\n"
     ]
    },
    {
     "name": "stderr",
     "output_type": "stream",
     "text": [
      "Training data: 100%|██████████| 48/48 [00:16<00:00,  2.84it/s]\n",
      "Validation data: 100%|██████████| 16/16 [00:02<00:00,  7.46it/s]\n"
     ]
    },
    {
     "name": "stdout",
     "output_type": "stream",
     "text": [
      "Training losses: MAE = 1.030133727755275, MSE = 1.7494652951198089\n",
      "Validation losses: MAE = 1.1623578293126249, MSE = 2.0356306718697463\n",
      "Now running epoch 92\n"
     ]
    },
    {
     "name": "stderr",
     "output_type": "stream",
     "text": [
      "Training data: 100%|██████████| 48/48 [00:16<00:00,  2.85it/s]\n",
      "Validation data: 100%|██████████| 16/16 [00:02<00:00,  7.39it/s]\n"
     ]
    },
    {
     "name": "stdout",
     "output_type": "stream",
     "text": [
      "Training losses: MAE = 1.0370853134537088, MSE = 1.7584839434077422\n",
      "Validation losses: MAE = 1.2001191591720637, MSE = 2.1142446271364954\n",
      "Now running epoch 93\n"
     ]
    },
    {
     "name": "stderr",
     "output_type": "stream",
     "text": [
      "Training data: 100%|██████████| 48/48 [00:16<00:00,  2.83it/s]\n",
      "Validation data: 100%|██████████| 16/16 [00:02<00:00,  7.40it/s]\n"
     ]
    },
    {
     "name": "stdout",
     "output_type": "stream",
     "text": [
      "Training losses: MAE = 1.024740276473438, MSE = 1.7482926255025486\n",
      "Validation losses: MAE = 1.1771260703498605, MSE = 2.0502576302420183\n",
      "Now running epoch 94\n"
     ]
    },
    {
     "name": "stderr",
     "output_type": "stream",
     "text": [
      "Training data: 100%|██████████| 48/48 [00:16<00:00,  2.83it/s]\n",
      "Validation data: 100%|██████████| 16/16 [00:02<00:00,  7.32it/s]\n"
     ]
    },
    {
     "name": "stdout",
     "output_type": "stream",
     "text": [
      "Training losses: MAE = 1.0434898847299658, MSE = 1.7786817298098967\n",
      "Validation losses: MAE = 1.1697782478742995, MSE = 2.038321168627415\n",
      "Now running epoch 95\n"
     ]
    },
    {
     "name": "stderr",
     "output_type": "stream",
     "text": [
      "Training data: 100%|██████████| 48/48 [00:16<00:00,  2.84it/s]\n",
      "Validation data: 100%|██████████| 16/16 [00:02<00:00,  7.46it/s]\n"
     ]
    },
    {
     "name": "stdout",
     "output_type": "stream",
     "text": [
      "Training losses: MAE = 1.030258595224289, MSE = 1.7637144923375616\n",
      "Validation losses: MAE = 1.1784548775568842, MSE = 2.085268113123711\n",
      "Now running epoch 96\n"
     ]
    },
    {
     "name": "stderr",
     "output_type": "stream",
     "text": [
      "Training data: 100%|██████████| 48/48 [00:17<00:00,  2.81it/s]\n",
      "Validation data: 100%|██████████| 16/16 [00:02<00:00,  7.42it/s]\n"
     ]
    },
    {
     "name": "stdout",
     "output_type": "stream",
     "text": [
      "Training losses: MAE = 1.0737693686042928, MSE = 1.8602650528159617\n",
      "Validation losses: MAE = 1.1887530268333648, MSE = 2.0717382881541204\n",
      "Now running epoch 97\n"
     ]
    },
    {
     "name": "stderr",
     "output_type": "stream",
     "text": [
      "Training data: 100%|██████████| 48/48 [00:16<00:00,  2.83it/s]\n",
      "Validation data: 100%|██████████| 16/16 [00:02<00:00,  7.48it/s]\n"
     ]
    },
    {
     "name": "stdout",
     "output_type": "stream",
     "text": [
      "Training losses: MAE = 1.0211545612538229, MSE = 1.66969220123034\n",
      "Validation losses: MAE = 1.1825208913076373, MSE = 2.0602487944622037\n",
      "Now running epoch 98\n"
     ]
    },
    {
     "name": "stderr",
     "output_type": "stream",
     "text": [
      "Training data: 100%|██████████| 48/48 [00:16<00:00,  2.84it/s]\n",
      "Validation data: 100%|██████████| 16/16 [00:02<00:00,  6.99it/s]\n"
     ]
    },
    {
     "name": "stdout",
     "output_type": "stream",
     "text": [
      "Training losses: MAE = 1.0321914695342878, MSE = 1.7236702734580225\n",
      "Validation losses: MAE = 1.184463527259325, MSE = 2.072308651601327\n",
      "Now running epoch 99\n"
     ]
    },
    {
     "name": "stderr",
     "output_type": "stream",
     "text": [
      "Training data: 100%|██████████| 48/48 [00:16<00:00,  2.83it/s]\n",
      "Validation data: 100%|██████████| 16/16 [00:02<00:00,  7.13it/s]"
     ]
    },
    {
     "name": "stdout",
     "output_type": "stream",
     "text": [
      "Training losses: MAE = 1.0261711270147809, MSE = 1.6782532372741374\n",
      "Validation losses: MAE = 1.1591619198605159, MSE = 2.0154474123081156\n"
     ]
    },
    {
     "name": "stderr",
     "output_type": "stream",
     "text": [
      "\n"
     ]
    }
   ],
   "source": [
    "default_exp.train()"
   ]
  },
  {
   "cell_type": "code",
   "execution_count": 4,
   "metadata": {},
   "outputs": [
    {
     "name": "stderr",
     "output_type": "stream",
     "text": [
      "Test data: 100%|██████████| 16/16 [00:03<00:00,  4.68it/s]"
     ]
    },
    {
     "name": "stdout",
     "output_type": "stream",
     "text": [
      "Test loss: MAE = 1.007987059903503, MSE = 1.7726639544810843\n"
     ]
    },
    {
     "name": "stderr",
     "output_type": "stream",
     "text": [
      "\n"
     ]
    },
    {
     "data": {
      "text/plain": [
       "(1.007987059903503, 1.7726639544810843)"
      ]
     },
     "execution_count": 4,
     "metadata": {},
     "output_type": "execute_result"
    }
   ],
   "source": [
    "default_exp.test()"
   ]
  },
  {
   "cell_type": "code",
   "execution_count": 5,
   "metadata": {},
   "outputs": [
    {
     "data": {
      "image/png": "[encoded data removed]",
      "text/plain": [
       "<Figure size 432x288 with 1 Axes>"
      ]
     },
     "metadata": {
      "needs_background": "light"
     },
     "output_type": "display_data"
    },
    {
     "data": {
      "image/png": "[encoded data removed]",
      "text/plain": [
       "<Figure size 432x288 with 1 Axes>"
      ]
     },
     "metadata": {
      "needs_background": "light"
     },
     "output_type": "display_data"
    }
   ],
   "source": [
    "default_exp.analyze_training()"
   ]
  },
  {
   "cell_type": "code",
   "execution_count": 6,
   "metadata": {},
   "outputs": [
    {
     "name": "stdout",
     "output_type": "stream",
     "text": [
      "Analyzing distribution...\n"
     ]
    },
    {
     "name": "stderr",
     "output_type": "stream",
     "text": [
      "Train data: 100%|██████████| 48/48 [00:10<00:00,  4.72it/s]\n",
      "Validation data: 100%|██████████| 16/16 [00:02<00:00,  7.62it/s]\n",
      "Test data: 100%|██████████| 16/16 [00:02<00:00,  7.34it/s]\n"
     ]
    },
    {
     "data": {
      "image/png": "[encoded data removed]",
      "text/plain": [
       "<Figure size 432x288 with 1 Axes>"
      ]
     },
     "metadata": {
      "needs_background": "light"
     },
     "output_type": "display_data"
    },
    {
     "data": {
      "image/png": "[encoded data removed]",
      "text/plain": [
       "<Figure size 432x288 with 1 Axes>"
      ]
     },
     "metadata": {
      "needs_background": "light"
     },
     "output_type": "display_data"
    },
    {
     "data": {
      "image/png": "[encoded data removed]",
      "text/plain": [
       "<Figure size 600x400 with 1 Axes>"
      ]
     },
     "metadata": {
      "needs_background": "light"
     },
     "output_type": "display_data"
    },
    {
     "data": {
      "image/png": "[encoded data removed]",
      "text/plain": [
       "<Figure size 432x288 with 1 Axes>"
      ]
     },
     "metadata": {
      "needs_background": "light"
     },
     "output_type": "display_data"
    },
    {
     "data": {
      "image/png": "[encoded data removed]",
      "text/plain": [
       "<Figure size 432x288 with 1 Axes>"
      ]
     },
     "metadata": {
      "needs_background": "light"
     },
     "output_type": "display_data"
    },
    {
     "data": {
      "image/png": "[encoded data removed]",
      "text/plain": [
       "<Figure size 600x400 with 1 Axes>"
      ]
     },
     "metadata": {
      "needs_background": "light"
     },
     "output_type": "display_data"
    },
    {
     "data": {
      "image/png": "[encoded data removed]",
      "text/plain": [
       "<Figure size 432x288 with 1 Axes>"
      ]
     },
     "metadata": {
      "needs_background": "light"
     },
     "output_type": "display_data"
    },
    {
     "data": {
      "image/png": "[encoded data removed]",
      "text/plain": [
       "<Figure size 432x288 with 1 Axes>"
      ]
     },
     "metadata": {
      "needs_background": "light"
     },
     "output_type": "display_data"
    },
    {
     "data": {
      "image/png": "[encoded data removed]",
      "text/plain": [
       "<Figure size 600x400 with 1 Axes>"
      ]
     },
     "metadata": {
      "needs_background": "light"
     },
     "output_type": "display_data"
    }
   ],
   "source": [
    "default_exp.analyze_error_dist()"
   ]
  }
 ],
 "metadata": {
  "interpreter": {
   "hash": "abc9de4b1ea3b6e19458fabebf8346a866b120c6c8a7f912e47de3b56c14afae"
  },
  "kernelspec": {
   "display_name": "Python 3.8.10 ('sempro-env': venv)",
   "language": "python",
   "name": "python3"
  },
  "language_info": {
   "codemirror_mode": {
    "name": "ipython",
    "version": 3
   },
   "file_extension": ".py",
   "mimetype": "text/x-python",
   "name": "python",
   "nbconvert_exporter": "python",
   "pygments_lexer": "ipython3",
   "version": "3.8.10"
  },
  "orig_nbformat": 4
 },
 "nbformat": 4,
 "nbformat_minor": 2
}
